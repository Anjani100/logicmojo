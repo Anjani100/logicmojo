{
 "cells": [
  {
   "cell_type": "markdown",
   "metadata": {},
   "source": [
    "## Array"
   ]
  },
  {
   "cell_type": "markdown",
   "metadata": {},
   "source": [
    "### Maximum Value in an array of Increasing and Decreasing using Binary Search"
   ]
  },
  {
   "cell_type": "code",
   "execution_count": 12,
   "metadata": {},
   "outputs": [
    {
     "name": "stdout",
     "output_type": "stream",
     "text": [
      "19\n"
     ]
    }
   ],
   "source": [
    "# Time: O(logn)\n",
    "def max_val(arr):\n",
    "    start = 0\n",
    "    end = len(arr) - 1\n",
    "    if end - start == 0:\n",
    "        return arr[0]\n",
    "    while start <= end:\n",
    "        mid = (start + end) // 2\n",
    "        if mid == 0:\n",
    "            if arr[mid] > arr[mid + 1]:\n",
    "                return arr[mid]\n",
    "            return arr[mid + 1]\n",
    "        if mid == len(arr) - 1:\n",
    "            if arr[mid] > arr[mid - 1]:\n",
    "                return arr[mid]\n",
    "            return arr[mid - 1]\n",
    "        if arr[mid] > arr[mid - 1] and arr[mid] > arr[mid + 1]:\n",
    "            return arr[mid]\n",
    "        if arr[mid] > arr[mid - 1] and arr[mid] < arr[mid + 1]:\n",
    "            start = mid + 1\n",
    "        else:\n",
    "            end = mid - 1\n",
    "\n",
    "print(max_val([1, 19, 16, 11, 7, 6, 4]))"
   ]
  },
  {
   "cell_type": "markdown",
   "metadata": {},
   "source": [
    "### Segregation logic to Sort an array of 0's, 1's and 2's "
   ]
  },
  {
   "cell_type": "code",
   "execution_count": 15,
   "metadata": {},
   "outputs": [
    {
     "name": "stdout",
     "output_type": "stream",
     "text": [
      "[0, 0, 0, 1, 1, 1, 2, 2]\n"
     ]
    }
   ],
   "source": [
    "# Using count-sort (Time: O(n))\n",
    "def sort_arr(arr):\n",
    "    a = b = c = 0\n",
    "    for i in range(len(arr)):\n",
    "        if arr[i] == 0:\n",
    "            a += 1\n",
    "        elif arr[i] == 1:\n",
    "            b += 1\n",
    "        else:\n",
    "            c += 1\n",
    "    k = 0\n",
    "    while a > 0:\n",
    "        arr[k] = 0\n",
    "        k += 1\n",
    "        a -= 1\n",
    "    while b > 0:\n",
    "        arr[k] = 1\n",
    "        k += 1\n",
    "        b -= 1\n",
    "    while c > 0:\n",
    "        arr[k] = 2\n",
    "        k += 1\n",
    "        c -= 1\n",
    "    return arr\n",
    "\n",
    "print(sort_arr([0, 1, 1, 2, 0, 2, 1, 0]))"
   ]
  },
  {
   "cell_type": "markdown",
   "metadata": {},
   "source": [
    "### Linear time approach to solve jump game problem"
   ]
  },
  {
   "cell_type": "code",
   "execution_count": 19,
   "metadata": {},
   "outputs": [
    {
     "name": "stdout",
     "output_type": "stream",
     "text": [
      "3\n"
     ]
    }
   ],
   "source": [
    "def jump_game(nums):\n",
    "    a = b = nums[0]\n",
    "    count = 0\n",
    "    for i in range(1, len(nums)):\n",
    "        a -= 1\n",
    "        b -= 1\n",
    "        b = max(b, nums[i])\n",
    "        if a == 0:\n",
    "            a = b\n",
    "            count += 1\n",
    "        elif i == len(nums) - 1:\n",
    "            count += 1\n",
    "    return count\n",
    "\n",
    "print(jump_game([2, 3, 1, 1, 4, 5]))"
   ]
  },
  {
   "cell_type": "markdown",
   "metadata": {},
   "source": [
    "### Digit rearrangement method to find next greater number with same set of digits"
   ]
  },
  {
   "cell_type": "code",
   "execution_count": 17,
   "metadata": {},
   "outputs": [
    {
     "name": "stdout",
     "output_type": "stream",
     "text": [
      "[1, 2, 4]\n"
     ]
    }
   ],
   "source": [
    "def digit_rearrangement(arr):\n",
    "    for i in range(len(arr) - 1, -1, -1):\n",
    "        if arr[i - 1] < arr[i]:\n",
    "            smallest = i\n",
    "            for k in range(i + 1, len(arr)):\n",
    "                if arr[k] > arr[i - 1] and arr[k] < arr[smallest]:\n",
    "                    smallest = k\n",
    "            arr[i - 1], arr[smallest] = arr[smallest], arr[i - 1]\n",
    "            break\n",
    "    unsorted_arr = arr[i:]\n",
    "    unsorted_arr.sort()\n",
    "    j = 0\n",
    "    for k in range(i, len(arr)):\n",
    "        arr[k] = unsorted_arr[j]\n",
    "        j += 1\n",
    "    return arr\n",
    "\n",
    "print(digit_rearrangement([4, 2, 1]))"
   ]
  },
  {
   "cell_type": "markdown",
   "metadata": {},
   "source": [
    "### Rectangle Overlap problem"
   ]
  },
  {
   "cell_type": "code",
   "execution_count": 19,
   "metadata": {},
   "outputs": [
    {
     "name": "stdout",
     "output_type": "stream",
     "text": [
      "True\n"
     ]
    }
   ],
   "source": [
    "# rec1 = [x1, y1, x2, y2]; rec2 = [x1', y1', x2', y2']\n",
    "def rectangle_overlap(rec1, rec2):\n",
    "    if rec1[0] >= rec2[2] or rec2[0] >= rec2[2]:\n",
    "        return False\n",
    "    if rec1[1] <= rec2[3] or rec2[1] <= rec1[3]:\n",
    "        return False\n",
    "    return True\n",
    "print(rectangle_overlap([1, 6, 5, 2], [3, 4, 7, 1]))"
   ]
  },
  {
   "cell_type": "markdown",
   "metadata": {},
   "source": [
    "### Greedy Techniques to find minimum number of platforms"
   ]
  },
  {
   "cell_type": "code",
   "execution_count": 21,
   "metadata": {},
   "outputs": [
    {
     "name": "stdout",
     "output_type": "stream",
     "text": [
      "4\n"
     ]
    }
   ],
   "source": [
    "def min_platform(arr, dept):\n",
    "    dept.sort()\n",
    "    max_platforms = platforms_needed = i = j = 0\n",
    "    while i < len(arr) and j < len(arr):\n",
    "        if arr[i] < dept[j]:\n",
    "            platforms_needed += 1\n",
    "            max_platforms = max(max_platforms, platforms_needed)\n",
    "            i += 1\n",
    "        else:\n",
    "            platforms_needed -= 1\n",
    "            j += 1\n",
    "    return max_platforms\n",
    "\n",
    "print(min_platform([1300, 1340, 1350, 1400, 1415, 1600], [1310, 1500, 1420, 1430, 1515, 1800]))"
   ]
  },
  {
   "cell_type": "markdown",
   "metadata": {},
   "source": [
    "### Techniques to print matrix in spiral order without any extra space"
   ]
  },
  {
   "cell_type": "code",
   "execution_count": 1,
   "metadata": {},
   "outputs": [
    {
     "name": "stdout",
     "output_type": "stream",
     "text": [
      "[1, 2, 11, 12, 7, 6, 5, 4]\n"
     ]
    }
   ],
   "source": [
    "def spiral_matrix(mat):\n",
    "    res = []\n",
    "    m = len(mat[0])\n",
    "    n = len(mat)\n",
    "    p = m\n",
    "    q = n\n",
    "    x = w = 0\n",
    "    y = m - 1\n",
    "    z = n - 1\n",
    "    while True:\n",
    "        # Right-direction\n",
    "        i = m - p\n",
    "        while i < p:\n",
    "            res.append(mat[x][i])\n",
    "            i += 1\n",
    "        x += 1\n",
    "        p -= 1\n",
    "        if len(res) == n * m:\n",
    "            break\n",
    "        # Down-direction\n",
    "        i = n - q + 1\n",
    "        while i < q:\n",
    "            res.append(mat[i][y])\n",
    "            i += 1\n",
    "        y -= 1\n",
    "        q -= 1\n",
    "        if len(res) == n * m:\n",
    "            break\n",
    "        # Left-direction\n",
    "        i = p - 1\n",
    "        while i >= m - p - 1:\n",
    "            res.append(mat[z][i])\n",
    "            i -= 1\n",
    "        z -= 1\n",
    "        if len(res) == n * m:\n",
    "            break\n",
    "        # Up-direction\n",
    "        i = q - 1\n",
    "        while i >= n - q:\n",
    "            res.append(mat[i][w])\n",
    "            i -= 1\n",
    "        w += 1\n",
    "        if len(res) == n * m:\n",
    "            break\n",
    "    return res\n",
    "\n",
    "print(spiral_matrix([[1,2,11,12], [4, 5, 6, 7]]))"
   ]
  },
  {
   "cell_type": "markdown",
   "metadata": {},
   "source": [
    "### Count frequencies of array elements in O(n) time complexity"
   ]
  },
  {
   "cell_type": "code",
   "execution_count": 7,
   "metadata": {},
   "outputs": [
    {
     "name": "stdout",
     "output_type": "stream",
     "text": [
      "Frequency of 2 := 2\n",
      "Frequency of 5 := 3\n",
      "Frequency of 7 := 2\n"
     ]
    }
   ],
   "source": [
    "def count_freq(arr):\n",
    "    n = len(arr)\n",
    "    for i in range(n):\n",
    "        arr[i] -= 1\n",
    "    for i in range(n):\n",
    "        arr[arr[i] % n] += n\n",
    "    for i in range(n):\n",
    "        if arr[i] // n > 0:\n",
    "            print('Frequency of', i + 1, ':=', arr[i] // n)\n",
    "\n",
    "count_freq([5, 2, 7, 7, 5, 5, 2])"
   ]
  },
  {
   "cell_type": "markdown",
   "metadata": {},
   "source": [
    "### Linear time approach to solve Stock Buy Sell Problem"
   ]
  },
  {
   "cell_type": "code",
   "execution_count": 8,
   "metadata": {},
   "outputs": [
    {
     "name": "stdout",
     "output_type": "stream",
     "text": [
      "852\n"
     ]
    }
   ],
   "source": [
    "def buy_sell_stock(arr):\n",
    "    buy = arr[0]\n",
    "    profit = 0\n",
    "    for i in range(1, len(arr)):\n",
    "        if arr[i] < arr[i - 1]:\n",
    "            profit += arr[i - 1] - buy\n",
    "            buy = arr[i]\n",
    "    profit += arr[i] - buy\n",
    "    return profit\n",
    "\n",
    "print(buy_sell_stock([98, 178, 250, 300, 40, 540, 690]))"
   ]
  },
  {
   "cell_type": "markdown",
   "metadata": {},
   "source": [
    "### Array puzzle of solving celebrity problem"
   ]
  },
  {
   "cell_type": "code",
   "execution_count": 12,
   "metadata": {},
   "outputs": [
    {
     "name": "stdout",
     "output_type": "stream",
     "text": [
      "2\n"
     ]
    }
   ],
   "source": [
    "def find_celeb(arr):\n",
    "    x = 0\n",
    "    y = len(arr) - 1\n",
    "    while x < y:\n",
    "        if arr[x][y] == 0:\n",
    "            y -= 1\n",
    "        else:\n",
    "            x += 1\n",
    "    for i in range(len(arr)):\n",
    "        if arr[x][i] == 1 or (i != x and arr[i][x] == 0):\n",
    "            return -1\n",
    "    return x\n",
    "\n",
    "print(find_celeb([[0, 0, 1, 0],\n",
    "                  [0, 0, 1, 0],\n",
    "                  [0, 0, 0, 0],\n",
    "                  [0, 0, 1, 0]]))"
   ]
  },
  {
   "cell_type": "markdown",
   "metadata": {},
   "source": [
    "### Lexicographical order method to solve next smallest palindrome"
   ]
  },
  {
   "cell_type": "code",
   "execution_count": 37,
   "metadata": {},
   "outputs": [
    {
     "name": "stdout",
     "output_type": "stream",
     "text": [
      "83178087138\n"
     ]
    }
   ],
   "source": [
    "def lexicographical_next_palindrome(num):\n",
    "    if num < 10:\n",
    "        return 11\n",
    "    arr = [int(i) for i in list(str(num))]\n",
    "    n = len(arr)\n",
    "    if arr.count(9) == n:\n",
    "        return num + 2\n",
    "    mid = n // 2\n",
    "    i = mid - 1\n",
    "    j = mid\n",
    "    left_smaller = False\n",
    "    if n % 2:\n",
    "        j = mid + 1\n",
    "    while i >= 0 and arr[i] == arr[j]:\n",
    "        i -= 1\n",
    "        j += 1\n",
    "    if i < 0 or arr[i] < arr[j]:\n",
    "        left_smaller = True\n",
    "    while i >= 0:\n",
    "        arr[j] = arr[i]\n",
    "        i -= 1\n",
    "        j += 1\n",
    "    if left_smaller:\n",
    "        carry = 1\n",
    "        i = mid - 1\n",
    "        if n % 2:\n",
    "            arr[mid] += carry\n",
    "            carry = arr[mid] // 10\n",
    "            arr[mid] %= 10\n",
    "            j = mid + 1\n",
    "        else:\n",
    "            j = mid\n",
    "        while i >= 0:\n",
    "            arr[i] += carry\n",
    "            carry = arr[i] // 10\n",
    "            arr[i] %= 10\n",
    "            arr[j] = arr[i]\n",
    "            i -= 1\n",
    "            j += 1\n",
    "    s = ''\n",
    "    for i in range(n):\n",
    "        s += str(arr[i])\n",
    "    return int(s)\n",
    "\n",
    "print(lexicographical_next_palindrome(83177979323))"
   ]
  },
  {
   "cell_type": "markdown",
   "metadata": {},
   "source": [
    "### QuickSelect Algorithm to find the Kth smallest Element in array"
   ]
  },
  {
   "cell_type": "code",
   "execution_count": 27,
   "metadata": {},
   "outputs": [
    {
     "name": "stdout",
     "output_type": "stream",
     "text": [
      "70\n"
     ]
    }
   ],
   "source": [
    "def partition(arr, low, high):\n",
    "    i = low - 1\n",
    "    pivot = arr[high]\n",
    "    for j in range(low, high):\n",
    "        if arr[j] <= pivot:\n",
    "            i += 1\n",
    "            arr[i], arr[j] = arr[j], arr[i]\n",
    "    arr[i + 1], arr[high] = arr[high], arr[i + 1]\n",
    "    return i + 1\n",
    "\n",
    "def modified_quick_sort(arr, k, low, high):\n",
    "    if k > 0 and k <= high - low + 1:\n",
    "        pi = partition(arr, low, high)\n",
    "        if pi - low == k - 1:\n",
    "            return arr[pi]\n",
    "        if pi - low > k - 1:\n",
    "            return modified_quick_sort(arr, k, low, pi - 1)\n",
    "        return modified_quick_sort(arr, k - pi + low - 1, pi + 1, high)\n",
    "\n",
    "print(modified_quick_sort([10, 80, 30, 90, 40, 50, 70], 5, 0, 6))"
   ]
  },
  {
   "cell_type": "markdown",
   "metadata": {},
   "source": [
    "### Xor method to find the element that occurs one"
   ]
  },
  {
   "cell_type": "code",
   "execution_count": 38,
   "metadata": {},
   "outputs": [
    {
     "name": "stdout",
     "output_type": "stream",
     "text": [
      "3\n"
     ]
    }
   ],
   "source": [
    "def unique_element(arr):\n",
    "    res = arr[0]\n",
    "    for i in range(1, len(arr)):\n",
    "        res = res ^ arr[i]\n",
    "    return res\n",
    "\n",
    "print(unique_element([2, 6, 3, 6, 4, 2, 4]))"
   ]
  },
  {
   "cell_type": "markdown",
   "metadata": {},
   "source": [
    "### Binary search method to find square root of an element"
   ]
  },
  {
   "cell_type": "code",
   "execution_count": 48,
   "metadata": {},
   "outputs": [
    {
     "name": "stdout",
     "output_type": "stream",
     "text": [
      "3\n"
     ]
    }
   ],
   "source": [
    "def square_root(n):\n",
    "    low = 0\n",
    "    high = n\n",
    "    while low <= high:\n",
    "        mid = (low + high) // 2\n",
    "        if mid * mid == n:\n",
    "            return mid\n",
    "        if mid * mid > n:\n",
    "            high = mid - 1\n",
    "        else:\n",
    "            low = mid + 1\n",
    "    return low - 1\n",
    "\n",
    "print(square_root(9))"
   ]
  },
  {
   "cell_type": "markdown",
   "metadata": {},
   "source": [
    "### Trapping Rain Water Efficiently"
   ]
  },
  {
   "cell_type": "code",
   "execution_count": 51,
   "metadata": {},
   "outputs": [
    {
     "name": "stdout",
     "output_type": "stream",
     "text": [
      "6\n"
     ]
    }
   ],
   "source": [
    "def trap_water(arr):\n",
    "    res = 0\n",
    "    n = len(arr)\n",
    "    left = [0] * n\n",
    "    right = [0] * n\n",
    "    right[-1] = arr[-1]\n",
    "    for i in range(n):\n",
    "        left[i] = max(left[i - 1], arr[i])\n",
    "    for i in range(n - 2, -1, -1):\n",
    "        right[i] = max(right[i + 1], arr[i])\n",
    "    for i in range(n):\n",
    "        res += min(left[i], right[i]) - arr[i]\n",
    "    return res\n",
    "\n",
    "print(trap_water([5, 3, 4, 6, 3, 6]))"
   ]
  },
  {
   "cell_type": "markdown",
   "metadata": {},
   "source": [
    "### Minimum Window Substring"
   ]
  },
  {
   "cell_type": "code",
   "execution_count": 63,
   "metadata": {},
   "outputs": [
    {
     "name": "stdout",
     "output_type": "stream",
     "text": [
      "BANC\n"
     ]
    }
   ],
   "source": [
    "def min_window(text, ptr):\n",
    "    if len(text) < len(ptr):\n",
    "        return -1\n",
    "    ascii_text = [0] * 256\n",
    "    ascii_ptr = [0] * 256\n",
    "    for i in range(len(ptr)):\n",
    "        ascii_ptr[ord(ptr[i])] += 1\n",
    "    start = count = i = 0\n",
    "    start_index = -1\n",
    "    min_win_len = float('inf')\n",
    "    while i < len(text):\n",
    "        ascii_text[ord(text[i])] += 1\n",
    "        if count < len(ptr):\n",
    "            if ascii_text[ord(text[i])] <= ascii_ptr[ord(text[i])]:\n",
    "                count += 1\n",
    "        if count == len(ptr):\n",
    "            while ascii_ptr[ord(text[start])] == 0 or ascii_text[ord(text[start])] > ascii_ptr[ord(text[start])]:\n",
    "                if ascii_text[ord(text[start])] > ascii_ptr[ord(text[start])]:\n",
    "                    ascii_text[ord(text[start])] -= 1\n",
    "                start += 1\n",
    "            win_len = i - start + 1\n",
    "            if min_win_len > win_len:\n",
    "                min_win_len = win_len\n",
    "                start_index = start\n",
    "        i += 1\n",
    "    if start_index == -1:\n",
    "        return start_index\n",
    "    return text[start_index:start_index + min_win_len]\n",
    "\n",
    "print(min_window('ADOBECODEBANC', 'ABC'))"
   ]
  },
  {
   "cell_type": "markdown",
   "metadata": {},
   "source": [
    "### Histogram Problem"
   ]
  },
  {
   "cell_type": "code",
   "execution_count": 94,
   "metadata": {},
   "outputs": [
    {
     "name": "stdout",
     "output_type": "stream",
     "text": [
      "6\n"
     ]
    }
   ],
   "source": [
    "def histogram(heights):\n",
    "    pstack = []\n",
    "    hstack = []\n",
    "    max_area = 0\n",
    "    heights.append(0)\n",
    "    for i in range(len(heights)):\n",
    "        last_width = float('inf')\n",
    "        while hstack and hstack[-1] > heights[i]:\n",
    "            last_width = pstack[-1]\n",
    "            curr_area = (i - pstack.pop()) * hstack.pop()\n",
    "            max_area = max(curr_area, max_area)\n",
    "        if not hstack or hstack[-1] < heights[i]:\n",
    "            pstack.append(min(i, last_width))\n",
    "            hstack.append(heights[i])\n",
    "    return max_area\n",
    "\n",
    "print(histogram([3, 1, 3, 2, 2]))"
   ]
  },
  {
   "cell_type": "markdown",
   "metadata": {},
   "source": [
    "### Stack that Supports getMin() in O(1)"
   ]
  },
  {
   "cell_type": "code",
   "execution_count": 78,
   "metadata": {},
   "outputs": [
    {
     "name": "stdout",
     "output_type": "stream",
     "text": [
      "[]\n",
      "[3, 5]\n",
      "3\n",
      "2\n",
      "1\n",
      "1\n",
      "[3, 5, 1, 0, 1, -3]\n",
      "-1\n",
      "1\n",
      "[3, 5, 1, 0, 1]\n"
     ]
    }
   ],
   "source": [
    "class Stack:\n",
    "    def __init__(self):\n",
    "        self.arr = []\n",
    "        self.min = float('inf')\n",
    "    \n",
    "    def display(self):\n",
    "        print(self.arr)\n",
    "    \n",
    "    def push(self, val):\n",
    "        if len(self.arr) == 0:\n",
    "            self.arr.append(val)\n",
    "            self.min = val\n",
    "        elif val > self.min:\n",
    "            self.arr.append(val)\n",
    "        else:\n",
    "            x = 2 * val - self.min\n",
    "            self.arr.append(x)\n",
    "            self.min = val\n",
    "    \n",
    "    def pop(self):\n",
    "        if self.arr[-1] > self.min:\n",
    "            val = self.arr.pop()\n",
    "            return val\n",
    "        else:\n",
    "            y = 2 * self.min - self.arr.pop()\n",
    "            x = self.min\n",
    "            self.min = y\n",
    "            return x\n",
    "    \n",
    "    def get_min(self):\n",
    "        return self.min\n",
    "    \n",
    "if __name__=='__main__':\n",
    "    stack = Stack()\n",
    "    stack.display()\n",
    "    stack.push(3)\n",
    "    stack.push(5)\n",
    "    stack.display()\n",
    "    print(stack.get_min())\n",
    "    stack.push(2)\n",
    "    print(stack.get_min())\n",
    "    stack.push(1)\n",
    "    print(stack.get_min())\n",
    "    stack.push(1)\n",
    "    print(stack.get_min())\n",
    "    stack.push(-1)\n",
    "    stack.display()\n",
    "    print(stack.pop())\n",
    "    print(stack.get_min())\n",
    "    stack.display()"
   ]
  },
  {
   "cell_type": "markdown",
   "metadata": {},
   "source": [
    "### Find Maximum size rectangle in Binary Sub-matrix"
   ]
  },
  {
   "cell_type": "code",
   "execution_count": 98,
   "metadata": {},
   "outputs": [
    {
     "name": "stdout",
     "output_type": "stream",
     "text": [
      "6\n"
     ]
    }
   ],
   "source": [
    "def max_row_rectangle(heights):\n",
    "    hstack = []\n",
    "    pstack = []\n",
    "    max_area = 0\n",
    "    heights.append(0)\n",
    "    for i in range(len(heights)):\n",
    "        last_width = float('inf')\n",
    "        while hstack and hstack[-1] > heights[i]:\n",
    "            last_width = pstack[-1]\n",
    "            curr_area = (i - pstack.pop()) * hstack.pop()\n",
    "            max_area = max(max_area, curr_area)\n",
    "        if not hstack or hstack[-1] < heights[i]:\n",
    "            pstack.append(min(i, last_width))\n",
    "            hstack.append(heights[i])\n",
    "    heights.pop()\n",
    "    return max_area\n",
    "\n",
    "def max_matrix_rectangle(matrix):\n",
    "    if not matrix:\n",
    "        return 0\n",
    "    max_area = max_row_rectangle(matrix[0])\n",
    "    for i in range(1, len(matrix)):\n",
    "        for j in range(len(matrix[0])):\n",
    "            if matrix[i][j] == 1:\n",
    "                matrix[i][j] += matrix[i - 1][j]\n",
    "        max_area = max(max_area, max_row_rectangle(matrix[i]))\n",
    "    return max_area\n",
    "\n",
    "print(max_matrix_rectangle([[1, 0, 1, 0, 0], [1, 0, 1, 1, 1], [1, 1, 1, 1, 1], [1, 0, 0, 1, 0]]))"
   ]
  },
  {
   "cell_type": "markdown",
   "metadata": {},
   "source": [
    "### Sliding Window Problem using deque Data Structure"
   ]
  },
  {
   "cell_type": "code",
   "execution_count": 104,
   "metadata": {},
   "outputs": [
    {
     "name": "stdout",
     "output_type": "stream",
     "text": [
      "10 10 10 17 17 87 87 87 87 "
     ]
    }
   ],
   "source": [
    "from collections import deque\n",
    "def max_sub_array(arr, k):\n",
    "    queue = deque()\n",
    "    n = len(arr)\n",
    "    res = []\n",
    "    for i in range(k):\n",
    "        while queue and arr[queue[-1]] <= arr[i]:\n",
    "            queue.pop()\n",
    "        queue.append(i)\n",
    "    for i in range(k, n):\n",
    "        print(arr[queue[0]], end = ' ')\n",
    "        res.append(arr[queue[0]])\n",
    "        while queue and queue[0] <= i - k:\n",
    "            queue.popleft()\n",
    "        while queue and arr[queue[-1]] <= arr[i]:\n",
    "            queue.pop()\n",
    "        queue.append(i)\n",
    "    for i in range(k):\n",
    "        print(arr[queue[0]], end = ' ')\n",
    "        res.append(arr[queue[0]])\n",
    "    return res\n",
    "\n",
    "res = max_sub_array([8, 6, 10, 7, 5, 17, 14, 87, 15], 3)"
   ]
  },
  {
   "cell_type": "markdown",
   "metadata": {},
   "source": [
    "### Group Anagrams Together"
   ]
  },
  {
   "cell_type": "code",
   "execution_count": 108,
   "metadata": {},
   "outputs": [
    {
     "name": "stdout",
     "output_type": "stream",
     "text": [
      "['cat', 'tac', 'act']\n",
      "['got']\n",
      "['dog', 'god']\n"
     ]
    }
   ],
   "source": [
    "from collections import defaultdict\n",
    "def group_anagrams(words):\n",
    "    word_dict = defaultdict(list)\n",
    "    for word in words:\n",
    "        sorter = [0] * 26\n",
    "        for w in word:\n",
    "            sorter[ord(w) - ord('a')] += 1\n",
    "        s = ''\n",
    "        for i in range(26):\n",
    "            if sorter[i] > 0:\n",
    "                s += str(chr(i + ord('a')) * sorter[i])\n",
    "        word_dict[s].append(word)\n",
    "    for word in word_dict:\n",
    "        print(word_dict[word])\n",
    "#     return word_dict\n",
    "\n",
    "group_anagrams(['cat', 'got', 'tac', 'dog', 'god', 'act'])"
   ]
  },
  {
   "cell_type": "markdown",
   "metadata": {},
   "source": [
    "### Find first non-repeating character from a stream of characters"
   ]
  },
  {
   "cell_type": "code",
   "execution_count": 37,
   "metadata": {},
   "outputs": [
    {
     "name": "stdout",
     "output_type": "stream",
     "text": [
      "Now Streaming: a\n",
      "Now Streaming: a\n",
      "Now Streaming: b\n",
      "Now Streaming: c\n",
      "defaultdict(<class 'list'>, {'a': [-1], 'b': ['b'], 'c': ['c']})\n",
      "First Non-repeating character: ['b']\n"
     ]
    }
   ],
   "source": [
    "from collections import defaultdict\n",
    "def find_non_repeating_character(streams):\n",
    "    stream_dict = defaultdict(list)\n",
    "    for stream in streams:\n",
    "        print('Now Streaming:', stream)\n",
    "        if stream_dict[stream] == []:\n",
    "            stream_dict[stream].append(stream)\n",
    "        elif stream_dict[stream] == [-1]:\n",
    "            print(stream, 'has already been repeated.')\n",
    "        else:\n",
    "            stream_dict[stream] = [-1]\n",
    "    print(stream_dict)\n",
    "    return stream_dict\n",
    "\n",
    "if __name__=='__main__':\n",
    "    streams = 'aabc'\n",
    "    stream_dict = find_non_repeating_character(streams)\n",
    "    for stream in stream_dict:\n",
    "        if stream_dict[stream] != [-1]:\n",
    "            print('First Non-repeating character:', stream_dict[stream])\n",
    "            break"
   ]
  },
  {
   "cell_type": "markdown",
   "metadata": {},
   "source": [
    "### Four Sum Problem"
   ]
  },
  {
   "cell_type": "code",
   "execution_count": 1,
   "metadata": {},
   "outputs": [],
   "source": [
    "def four_sum(arr, k):\n",
    "    for i in range(len(arr)):\n",
    "        for j in range(i + 1, len(arr)):\n",
    "            pass"
   ]
  },
  {
   "cell_type": "code",
   "execution_count": 34,
   "metadata": {},
   "outputs": [
    {
     "name": "stdout",
     "output_type": "stream",
     "text": [
      "1 : [[1, 2], [2, 3], [3, 4], [7, 8]]\n",
      "3 : [[4, 7]]\n",
      "5 : [[8, 13]]\n",
      "defaultdict(<class 'list'>, {5: [[[1, 4], [2, 3]]], 9: [[[1, 8], [2, 7]]], 10: [[[2, 8], [3, 7]]], 11: [[[3, 8], [4, 7]]]})\n"
     ]
    }
   ],
   "source": [
    "from collections import defaultdict\n",
    "def two_sum(arr):\n",
    "    diff = {}\n",
    "    res = defaultdict(list)\n",
    "    for i in range(len(arr) - 1):\n",
    "        if (arr[i + 1] - arr[i]) in diff:\n",
    "            diff[arr[i + 1] - arr[i]].append([arr[i], arr[i + 1]])\n",
    "        else:\n",
    "            diff[arr[i + 1] - arr[i]] = [[arr[i], arr[i + 1]]]\n",
    "    for nums in diff:\n",
    "        print(nums, ':', diff[nums])\n",
    "        for i in range(len(diff[nums])):\n",
    "            for j in range(i + 1, len(diff[nums])):\n",
    "                if diff[nums][i][0] != diff[nums][j][1] and diff[nums][i][1] != diff[nums][j][0]:\n",
    "                    res[diff[nums][i][0] + diff[nums][j][1]].append([[diff[nums][i][0], diff[nums][j][1]], [diff[nums][i][1], diff[nums][j][0]]])\n",
    "    return res\n",
    "\n",
    "print(two_sum([1, 2, 3, 4, 7, 8, 13]))"
   ]
  },
  {
   "cell_type": "code",
   "execution_count": 36,
   "metadata": {},
   "outputs": [
    {
     "name": "stdout",
     "output_type": "stream",
     "text": [
      "8\n",
      "13\n",
      "4\n",
      "7\n",
      "6\n",
      "9\n",
      "11\n",
      "13\n"
     ]
    }
   ],
   "source": [
    "def max_sum_non_adjacent(nums):\n",
    "    max_sum = 0\n",
    "    for i in range(len(nums)):\n",
    "        s = nums[i]\n",
    "        j = k = 2\n",
    "        while True:\n",
    "            if j == len(nums):\n",
    "                break\n",
    "            if i + j < len(nums):\n",
    "                s += nums[i + j]\n",
    "                j += j\n",
    "                print(s)\n",
    "            if i + j >= len(nums):\n",
    "                k += 1\n",
    "                j = k\n",
    "                max_sum = max(max_sum, s)\n",
    "                s = nums[i]\n",
    "    return max_sum\n",
    "\n",
    "print(max_sum_non_adjacent([2, 4, 6, 2, 5]))"
   ]
  },
  {
   "cell_type": "code",
   "execution_count": null,
   "metadata": {},
   "outputs": [],
   "source": []
  }
 ],
 "metadata": {
  "kernelspec": {
   "display_name": "Python 3",
   "language": "python",
   "name": "python3"
  },
  "language_info": {
   "codemirror_mode": {
    "name": "ipython",
    "version": 3
   },
   "file_extension": ".py",
   "mimetype": "text/x-python",
   "name": "python",
   "nbconvert_exporter": "python",
   "pygments_lexer": "ipython3",
   "version": "3.6.8"
  }
 },
 "nbformat": 4,
 "nbformat_minor": 2
}
