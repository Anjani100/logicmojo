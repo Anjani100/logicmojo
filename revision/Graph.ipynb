{
 "cells": [
  {
   "cell_type": "markdown",
   "metadata": {},
   "source": [
    "### Graph Structure Representation"
   ]
  },
  {
   "cell_type": "code",
   "execution_count": null,
   "metadata": {},
   "outputs": [],
   "source": [
    "from collections import defaultdict\n",
    "\n",
    "class Graph:\n",
    "    def __init__(self):\n",
    "        self.graph = defaultdict(list)\n",
    "    \n",
    "    def add_edge(self, u, v):\n",
    "        self.graph[u].append(v)\n",
    "        self.graph[v].append(u)\n",
    "    \n",
    "    def display(self):\n",
    "        for v in self.graph:\n",
    "            print('Vertex', v, end = ': ')\n",
    "            for i in self.graph[v]:\n",
    "                print(i, end = ' -> ')\n",
    "            print('X')\n",
    "\n",
    "if __name__ == \"__main__\":\n",
    "    graph = Graph()\n",
    "    graph.add_edge(0, 1)\n",
    "    graph.add_edge(0, 4)\n",
    "    graph.add_edge(1, 2)\n",
    "    graph.add_edge(1, 3)\n",
    "    graph.add_edge(1, 4)\n",
    "    graph.add_edge(2, 3)\n",
    "    graph.add_edge(3, 4)\n",
    " \n",
    "    graph.display()"
   ]
  },
  {
   "cell_type": "markdown",
   "metadata": {},
   "source": [
    "### BFS of a Graph"
   ]
  },
  {
   "cell_type": "code",
   "execution_count": null,
   "metadata": {},
   "outputs": [],
   "source": [
    "from collections import defaultdict, deque\n",
    "\n",
    "class Graph:\n",
    "    def __init__(self, V):\n",
    "        self.V = V\n",
    "        self.graph = defaultdict(list)\n",
    "    \n",
    "    def add_edge(self, u, v):\n",
    "        self.graph[u].append(v)\n",
    "    \n",
    "    def bfs(self, start):\n",
    "        queue = deque()\n",
    "        visited = [False] * self.V\n",
    "        queue.append(start)\n",
    "        visited[start] = True\n",
    "        while queue:\n",
    "            vertex = queue.popleft()\n",
    "            print(vertex, end = ' ')\n",
    "            for e in self.graph[vertex]:\n",
    "                if not visited[e]:\n",
    "                    queue.append(e)\n",
    "                    visited[e] = True\n",
    "\n",
    "if __name__ == \"__main__\":\n",
    "    g = Graph(4)\n",
    "    g.add_edge(0, 1)\n",
    "    g.add_edge(0, 2)\n",
    "    g.add_edge(1, 2)\n",
    "    g.add_edge(2, 0)\n",
    "    g.add_edge(2, 3)\n",
    "    g.add_edge(3, 3)\n",
    " \n",
    "    g.bfs(2)"
   ]
  },
  {
   "cell_type": "markdown",
   "metadata": {},
   "source": [
    "### DFS of a graph"
   ]
  },
  {
   "cell_type": "code",
   "execution_count": 22,
   "metadata": {},
   "outputs": [
    {
     "name": "stdout",
     "output_type": "stream",
     "text": [
      "2 3 0 1 "
     ]
    }
   ],
   "source": [
    "from collections import defaultdict\n",
    "\n",
    "class Graph:\n",
    "    def __init__(self, V):\n",
    "        self.V = V\n",
    "        self.graph = defaultdict(list)\n",
    "    \n",
    "    def add_edge(self, u, v):\n",
    "        self.graph[u].append(v)\n",
    "    \n",
    "    def dfs(self, start):\n",
    "        stack = []\n",
    "        visited = [False] * self.V\n",
    "        stack.append(start)\n",
    "        visited[start] = True\n",
    "        while stack:\n",
    "            vertex = stack.pop()\n",
    "            print(vertex, end = ' ')\n",
    "            for e in self.graph[vertex]:\n",
    "                if not visited[e]:\n",
    "                    stack.append(e)\n",
    "                    visited[e] = True\n",
    "\n",
    "if __name__ == \"__main__\":\n",
    "    g = Graph(4)\n",
    "    g.add_edge(0, 1)\n",
    "    g.add_edge(0, 2)\n",
    "    g.add_edge(1, 2)\n",
    "    g.add_edge(2, 0)\n",
    "    g.add_edge(2, 3)\n",
    "    g.add_edge(3, 3)\n",
    " \n",
    "    g.dfs(2)"
   ]
  },
  {
   "cell_type": "markdown",
   "metadata": {},
   "source": [
    "### Find cycle in a Graph"
   ]
  },
  {
   "cell_type": "code",
   "execution_count": null,
   "metadata": {},
   "outputs": [],
   "source": [
    "from collections import defaultdict\n",
    "class Graph:\n",
    "    \n",
    "    def __init__(self, V):\n",
    "        self.V = V\n",
    "        self.graph = defaultdict(list)\n",
    "    \n",
    "    def add_edge(self, u, v):\n",
    "        self.graph[u].append(v)\n",
    "        self.graph[v].append(u)\n",
    "    \n",
    "    def iscyclic(self, idx, parent, visited):\n",
    "        visited[idx] = True\n",
    "        for node in self.graph[idx]:\n",
    "            if not visited[node]:\n",
    "                if self.iscyclic(node, idx, visited):    return True\n",
    "            elif node != parent:    return True\n",
    "        return False\n",
    "    \n",
    "    def iscyclic_util(self):\n",
    "        visited = [False] * self.V\n",
    "        for i in range(self.V):\n",
    "            if not visited[i]:\n",
    "                if self.iscyclic(i, -1, visited):    return True\n",
    "        return False\n",
    "    \n",
    "if __name__=='__main__':\n",
    "    g = Graph(5)\n",
    "    g.add_edge(1, 0)\n",
    "    g.add_edge(1, 2)\n",
    "    g.add_edge(2, 0)\n",
    "    g.add_edge(0, 3)\n",
    "    g.add_edge(3, 4)\n",
    "\n",
    "    if g.iscyclic_util():\n",
    "        print (\"Graph contains cycle\")\n",
    "    else:\n",
    "        print (\"Graph does not contain cycle\")"
   ]
  },
  {
   "cell_type": "markdown",
   "metadata": {},
   "source": [
    "### Topological sorting concepts and implementation"
   ]
  },
  {
   "cell_type": "code",
   "execution_count": null,
   "metadata": {},
   "outputs": [],
   "source": [
    "from collections import defaultdict\n",
    "\n",
    "class Graph:\n",
    "    \n",
    "    def __init__(self, V):\n",
    "        self.V = V\n",
    "        self.graph = defaultdict(list)\n",
    "        self.nodes = [0] * self.V\n",
    "    \n",
    "    def add_edge(self, u, v):\n",
    "        self.graph[u].append(v)\n",
    "        self.nodes[v] += 1\n",
    "    \n",
    "    def topological(self, idx):\n",
    "        for node in self.graph[idx]:\n",
    "            self.nodes[node] -= 1\n",
    "            if self.nodes[node] == 0:\n",
    "                print(node, end = ' ')\n",
    "                self.topological(node)\n",
    "        self.nodes[idx] -= 1\n",
    "    \n",
    "    def check_vertex(self):\n",
    "        for i in range(1, self.V):\n",
    "            if self.nodes[i] == 0:\n",
    "                print(i, end = ' ')\n",
    "                self.topological(i)\n",
    "\n",
    "if __name__=='__main__':\n",
    "    g = Graph(6)\n",
    "    g.add_edge(5, 2)\n",
    "    g.add_edge(5, 0)\n",
    "    g.add_edge(4, 0)\n",
    "    g.add_edge(4, 1)\n",
    "    g.add_edge(2, 3)\n",
    "    g.add_edge(3, 1)\n",
    "  \n",
    "    print(\"Topological Sort:\")\n",
    "    g.check_vertex()"
   ]
  },
  {
   "cell_type": "markdown",
   "metadata": {},
   "source": [
    "### Number of Island"
   ]
  },
  {
   "cell_type": "code",
   "execution_count": null,
   "metadata": {},
   "outputs": [],
   "source": [
    "from collections import deque\n",
    "\n",
    "X = [-1, -1, -1, 0, 0, 1, 1, 1]\n",
    "Y = [-1, 0, 1, -1, 1, -1, 0, 1]\n",
    "\n",
    "def BFS(matrix, visited, i, j, m, n):\n",
    "    queue = deque()\n",
    "    queue.append([i, j])\n",
    "    visited[i][j] = False\n",
    "    while queue:\n",
    "        i, j = queue.popleft()\n",
    "        for k in range(8):\n",
    "            x, y = i + X[k], j + Y[k]\n",
    "            if x >= 0 and y >= 0 and x < m and y < n and matrix[x][y] and visited[x][y]:\n",
    "                visited[x][y] = False\n",
    "                queue.append([x, y])\n",
    "\n",
    "def num_island(matrix):\n",
    "    m, n, islands = len(matrix), len(matrix[0]), 0\n",
    "    visited = [[True if matrix[i][j] else False for j in range(n)] for i in range(m)]\n",
    "    for i in range(m):\n",
    "        for j in range(n):\n",
    "            if matrix[i][j] and visited[i][j]:\n",
    "                BFS(matrix, visited, i, j, m, n)\n",
    "                islands += 1\n",
    "    return islands\n",
    "\n",
    "if __name__=='__main__':\n",
    "    matrix = [\n",
    "        [0, 0, 1, 1, 0],\n",
    "        [1, 0, 1, 1, 0],\n",
    "        [0, 1, 0, 0, 0],\n",
    "        [0, 0, 0, 0, 1],\n",
    "        [0, 0, 1, 1, 0]\n",
    "    ]\n",
    "    print(num_island(matrix))"
   ]
  },
  {
   "cell_type": "markdown",
   "metadata": {},
   "source": [
    "### Dijkstra Algorithm"
   ]
  },
  {
   "cell_type": "code",
   "execution_count": null,
   "metadata": {},
   "outputs": [],
   "source": [
    "from collections import defaultdict\n",
    "\n",
    "class Graph:\n",
    "    \n",
    "    def __init__(self):\n",
    "        self.graph = defaultdict(list)\n",
    "        self.dist = defaultdict(int)\n",
    "    \n",
    "    def add_edge(self, u, v, w):\n",
    "        self.graph[u].append([v, w])\n",
    "        self.dist[u] = float('inf')\n",
    "        self.dist[v] = float('inf')\n",
    "    \n",
    "    def min_dist_node(self):\n",
    "        min_v = min_w = float('inf')\n",
    "        for v in self.dist:\n",
    "            if self.dist[v] < min_w:\n",
    "                min_v = v\n",
    "                min_w = self.dist[v]\n",
    "        return min_v, min_w\n",
    "    \n",
    "    def dijkstra(self, source):\n",
    "        self.dist[source] = 0\n",
    "        dv = []\n",
    "        while self.dist:\n",
    "            v, w = self.min_dist_node()\n",
    "            dv.append([v, w])\n",
    "            del self.dist[v]\n",
    "            for vertex in self.graph[v]:\n",
    "                flag = True\n",
    "                for node in dv:\n",
    "                    if node[0] == vertex[0]:\n",
    "                        flag = False\n",
    "                        break\n",
    "                if flag:\n",
    "                    self.dist[vertex[0]] = min(self.dist[vertex[0]], w + vertex[1])\n",
    "        return dv\n",
    "\n",
    "if __name__=='__main__':\n",
    "    g = Graph()\n",
    "    g.add_edge(1, 2, 2)\n",
    "    g.add_edge(2, 3, 1)\n",
    "    g.add_edge(1, 3, 4)\n",
    "    g.add_edge(3, 5, 3)\n",
    "    g.add_edge(5, 6, 5)\n",
    "    g.add_edge(5, 4, 2)\n",
    "    g.add_edge(4, 6, 1)\n",
    "    g.add_edge(2, 4, 7)\n",
    "    g.add_edge(2, 1, 3)\n",
    "    dv = g.dijkstra(1)\n",
    "    print(dv)"
   ]
  },
  {
   "cell_type": "markdown",
   "metadata": {},
   "source": [
    "### Verifying an Alien Dictionary using Topological Algorithm"
   ]
  },
  {
   "cell_type": "code",
   "execution_count": null,
   "metadata": {},
   "outputs": [],
   "source": [
    "from collections import defaultdict\n",
    "\n",
    "class Graph:\n",
    "    \n",
    "    def __init__(self):\n",
    "        self.graph = defaultdict(list)\n",
    "        self.visited = defaultdict(int)\n",
    "    \n",
    "    def add_edge(self, u, v):\n",
    "        self.graph[u].append(v)\n",
    "        if not self.visited[u]:\n",
    "            self.visited[u] = 0\n",
    "        self.visited[v] += 1\n",
    "    \n",
    "    def order_check(self, words):\n",
    "        for w in range(len(words) - 1):\n",
    "            word1 = words[w]\n",
    "            word2 = words[w + 1]\n",
    "            i = 0\n",
    "            while i < len(word1) and i < len(word2):\n",
    "                if word1[i] != word2[i]:\n",
    "                    self.add_edge(word1[i], word2[i])\n",
    "                    break\n",
    "                i += 1\n",
    "    \n",
    "    def topological_sorting(self, res):\n",
    "        for v in self.visited:\n",
    "            if self.visited[v] == 0:\n",
    "                res.append(v)\n",
    "                for node in self.graph[v]:\n",
    "                    self.visited[node] -= 1\n",
    "                del self.visited[v]\n",
    "                self.topological_sorting(res)\n",
    "                break\n",
    "\n",
    "if __name__=='__main__':\n",
    "    dictionary = ['yxx', 'yxxt', 'xyzt', 'xyzx', 'zxy', 'zxt']\n",
    "    g = Graph()\n",
    "    g.order_check(dictionary)\n",
    "    res = []\n",
    "    g.topological_sorting(res)\n",
    "    for r in res:\n",
    "        print(r, end = ' -> ')\n",
    "    print('END')"
   ]
  },
  {
   "cell_type": "markdown",
   "metadata": {},
   "source": [
    "### Rotten Orange Problem"
   ]
  },
  {
   "cell_type": "code",
   "execution_count": null,
   "metadata": {},
   "outputs": [],
   "source": [
    "from collections import deque\n",
    "\n",
    "def rotten_orange(matrix):\n",
    "    X = [-1, 0, 0, 1]\n",
    "    Y = [0, 1, -1, 0]\n",
    "    m, n = len(matrix), len(matrix[0])\n",
    "    queue = deque()\n",
    "    time = 0\n",
    "    for i in range(m):\n",
    "        for j in range(n):\n",
    "            if matrix[i][j] == 2:\n",
    "                queue.append([i, j, time])\n",
    "    while queue:\n",
    "        i, j, time = queue.popleft()\n",
    "        for k in range(4):\n",
    "            x, y = i + X[k], j + Y[k]\n",
    "            if x > -1 and y > -1 and x < m and y < n and matrix[x][y] == 1:\n",
    "                matrix[x][y] = 2\n",
    "                queue.append([x, y, time + 1])\n",
    "    return time\n",
    "\n",
    "if __name__=='__main__':\n",
    "    mat = [[2, 1, 0, 2, 1], [1, 0, 1, 2, 1], [1, 0, 0, 2, 1]]\n",
    "    print(rotten_orange(mat))"
   ]
  },
  {
   "cell_type": "markdown",
   "metadata": {},
   "source": [
    "### Snake Ladder Problem"
   ]
  },
  {
   "cell_type": "code",
   "execution_count": 21,
   "metadata": {},
   "outputs": [
    {
     "name": "stdout",
     "output_type": "stream",
     "text": [
      "4\n"
     ]
    }
   ],
   "source": [
    "from collections import defaultdict, deque\n",
    "\n",
    "def snake_ladder(board):\n",
    "    n = len(board)\n",
    "    visited = [False] * (n + 1)\n",
    "    queue = deque()\n",
    "    queue.append([1, 0])\n",
    "    visited[1] = True\n",
    "    while queue:\n",
    "        i, move_no = queue.popleft()\n",
    "        if i == n - 1:\n",
    "            return move_no\n",
    "        for _ in range(6):\n",
    "            i += 1\n",
    "            if i >= n:\n",
    "                break\n",
    "            if board[i] == -1:\n",
    "                val = i\n",
    "            else:\n",
    "                val = board[i]\n",
    "            if not visited[val]:\n",
    "                queue.append([val, move_no + 1])\n",
    "                visited[val] = True\n",
    "    return -1\n",
    "\n",
    "if __name__=='__main__':\n",
    "    board = [-1] * 37\n",
    "    # Ladders\n",
    "    board[2] = 15\n",
    "    board[14] = 35\n",
    "    # Snakes\n",
    "    board[17] = 13\n",
    "    print(snake_ladder(board))"
   ]
  },
  {
   "cell_type": "markdown",
   "metadata": {},
   "source": [
    "### Jumping Number Problem"
   ]
  },
  {
   "cell_type": "code",
   "execution_count": 29,
   "metadata": {},
   "outputs": [
    {
     "name": "stdout",
     "output_type": "stream",
     "text": [
      "[0, 1, 2, 3, 4, 5, 6, 7, 8, 9, 10, 12, 21, 23, 32, 34, 43, 45, 54, 56]\n"
     ]
    }
   ],
   "source": [
    "from collections import deque\n",
    "\n",
    "def jump_num(n):\n",
    "    if n < 10:\n",
    "        return n - 1\n",
    "    res = [0]\n",
    "    queue = deque([1, 2, 3, 4, 5, 6, 7, 8, 9])\n",
    "    while queue:\n",
    "        num = queue.popleft()\n",
    "        res.append(num)\n",
    "        l = num % 10\n",
    "        if l == 0:\n",
    "            num = num * 10 + l + 1\n",
    "            if num < n:\n",
    "                queue.append(num)\n",
    "        elif l == 9:\n",
    "            num = num * 10 + l - 1\n",
    "            if num < n:\n",
    "                queue.append(num)\n",
    "        else:\n",
    "            low = num * 10 + l - 1\n",
    "            high = num * 10 + l + 1\n",
    "            if low < n:\n",
    "                queue.append(low)\n",
    "            if high < n:\n",
    "                queue.append(high)\n",
    "    return res\n",
    "\n",
    "if __name__=='__main__':\n",
    "    print(jump_num(65))"
   ]
  },
  {
   "cell_type": "markdown",
   "metadata": {},
   "source": [
    "### Package Dependency Problem"
   ]
  },
  {
   "cell_type": "code",
   "execution_count": 2,
   "metadata": {},
   "outputs": [
    {
     "name": "stdout",
     "output_type": "stream",
     "text": [
      "[0, 1, 2, 3]\n"
     ]
    }
   ],
   "source": [
    "from collections import defaultdict\n",
    "\n",
    "def package_dependency_problem(n, dependencies):\n",
    "    def topological_sorting(i):\n",
    "        res.append(i)\n",
    "        seen[i] = True\n",
    "        for v in graph[i]:\n",
    "            in_degree[v] -= 1\n",
    "            if not in_degree[v] and not seen[v]:\n",
    "                topological_sorting(v)\n",
    "    \n",
    "    graph, res = defaultdict(list), []\n",
    "    in_degree, seen = [0] * n, [False] * n\n",
    "    for dependency in dependencies:\n",
    "        graph[dependency[1]].append(dependency[0])\n",
    "        in_degree[dependency[0]] += 1\n",
    "    for i in range(n):\n",
    "        if not in_degree[i] and not seen[i]:\n",
    "            topological_sorting(i)\n",
    "    return res if len(res) == n else []\n",
    "\n",
    "if __name__=='__main__':\n",
    "    print(package_dependency_problem(4, [[1,0],[2,0],[3,1],[3,2]]))"
   ]
  },
  {
   "cell_type": "markdown",
   "metadata": {},
   "source": [
    "### Trie"
   ]
  },
  {
   "cell_type": "code",
   "execution_count": 11,
   "metadata": {},
   "outputs": [
    {
     "name": "stdout",
     "output_type": "stream",
     "text": [
      "True\n",
      "True\n",
      "True\n",
      "False True\n"
     ]
    }
   ],
   "source": [
    "class TrieNode:\n",
    "    def __init__(self):\n",
    "        self.children = {}\n",
    "        self.end_of_word = False\n",
    "\n",
    "class Trie:\n",
    "    def __init__(self):\n",
    "        self.root = TrieNode()\n",
    "    \n",
    "    def insert(self, word):\n",
    "        ptr = self.root\n",
    "        for w in word:\n",
    "            if not ptr.children.get(w, False):\n",
    "                ptr.children[w] = TrieNode()\n",
    "            ptr = ptr.children[w]\n",
    "        ptr.end_of_word = True\n",
    "    \n",
    "    def search(self, word):\n",
    "        ptr = self.root\n",
    "        for w in word:\n",
    "            if not ptr.children.get(w, None):\n",
    "                return False\n",
    "            ptr = ptr.children[w]\n",
    "        return ptr.end_of_word\n",
    "    \n",
    "    def delete(self, word):\n",
    "        if not self.search(word):\n",
    "            return False\n",
    "        ptr = self.root\n",
    "        for w in word:\n",
    "            ptr = ptr.children[w]\n",
    "        ptr.end_of_word = False\n",
    "        return True\n",
    "    \n",
    "    def update(self, word, new_word):\n",
    "        self.delete(word)\n",
    "        self.insert(new_word)\n",
    "    \n",
    "if __name__=='__main__':\n",
    "    trie = Trie()\n",
    "    words = ['pqrs', 'prst', 'psst', 'qqrt', 'pqr']\n",
    "    for word in words:\n",
    "        trie.insert(word)\n",
    "    print(trie.search('pqrs'))\n",
    "    print(trie.delete('pqrs'))\n",
    "    print(trie.search('pqr'))\n",
    "    trie.update('pqr', 'prq')\n",
    "    print(trie.search('pqr'), trie.search('prq'))"
   ]
  },
  {
   "cell_type": "markdown",
   "metadata": {},
   "source": [
    "### Find word in matrix"
   ]
  },
  {
   "cell_type": "code",
   "execution_count": 29,
   "metadata": {},
   "outputs": [
    {
     "name": "stdout",
     "output_type": "stream",
     "text": [
      "['SEE', 'ABCCED']\n"
     ]
    }
   ],
   "source": [
    "class TrieNode:\n",
    "    def __init__(self):\n",
    "        self.children = {}\n",
    "        self.end_of_word = False\n",
    "\n",
    "X = [-1, -1, -1, 0, 0, 1, 1, 1]\n",
    "Y = [-1, 0, 1, -1, 1, -1, 0, 1]\n",
    "\n",
    "def insert(root, word):\n",
    "    ptr = root\n",
    "    for w in word:\n",
    "        if not ptr.children.get(w, False):\n",
    "            ptr.children[w] = TrieNode()\n",
    "        ptr = ptr.children[w]\n",
    "    ptr.end_of_word = True\n",
    "\n",
    "def search(root, board, i, j, m, n, visited, text, res):\n",
    "    if root.end_of_word:\n",
    "        res.add(text)\n",
    "    visited[i][j] = True\n",
    "    for key, value in root.children.items():\n",
    "        for k in range(8):\n",
    "            x, y = i + X[k], j + Y[k]\n",
    "            if 0 <= x < m and 0 <= y < n and not visited[x][y] and board[x][y] == key:\n",
    "                search(value, board, x, y, m, n, visited, text + key, res)\n",
    "    visited[i][j] = False\n",
    "\n",
    "def word_search(board, words):\n",
    "    root = TrieNode()\n",
    "    for word in words:\n",
    "        insert(root, word)\n",
    "    m, n = len(board), len(board[0])\n",
    "    res = set()\n",
    "    visited = [[False for _ in range(n)] for _ in range(m)]\n",
    "    for i in range(m):\n",
    "        for j in range(n):\n",
    "            if root.children.get(board[i][j], False):\n",
    "                search(root.children[board[i][j]], board, i, j, m, n, visited, board[i][j], res)\n",
    "    return list(res)\n",
    "\n",
    "if __name__=='__main__':\n",
    "    board = [\n",
    "                ['A','B','C','E'],\n",
    "                ['S','F','C','S'],\n",
    "                ['A','D','E','E']\n",
    "            ]\n",
    "    words = ['ABCCED', 'SEE', 'ABCB']\n",
    "    print(word_search(board, words))"
   ]
  },
  {
   "cell_type": "code",
   "execution_count": null,
   "metadata": {},
   "outputs": [],
   "source": []
  }
 ],
 "metadata": {
  "kernelspec": {
   "display_name": "Python 3",
   "language": "python",
   "name": "python3"
  },
  "language_info": {
   "codemirror_mode": {
    "name": "ipython",
    "version": 3
   },
   "file_extension": ".py",
   "mimetype": "text/x-python",
   "name": "python",
   "nbconvert_exporter": "python",
   "pygments_lexer": "ipython3",
   "version": "3.6.8"
  }
 },
 "nbformat": 4,
 "nbformat_minor": 2
}
