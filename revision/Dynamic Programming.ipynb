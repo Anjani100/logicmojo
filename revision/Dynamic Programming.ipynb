{
 "cells": [
  {
   "cell_type": "markdown",
   "metadata": {},
   "source": [
    "### Longest Common Subsequences"
   ]
  },
  {
   "cell_type": "code",
   "execution_count": 6,
   "metadata": {},
   "outputs": [
    {
     "name": "stdout",
     "output_type": "stream",
     "text": [
      "3\n"
     ]
    }
   ],
   "source": [
    "def lcs(text1, text2):\n",
    "    m = len(text1)\n",
    "    n = len(text2)\n",
    "    matrix = [[0 for _ in range(n + 1)] for _ in range(m + 1)]\n",
    "    for i in range(1, m + 1):\n",
    "        for j in range(1, n + 1):\n",
    "            if text1[i - 1] == text2[j - 1]:\n",
    "                matrix[i][j] = matrix[i - 1][j - 1] + 1\n",
    "            else:\n",
    "                matrix[i][j] = max(matrix[i - 1][j], matrix[i][j - 1])\n",
    "    return matrix[m][n]\n",
    "\n",
    "if __name__=='__main__':\n",
    "    print(lcs('ABCDEF', 'AEDNEK'))"
   ]
  },
  {
   "cell_type": "markdown",
   "metadata": {},
   "source": [
    "### String Edit Distance Algorithm"
   ]
  },
  {
   "cell_type": "code",
   "execution_count": 10,
   "metadata": {},
   "outputs": [
    {
     "name": "stdout",
     "output_type": "stream",
     "text": [
      "3\n"
     ]
    }
   ],
   "source": [
    "def string_edit(text1, text2):\n",
    "    m = len(text1)\n",
    "    n = len(text2)\n",
    "    matrix = [[i if not j else j if not i else 0 for j in range(n + 1)] for i in range(m + 1)]\n",
    "    for i in range(1, m + 1):\n",
    "        for j in range(1, n + 1):\n",
    "            if text1[i - 1] == text2[j - 1]:\n",
    "                matrix[i][j] = matrix[i - 1][j - 1]\n",
    "            else:\n",
    "                matrix[i][j] = 1 + min(matrix[i - 1][j - 1], matrix[i][j - 1], matrix[i - 1][j])\n",
    "    return matrix[m][n]\n",
    "\n",
    "if __name__=='__main__':\n",
    "    print(string_edit('SATURDAY', 'SUNDAY'))"
   ]
  },
  {
   "cell_type": "markdown",
   "metadata": {},
   "source": [
    "### Coin Change Problem"
   ]
  },
  {
   "cell_type": "code",
   "execution_count": 36,
   "metadata": {},
   "outputs": [
    {
     "name": "stdout",
     "output_type": "stream",
     "text": [
      "2\n"
     ]
    }
   ],
   "source": [
    "def coin_change(coins, amount):\n",
    "    m = len(coins)\n",
    "    matrix = [[1 if not j else 0 for j in range(amount + 1)] for i in range(m + 1)]\n",
    "    for i in range(1, m + 1):\n",
    "        for j in range(1, amount + 1):\n",
    "            if j < coins[i - 1]:\n",
    "                matrix[i][j] = matrix[i - 1][j]\n",
    "            else:\n",
    "                matrix[i][j] = matrix[i - 1][j] + matrix[i][j - coins[i - 1]]\n",
    "    return matrix[m][amount]\n",
    "\n",
    "if __name__=='__main__':\n",
    "    print(coin_change([2, 3, 4], 7))"
   ]
  },
  {
   "cell_type": "markdown",
   "metadata": {},
   "source": [
    "### Longest Palindrome Subsequence"
   ]
  },
  {
   "cell_type": "code",
   "execution_count": 43,
   "metadata": {},
   "outputs": [
    {
     "name": "stdout",
     "output_type": "stream",
     "text": [
      "5\n"
     ]
    }
   ],
   "source": [
    "def lps(word):\n",
    "    n = len(word)\n",
    "    matrix = [[1 if i == j else 0 for j in range(n)] for i in range(n)]\n",
    "    i, j, J = 0, 1, 2\n",
    "    while i != 0 or j != n:\n",
    "        if word[i] == word[j]:\n",
    "            matrix[i][j] = 2 + matrix[i + 1][j - 1]\n",
    "        else:\n",
    "            matrix[i][j] = max(matrix[i + 1][j], matrix[i][j - 1])\n",
    "        i += 1\n",
    "        j += 1\n",
    "        if j == n:\n",
    "            i = 0\n",
    "            j = J\n",
    "            J += 1\n",
    "    return matrix[0][n - 1]\n",
    "\n",
    "if __name__=='__main__':\n",
    "    print(lps('adceca'))"
   ]
  },
  {
   "cell_type": "markdown",
   "metadata": {},
   "source": [
    "### Word Break Using Memoization"
   ]
  },
  {
   "cell_type": "code",
   "execution_count": 68,
   "metadata": {},
   "outputs": [
    {
     "name": "stdout",
     "output_type": "stream",
     "text": [
      "True\n"
     ]
    }
   ],
   "source": [
    "def word_break(word, word_dict):\n",
    "    n = len(word)\n",
    "    dp = [False] * (n + 1)\n",
    "    dp[0] = True\n",
    "    for i in range(1, n + 1):\n",
    "        for j in range(i):\n",
    "            if dp[j] and word[j:i] in word_dict:\n",
    "                dp[i] = True\n",
    "                break\n",
    "    return dp[-1]\n",
    "\n",
    "if __name__=='__main__':\n",
    "    dictionary = ['i', 'like', 'sam', 'sung', 'samsung', 'mobile', 'ice', 'cream', 'icecream', 'man', 'go', 'mango', 'and']\n",
    "    print(word_break('ilikeicecreamandmango', dictionary))"
   ]
  },
  {
   "cell_type": "markdown",
   "metadata": {},
   "source": [
    "### DP Approach to Solve Egg Dropping Puzzle"
   ]
  },
  {
   "cell_type": "code",
   "execution_count": 73,
   "metadata": {},
   "outputs": [
    {
     "name": "stdout",
     "output_type": "stream",
     "text": [
      "10\n"
     ]
    }
   ],
   "source": [
    "# Time: O(n * k * logn); Space: O(n)\n",
    "def egg_drop(k, n):\n",
    "    if not hashMap.get((k, n), None):\n",
    "        if n == 0:\n",
    "            res = 0\n",
    "        elif k == 1:\n",
    "            res = n\n",
    "        else:\n",
    "            low, high = 1, n\n",
    "            while low + 1 < high:\n",
    "                mid = (low + high) // 2\n",
    "                breaks = egg_drop(k - 1, mid - 1)\n",
    "                survives = egg_drop(k, n - mid)\n",
    "                if breaks > survives:\n",
    "                    high = mid\n",
    "                elif survives > breaks:\n",
    "                    low = mid\n",
    "                else:\n",
    "                    high = low = mid\n",
    "            res = 1 + min(max(egg_drop(k - 1, mid - 1), egg_drop(k, n - mid)) for mid in (low, high))\n",
    "        hashMap[(k, n)] = res\n",
    "    return hashMap[(k, n)]\n",
    "\n",
    "if __name__=='__main__':\n",
    "    hashMap = {}\n",
    "    print(egg_drop(100, 1000))"
   ]
  },
  {
   "cell_type": "code",
   "execution_count": 74,
   "metadata": {},
   "outputs": [
    {
     "name": "stdout",
     "output_type": "stream",
     "text": [
      "2\n"
     ]
    }
   ],
   "source": [
    "# Time: O(n * k); Space: O(n)\n",
    "def egg_drop(k, n):\n",
    "    experiments = 300\n",
    "    dp = [0 for j in range(k + 1)]\n",
    "    for i in range(1, experiments):\n",
    "        dp2 = [0]\n",
    "        for j in range(1, k + 1):\n",
    "            dp2.append(1 + dp[i - 1] + dp[i])\n",
    "            if dp2[j] >= n:\n",
    "                return i\n",
    "        dp = dp2\n",
    "\n",
    "if __name__=='__main__':\n",
    "    print(egg_drop(2, 2))"
   ]
  },
  {
   "cell_type": "markdown",
   "metadata": {},
   "source": [
    "### Optimization Of KnapSack Problems"
   ]
  },
  {
   "cell_type": "code",
   "execution_count": 77,
   "metadata": {},
   "outputs": [
    {
     "name": "stdout",
     "output_type": "stream",
     "text": [
      "110\n"
     ]
    }
   ],
   "source": [
    "def knapsack(weights, values, limit):\n",
    "    m = len(weights)\n",
    "    matrix = [[0 for j in range(limit + 1)] for i in range(m + 1)]\n",
    "    for i in range(1, m + 1):\n",
    "        for j in range(1, limit + 1):\n",
    "            if j < weights[i - 1]:\n",
    "                matrix[i][j] = matrix[i - 1][j]\n",
    "            else:\n",
    "                matrix[i][j] = max(matrix[i - 1][j], values[i - 1] + matrix[i][j - weights[i - 1]])\n",
    "    return matrix[m][limit]\n",
    "\n",
    "if __name__=='__main__':\n",
    "    print(knapsack([1, 3, 4, 5], [10, 40, 50, 70], 8))"
   ]
  },
  {
   "cell_type": "markdown",
   "metadata": {},
   "source": [
    "### Keystroke Problem"
   ]
  },
  {
   "cell_type": "code",
   "execution_count": 80,
   "metadata": {},
   "outputs": [
    {
     "name": "stdout",
     "output_type": "stream",
     "text": [
      "1391569403904\n"
     ]
    }
   ],
   "source": [
    "def keystroke(n):\n",
    "    dp = [i if i < 7 else 0 for i in range(n + 1)]\n",
    "    for i in range(7, n + 1):\n",
    "        for j in range(i - 2):\n",
    "            dp[i] = max((i - j - 1) * dp[j], dp[i])\n",
    "    return dp[-1]\n",
    "\n",
    "if __name__=='__main__':\n",
    "    print(keystroke(100))"
   ]
  },
  {
   "cell_type": "markdown",
   "metadata": {},
   "source": [
    "### Interleaving Strings"
   ]
  },
  {
   "cell_type": "code",
   "execution_count": 87,
   "metadata": {},
   "outputs": [
    {
     "name": "stdout",
     "output_type": "stream",
     "text": [
      "[True, False, False, False]\n",
      "[True, True, False, False]\n",
      "[True, True, True, True]\n",
      "[False, False, False, True]\n",
      "True\n"
     ]
    }
   ],
   "source": [
    "def interleaving_string(text1, text2, word):\n",
    "    m = len(text1)\n",
    "    n = len(text2)\n",
    "    if m + n != len(word):\n",
    "        return False\n",
    "    matrix = [[True if ((text1[i - 1] == word[i - 1] and not j)\n",
    "                        or (text2[j - 1] == word[j - 1] and not i)\n",
    "                        or (not i and not j)) else False for j in range(n + 1)] for i in range(m + 1)]\n",
    "    for i in range(1, m + 1):\n",
    "        for j in range(1, n + 1):\n",
    "            if text1[i - 1] == word[i + j - 1] and text2[j - 1] != word[i + j - 1]:\n",
    "                matrix[i][j] = matrix[i - 1][j]\n",
    "            elif text2[j - 1] == word[i + j - 1] and text1[i - 1] != word[i + j - 1]:\n",
    "                matrix[i][j] = matrix[i][j - 1]\n",
    "            elif text1[i - 1] == word[i + j - 1] and text2[j - 1] == word[i + j - 1]:\n",
    "                matrix[i][j] = matrix[i - 1][j] or matrix[i][j - 1]\n",
    "    for w in matrix:\n",
    "        print(w)\n",
    "    return matrix[m][n]\n",
    "\n",
    "if __name__=='__main__':\n",
    "    print(interleaving_string('ABE', 'BDC', 'ABBDCE'))"
   ]
  },
  {
   "cell_type": "markdown",
   "metadata": {},
   "source": [
    "### Subset Partition By using Memorization Approach"
   ]
  },
  {
   "cell_type": "code",
   "execution_count": 109,
   "metadata": {},
   "outputs": [
    {
     "name": "stdout",
     "output_type": "stream",
     "text": [
      "True\n"
     ]
    }
   ],
   "source": [
    "def partition(arr):\n",
    "    s = sum(arr)\n",
    "    if s % 2:\n",
    "        return False\n",
    "    s //= 2\n",
    "    n = len(arr)\n",
    "    matrix = [[True if not j else False for j in range(s + 1)] for i in range(n + 1)]\n",
    "    for i in range(1, n + 1):\n",
    "        for j in range(1, s + 1):\n",
    "            if j < arr[i - 1]:\n",
    "                matrix[i][j] = matrix[i - 1][j]\n",
    "            else:\n",
    "                matrix[i][j] = matrix[i - 1][j] or matrix[i - 1][j - arr[i - 1]]\n",
    "    return matrix[n][s]\n",
    "\n",
    "if __name__=='__main__':\n",
    "    print(partition([2, 3, 5, 6]))"
   ]
  },
  {
   "cell_type": "code",
   "execution_count": null,
   "metadata": {},
   "outputs": [],
   "source": []
  }
 ],
 "metadata": {
  "kernelspec": {
   "display_name": "Python 3",
   "language": "python",
   "name": "python3"
  },
  "language_info": {
   "codemirror_mode": {
    "name": "ipython",
    "version": 3
   },
   "file_extension": ".py",
   "mimetype": "text/x-python",
   "name": "python",
   "nbconvert_exporter": "python",
   "pygments_lexer": "ipython3",
   "version": "3.6.8"
  }
 },
 "nbformat": 4,
 "nbformat_minor": 2
}
