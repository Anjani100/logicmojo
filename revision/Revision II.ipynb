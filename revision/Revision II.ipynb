{
 "cells": [
  {
   "cell_type": "markdown",
   "metadata": {},
   "source": [
    "# Array"
   ]
  },
  {
   "cell_type": "markdown",
   "metadata": {},
   "source": [
    "### Maximum Value in an array of Increasing and Decreasing using Binary Search"
   ]
  },
  {
   "cell_type": "code",
   "execution_count": 25,
   "metadata": {},
   "outputs": [
    {
     "name": "stdout",
     "output_type": "stream",
     "text": [
      "50\n"
     ]
    }
   ],
   "source": [
    "def find_max(arr):\n",
    "    start = 0\n",
    "    end = len(arr) - 1\n",
    "    while start <= end:\n",
    "        mid = (start + end) // 2\n",
    "        if start == end:\n",
    "            return arr[start]\n",
    "        if end - start == 1:\n",
    "            return arr[end] if arr[start] <= arr[end] else arr[start]\n",
    "        if arr[mid] > arr[mid - 1] and arr[mid] > arr[mid + 1]:\n",
    "            return arr[mid]\n",
    "        if arr[mid] > arr[mid - 1] and arr[mid] < arr[mid + 1]:\n",
    "            start = mid + 1\n",
    "        elif arr[mid] < arr[mid - 1] and arr[mid] > arr[mid + 1]:\n",
    "            end = mid - 1\n",
    "\n",
    "print(find_max([3, 5, 15, 50, 11, 10, 8, 6]))"
   ]
  },
  {
   "cell_type": "markdown",
   "metadata": {},
   "source": [
    "### Segregation logic to Sort an array of 0's, 1's and 2's "
   ]
  },
  {
   "cell_type": "code",
   "execution_count": 43,
   "metadata": {},
   "outputs": [
    {
     "name": "stdout",
     "output_type": "stream",
     "text": [
      "[0, 0, 1, 1, 2, 2]\n"
     ]
    }
   ],
   "source": [
    "def sorter(arr):\n",
    "    n = len(arr)\n",
    "    start = mid = 0\n",
    "    end = n - 1\n",
    "    while mid <= end:\n",
    "        if arr[mid] == 0:\n",
    "            arr[start], arr[mid] = arr[mid], arr[start]\n",
    "            start += 1\n",
    "            mid += 1\n",
    "        elif arr[mid] == 2:\n",
    "            arr[mid], arr[end] = arr[end], arr[mid]\n",
    "            end -= 1\n",
    "        else:\n",
    "            mid += 1\n",
    "    return arr\n",
    "\n",
    "if __name__=='__main__':\n",
    "    print(sorter([2,0,2,1,1,0]))"
   ]
  },
  {
   "cell_type": "markdown",
   "metadata": {},
   "source": [
    "### Linear time approach to solve jump game problem"
   ]
  },
  {
   "cell_type": "code",
   "execution_count": 46,
   "metadata": {},
   "outputs": [
    {
     "name": "stdout",
     "output_type": "stream",
     "text": [
      "3\n"
     ]
    }
   ],
   "source": [
    "def jump_game(nums):\n",
    "    a = b = nums[0]\n",
    "    jumps, n = 0, len(nums)\n",
    "    for i in range(1, n):\n",
    "        a -= 1\n",
    "        b -= 1\n",
    "        if nums[i] > b:\n",
    "            b = nums[i]\n",
    "        if i == n - 1:  return jumps + 1\n",
    "        if a == 0:\n",
    "            jumps += 1\n",
    "            a = b\n",
    "    return jumps\n",
    "\n",
    "if __name__=='__main__':\n",
    "    print(jump_game([1, 3, 5, 8, 9, 2, 6, 7, 6, 8, 9]))"
   ]
  },
  {
   "cell_type": "markdown",
   "metadata": {},
   "source": [
    "### Digit rearrangement method to find next greater number with same set of digits"
   ]
  },
  {
   "cell_type": "code",
   "execution_count": 58,
   "metadata": {},
   "outputs": [
    {
     "name": "stdout",
     "output_type": "stream",
     "text": [
      "-1\n"
     ]
    }
   ],
   "source": [
    "def next_greater_element(n):\n",
    "    s = list(str(n))\n",
    "    i = len(s) - 1\n",
    "    while i > 0:\n",
    "        if s[i] > s[i - 1]:\n",
    "            break\n",
    "        i -= 1\n",
    "    if i == 0:\n",
    "        return -1\n",
    "    mini = i\n",
    "    for j in range(i + 1, len(s)):\n",
    "        if s[j] > s[i - 1] and s[mini] > s[j]:\n",
    "            mini = j\n",
    "    s[i - 1], s[mini] = s[mini], s[i - 1]\n",
    "    s = s[:i] + sorted(s[i:])\n",
    "    res = int(''.join(s))\n",
    "    return -1 if res >= 2147483648 else res\n",
    "\n",
    "if __name__=='__main__':\n",
    "    print(next_greater_element(2147483486))"
   ]
  },
  {
   "cell_type": "code",
   "execution_count": null,
   "metadata": {},
   "outputs": [],
   "source": []
  }
 ],
 "metadata": {
  "kernelspec": {
   "display_name": "Python 3",
   "language": "python",
   "name": "python3"
  },
  "language_info": {
   "codemirror_mode": {
    "name": "ipython",
    "version": 3
   },
   "file_extension": ".py",
   "mimetype": "text/x-python",
   "name": "python",
   "nbconvert_exporter": "python",
   "pygments_lexer": "ipython3",
   "version": "3.6.8"
  }
 },
 "nbformat": 4,
 "nbformat_minor": 2
}
