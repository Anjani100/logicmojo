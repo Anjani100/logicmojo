{
 "cells": [
  {
   "cell_type": "markdown",
   "metadata": {},
   "source": [
    "# Array"
   ]
  },
  {
   "cell_type": "markdown",
   "metadata": {},
   "source": [
    "### Maximum Value in an array of Increasing and Decreasing using Binary Search"
   ]
  },
  {
   "cell_type": "code",
   "execution_count": 25,
   "metadata": {},
   "outputs": [
    {
     "name": "stdout",
     "output_type": "stream",
     "text": [
      "50\n"
     ]
    }
   ],
   "source": [
    "def find_max(arr):\n",
    "    start = 0\n",
    "    end = len(arr) - 1\n",
    "    while start <= end:\n",
    "        mid = (start + end) // 2\n",
    "        if start == end:\n",
    "            return arr[start]\n",
    "        if end - start == 1:\n",
    "            return arr[end] if arr[start] <= arr[end] else arr[start]\n",
    "        if arr[mid] > arr[mid - 1] and arr[mid] > arr[mid + 1]:\n",
    "            return arr[mid]\n",
    "        if arr[mid] > arr[mid - 1] and arr[mid] < arr[mid + 1]:\n",
    "            start = mid + 1\n",
    "        elif arr[mid] < arr[mid - 1] and arr[mid] > arr[mid + 1]:\n",
    "            end = mid - 1\n",
    "\n",
    "print(find_max([3, 5, 15, 50, 11, 10, 8, 6]))"
   ]
  },
  {
   "cell_type": "markdown",
   "metadata": {},
   "source": [
    "### Segregation logic to Sort an array of 0's, 1's and 2's "
   ]
  },
  {
   "cell_type": "code",
   "execution_count": 43,
   "metadata": {},
   "outputs": [
    {
     "name": "stdout",
     "output_type": "stream",
     "text": [
      "[0, 0, 1, 1, 2, 2]\n"
     ]
    }
   ],
   "source": [
    "def sorter(arr):\n",
    "    n = len(arr)\n",
    "    start = mid = 0\n",
    "    end = n - 1\n",
    "    while mid <= end:\n",
    "        if arr[mid] == 0:\n",
    "            arr[start], arr[mid] = arr[mid], arr[start]\n",
    "            start += 1\n",
    "            mid += 1\n",
    "        elif arr[mid] == 2:\n",
    "            arr[mid], arr[end] = arr[end], arr[mid]\n",
    "            end -= 1\n",
    "        else:\n",
    "            mid += 1\n",
    "    return arr\n",
    "\n",
    "if __name__=='__main__':\n",
    "    print(sorter([2,0,2,1,1,0]))"
   ]
  },
  {
   "cell_type": "markdown",
   "metadata": {},
   "source": [
    "### Linear time approach to solve jump game problem"
   ]
  },
  {
   "cell_type": "code",
   "execution_count": 46,
   "metadata": {},
   "outputs": [
    {
     "name": "stdout",
     "output_type": "stream",
     "text": [
      "3\n"
     ]
    }
   ],
   "source": [
    "def jump_game(nums):\n",
    "    a = b = nums[0]\n",
    "    jumps, n = 0, len(nums)\n",
    "    for i in range(1, n):\n",
    "        a -= 1\n",
    "        b -= 1\n",
    "        if nums[i] > b:\n",
    "            b = nums[i]\n",
    "        if i == n - 1:  return jumps + 1\n",
    "        if a == 0:\n",
    "            jumps += 1\n",
    "            a = b\n",
    "    return jumps\n",
    "\n",
    "if __name__=='__main__':\n",
    "    print(jump_game([1, 3, 5, 8, 9, 2, 6, 7, 6, 8, 9]))"
   ]
  },
  {
   "cell_type": "markdown",
   "metadata": {},
   "source": [
    "### Digit rearrangement method to find next greater number with same set of digits"
   ]
  },
  {
   "cell_type": "code",
   "execution_count": 58,
   "metadata": {},
   "outputs": [
    {
     "name": "stdout",
     "output_type": "stream",
     "text": [
      "-1\n"
     ]
    }
   ],
   "source": [
    "def next_greater_element(n):\n",
    "    s = list(str(n))\n",
    "    i = len(s) - 1\n",
    "    while i > 0:\n",
    "        if s[i] > s[i - 1]:\n",
    "            break\n",
    "        i -= 1\n",
    "    if i == 0:\n",
    "        return -1\n",
    "    mini = i\n",
    "    for j in range(i + 1, len(s)):\n",
    "        if s[j] > s[i - 1] and s[mini] > s[j]:\n",
    "            mini = j\n",
    "    s[i - 1], s[mini] = s[mini], s[i - 1]\n",
    "    s = s[:i] + sorted(s[i:])\n",
    "    res = int(''.join(s))\n",
    "    return -1 if res >= 2147483648 else res\n",
    "\n",
    "if __name__=='__main__':\n",
    "    print(next_greater_element(2147483486))"
   ]
  },
  {
   "cell_type": "markdown",
   "metadata": {},
   "source": [
    "### Rectangle Overlap problem"
   ]
  },
  {
   "cell_type": "code",
   "execution_count": 59,
   "metadata": {},
   "outputs": [
    {
     "name": "stdout",
     "output_type": "stream",
     "text": [
      "True\n"
     ]
    }
   ],
   "source": [
    "def rec_overlap(r1, r2):\n",
    "    x1, y1, x2, y2 = r1\n",
    "    xa1, ya1, xa2, ya2 = r2\n",
    "    if x1 - x2 == 0 or xa1 - xa2 == 0:\n",
    "        return False\n",
    "    if y1 - y2 == 0 or ya1 - ya2 == 0:\n",
    "        return False\n",
    "    if x1 >= xa2 or xa1 >= x2:\n",
    "        return False\n",
    "    if y1 >= ya2 or ya1 >= y2:\n",
    "        return False\n",
    "    return True\n",
    "\n",
    "if __name__=='__main__':\n",
    "    print(rec_overlap([0, 0, 2, 2], [1, 1, 3, 3]))"
   ]
  },
  {
   "cell_type": "markdown",
   "metadata": {},
   "source": [
    "### Greedy Techniques to find minimum number of platforms"
   ]
  },
  {
   "cell_type": "code",
   "execution_count": 69,
   "metadata": {},
   "outputs": [
    {
     "name": "stdout",
     "output_type": "stream",
     "text": [
      "4\n"
     ]
    }
   ],
   "source": [
    "def min_platforms(arr, dept):\n",
    "    dept.sort()\n",
    "    n = len(arr)\n",
    "    platforms = j = max_platforms = 0\n",
    "    for i in range(n):\n",
    "        platforms += 1\n",
    "        while j < n and  arr[i] > dept[j]:\n",
    "            platforms -= 1\n",
    "            j += 1\n",
    "        max_platforms = max(max_platforms, platforms)\n",
    "    return max_platforms\n",
    "\n",
    "if __name__=='__main__':\n",
    "    print(min_platforms([1300, 1340, 1350, 1400, 1415, 1600], [1310, 1500, 1420, 1430, 1515, 1800]))"
   ]
  },
  {
   "cell_type": "markdown",
   "metadata": {},
   "source": [
    "### Techniques to print matrix in spiral order without any extra space"
   ]
  },
  {
   "cell_type": "code",
   "execution_count": 82,
   "metadata": {},
   "outputs": [
    {
     "name": "stdout",
     "output_type": "stream",
     "text": [
      "[1, 2, 3, 4, 8, 12, 16, 20, 19, 18, 17, 13, 9, 5, 6, 7, 11, 15, 14, 10]\n"
     ]
    }
   ],
   "source": [
    "def spiral_order(matrix):\n",
    "    m, n = len(matrix), len(matrix[0])\n",
    "    i = j = count = 0\n",
    "    res = []\n",
    "    M, N = m, n\n",
    "    pdt = m * n\n",
    "    while count < pdt:\n",
    "        while j < N:\n",
    "            res.append(matrix[i][j])\n",
    "            j += 1\n",
    "            count += 1\n",
    "        i += 1\n",
    "        j -= 1\n",
    "        N -= 1\n",
    "        while i < M:\n",
    "            res.append(matrix[i][j])\n",
    "            i += 1\n",
    "            count += 1\n",
    "        j -= 1\n",
    "        i -= 1\n",
    "        M -= 1\n",
    "        while j > n - N - 2:\n",
    "            res.append(matrix[i][j])\n",
    "            j -= 1\n",
    "            count += 1\n",
    "        i -= 1\n",
    "        j += 1\n",
    "        while i > m - M - 1:\n",
    "            res.append(matrix[i][j])\n",
    "            count += 1\n",
    "            i -= 1\n",
    "        j += 1\n",
    "        i += 1\n",
    "    return res[:pdt]\n",
    "\n",
    "if __name__=='__main__':\n",
    "    mat = [\n",
    "        [1, 2, 3, 4],\n",
    "        [5, 6, 7, 8],\n",
    "        [9, 10, 11, 12],\n",
    "        [13, 14, 15, 16],\n",
    "        [17, 18, 19, 20]\n",
    "    ]\n",
    "    print(spiral_order(mat))"
   ]
  },
  {
   "cell_type": "markdown",
   "metadata": {},
   "source": [
    "### Count frequencies of array elements in O(n) time complexity"
   ]
  },
  {
   "cell_type": "code",
   "execution_count": 83,
   "metadata": {},
   "outputs": [
    {
     "name": "stdout",
     "output_type": "stream",
     "text": [
      "[0, 2, 0, 0, 3, 0, 2]\n"
     ]
    }
   ],
   "source": [
    "def count_freq(nums):\n",
    "    n, res = len(nums), []\n",
    "    for i in range(n):\n",
    "        nums[i] -= 1\n",
    "    for i in range(n):\n",
    "        nums[(nums[i] % n)] = nums[(nums[i] % n)] + n\n",
    "    for num in nums:\n",
    "        res.append(num // n)\n",
    "    return res\n",
    "\n",
    "if __name__=='__main__':\n",
    "    print(count_freq([5, 2, 7, 7, 5, 5, 2]))"
   ]
  },
  {
   "cell_type": "markdown",
   "metadata": {},
   "source": [
    "### Linear time approach to solve Stock Buy Sell Problem"
   ]
  },
  {
   "cell_type": "code",
   "execution_count": 84,
   "metadata": {},
   "outputs": [
    {
     "name": "stdout",
     "output_type": "stream",
     "text": [
      "7\n"
     ]
    }
   ],
   "source": [
    "def buy_and_sell_stock(nums):\n",
    "    buy, profit = nums[0], 0\n",
    "    for i in range(1, len(nums)):\n",
    "        if nums[i] < nums[i - 1]:\n",
    "            profit += nums[i - 1] - buy\n",
    "            buy = nums[i]\n",
    "    return profit + nums[-1] - buy\n",
    "\n",
    "if __name__=='__main__':\n",
    "    print(buy_and_sell_stock([7,1,5,3,6,4]))"
   ]
  },
  {
   "cell_type": "markdown",
   "metadata": {},
   "source": [
    "### In-place techniques matrix rotation method by 90 degree"
   ]
  },
  {
   "cell_type": "code",
   "execution_count": 2,
   "metadata": {},
   "outputs": [
    {
     "name": "stdout",
     "output_type": "stream",
     "text": [
      "[13, 9, 5, 1]\n",
      "[14, 10, 6, 2]\n",
      "[15, 11, 7, 3]\n",
      "[16, 12, 8, 4]\n"
     ]
    }
   ],
   "source": [
    "def rotate_matrix(matrix):\n",
    "    n = len(matrix)\n",
    "    for i in range(n // 2):\n",
    "        for j in range(i, n - i - 1):\n",
    "            temp = matrix[j][n - i - 1]\n",
    "            matrix[j][n - i - 1] = matrix[i][j]\n",
    "            matrix[i][j] = matrix[n - 1 - j][i]\n",
    "            matrix[n - 1 - j][i] = matrix[n - i - 1][n - j - 1]\n",
    "            matrix[n - i - 1][n - j - 1] = temp\n",
    "\n",
    "if __name__=='__main__':\n",
    "    matrix = [\n",
    "        [1, 2, 3, 4],\n",
    "        [5, 6, 7, 8],\n",
    "        [9, 10, 11, 12],\n",
    "        [13, 14, 15, 16]\n",
    "    ]\n",
    "    rotate_matrix(matrix)\n",
    "    for m in matrix:\n",
    "        print(m)"
   ]
  },
  {
   "cell_type": "markdown",
   "metadata": {},
   "source": [
    "### Array puzzle of solving celebrity problem"
   ]
  },
  {
   "cell_type": "code",
   "execution_count": 3,
   "metadata": {},
   "outputs": [
    {
     "name": "stdout",
     "output_type": "stream",
     "text": [
      "1\n"
     ]
    }
   ],
   "source": [
    "def celeb_prob(matrix):\n",
    "    n = len(matrix)\n",
    "    x, y = 0, n - 1\n",
    "    while x < y:\n",
    "        if matrix[x][y]:\n",
    "            x += 1\n",
    "        else:\n",
    "            y -= 1\n",
    "    for i in range(n):\n",
    "        if i != x and (matrix[x][i] or not matrix[i][x]):\n",
    "            return -1\n",
    "    return x\n",
    "\n",
    "if __name__=='__main__':\n",
    "    matrix = [[1, 1, 0],\n",
    "             [0, 1, 0],\n",
    "             [1, 1, 1]]\n",
    "    print(celeb_prob(matrix))"
   ]
  },
  {
   "cell_type": "markdown",
   "metadata": {},
   "source": [
    "### Lexicographical order method to solve next smallest palindrome"
   ]
  },
  {
   "cell_type": "code",
   "execution_count": 19,
   "metadata": {},
   "outputs": [
    {
     "name": "stdout",
     "output_type": "stream",
     "text": [
      "33\n"
     ]
    }
   ],
   "source": [
    "def next_smallest_palindrome(num):\n",
    "    if num < 10:\n",
    "        return 11\n",
    "    arr = [int(i) for i in str(num)]\n",
    "    n, left_smaller = len(arr), False\n",
    "    if arr.count(9) == n:\n",
    "        return num + 2\n",
    "    mid = n // 2\n",
    "    i, j = mid - 1, mid\n",
    "    if n % 2:\n",
    "        j = mid + 1\n",
    "    while i > -1 and arr[i] == arr[j]:\n",
    "        i -= 1\n",
    "        j += 1\n",
    "    if i < 0 or arr[i] < arr[j]:\n",
    "        left_smaller = True\n",
    "    while i > -1 and j < n:\n",
    "        arr[j] = arr[i]\n",
    "        i -= 1\n",
    "        j += 1\n",
    "    if left_smaller:\n",
    "        i = mid - 1\n",
    "        carry = 1\n",
    "        if n % 2:\n",
    "            arr[mid] += carry\n",
    "            carry = arr[mid] // 10\n",
    "            arr[mid] %= 10\n",
    "            j = mid + 1\n",
    "        else:\n",
    "            j = mid\n",
    "        while i >= 0 and carry > 0:\n",
    "            arr[i] += carry\n",
    "            carry = arr[i] // 10\n",
    "            arr[i] %= 10\n",
    "            arr[j] = arr[i]\n",
    "            i -= 1\n",
    "            j += 1\n",
    "    return int(''.join([str(i) for i in arr]))\n",
    "\n",
    "if __name__=='__main__':\n",
    "    print(next_smallest_palindrome(24))"
   ]
  },
  {
   "cell_type": "markdown",
   "metadata": {},
   "source": [
    "### QuickSelect Algorithm to find the Kth smallest Element in array"
   ]
  },
  {
   "cell_type": "code",
   "execution_count": 24,
   "metadata": {},
   "outputs": [
    {
     "name": "stdout",
     "output_type": "stream",
     "text": [
      "70\n"
     ]
    }
   ],
   "source": [
    "def partition(arr, low, high):\n",
    "    i = low - 1\n",
    "    for j in range(low, high):\n",
    "        if arr[j] <= arr[high]:\n",
    "            i += 1\n",
    "            arr[i], arr[j] = arr[j], arr[i]\n",
    "    arr[i + 1], arr[high] = arr[high], arr[i + 1]\n",
    "    return i + 1\n",
    "\n",
    "def modified_quick_sort(arr, k, low, high):\n",
    "    if k > 0 and k <= high - low + 1:\n",
    "        pi = partition(arr, low, high)\n",
    "        if pi - low == k - 1:\n",
    "            return arr[pi]\n",
    "        if pi - low > k - 1:\n",
    "            return modified_quick_sort(arr, k, low, pi - 1)\n",
    "        return modified_quick_sort(arr, k - pi + low - 1, pi + 1, high)\n",
    "\n",
    "if __name__=='__main__':\n",
    "    print(modified_quick_sort([10, 80, 30, 90, 40, 50, 70], 5, 0, 6))"
   ]
  },
  {
   "cell_type": "markdown",
   "metadata": {},
   "source": [
    "### Xor method to find the element that occurs one"
   ]
  },
  {
   "cell_type": "code",
   "execution_count": 26,
   "metadata": {},
   "outputs": [
    {
     "name": "stdout",
     "output_type": "stream",
     "text": [
      "3\n"
     ]
    }
   ],
   "source": [
    "def unique_element(nums):\n",
    "    res = nums[0]\n",
    "    for i in range(1, len(nums)):\n",
    "        res ^= nums[i]\n",
    "    return res\n",
    "\n",
    "if __name__=='__main__':\n",
    "    print(unique_element([2, 6, 3, 6, 4, 2, 4]))"
   ]
  },
  {
   "cell_type": "markdown",
   "metadata": {},
   "source": [
    "### Binary search method to find square root of an element"
   ]
  },
  {
   "cell_type": "code",
   "execution_count": 37,
   "metadata": {},
   "outputs": [
    {
     "name": "stdout",
     "output_type": "stream",
     "text": [
      "2\n"
     ]
    }
   ],
   "source": [
    "def square_root(n):\n",
    "    low, high = 0, n\n",
    "    while low <= high:\n",
    "        mid = (low + high) // 2\n",
    "        if (mid * mid <= n) and ((mid + 1) * (mid + 1) > n):\n",
    "            return mid\n",
    "        if mid * mid < n:\n",
    "            low = mid + 1\n",
    "        else:\n",
    "            high = mid - 1\n",
    "\n",
    "if __name__=='__main__':\n",
    "    print(square_root(5))"
   ]
  },
  {
   "cell_type": "markdown",
   "metadata": {},
   "source": [
    "### Trapping Rain Water Efficiently"
   ]
  },
  {
   "cell_type": "code",
   "execution_count": 2,
   "metadata": {},
   "outputs": [
    {
     "name": "stdout",
     "output_type": "stream",
     "text": [
      "6\n"
     ]
    }
   ],
   "source": [
    "def trap_rain_water(heights):\n",
    "    n, res = len(heights), 0\n",
    "    left, right = [0] * n, [0] * n\n",
    "    left[0] = heights[0]\n",
    "    right[-1] = heights[-1]\n",
    "    for i in range(1, n):\n",
    "        left[i] = max(left[i - 1], heights[i])\n",
    "    for i in range(n - 2, -1, -1):\n",
    "        right[i] = max(right[i + 1], heights[i])\n",
    "    for i in range(n):\n",
    "        res += min(left[i], right[i]) - heights[i]\n",
    "    return res\n",
    "\n",
    "if __name__=='__main__':\n",
    "    print(trap_rain_water([5, 3, 4, 6, 3, 6]))"
   ]
  },
  {
   "cell_type": "markdown",
   "metadata": {},
   "source": [
    "### Merge sort method to Count inversion in an array"
   ]
  },
  {
   "cell_type": "code",
   "execution_count": 4,
   "metadata": {},
   "outputs": [
    {
     "name": "stdout",
     "output_type": "stream",
     "text": [
      "3\n"
     ]
    }
   ],
   "source": [
    "def count_inv(nums):\n",
    "    inv_count = 0\n",
    "    n = len(nums)\n",
    "    if n < 2:\n",
    "        return inv_count\n",
    "    mid = n // 2\n",
    "    left = nums[:mid]\n",
    "    right = nums[mid:]\n",
    "    inv_count += count_inv(left)\n",
    "    inv_count += count_inv(right)\n",
    "    i = j = k = 0\n",
    "    while i < len(left) and j < len(right):\n",
    "        if left[i] <= right[j]:\n",
    "            nums[k] = left[i]\n",
    "            i += 1\n",
    "        else:\n",
    "            nums[k] = right[j]\n",
    "            j += 1\n",
    "            inv_count += mid - i + 1\n",
    "        k += 1\n",
    "    while i < len(left):\n",
    "        nums[k] = left[i]\n",
    "        i += 1\n",
    "        k += 1\n",
    "    while j < len(right):\n",
    "        nums[k] = right[j]\n",
    "        j += 1\n",
    "        k += 1\n",
    "    return inv_count\n",
    "\n",
    "if __name__=='__main__':\n",
    "    arr = [1, 2, 5, 4, 3]\n",
    "    print(count_inv(arr) // 2)"
   ]
  },
  {
   "cell_type": "code",
   "execution_count": null,
   "metadata": {},
   "outputs": [],
   "source": []
  }
 ],
 "metadata": {
  "kernelspec": {
   "display_name": "Python 3",
   "language": "python",
   "name": "python3"
  },
  "language_info": {
   "codemirror_mode": {
    "name": "ipython",
    "version": 3
   },
   "file_extension": ".py",
   "mimetype": "text/x-python",
   "name": "python",
   "nbconvert_exporter": "python",
   "pygments_lexer": "ipython3",
   "version": "3.6.8"
  }
 },
 "nbformat": 4,
 "nbformat_minor": 2
}
