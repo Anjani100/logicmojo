{
 "cells": [
  {
   "cell_type": "code",
   "execution_count": 5,
   "metadata": {},
   "outputs": [
    {
     "name": "stdout",
     "output_type": "stream",
     "text": [
      "9\n",
      "9\n"
     ]
    }
   ],
   "source": [
    "def superDigit(n, k):\n",
    "    s = str(n)\n",
    "    sumn = 0\n",
    "    for i in s:\n",
    "        sumn += int(i)\n",
    "    sumn *= k\n",
    "    s = str(sumn)\n",
    "    while len(s) > 1:\n",
    "        sumn = 0\n",
    "        for i in s:\n",
    "            sumn += int(i)\n",
    "        s = str(sumn)\n",
    "        print(s)\n",
    "    return s\n",
    "\n",
    "print(superDigit(123, 3))"
   ]
  },
  {
   "cell_type": "code",
   "execution_count": 11,
   "metadata": {},
   "outputs": [
    {
     "name": "stdout",
     "output_type": "stream",
     "text": [
      "[[23, 0, -99, 4, 189, 4], [45, -34, 12, 98, -1]]\n"
     ]
    }
   ],
   "source": [
    "def divide(arr, n, curr, selected, res, min_diff, s, curr_sum, curr_pos):\n",
    "    if (curr_pos == n):\n",
    "        return\n",
    "    if ((n // 2 - selected) > (n - curr_pos)):\n",
    "        return\n",
    "    divide(arr, n, curr, selected, res, min_diff, s, curr_sum, curr_pos + 1)\n",
    "    selected += 1\n",
    "    curr_sum = curr_sum + arr[curr_pos]\n",
    "    curr[curr_pos] = True\n",
    "    if (selected == n // 2):\n",
    "        if (abs(s // 2 - curr_sum) < min_diff[0]):\n",
    "            min_diff[0] = abs(s // 2 - curr_sum)\n",
    "            for i in range(n):\n",
    "                res[i] = curr[i]\n",
    "    else:\n",
    "        divide(arr, n, curr, selected, res, min_diff, s, curr_sum, curr_pos + 1)\n",
    "    curr[curr_pos] = False\n",
    "\n",
    "def divideArray(arr, n):\n",
    "    curr = [None] * n\n",
    "    res = [None] * n\n",
    "    min_diff = [float('inf')]\n",
    "    s = 0\n",
    "    for i in range(n):\n",
    "        s += arr[i]\n",
    "        curr[i] = res[i] = False\n",
    "    divide(arr, n, curr, 0, res, min_diff, s, 0, 0)\n",
    "    arr1, arr2 = [], []\n",
    "    for i in range(n):\n",
    "        if (res[i] == True):\n",
    "            arr1.append(arr[i])\n",
    "        else:\n",
    "            arr2.append(arr[i])\n",
    "    return [arr2, arr1]\n",
    "\n",
    "print(divideArray([23, 45, -34, 12, 0, 98, -99, 4, 189, -1, 4], 11))"
   ]
  },
  {
   "cell_type": "code",
   "execution_count": null,
   "metadata": {},
   "outputs": [],
   "source": []
  }
 ],
 "metadata": {
  "kernelspec": {
   "display_name": "Python 3",
   "language": "python",
   "name": "python3"
  },
  "language_info": {
   "codemirror_mode": {
    "name": "ipython",
    "version": 3
   },
   "file_extension": ".py",
   "mimetype": "text/x-python",
   "name": "python",
   "nbconvert_exporter": "python",
   "pygments_lexer": "ipython3",
   "version": "3.6.8"
  }
 },
 "nbformat": 4,
 "nbformat_minor": 2
}
