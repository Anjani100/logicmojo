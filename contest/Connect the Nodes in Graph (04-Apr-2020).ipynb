{
 "cells": [
  {
   "cell_type": "markdown",
   "metadata": {},
   "source": [
    "### Matrix Tracing"
   ]
  },
  {
   "cell_type": "code",
   "execution_count": 3,
   "metadata": {},
   "outputs": [
    {
     "name": "stdout",
     "output_type": "stream",
     "text": [
      "3\n"
     ]
    }
   ],
   "source": [
    "def fact(n):\n",
    "    MOD = 10 ** 9 + 7\n",
    "    res = 1\n",
    "    while n > 1:\n",
    "        res = ((res) * (n % MOD)) % MOD\n",
    "        n -= 1\n",
    "    return res\n",
    "\n",
    "def expe(b, e, mod):\n",
    "    res = 1\n",
    "    b %= mod\n",
    "    while e > 0:\n",
    "        if e & 1:   res = (res * b) % mod\n",
    "        b = (b * b) % mod\n",
    "        e >>= 1\n",
    "    return res\n",
    "\n",
    "def solve(n, m):\n",
    "    MOD = 10 ** 9 + 7\n",
    "    num = fact(n + m - 2)\n",
    "    den = fact(n - 1) * fact(m - 1)\n",
    "    return ((num % MOD) * expe(den, MOD - 2, MOD)) % MOD\n",
    "\n",
    "if __name__== '__main__':\n",
    "    print(solve(2, 3))"
   ]
  },
  {
   "cell_type": "markdown",
   "metadata": {},
   "source": [
    "### Contacts"
   ]
  },
  {
   "cell_type": "code",
   "execution_count": null,
   "metadata": {},
   "outputs": [],
   "source": [
    "def contacts(queries):\n",
    "    #\n",
    "    # Write your code here.\n",
    "    #\n",
    "    hashMap, res = defaultdict(int), []\n",
    "    for query in queries:\n",
    "        op, name = str(query[0]), str(query[1])\n",
    "        if op == 'add':\n",
    "            for i in range(1, len(name) + 1):\n",
    "                key = name[0:i]\n",
    "                hashMap[key] += 1\n",
    "        else:\n",
    "            res.append(hashMap[name])\n",
    "    return res\n",
    "\n",
    "if __name__=='__main__':\n",
    "    print(contacts())"
   ]
  },
  {
   "cell_type": "code",
   "execution_count": null,
   "metadata": {},
   "outputs": [],
   "source": [
    "# Input:\n",
    "\n",
    "add ed\n",
    "add eddie\n",
    "add edward\n",
    "find ed\n",
    "add edwina\n",
    "find edw\n",
    "find a"
   ]
  }
 ],
 "metadata": {
  "kernelspec": {
   "display_name": "Python 3",
   "language": "python",
   "name": "python3"
  },
  "language_info": {
   "codemirror_mode": {
    "name": "ipython",
    "version": 3
   },
   "file_extension": ".py",
   "mimetype": "text/x-python",
   "name": "python",
   "nbconvert_exporter": "python",
   "pygments_lexer": "ipython3",
   "version": "3.6.8"
  }
 },
 "nbformat": 4,
 "nbformat_minor": 2
}
