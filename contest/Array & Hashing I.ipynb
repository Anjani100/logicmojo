{
 "cells": [
  {
   "cell_type": "markdown",
   "metadata": {},
   "source": [
    "### Find k-th Smallest Element after merging 2 sorted arrays (No extra space)"
   ]
  },
  {
   "cell_type": "code",
   "execution_count": 14,
   "metadata": {},
   "outputs": [
    {
     "name": "stdout",
     "output_type": "stream",
     "text": [
      "[3, 9, 10, 27, 38, 43, 82]\n",
      "3\n"
     ]
    }
   ],
   "source": [
    "def findElement(arr1, arr2, k):\n",
    "    def find_interval(n):\n",
    "        if n <= 1:\n",
    "            return 0\n",
    "        return (n // 2) + (n % 2)\n",
    "    m = len(arr1)\n",
    "    n = len(arr2)\n",
    "    interval = find_interval(m + n)\n",
    "    while interval > 0:\n",
    "        i = 0\n",
    "        while (i + interval) < m:\n",
    "            if arr1[i] > arr1[i + interval]:\n",
    "                arr1[i], arr1[i + interval] = arr1[i + interval], arr1[i]\n",
    "            i += 1\n",
    "        j = 0\n",
    "        if interval > m:\n",
    "            j = interval - m\n",
    "        while i < m and j < n:\n",
    "            if arr1[i] > arr2[j]:\n",
    "                arr1[i], arr2[j] = arr2[j], arr1[i]\n",
    "            i += 1\n",
    "            j += 1\n",
    "        if j < n:\n",
    "            j = 0\n",
    "            while (j + interval) < n:\n",
    "                if arr2[j] > arr2[j + interval]:\n",
    "                    arr2[j], arr2[j + interval] = arr2[j + interval], arr2[j]\n",
    "                j += 1\n",
    "        interval = find_interval(interval)\n",
    "    print(arr1 + arr2)\n",
    "    if k > m:\n",
    "        k -= m\n",
    "        return arr2[k - 1]\n",
    "    return arr1[k - 1]\n",
    "\n",
    "print(findElement([3, 27, 38, 43], [9, 10, 82], 1))"
   ]
  },
  {
   "cell_type": "markdown",
   "metadata": {},
   "source": [
    "### Sliding Window Problem"
   ]
  },
  {
   "cell_type": "code",
   "execution_count": 18,
   "metadata": {},
   "outputs": [
    {
     "name": "stdout",
     "output_type": "stream",
     "text": [
      "[10, 10, 10, 17, 17, 87, 87]\n"
     ]
    }
   ],
   "source": [
    "from collections import deque\n",
    "def max_subarray(arr, k):\n",
    "    n = len(arr)\n",
    "    queue = deque()\n",
    "    res = []\n",
    "    for i in range(k):\n",
    "        while queue and arr[queue[-1]] <= arr[i]:\n",
    "            queue.pop()\n",
    "        queue.append(i)\n",
    "    for i in range(k, n):\n",
    "        res.append(arr[queue[0]])\n",
    "        while queue and queue[0] <= i - k:\n",
    "            queue.popleft()\n",
    "        while queue and arr[queue[-1]] <= arr[i]:\n",
    "            queue.pop()\n",
    "        queue.append(i)\n",
    "    res.append(arr[queue[0]])\n",
    "    return res\n",
    "\n",
    "if __name__==\"__main__\":\n",
    "    array = [8, 6, 10, 7, 5, 17, 14, 87, 15]\n",
    "    k = 3\n",
    "    print(max_subarray(array, k))"
   ]
  },
  {
   "cell_type": "code",
   "execution_count": null,
   "metadata": {},
   "outputs": [],
   "source": []
  }
 ],
 "metadata": {
  "kernelspec": {
   "display_name": "Python 3",
   "language": "python",
   "name": "python3"
  },
  "language_info": {
   "codemirror_mode": {
    "name": "ipython",
    "version": 3
   },
   "file_extension": ".py",
   "mimetype": "text/x-python",
   "name": "python",
   "nbconvert_exporter": "python",
   "pygments_lexer": "ipython3",
   "version": "3.6.8"
  }
 },
 "nbformat": 4,
 "nbformat_minor": 2
}
