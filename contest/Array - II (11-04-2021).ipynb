{
 "cells": [
  {
   "cell_type": "code",
   "execution_count": null,
   "metadata": {},
   "outputs": [],
   "source": [
    "def matrixRotation(matrix, rotation):\n",
    "    m, n = len(matrix), len(matrix[0])\n",
    "    N = min(m, n) // 2\n",
    "    res = []\n",
    "    for i in range(N):\n",
    "        arr = []\n",
    "        arr.extend(matrix[i][i:(n - i)])\n",
    "        arr.extend([matrix[k][(-1 - i)] for k in range(i + 1, m - 1 - i)])\n",
    "        arr.extend(matrix[(-1 - i)][i:(n - i)][::-1])\n",
    "        arr.extend([matrix[k][i] for k in range(m - 2 - i, i, -1)])\n",
    "        k = r % len(arr)\n",
    "        arr = arr[k:] + arr[:k]\n",
    "        count = 0\n",
    "        for j in range(i, n - i):\n",
    "            matrix[i][j] = arr[count]\n",
    "            count += 1\n",
    "        for j in range(i + 1, m - 1 - i):\n",
    "            matrix[j][(-1 - i)] = arr[count]\n",
    "            count += 1\n",
    "        for j in range(n - i - 1, i - 1, -1):\n",
    "            matrix[(-1 - i)][j] = arr[cnt]\n",
    "            count+=1\n",
    "        for j in range(m - 2 - i, i, -1):\n",
    "            matrix[j][i] = arr[count]\n",
    "            count += 1\n",
    "    return matrix"
   ]
  }
 ],
 "metadata": {
  "kernelspec": {
   "display_name": "Python 3",
   "language": "python",
   "name": "python3"
  },
  "language_info": {
   "codemirror_mode": {
    "name": "ipython",
    "version": 3
   },
   "file_extension": ".py",
   "mimetype": "text/x-python",
   "name": "python",
   "nbconvert_exporter": "python",
   "pygments_lexer": "ipython3",
   "version": "3.6.8"
  }
 },
 "nbformat": 4,
 "nbformat_minor": 2
}
