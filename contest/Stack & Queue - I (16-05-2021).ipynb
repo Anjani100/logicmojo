{
 "cells": [
  {
   "cell_type": "markdown",
   "metadata": {},
   "source": [
    "## Largest Rectangle"
   ]
  },
  {
   "cell_type": "code",
   "execution_count": null,
   "metadata": {},
   "outputs": [],
   "source": [
    "#!/bin/python3\n",
    "\n",
    "import math\n",
    "import os\n",
    "import random\n",
    "import re\n",
    "import sys\n",
    "\n",
    "#\n",
    "# Complete the 'largestRectangle' function below.\n",
    "#\n",
    "# The function is expected to return a LONG_INTEGER.\n",
    "# The function accepts INTEGER_ARRAY h as parameter.\n",
    "#\n",
    "\n",
    "def largestRectangle(heights):\n",
    "    # Write your code here\n",
    "    max_area = 0\n",
    "    heights.append(0)\n",
    "    h = len(heights)\n",
    "    pstack, hstack = [], []\n",
    "    for i in range(h):\n",
    "        lastwidth = h + 1\n",
    "        while pstack and hstack[-1] > heights[i]:\n",
    "            lastwidth = pstack[-1]\n",
    "            max_area = max(max_area, (i - pstack.pop()) * hstack.pop())\n",
    "        if not pstack or hstack[-1] <= heights[i]:\n",
    "            pstack.append(min(i, lastwidth))\n",
    "            hstack.append(heights[i])\n",
    "    return max_area\n",
    "\n",
    "if __name__ == '__main__':\n",
    "    fptr = open(os.environ['OUTPUT_PATH'], 'w')\n",
    "\n",
    "    n = int(input().strip())\n",
    "\n",
    "    h = list(map(int, input().rstrip().split()))\n",
    "\n",
    "    result = largestRectangle(h)\n",
    "\n",
    "    fptr.write(str(result) + '\\n')\n",
    "\n",
    "    fptr.close()"
   ]
  },
  {
   "cell_type": "markdown",
   "metadata": {},
   "source": [
    "## Truck Tour"
   ]
  },
  {
   "cell_type": "code",
   "execution_count": null,
   "metadata": {},
   "outputs": [],
   "source": [
    "#!/bin/python3\n",
    "\n",
    "import math\n",
    "import os\n",
    "import random\n",
    "import re\n",
    "import sys\n",
    "\n",
    "#\n",
    "# Complete the 'truckTour' function below.\n",
    "#\n",
    "# The function is expected to return an INTEGER.\n",
    "# The function accepts 2D_INTEGER_ARRAY petrolpumps as parameter.\n",
    "#\n",
    "\n",
    "def truckTour(petrolpumps):\n",
    "    # Write your code here\n",
    "    res = tank = 0\n",
    "    for i in range(n):\n",
    "        petrol, dist = petrolpumps[i][0], petrolpumps[i][1]\n",
    "        tank += petrol\n",
    "        if dist <= tank:    tank -= dist\n",
    "        else:\n",
    "            tank = 0\n",
    "            res = i + 1\n",
    "    return res\n",
    "\n",
    "if __name__ == '__main__':\n",
    "    fptr = open(os.environ['OUTPUT_PATH'], 'w')\n",
    "\n",
    "    n = int(input().strip())\n",
    "\n",
    "    petrolpumps = []\n",
    "\n",
    "    for _ in range(n):\n",
    "        petrolpumps.append(list(map(int, input().rstrip().split())))\n",
    "\n",
    "    result = truckTour(petrolpumps)\n",
    "\n",
    "    fptr.write(str(result) + '\\n')\n",
    "\n",
    "    fptr.close()"
   ]
  }
 ],
 "metadata": {
  "kernelspec": {
   "display_name": "Python 3",
   "language": "python",
   "name": "python3"
  },
  "language_info": {
   "codemirror_mode": {
    "name": "ipython",
    "version": 3
   },
   "file_extension": ".py",
   "mimetype": "text/x-python",
   "name": "python",
   "nbconvert_exporter": "python",
   "pygments_lexer": "ipython3",
   "version": "3.6.8"
  }
 },
 "nbformat": 4,
 "nbformat_minor": 2
}
