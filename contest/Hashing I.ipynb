{
 "cells": [
  {
   "cell_type": "code",
   "execution_count": 32,
   "metadata": {},
   "outputs": [
    {
     "name": "stdout",
     "output_type": "stream",
     "text": [
      "[[1, 3, 7, 8], [1, 4, 6, 8], [1, 5, 6, 7], [2, 3, 6, 8], [2, 4, 6, 7], [3, 4, 5, 7]]\n"
     ]
    }
   ],
   "source": [
    "def find_sum(arr, b):\n",
    "    sum_dict = {}\n",
    "    n = len(arr)\n",
    "    res = []\n",
    "    for i in range(n - 1):\n",
    "        for j in range(i + 1, n):\n",
    "            sum_dict[arr[i] + arr[j]] = [i, j]\n",
    "    for i in range(n - 1):\n",
    "        for j in range(i + 1, n):\n",
    "            val = arr[i] + arr[j]\n",
    "            if (b - val) in sum_dict:\n",
    "                p = sum_dict[b - val]\n",
    "                if (p[0] != i and p[0] != j and p[1] != i and p[1] != j):\n",
    "                    if i < j and j < p[0] and p[0] < p[1]:\n",
    "                        res.append([arr[i], arr[j], arr[p[0]], arr[p[1]]])\n",
    "    return res\n",
    "\n",
    "print(find_sum([1, 2, 3, 4, 5, 6, 7, 8], 19))"
   ]
  },
  {
   "cell_type": "code",
   "execution_count": 24,
   "metadata": {},
   "outputs": [
    {
     "name": "stdout",
     "output_type": "stream",
     "text": [
      "Smallest window is : \n",
      "BANC\n"
     ]
    }
   ],
   "source": [
    "no_of_chars = 256\n",
    "\n",
    "def findMinWindow(a, b):\n",
    "    a_len = len(a)\n",
    "    b_len = len(b)\n",
    "    if a_len < b_len:\n",
    "        return \"\"\n",
    "    ascii_b = [0] * no_of_chars\n",
    "    ascii_a = [0] * no_of_chars\n",
    "    for i in range(b_len):\n",
    "        ascii_b[ord(b[i])] += 1\n",
    "    \n",
    "    start, start_index, min_len = 0, -1, float('inf')\n",
    "    count = 0\n",
    "    for j in range(a_len):\n",
    "        ascii_a[ord(a[j])] += 1\n",
    "        if (ascii_b[ord(a[j])] != 0 and ascii_a[ord(a[j])] <= ascii_b[ord(a[j])]):\n",
    "            count += 1\n",
    "        \n",
    "        if count == b_len:\n",
    "            while (ascii_a[ord(a[start])] > ascii_b[ord(a[start])] or ascii_b[ord(a[start])] == 0):\n",
    "                if (ascii_a[ord(a[start])] > ascii_b[ord(a[start])]):\n",
    "                    ascii_a[ord(a[start])] -= 1\n",
    "                start += 1\n",
    "            len_window = j - start + 1\n",
    "            if min_len > len_window:\n",
    "                min_len = len_window\n",
    "                start_index = start\n",
    "    \n",
    "    if start_index == -1:\n",
    "        return \"\"\n",
    "    return a[start_index : start_index + min_len]\n",
    "  \n",
    "if __name__ == \"__main__\": \n",
    "  \n",
    "    a = \"ADOBECODEBANC\"\n",
    "    b = \"ABC\"\n",
    "  \n",
    "    print(\"Smallest window is : \") \n",
    "    print(findMinWindow(a, b))"
   ]
  },
  {
   "cell_type": "code",
   "execution_count": 31,
   "metadata": {},
   "outputs": [
    {
     "name": "stdout",
     "output_type": "stream",
     "text": [
      "[]\n"
     ]
    }
   ],
   "source": [
    "def find_sum(arr, b):\n",
    "    if len(arr) < 4:\n",
    "        return []\n",
    "\n",
    "    arr.sort()\n",
    "    res = set()\n",
    "    revMap = {j:i for i,j in enumerate(arr)}\n",
    "    Max = arr[-1]\n",
    "    for i in range(len(arr)-3):\n",
    "        a = arr[i]\n",
    "        if  4*a > b: break\n",
    "        if a + 3*Max < b: continue\n",
    "        for j in range(i+1, len(arr)-2):\n",
    "            b = arr[j]\n",
    "            if a + 3*b > b: break\n",
    "            if a + b + 2*Max < b: continue\n",
    "            for k in range(j+1, len(arr)-1):\n",
    "                c = arr[k]\n",
    "                need = b - (a+b+c)\n",
    "                if need > Max: continue\n",
    "                if need < c: break\n",
    "                if need in revMap and revMap[need] > k:\n",
    "                    res.add((a,b,c,need))\n",
    "    return [list(item) for item in res]\n",
    "\n",
    "print(find_sum([1, 2, 3, 4, 5, 6, 7, 8], 19))"
   ]
  },
  {
   "cell_type": "code",
   "execution_count": null,
   "metadata": {},
   "outputs": [],
   "source": []
  }
 ],
 "metadata": {
  "kernelspec": {
   "display_name": "Python 3",
   "language": "python",
   "name": "python3"
  },
  "language_info": {
   "codemirror_mode": {
    "name": "ipython",
    "version": 3
   },
   "file_extension": ".py",
   "mimetype": "text/x-python",
   "name": "python",
   "nbconvert_exporter": "python",
   "pygments_lexer": "ipython3",
   "version": "3.6.8"
  }
 },
 "nbformat": 4,
 "nbformat_minor": 2
}
