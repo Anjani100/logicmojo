{
 "cells": [
  {
   "cell_type": "markdown",
   "metadata": {},
   "source": [
    "### Almost Sorted"
   ]
  },
  {
   "cell_type": "code",
   "execution_count": null,
   "metadata": {},
   "outputs": [],
   "source": [
    "#!/bin/python3\n",
    "\n",
    "import math\n",
    "import os\n",
    "import random\n",
    "import re\n",
    "import sys\n",
    "\n",
    "#\n",
    "# Complete the 'almostSorted' function below.\n",
    "#\n",
    "# The function accepts INTEGER_ARRAY arr as parameter.\n",
    "#\n",
    "\n",
    "def isSorted(arr, low, high):\n",
    "    for i in range(low + 1, high + 1):\n",
    "        if arr[i] < arr[i - 1]: return False\n",
    "    return True\n",
    "\n",
    "def almostSorted(arr):\n",
    "    # Write your code here\n",
    "    n = len(arr)\n",
    "    if isSorted(arr, 0, n - 1):\n",
    "        print('yes')\n",
    "        return\n",
    "    sorted_arr = list(sorted(arr))\n",
    "    l, r = 0, n - 1\n",
    "    while l < n and arr[l] == sorted_arr[l]:    l += 1\n",
    "    while r > -1 and arr[r] == sorted_arr[r]:   r -= 1\n",
    "    arr[l], arr[r] = arr[r], arr[l]\n",
    "    if isSorted(arr, l, r):\n",
    "        print('yes')\n",
    "        print('swap', l + 1, r + 1)\n",
    "        return\n",
    "    arr[l], arr[r] = arr[r], arr[l]\n",
    "    sub_arr = list(reversed(arr[l:r + 1]))\n",
    "    if isSorted(sub_arr, 0, len(sub_arr) - 1):\n",
    "        print('yes')\n",
    "        print('reverse', l + 1, r + 1)\n",
    "        return\n",
    "    print('no')\n",
    "\n",
    "if __name__ == '__main__':\n",
    "    n = int(input().strip())\n",
    "\n",
    "    arr = list(map(int, input().rstrip().split()))\n",
    "\n",
    "    almostSorted(arr)\n"
   ]
  },
  {
   "cell_type": "markdown",
   "metadata": {},
   "source": [
    "### Almost Sorted Interval"
   ]
  },
  {
   "cell_type": "code",
   "execution_count": null,
   "metadata": {},
   "outputs": [],
   "source": [
    "# Partially Accepted\n",
    "\n",
    "#!/bin/python3\n",
    "\n",
    "import math\n",
    "import os\n",
    "import random\n",
    "import re\n",
    "import sys\n",
    "\n",
    "#\n",
    "# Complete the 'solve' function below.\n",
    "#\n",
    "# The function is expected to return an INTEGER.\n",
    "# The function accepts INTEGER_ARRAY arr as parameter.\n",
    "#\n",
    "\n",
    "def solve(arr):\n",
    "    # Write your code here\n",
    "    n = len(arr)\n",
    "    count = n\n",
    "    for i in range(n - 1):\n",
    "        smallest = largest = arr[i]\n",
    "        for j in range(i + 1, n):\n",
    "            smallest = min(smallest, arr[j])\n",
    "            largest = max(largest, arr[j])\n",
    "            if smallest == arr[i] and largest == arr[j]:    count += 1\n",
    "    return count\n",
    "\n",
    "if __name__ == '__main__':\n",
    "    fptr = open(os.environ['OUTPUT_PATH'], 'w')\n",
    "\n",
    "    arr_count = int(input().strip())\n",
    "\n",
    "    arr = list(map(int, input().rstrip().split()))\n",
    "\n",
    "    result = solve(arr)\n",
    "\n",
    "    fptr.write(str(result) + '\\n')\n",
    "\n",
    "    fptr.close()\n"
   ]
  }
 ],
 "metadata": {
  "kernelspec": {
   "display_name": "Python 3",
   "language": "python",
   "name": "python3"
  },
  "language_info": {
   "codemirror_mode": {
    "name": "ipython",
    "version": 3
   },
   "file_extension": ".py",
   "mimetype": "text/x-python",
   "name": "python",
   "nbconvert_exporter": "python",
   "pygments_lexer": "ipython3",
   "version": "3.6.8"
  }
 },
 "nbformat": 4,
 "nbformat_minor": 2
}
