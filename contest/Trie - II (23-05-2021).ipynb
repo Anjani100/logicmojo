{
 "cells": [
  {
   "cell_type": "markdown",
   "metadata": {},
   "source": [
    "### Contacts"
   ]
  },
  {
   "cell_type": "code",
   "execution_count": null,
   "metadata": {},
   "outputs": [],
   "source": [
    "#!/bin/python3\n",
    "\n",
    "import math\n",
    "import os\n",
    "import random\n",
    "import re\n",
    "import sys\n",
    "from collections import defaultdict\n",
    "\n",
    "#\n",
    "# Complete the 'contacts' function below.\n",
    "#\n",
    "# The function is expected to return an INTEGER_ARRAY.\n",
    "# The function accepts 2D_STRING_ARRAY queries as parameter.\n",
    "#\n",
    "\n",
    "def contacts(queries):\n",
    "    # Write your code here\n",
    "    res, trie = [], defaultdict(int)\n",
    "    for op, name in queries:\n",
    "        if op == 'add':\n",
    "            for i, _ in enumerate(name):\n",
    "                trie[name[:i + 1]] += 1\n",
    "        else:\n",
    "            res.append(trie[name])\n",
    "    return res\n",
    "\n",
    "if __name__ == '__main__':\n",
    "    fptr = open(os.environ['OUTPUT_PATH'], 'w')\n",
    "\n",
    "    queries_rows = int(input().strip())\n",
    "\n",
    "    queries = []\n",
    "\n",
    "    for _ in range(queries_rows):\n",
    "        queries.append(input().rstrip().split())\n",
    "\n",
    "    result = contacts(queries)\n",
    "\n",
    "    fptr.write('\\n'.join(map(str, result)))\n",
    "    fptr.write('\\n')\n",
    "\n",
    "    fptr.close()\n"
   ]
  },
  {
   "cell_type": "markdown",
   "metadata": {},
   "source": [
    "### No Prefix Set"
   ]
  },
  {
   "cell_type": "code",
   "execution_count": null,
   "metadata": {},
   "outputs": [],
   "source": [
    "#!/bin/python3\n",
    "\n",
    "import math\n",
    "import os\n",
    "import random\n",
    "import re\n",
    "import sys\n",
    "from collections import defaultdict\n",
    "\n",
    "#\n",
    "# Complete the 'noPrefix' function below.\n",
    "#\n",
    "# The function accepts STRING_ARRAY words as parameter.\n",
    "#\n",
    "\n",
    "def noPrefix(words):\n",
    "    # Write your code here\n",
    "    small_trie, large_trie = defaultdict(bool), defaultdict(bool)\n",
    "    for word in words:\n",
    "        if small_trie[word]:\n",
    "            print('BAD SET')\n",
    "            print(word)\n",
    "            return\n",
    "        for i, _ in enumerate(word):\n",
    "            if large_trie[word[:i + 1]]:\n",
    "                print('BAD SET')\n",
    "                print(word)\n",
    "                return\n",
    "            small_trie[word[:i + 1]] = True\n",
    "        large_trie[word] = True\n",
    "    print('GOOD SET')\n",
    "\n",
    "if __name__ == '__main__':\n",
    "    n = int(input().strip())\n",
    "\n",
    "    words = []\n",
    "\n",
    "    for _ in range(n):\n",
    "        words_item = input()\n",
    "        words.append(words_item)\n",
    "\n",
    "    noPrefix(words)\n"
   ]
  }
 ],
 "metadata": {
  "kernelspec": {
   "display_name": "Python 3",
   "language": "python",
   "name": "python3"
  },
  "language_info": {
   "codemirror_mode": {
    "name": "ipython",
    "version": 3
   },
   "file_extension": ".py",
   "mimetype": "text/x-python",
   "name": "python",
   "nbconvert_exporter": "python",
   "pygments_lexer": "ipython3",
   "version": "3.6.8"
  }
 },
 "nbformat": 4,
 "nbformat_minor": 2
}
