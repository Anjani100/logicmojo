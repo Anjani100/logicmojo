{
 "cells": [
  {
   "cell_type": "code",
   "execution_count": 3,
   "metadata": {},
   "outputs": [
    {
     "name": "stdout",
     "output_type": "stream",
     "text": [
      "True\n"
     ]
    }
   ],
   "source": [
    "# Time: O(n)\n",
    "# Space: O(n)\n",
    "\n",
    "def valid_parentheses(s):\n",
    "    def match(o, c):\n",
    "        if o == '(' and c == ')':    return True\n",
    "        if o == '{' and c == '}':    return True\n",
    "        if o == '[' and c == ']':    return True\n",
    "        return False\n",
    "    \n",
    "    stack = []\n",
    "    for c in s:\n",
    "        if c in '({[':    stack.append(c)\n",
    "        else:\n",
    "            if not stack:    return False\n",
    "            if not match(stack.pop(), c):    return False\n",
    "    return len(stack) == 0\n",
    "\n",
    "if __name__=='__main__':\n",
    "    s = '()'\n",
    "    print(valid_parentheses(s))"
   ]
  },
  {
   "cell_type": "code",
   "execution_count": null,
   "metadata": {},
   "outputs": [],
   "source": []
  }
 ],
 "metadata": {
  "kernelspec": {
   "display_name": "Python 3",
   "language": "python",
   "name": "python3"
  },
  "language_info": {
   "codemirror_mode": {
    "name": "ipython",
    "version": 3
   },
   "file_extension": ".py",
   "mimetype": "text/x-python",
   "name": "python",
   "nbconvert_exporter": "python",
   "pygments_lexer": "ipython3",
   "version": "3.6.8"
  }
 },
 "nbformat": 4,
 "nbformat_minor": 2
}
