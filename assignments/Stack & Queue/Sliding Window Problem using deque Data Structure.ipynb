{
 "cells": [
  {
   "cell_type": "code",
   "execution_count": 19,
   "metadata": {},
   "outputs": [
    {
     "name": "stdout",
     "output_type": "stream",
     "text": [
      "[3, 3, 4, 5, 5, 5, 6]\n",
      "[10, 10, 10, 15, 15, 90, 90]\n",
      "[10, 10, 10, 17, 17, 87, 87]\n"
     ]
    }
   ],
   "source": [
    "# Time: O(n)\n",
    "# Space: O(n)\n",
    "\n",
    "from collections import deque\n",
    "\n",
    "def max_k_subarray(nums, k):\n",
    "    res, queue = [], deque()\n",
    "    for i in range(k):\n",
    "        while queue and nums[queue[-1]] <= nums[i]:    queue.pop()\n",
    "        queue.append(i)\n",
    "    for i in range(k, len(nums)):\n",
    "        res.append(nums[queue[0]])\n",
    "        while queue and (queue[0] + k <= i):    queue.popleft()\n",
    "        while queue and nums[queue[-1]] <= nums[i]:    queue.pop()\n",
    "        queue.append(i)\n",
    "    res.append(nums[queue[0]])\n",
    "    return res\n",
    "\n",
    "if __name__=='__main__':\n",
    "    tc = [[[1, 2, 3, 1, 4, 5, 2, 3, 6], 3],\n",
    "          [[8, 5, 10, 7, 9, 4, 15, 12, 90, 13], 4],\n",
    "          [[8, 6, 10, 7, 5, 17, 14, 87, 15], 3]]\n",
    "    for nums, k in tc:\n",
    "        print(max_k_subarray(nums, k))"
   ]
  },
  {
   "cell_type": "code",
   "execution_count": null,
   "metadata": {},
   "outputs": [],
   "source": []
  }
 ],
 "metadata": {
  "kernelspec": {
   "display_name": "Python 3",
   "language": "python",
   "name": "python3"
  },
  "language_info": {
   "codemirror_mode": {
    "name": "ipython",
    "version": 3
   },
   "file_extension": ".py",
   "mimetype": "text/x-python",
   "name": "python",
   "nbconvert_exporter": "python",
   "pygments_lexer": "ipython3",
   "version": "3.6.8"
  }
 },
 "nbformat": 4,
 "nbformat_minor": 2
}
