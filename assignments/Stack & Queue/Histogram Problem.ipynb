{
 "cells": [
  {
   "cell_type": "code",
   "execution_count": 8,
   "metadata": {},
   "outputs": [
    {
     "name": "stdout",
     "output_type": "stream",
     "text": [
      "12\n"
     ]
    }
   ],
   "source": [
    "# Time: O(n)\n",
    "# Space: O(n + n) ~ O(n)\n",
    "\n",
    "def histogram_problem(heights):\n",
    "    heights.append(0)\n",
    "    h = len(heights)\n",
    "    pstack, hstack = [], []\n",
    "    max_area = 0\n",
    "    for i in range(h):\n",
    "        last_width = h + 1\n",
    "        while pstack and hstack[-1] > heights[i]:\n",
    "            last_width = pstack[-1]\n",
    "            max_area = max(max_area, (i - pstack.pop()) * hstack.pop())\n",
    "        if not pstack or hstack[-1] <= heights[i]:\n",
    "            pstack.append(min(i, last_width))\n",
    "            hstack.append(heights[i])\n",
    "    return max_area\n",
    "\n",
    "if __name__=='__main__':\n",
    "    heights = [6, 2, 5, 4, 5, 1, 6]\n",
    "    print(histogram_problem(heights))"
   ]
  },
  {
   "cell_type": "code",
   "execution_count": null,
   "metadata": {},
   "outputs": [],
   "source": []
  }
 ],
 "metadata": {
  "kernelspec": {
   "display_name": "Python 3",
   "language": "python",
   "name": "python3"
  },
  "language_info": {
   "codemirror_mode": {
    "name": "ipython",
    "version": 3
   },
   "file_extension": ".py",
   "mimetype": "text/x-python",
   "name": "python",
   "nbconvert_exporter": "python",
   "pygments_lexer": "ipython3",
   "version": "3.6.8"
  }
 },
 "nbformat": 4,
 "nbformat_minor": 2
}
