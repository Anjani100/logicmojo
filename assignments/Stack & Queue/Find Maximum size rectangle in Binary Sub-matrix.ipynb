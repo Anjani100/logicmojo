{
 "cells": [
  {
   "cell_type": "code",
   "execution_count": 11,
   "metadata": {},
   "outputs": [
    {
     "name": "stdout",
     "output_type": "stream",
     "text": [
      "6\n"
     ]
    }
   ],
   "source": [
    "# Time: O(m * (n + n)) ~ O(m * n)\n",
    "# Space: O(1)\n",
    "\n",
    "def histogram(heights):\n",
    "    max_area = 0\n",
    "    pstack, hstack = [], []\n",
    "    heights.append(0)\n",
    "    h = len(heights)\n",
    "    for i in range(h):\n",
    "        last_width = h + 1\n",
    "        while pstack and hstack[-1] > int(heights[i]):\n",
    "            last_width = pstack[-1]\n",
    "            max_area = max(max_area, (i - pstack.pop()) * hstack.pop())\n",
    "        if not pstack or hstack[-1] <= int(heights[i]):\n",
    "            pstack.append(min(last_width, i))\n",
    "            hstack.append(int(heights[i]))\n",
    "    heights.pop()\n",
    "    return max_area\n",
    "\n",
    "def max_rectangle(matrix):\n",
    "    if not matrix:  return 0\n",
    "    m, n = len(matrix), len(matrix[0])\n",
    "    max_area = histogram(matrix[0])\n",
    "    for i in range(1, m):\n",
    "        for j in range(n):\n",
    "            if int(matrix[i][j]):    matrix[i][j] = int(matrix[i][j]) + int(matrix[i - 1][j])\n",
    "        max_area = max(max_area, histogram(matrix[i]))\n",
    "    return max_area\n",
    "\n",
    "if __name__=='__main__':\n",
    "    matrix = [[\"1\",\"0\",\"1\",\"0\",\"0\"],\n",
    "              [\"1\",\"0\",\"1\",\"1\",\"1\"],\n",
    "              [\"1\",\"1\",\"1\",\"1\",\"1\"],\n",
    "              [\"1\",\"0\",\"0\",\"1\",\"0\"]]\n",
    "    print(max_rectangle(matrix))"
   ]
  },
  {
   "cell_type": "code",
   "execution_count": null,
   "metadata": {},
   "outputs": [],
   "source": []
  }
 ],
 "metadata": {
  "kernelspec": {
   "display_name": "Python 3",
   "language": "python",
   "name": "python3"
  },
  "language_info": {
   "codemirror_mode": {
    "name": "ipython",
    "version": 3
   },
   "file_extension": ".py",
   "mimetype": "text/x-python",
   "name": "python",
   "nbconvert_exporter": "python",
   "pygments_lexer": "ipython3",
   "version": "3.6.8"
  }
 },
 "nbformat": 4,
 "nbformat_minor": 2
}
