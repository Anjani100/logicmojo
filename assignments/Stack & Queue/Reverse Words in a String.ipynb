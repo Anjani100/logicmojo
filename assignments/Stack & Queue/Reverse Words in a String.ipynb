{
 "cells": [
  {
   "cell_type": "code",
   "execution_count": 2,
   "metadata": {},
   "outputs": [
    {
     "name": "stdout",
     "output_type": "stream",
     "text": [
      "blue is sky the\n"
     ]
    }
   ],
   "source": [
    "def reverse_words(s):\n",
    "    res, stack = '', []\n",
    "    s = s.split()\n",
    "    for w in s:    stack.append(w)\n",
    "    while stack:\n",
    "        res += stack.pop() + ' '\n",
    "    return res[:-1]\n",
    "\n",
    "if __name__=='__main__':\n",
    "    s = \"the sky is blue\"\n",
    "    print(reverse_words(s))"
   ]
  },
  {
   "cell_type": "code",
   "execution_count": null,
   "metadata": {},
   "outputs": [],
   "source": []
  }
 ],
 "metadata": {
  "kernelspec": {
   "display_name": "Python 3",
   "language": "python",
   "name": "python3"
  },
  "language_info": {
   "codemirror_mode": {
    "name": "ipython",
    "version": 3
   },
   "file_extension": ".py",
   "mimetype": "text/x-python",
   "name": "python",
   "nbconvert_exporter": "python",
   "pygments_lexer": "ipython3",
   "version": "3.6.8"
  }
 },
 "nbformat": 4,
 "nbformat_minor": 2
}
