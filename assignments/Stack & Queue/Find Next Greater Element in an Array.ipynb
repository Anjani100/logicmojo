{
 "cells": [
  {
   "cell_type": "code",
   "execution_count": 3,
   "metadata": {},
   "outputs": [
    {
     "name": "stdout",
     "output_type": "stream",
     "text": [
      "[3, 4, 4, -1]\n"
     ]
    }
   ],
   "source": [
    "# Time: O(n)\n",
    "# Space: O(n)\n",
    "\n",
    "def next_greater_element(nums):\n",
    "    n = len(nums)\n",
    "    stack = [nums[-1]]\n",
    "    res = [-1] * n\n",
    "    for i in range(n - 2, -1, -1):\n",
    "        while stack and nums[i] >= stack[-1]:\n",
    "            stack.pop()\n",
    "        res[i] = stack[-1] if stack else -1\n",
    "        stack.append(nums[i])\n",
    "    return res\n",
    "\n",
    "if __name__=='__main__':\n",
    "    arr = [1,3,2,4]\n",
    "    print(next_greater_element(arr))"
   ]
  },
  {
   "cell_type": "code",
   "execution_count": null,
   "metadata": {},
   "outputs": [],
   "source": []
  }
 ],
 "metadata": {
  "kernelspec": {
   "display_name": "Python 3",
   "language": "python",
   "name": "python3"
  },
  "language_info": {
   "codemirror_mode": {
    "name": "ipython",
    "version": 3
   },
   "file_extension": ".py",
   "mimetype": "text/x-python",
   "name": "python",
   "nbconvert_exporter": "python",
   "pygments_lexer": "ipython3",
   "version": "3.6.8"
  }
 },
 "nbformat": 4,
 "nbformat_minor": 2
}
