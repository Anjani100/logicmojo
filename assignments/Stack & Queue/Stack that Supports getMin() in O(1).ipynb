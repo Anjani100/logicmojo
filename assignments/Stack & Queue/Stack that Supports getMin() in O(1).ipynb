{
 "cells": [
  {
   "cell_type": "code",
   "execution_count": 7,
   "metadata": {},
   "outputs": [
    {
     "name": "stdout",
     "output_type": "stream",
     "text": [
      "3\n",
      "1\n",
      "2\n",
      "5\n"
     ]
    }
   ],
   "source": [
    "# Time: O(1) for each query\n",
    "# Space: O(n)\n",
    "\n",
    "class MinStack:\n",
    "\n",
    "    def __init__(self):\n",
    "        \"\"\"\n",
    "        initialize your data structure here.\n",
    "        \"\"\"\n",
    "        self.stack = []\n",
    "        self.min = float('-inf')\n",
    "\n",
    "    def push(self, val: int) -> None:\n",
    "        if not self.stack or val >= self.min:\n",
    "            if not self.stack:    self.min = val\n",
    "            self.stack.append(val)\n",
    "        if val < self.min:\n",
    "            self.stack.append(2 * val - self.min)\n",
    "            self.min = val\n",
    "\n",
    "    def pop(self) -> None:\n",
    "        if self.stack[-1] < self.min:\n",
    "            val = self.min\n",
    "            self.min = 2 * self.min - self.stack.pop()\n",
    "            return\n",
    "        self.stack.pop()\n",
    "\n",
    "    def top(self) -> int:\n",
    "        if self.stack[-1] < self.min:\n",
    "            return self.min\n",
    "        return self.stack[-1]\n",
    "\n",
    "    def getMin(self) -> int:\n",
    "        return self.min\n",
    "\n",
    "if __name__=='__main__':\n",
    "    stack = MinStack()\n",
    "    stack.push(3)\n",
    "    stack.push(5)\n",
    "    print(stack.getMin())\n",
    "    stack.push(2)\n",
    "    stack.push(1)\n",
    "    print(stack.getMin())\n",
    "    stack.pop()\n",
    "    print(stack.getMin())\n",
    "    stack.pop()\n",
    "    print(stack.top())"
   ]
  },
  {
   "cell_type": "code",
   "execution_count": null,
   "metadata": {},
   "outputs": [],
   "source": []
  }
 ],
 "metadata": {
  "kernelspec": {
   "display_name": "Python 3",
   "language": "python",
   "name": "python3"
  },
  "language_info": {
   "codemirror_mode": {
    "name": "ipython",
    "version": 3
   },
   "file_extension": ".py",
   "mimetype": "text/x-python",
   "name": "python",
   "nbconvert_exporter": "python",
   "pygments_lexer": "ipython3",
   "version": "3.6.8"
  }
 },
 "nbformat": 4,
 "nbformat_minor": 2
}
