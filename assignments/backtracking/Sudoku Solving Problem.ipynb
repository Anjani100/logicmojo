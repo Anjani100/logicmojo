{
 "cells": [
  {
   "cell_type": "code",
   "execution_count": 40,
   "metadata": {},
   "outputs": [
    {
     "name": "stdout",
     "output_type": "stream",
     "text": [
      "['5', '3', '4', '6', '7', '8', '9', '1', '2']\n",
      "['6', '7', '2', '1', '9', '5', '3', '4', '8']\n",
      "['1', '9', '8', '3', '4', '2', '5', '6', '7']\n",
      "['8', '5', '9', '7', '6', '1', '4', '2', '3']\n",
      "['4', '2', '6', '8', '5', '3', '7', '9', '1']\n",
      "['7', '1', '3', '9', '2', '4', '8', '5', '6']\n",
      "['9', '6', '1', '5', '3', '7', '2', '8', '4']\n",
      "['2', '8', '7', '4', '1', '9', '6', '3', '5']\n",
      "['3', '4', '5', '2', '8', '6', '1', '7', '9']\n"
     ]
    }
   ],
   "source": [
    "def sudoku_solver(board):\n",
    "    def solved(board):\n",
    "        for i in range(n):\n",
    "            if '.' in board[i]:    return False\n",
    "        return True\n",
    "    \n",
    "    def is_safe(board, i, j, val):\n",
    "        if row[i][val] or col[j][val] or cell[cell_number(i, j)][val]:    return False\n",
    "        return True\n",
    "    \n",
    "    def solve_sudoku(board):\n",
    "        if solved(board):    return True\n",
    "        for i in range(n):\n",
    "            for j in range(n):\n",
    "                if board[i][j] == '.':\n",
    "                    res = True\n",
    "                    for k in range(1, 10):\n",
    "                        if is_safe(board, i, j, k):\n",
    "                            res = False\n",
    "                            board[i][j] = str(k)\n",
    "                            row[i][k] = 1\n",
    "                            col[j][k] = 1\n",
    "                            cell[cell_number(i, j)][k] = 1\n",
    "                            if solve_sudoku(board):    return True\n",
    "                            board[i][j] = '.'\n",
    "                            row[i][k] = 0\n",
    "                            col[j][k] = 0\n",
    "                            cell[cell_number(i, j)][k] = 0\n",
    "                    if res or board[i][j] == '.':    return False\n",
    "    n = 9\n",
    "    cell_number = lambda row, col: ((row // 3) * 3) + (col // 3)\n",
    "    row = [[0 for _ in range(10)] for _ in range(10)]\n",
    "    col = [[0 for _ in range(10)] for _ in range(10)]\n",
    "    cell = [[0 for _ in range(10)] for _ in range(10)]\n",
    "    for i in range(n):\n",
    "        for j in range(n):\n",
    "            if board[i][j] != '.':\n",
    "                val = int(board[i][j])\n",
    "                row[i][val] = 1\n",
    "                col[j][val] = 1\n",
    "                cell[cell_number(i, j)][val] = 1\n",
    "    solve_sudoku(board)\n",
    "    return board\n",
    "\n",
    "if __name__=='__main__':\n",
    "    board = [[\"5\",\"3\",\".\",\".\",\"7\",\".\",\".\",\".\",\".\"],\n",
    "             [\"6\",\".\",\".\",\"1\",\"9\",\"5\",\".\",\".\",\".\"],\n",
    "             [\".\",\"9\",\"8\",\".\",\".\",\".\",\".\",\"6\",\".\"],\n",
    "             [\"8\",\".\",\".\",\".\",\"6\",\".\",\".\",\".\",\"3\"],\n",
    "             [\"4\",\".\",\".\",\"8\",\".\",\"3\",\".\",\".\",\"1\"],\n",
    "             [\"7\",\".\",\".\",\".\",\"2\",\".\",\".\",\".\",\"6\"],\n",
    "             [\".\",\"6\",\".\",\".\",\".\",\".\",\"2\",\"8\",\".\"],\n",
    "             [\".\",\".\",\".\",\"4\",\"1\",\"9\",\".\",\".\",\"5\"],\n",
    "             [\".\",\".\",\".\",\".\",\"8\",\".\",\".\",\"7\",\"9\"]]\n",
    "    board = sudoku_solver(board)\n",
    "    for b in board:\n",
    "        print(b)"
   ]
  },
  {
   "cell_type": "code",
   "execution_count": null,
   "metadata": {},
   "outputs": [],
   "source": []
  }
 ],
 "metadata": {
  "kernelspec": {
   "display_name": "Python 3",
   "language": "python",
   "name": "python3"
  },
  "language_info": {
   "codemirror_mode": {
    "name": "ipython",
    "version": 3
   },
   "file_extension": ".py",
   "mimetype": "text/x-python",
   "name": "python",
   "nbconvert_exporter": "python",
   "pygments_lexer": "ipython3",
   "version": "3.6.8"
  }
 },
 "nbformat": 4,
 "nbformat_minor": 2
}
