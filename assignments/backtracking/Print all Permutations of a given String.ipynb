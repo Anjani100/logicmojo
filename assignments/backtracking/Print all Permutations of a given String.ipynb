{
 "cells": [
  {
   "cell_type": "code",
   "execution_count": 12,
   "metadata": {},
   "outputs": [
    {
     "name": "stdout",
     "output_type": "stream",
     "text": [
      "['abc', 'acb', 'bac', 'bca', 'cba', 'cab']\n"
     ]
    }
   ],
   "source": [
    "def permutation(word, low, high):\n",
    "    if low == high:\n",
    "        res.append(''.join(word))\n",
    "        return\n",
    "    for i in range(low, high):\n",
    "        word[i], word[low] = word[low], word[i]\n",
    "        permutation(word, low + 1, high)\n",
    "        word[low], word[i] = word[i], word[low]\n",
    "\n",
    "if __name__=='__main__':\n",
    "    res = []\n",
    "    word = ['a', 'b', 'c']\n",
    "    permutation(word, 0, len(word))\n",
    "    print(res)"
   ]
  },
  {
   "cell_type": "code",
   "execution_count": null,
   "metadata": {},
   "outputs": [],
   "source": []
  }
 ],
 "metadata": {
  "kernelspec": {
   "display_name": "Python 3",
   "language": "python",
   "name": "python3"
  },
  "language_info": {
   "codemirror_mode": {
    "name": "ipython",
    "version": 3
   },
   "file_extension": ".py",
   "mimetype": "text/x-python",
   "name": "python",
   "nbconvert_exporter": "python",
   "pygments_lexer": "ipython3",
   "version": "3.6.8"
  }
 },
 "nbformat": 4,
 "nbformat_minor": 2
}
