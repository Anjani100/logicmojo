{
 "cells": [
  {
   "cell_type": "code",
   "execution_count": 5,
   "metadata": {},
   "outputs": [
    {
     "name": "stdout",
     "output_type": "stream",
     "text": [
      "['Q', '.', '.', '.', '.', '.', '.', '.']\n",
      "['.', '.', '.', '.', 'Q', '.', '.', '.']\n",
      "['.', '.', '.', '.', '.', '.', '.', 'Q']\n",
      "['.', '.', '.', '.', '.', 'Q', '.', '.']\n",
      "['.', '.', 'Q', '.', '.', '.', '.', '.']\n",
      "['.', '.', '.', '.', '.', '.', 'Q', '.']\n",
      "['.', 'Q', '.', '.', '.', '.', '.', '.']\n",
      "['.', '.', '.', 'Q', '.', '.', '.', '.']\n"
     ]
    }
   ],
   "source": [
    "def is_safe(board, i, j, n):\n",
    "    I, J = i, j\n",
    "    i, j = i - 1, j - 1\n",
    "    while i > -1 and j > -1:\n",
    "        if board[i][j] == 'Q':    return False\n",
    "        i -= 1\n",
    "        j -= 1\n",
    "    i, j = I - 1, J\n",
    "    while i > -1:\n",
    "        if board[i][j] == 'Q':    return False\n",
    "        i -= 1\n",
    "    i, j = I - 1, J + 1\n",
    "    while i > -1 and j < n:\n",
    "        if board[i][j] == 'Q':    return False\n",
    "        i -= 1\n",
    "        j += 1\n",
    "    return True\n",
    "\n",
    "def n_queen(board, i, n):\n",
    "    if i == n:    return True\n",
    "    for j in range(n):\n",
    "        if is_safe(board, i, j, n):\n",
    "            board[i][j] = 'Q'\n",
    "            if n_queen(board, i + 1, n):    return True\n",
    "            board[i][j] = '.'\n",
    "    return False\n",
    "\n",
    "if __name__=='__main__':\n",
    "    n = 8\n",
    "    board = [['.' for _ in range(n)] for _ in range(n)]\n",
    "    n_queen(board, 0, n)\n",
    "    for b in board:\n",
    "        print(b)"
   ]
  },
  {
   "cell_type": "code",
   "execution_count": null,
   "metadata": {},
   "outputs": [],
   "source": []
  }
 ],
 "metadata": {
  "kernelspec": {
   "display_name": "Python 3",
   "language": "python",
   "name": "python3"
  },
  "language_info": {
   "codemirror_mode": {
    "name": "ipython",
    "version": 3
   },
   "file_extension": ".py",
   "mimetype": "text/x-python",
   "name": "python",
   "nbconvert_exporter": "python",
   "pygments_lexer": "ipython3",
   "version": "3.6.8"
  }
 },
 "nbformat": 4,
 "nbformat_minor": 2
}
