{
 "cells": [
  {
   "cell_type": "code",
   "execution_count": 4,
   "metadata": {},
   "outputs": [
    {
     "name": "stdout",
     "output_type": "stream",
     "text": [
      "['((()))', '(()())', '(())()', '()(())', '()()()']\n"
     ]
    }
   ],
   "source": [
    "# Time: O(2^n)\n",
    "# Space: O(n)\n",
    "\n",
    "def parenthesis_comb(n):\n",
    "    def combinations(open_p = 0, close_p = 0, s = ''):\n",
    "        if close_p > open_p or open_p > n or close_p > n:    return\n",
    "        if open_p == close_p == n:\n",
    "            res.append(s)\n",
    "            return\n",
    "        combinations(open_p + 1, close_p, s + '(')\n",
    "        combinations(open_p, close_p + 1, s + ')')\n",
    "    \n",
    "    res = []\n",
    "    combinations()\n",
    "    return res\n",
    "\n",
    "if __name__=='__main__':\n",
    "    n = 3\n",
    "    print(parenthesis_comb(n))"
   ]
  },
  {
   "cell_type": "code",
   "execution_count": null,
   "metadata": {},
   "outputs": [],
   "source": []
  }
 ],
 "metadata": {
  "kernelspec": {
   "display_name": "Python 3",
   "language": "python",
   "name": "python3"
  },
  "language_info": {
   "codemirror_mode": {
    "name": "ipython",
    "version": 3
   },
   "file_extension": ".py",
   "mimetype": "text/x-python",
   "name": "python",
   "nbconvert_exporter": "python",
   "pygments_lexer": "ipython3",
   "version": "3.6.8"
  }
 },
 "nbformat": 4,
 "nbformat_minor": 2
}
