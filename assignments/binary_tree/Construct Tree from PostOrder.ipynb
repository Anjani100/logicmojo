{
 "cells": [
  {
   "cell_type": "code",
   "execution_count": 31,
   "metadata": {},
   "outputs": [
    {
     "name": "stdout",
     "output_type": "stream",
     "text": [
      "4 8 2 5 1 6 3 7 \n",
      "4 2 1 7 5 8 3 6 \n",
      "9 3 15 20 7 \n"
     ]
    }
   ],
   "source": [
    "# Time: O(n)\n",
    "# Space: O(n)\n",
    "\n",
    "class Node:\n",
    "    def __init__(self, val):\n",
    "        self.val = val\n",
    "        self.left = self.right = None\n",
    "\n",
    "def inorder(root):\n",
    "    if root:\n",
    "        inorder(root.left)\n",
    "        print(root.val, end = \" \")\n",
    "        inorder(root.right)\n",
    "\n",
    "def postorder_to_bt(postorder, inorder, low, high, idx):\n",
    "    if low > high:    return\n",
    "    node = Node(postorder[idx[0]])\n",
    "    idx[0] -= 1\n",
    "    i = inorder.index(node.val)\n",
    "    node.right = postorder_to_bt(postorder, inorder, i + 1, high, idx)\n",
    "    node.left = postorder_to_bt(postorder, inorder, low, i - 1, idx)\n",
    "    return node\n",
    "\n",
    "if __name__=='__main__':\n",
    "    tc = [[[8, 4, 5, 2, 6, 7, 3, 1],[4, 8, 2, 5, 1, 6, 3, 7]],\n",
    "          [[4, 2, 7, 8, 5, 6, 3, 1],[4, 2, 1, 7, 5, 8, 3, 6]],\n",
    "          [[9,3,15,20,7],[9,3,15,20,7]]]\n",
    "    for post_order, in_order in tc:\n",
    "        root = postorder_to_bt(post_order, in_order, 0, len(post_order) - 1, [-1])\n",
    "        inorder(root)\n",
    "        print()"
   ]
  },
  {
   "cell_type": "code",
   "execution_count": null,
   "metadata": {},
   "outputs": [],
   "source": []
  }
 ],
 "metadata": {
  "kernelspec": {
   "display_name": "Python 3",
   "language": "python",
   "name": "python3"
  },
  "language_info": {
   "codemirror_mode": {
    "name": "ipython",
    "version": 3
   },
   "file_extension": ".py",
   "mimetype": "text/x-python",
   "name": "python",
   "nbconvert_exporter": "python",
   "pygments_lexer": "ipython3",
   "version": "3.6.8"
  }
 },
 "nbformat": 4,
 "nbformat_minor": 2
}
