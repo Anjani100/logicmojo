{
 "cells": [
  {
   "cell_type": "code",
   "execution_count": 6,
   "metadata": {},
   "outputs": [
    {
     "name": "stdout",
     "output_type": "stream",
     "text": [
      "[4, -7, -3, -9, 9, 6, 0, 6, -7, -6, -6, -6, -6, -4]\n"
     ]
    }
   ],
   "source": [
    "# Time: O(n)\n",
    "# Space: O(n)\n",
    "\n",
    "# Definition for a binary tree node.\n",
    "class Node(object):\n",
    "    def __init__(self, x):\n",
    "        self.val = x\n",
    "        self.left = None\n",
    "        self.right = None\n",
    "\n",
    "def preorder(root, res):\n",
    "    if not root:    return root\n",
    "    res.append(root.val)\n",
    "    preorder(root.left, res)\n",
    "    preorder(root.right, res)\n",
    "\n",
    "class Codec:\n",
    "\n",
    "    def serialize(self, root):\n",
    "        \"\"\"Encodes a tree to a single string.\n",
    "        \n",
    "        :type root: Node\n",
    "        :rtype: str\n",
    "        \"\"\"\n",
    "        def preorder(root, traverse):\n",
    "            if not root:\n",
    "                traverse.append(-1001)\n",
    "                return\n",
    "            traverse.append(root.val)\n",
    "            preorder(root.left, traverse)\n",
    "            preorder(root.right, traverse)\n",
    "        traverse = []\n",
    "        preorder(root, traverse)\n",
    "        return traverse\n",
    "\n",
    "    def deserialize(self, data):\n",
    "        \"\"\"Decodes your encoded data to tree.\n",
    "        \n",
    "        :type data: str\n",
    "        :rtype: Node\n",
    "        \"\"\"\n",
    "        def preorder_to_bt(traverse, i):\n",
    "            if traverse[i] == -1001:    return None, i + 1\n",
    "            root = Node(traverse[i])\n",
    "            i += 1\n",
    "            root.left, i = preorder_to_bt(traverse, i)\n",
    "            root.right, i = preorder_to_bt(traverse, i)\n",
    "            return root, i\n",
    "        return preorder_to_bt(data, 0)[0]\n",
    "    \n",
    "\n",
    "if __name__=='__main__':\n",
    "    root = Node(4)\n",
    "    root.left = Node(-7)\n",
    "    root.right = Node(-3)\n",
    "    root.right.left = Node(-9)\n",
    "    root.right.right = Node(-3)\n",
    "    root.right.left.left = Node(9)\n",
    "    root.right.left.right = Node(-7)\n",
    "    root.right.right = Node(-4)\n",
    "    root.right.left.left.left = Node(6)\n",
    "    root.right.left.left.left.left = Node(0)\n",
    "    root.right.left.left.left.right = Node(6)\n",
    "    root.right.left.right.left = Node(-6)\n",
    "    root.right.left.right.left.left = Node(-6)\n",
    "    root.right.left.right.right = Node(-6)\n",
    "    root.right.left.right.right.left = Node(-6)\n",
    "    \n",
    "    # Your Codec object will be instantiated and called as such:\n",
    "    \n",
    "    ser = Codec()\n",
    "    deser = Codec()\n",
    "    ans = deser.deserialize(ser.serialize(root))\n",
    "    res = []\n",
    "    preorder(ans, res)\n",
    "    print(res)"
   ]
  },
  {
   "cell_type": "code",
   "execution_count": null,
   "metadata": {},
   "outputs": [],
   "source": []
  }
 ],
 "metadata": {
  "kernelspec": {
   "display_name": "Python 3",
   "language": "python",
   "name": "python3"
  },
  "language_info": {
   "codemirror_mode": {
    "name": "ipython",
    "version": 3
   },
   "file_extension": ".py",
   "mimetype": "text/x-python",
   "name": "python",
   "nbconvert_exporter": "python",
   "pygments_lexer": "ipython3",
   "version": "3.6.8"
  }
 },
 "nbformat": 4,
 "nbformat_minor": 2
}
