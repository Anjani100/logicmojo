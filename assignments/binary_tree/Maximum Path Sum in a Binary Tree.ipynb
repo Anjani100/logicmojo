{
 "cells": [
  {
   "cell_type": "code",
   "execution_count": 9,
   "metadata": {},
   "outputs": [
    {
     "name": "stdout",
     "output_type": "stream",
     "text": [
      "51\n"
     ]
    }
   ],
   "source": [
    "# Time: O(n)\n",
    "# Space: O(h)\n",
    "\n",
    "max_sum = 0\n",
    "\n",
    "class Node:\n",
    "    def __init__(self, val):\n",
    "        self.val = val\n",
    "        self.left = self.right = None\n",
    "\n",
    "def max_path_sum(root):\n",
    "    global max_sum\n",
    "    if not root:    return 0\n",
    "    left_sum = max_path_sum(root.left)\n",
    "    right_sum = max_path_sum(root.right)\n",
    "    max_single_sum = max(root.val, root.val + left_sum, root.val + right_sum)\n",
    "    max_top = max(max_single_sum, root.val + left_sum + right_sum)\n",
    "    max_sum = max(max_sum, max_top)\n",
    "    return max_single_sum\n",
    "\n",
    "if __name__=='__main__':\n",
    "    root = Node(10) \n",
    "    root.left = Node(2)\n",
    "    root.right = Node(15)\n",
    "    root.left.left = Node(-4)\n",
    "    root.left.right = Node(-6) \n",
    "    root.left.left.left = Node(28)\n",
    "    root.left.left.right = Node(-22)\n",
    "    root.right.right = Node(-25)\n",
    "    root.right.right.left = Node(3)\n",
    "    root.right.right.right = Node(4)\n",
    "    max_path_sum(root)\n",
    "    print(max_sum)"
   ]
  },
  {
   "cell_type": "code",
   "execution_count": null,
   "metadata": {},
   "outputs": [],
   "source": []
  }
 ],
 "metadata": {
  "kernelspec": {
   "display_name": "Python 3",
   "language": "python",
   "name": "python3"
  },
  "language_info": {
   "codemirror_mode": {
    "name": "ipython",
    "version": 3
   },
   "file_extension": ".py",
   "mimetype": "text/x-python",
   "name": "python",
   "nbconvert_exporter": "python",
   "pygments_lexer": "ipython3",
   "version": "3.6.8"
  }
 },
 "nbformat": 4,
 "nbformat_minor": 2
}
