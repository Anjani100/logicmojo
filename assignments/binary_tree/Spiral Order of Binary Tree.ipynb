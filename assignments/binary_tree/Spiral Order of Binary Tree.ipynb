{
 "cells": [
  {
   "cell_type": "code",
   "execution_count": 4,
   "metadata": {},
   "outputs": [
    {
     "name": "stdout",
     "output_type": "stream",
     "text": [
      "[1, 2, 3]\n"
     ]
    }
   ],
   "source": [
    "class Node:\n",
    "    def __init__(self, val):\n",
    "        self.val = val\n",
    "        self.left = self.right = None\n",
    "\n",
    "def spiral_order(root):\n",
    "    front = True\n",
    "    stack = [root]\n",
    "    traverse = []\n",
    "    while stack:\n",
    "        s = []\n",
    "        for i in range(len(stack)):\n",
    "            node = stack.pop()\n",
    "            traverse.append(node.val)\n",
    "            if front:\n",
    "                if node.right:    s.append(node.right)\n",
    "                if node.left:    s.append(node.left)\n",
    "            else:\n",
    "                if node.left:    s.append(node.left)\n",
    "                if node.right:    s.append(node.right)\n",
    "        stack = s[:]\n",
    "        front = not front\n",
    "    return traverse\n",
    "\n",
    "if __name__=='__main__':\n",
    "#     TC: 1\n",
    "#     root = Node(1)  \n",
    "#     root.left = Node(2)  \n",
    "#     root.right = Node(3)  \n",
    "#     root.left.left = Node(7)  \n",
    "#     root.left.right = Node(6)  \n",
    "#     root.right.left = Node(5)  \n",
    "#     root.right.right = Node(4)\n",
    "    \n",
    "#     TC: 2\n",
    "    root = Node(1)  \n",
    "    root.left = Node(2)  \n",
    "    root.right = Node(3)\n",
    "    print(spiral_order(root))"
   ]
  },
  {
   "cell_type": "code",
   "execution_count": 20,
   "metadata": {},
   "outputs": [
    {
     "name": "stdout",
     "output_type": "stream",
     "text": [
      "[1, 2, 3]\n"
     ]
    }
   ],
   "source": [
    "from collections import deque\n",
    "\n",
    "class Node:\n",
    "    def __init__(self, val):\n",
    "        self.val = val\n",
    "        self.left = self.right = None\n",
    "\n",
    "def spiral_order(root):\n",
    "    front = True\n",
    "    s1 = [root]\n",
    "    s2 = []\n",
    "    traverse = []\n",
    "    while s1 or s2:\n",
    "        while s1:\n",
    "            node = s1.pop()\n",
    "            traverse.append(node.val)\n",
    "            if node.right:    s2.append(node.right)\n",
    "            if node.left:    s2.append(node.left)\n",
    "        while s2:\n",
    "            node = s2.pop()\n",
    "            traverse.append(node.val)\n",
    "            if node.left:    s1.append(node.left)\n",
    "            if node.right:    s1.append(node.right)\n",
    "    return traverse\n",
    "\n",
    "if __name__=='__main__':\n",
    "#     TC: 1\n",
    "#     root = Node(1)  \n",
    "#     root.left = Node(2)  \n",
    "#     root.right = Node(3)  \n",
    "#     root.left.left = Node(7)  \n",
    "#     root.left.right = Node(6)  \n",
    "#     root.right.left = Node(5)  \n",
    "#     root.right.right = Node(4)\n",
    "    \n",
    "#     TC: 2\n",
    "    root = Node(1)\n",
    "    root.left = Node(2)\n",
    "    root.right = Node(3)\n",
    "    print(spiral_order(root))"
   ]
  },
  {
   "cell_type": "code",
   "execution_count": null,
   "metadata": {},
   "outputs": [],
   "source": []
  }
 ],
 "metadata": {
  "kernelspec": {
   "display_name": "Python 3",
   "language": "python",
   "name": "python3"
  },
  "language_info": {
   "codemirror_mode": {
    "name": "ipython",
    "version": 3
   },
   "file_extension": ".py",
   "mimetype": "text/x-python",
   "name": "python",
   "nbconvert_exporter": "python",
   "pygments_lexer": "ipython3",
   "version": "3.6.8"
  }
 },
 "nbformat": 4,
 "nbformat_minor": 2
}
