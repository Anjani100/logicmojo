{
 "cells": [
  {
   "cell_type": "code",
   "execution_count": 11,
   "metadata": {},
   "outputs": [
    {
     "name": "stdout",
     "output_type": "stream",
     "text": [
      "True\n"
     ]
    }
   ],
   "source": [
    "# Assignment - Binary Tree to Doubly Linked List Conversion\n",
    "# Time: O(n)\n",
    "# Space: O(1)\n",
    "\n",
    "class Node:\n",
    "    def __init__(self, val):\n",
    "        self.val = val\n",
    "        self.left = self.right = None\n",
    "\n",
    "def height(root):\n",
    "    if not root:\n",
    "        return 0\n",
    "    left, right = height(root.left), height(root.right)\n",
    "    if abs(left - right) > 1:\n",
    "        return -99999\n",
    "    return 1 + max(left, right)\n",
    "\n",
    "if __name__=='__main__':\n",
    "#     root = Node(2)\n",
    "#     root.left = Node(3)\n",
    "#     root.right = Node(4)\n",
    "#     root.left.left = Node(5)\n",
    "#     root.left.right = Node(6)\n",
    "#     root.left.left.left = Node(9)\n",
    "    \n",
    "#     root = Node(2)\n",
    "#     root.left = Node(3)\n",
    "#     root.right = Node(4)\n",
    "#     root.left.left = Node(5)\n",
    "#     root.left.left.left = Node(6)\n",
    "#     root.left.left.left.left = Node(9)\n",
    "    \n",
    "    root = Node(3)\n",
    "    root.left = Node(9)\n",
    "    root.right = Node(20)\n",
    "    root.right.left = Node(15)\n",
    "    root.right.right = Node(7)\n",
    "    print(height(root) >= 0)"
   ]
  },
  {
   "cell_type": "code",
   "execution_count": null,
   "metadata": {},
   "outputs": [],
   "source": []
  }
 ],
 "metadata": {
  "kernelspec": {
   "display_name": "Python 3",
   "language": "python",
   "name": "python3"
  },
  "language_info": {
   "codemirror_mode": {
    "name": "ipython",
    "version": 3
   },
   "file_extension": ".py",
   "mimetype": "text/x-python",
   "name": "python",
   "nbconvert_exporter": "python",
   "pygments_lexer": "ipython3",
   "version": "3.6.8"
  }
 },
 "nbformat": 4,
 "nbformat_minor": 2
}
