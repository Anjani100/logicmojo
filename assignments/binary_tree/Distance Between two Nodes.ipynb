{
 "cells": [
  {
   "cell_type": "code",
   "execution_count": 6,
   "metadata": {},
   "outputs": [
    {
     "name": "stdout",
     "output_type": "stream",
     "text": [
      "4\n"
     ]
    }
   ],
   "source": [
    "# Assignment - Construct Tree from PostOrder\n",
    "# Time: O(N)\n",
    "# Space: O(N)\n",
    "\n",
    "class Node:\n",
    "    def __init__(self, val):\n",
    "        self.val = val\n",
    "        self.left = self.right = None\n",
    "\n",
    "def find_lca(root, node1, node2, found1 = False, found2 = False, lca = None):\n",
    "    if not root or lca:    return found1, found2, lca\n",
    "    fl, sl, lca = find_lca(root.left, node1, node2, found1, found2, lca)\n",
    "    fr, sr, lca = find_lca(root.right, node1, node2, found1, found2, lca)\n",
    "    if root.val == node1:    found1 = True\n",
    "    if root.val == node2:    found2 = True\n",
    "    found1 = found1 or fl or fr\n",
    "    found2 = found2 or sl or sr\n",
    "    if (found1 and found2) and not lca:\n",
    "        lca = root\n",
    "    return found1, found2, lca\n",
    "\n",
    "def find_dist(root, node):\n",
    "    if not root:\n",
    "        return -99999\n",
    "    if root.val == node:    return 0\n",
    "    return 1 + max(find_dist(root.left, node), find_dist(root.right, node))\n",
    "\n",
    "def min_distance(root, node1, node2):\n",
    "    _, _, lca = find_lca(root, node1, node2)\n",
    "    d1 = find_dist(lca, node1)\n",
    "    d2 = find_dist(lca, node2)\n",
    "    return d1 + d2\n",
    "\n",
    "if __name__=='__main__':\n",
    "#     root = Node(3) \n",
    "#     root.left = Node(4) \n",
    "#     root.right = Node(5) \n",
    "#     root.left.left = Node(6) \n",
    "#     root.left.right = Node(7) \n",
    "#     root.right.left = Node(8) \n",
    "#     root.right.right = Node(9) \n",
    "#     root.right.left.right = Node(10)\n",
    "#     print(min_distance(root, 6, 7))\n",
    "    \n",
    "    root = Node(5) \n",
    "    root.left = Node(3) \n",
    "    root.right = Node(6) \n",
    "    root.left.left = Node(2) \n",
    "    root.left.right = Node(4) \n",
    "    root.left.left.left = Node(1) \n",
    "    root.right.right = Node(7) \n",
    "    root.left.right.right = Node(8)\n",
    "    print(min_distance(root, 1, 8))"
   ]
  },
  {
   "cell_type": "code",
   "execution_count": null,
   "metadata": {},
   "outputs": [],
   "source": []
  }
 ],
 "metadata": {
  "kernelspec": {
   "display_name": "Python 3",
   "language": "python",
   "name": "python3"
  },
  "language_info": {
   "codemirror_mode": {
    "name": "ipython",
    "version": 3
   },
   "file_extension": ".py",
   "mimetype": "text/x-python",
   "name": "python",
   "nbconvert_exporter": "python",
   "pygments_lexer": "ipython3",
   "version": "3.6.8"
  }
 },
 "nbformat": 4,
 "nbformat_minor": 2
}
