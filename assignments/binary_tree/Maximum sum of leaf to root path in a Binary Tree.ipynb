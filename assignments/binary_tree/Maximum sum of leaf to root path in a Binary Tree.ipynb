{
 "cells": [
  {
   "cell_type": "code",
   "execution_count": 5,
   "metadata": {},
   "outputs": [
    {
     "name": "stdout",
     "output_type": "stream",
     "text": [
      "9\n"
     ]
    }
   ],
   "source": [
    "# Time: O(n)\n",
    "# Space: O(h)\n",
    "\n",
    "class Node:\n",
    "    def __init__(self, val):\n",
    "        self.val = val\n",
    "        self.left = self.right = None\n",
    "\n",
    "def max_sum_path(root, path_sum = 0, max_sum = 0):\n",
    "    if not root:\n",
    "        max_sum = max(max_sum, path_sum)\n",
    "        return max_sum\n",
    "    path_sum += root.val\n",
    "    max_sum = max_sum_path(root.left, path_sum, max_sum)\n",
    "    max_sum = max_sum_path(root.right, path_sum, max_sum)\n",
    "    return max_sum\n",
    "\n",
    "if __name__=='__main__':\n",
    "#     TC: 1\n",
    "#     root = Node(9)\n",
    "#     root.left = Node(-3)\n",
    "#     root.right = Node(6)\n",
    "#     root.left.left = Node(7)\n",
    "#     root.left.right = Node(-5)\n",
    "    \n",
    "#     TC: 2\n",
    "    root = Node(1)\n",
    "    root.left = Node(2)\n",
    "    root.right = Node(1)\n",
    "    root.left.left = Node(4)\n",
    "    root.left.right = Node(5)\n",
    "    root.right.right = Node(7)\n",
    "    print(max_sum_path(root))"
   ]
  },
  {
   "cell_type": "code",
   "execution_count": null,
   "metadata": {},
   "outputs": [],
   "source": []
  }
 ],
 "metadata": {
  "kernelspec": {
   "display_name": "Python 3",
   "language": "python",
   "name": "python3"
  },
  "language_info": {
   "codemirror_mode": {
    "name": "ipython",
    "version": 3
   },
   "file_extension": ".py",
   "mimetype": "text/x-python",
   "name": "python",
   "nbconvert_exporter": "python",
   "pygments_lexer": "ipython3",
   "version": "3.6.8"
  }
 },
 "nbformat": 4,
 "nbformat_minor": 2
}
