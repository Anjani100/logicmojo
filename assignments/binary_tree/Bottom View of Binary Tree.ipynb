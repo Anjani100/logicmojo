{
 "cells": [
  {
   "cell_type": "code",
   "execution_count": 5,
   "metadata": {},
   "outputs": [
    {
     "name": "stdout",
     "output_type": "stream",
     "text": [
      "[7, 5, 8, 6]\n"
     ]
    }
   ],
   "source": [
    "# Time: O(n)\n",
    "# Space: O(n)\n",
    "\n",
    "from collections import defaultdict\n",
    "\n",
    "class Node:\n",
    "    def __init__(self, val):\n",
    "        self.val = val\n",
    "        self.left = self.right = None\n",
    "\n",
    "def bottom_view(root):\n",
    "    def dfs(root, level = 0, dist = 0):\n",
    "        if not root:    return root\n",
    "        dfs(root.left, level + 1, dist - 1)\n",
    "        if not view[dist] or view[dist][0] <= level:    view[dist] = [level, root.val]\n",
    "        dfs(root.right, level + 1, dist + 1)\n",
    "    view = defaultdict(list)\n",
    "    dfs(root)\n",
    "    res = []\n",
    "    for dist, (level, val) in view.items():\n",
    "        res.append(val)\n",
    "    return res\n",
    "\n",
    "if __name__=='__main__':\n",
    "    root = Node(1)\n",
    "    root.left = Node(2)\n",
    "    root.right = Node(3)\n",
    "    root.left.right = Node(4)\n",
    "    root.right.left = Node(5)\n",
    "    root.right.right = Node(6)\n",
    "    root.right.left.left = Node(7)\n",
    "    root.right.left.right = Node(8)\n",
    "    \n",
    "#     root = Node(20)\n",
    "#     root.left = Node(8)\n",
    "#     root.right = Node(22)\n",
    "#     root.left.left = Node(5)\n",
    "#     root.left.right = Node(3)\n",
    "#     root.right.left = Node(4)\n",
    "#     root.right.right = Node(25)\n",
    "#     root.left.right.left = Node(10)\n",
    "#     root.left.right.right = Node(14)\n",
    "    \n",
    "    print(bottom_view(root))"
   ]
  },
  {
   "cell_type": "code",
   "execution_count": null,
   "metadata": {},
   "outputs": [],
   "source": []
  }
 ],
 "metadata": {
  "kernelspec": {
   "display_name": "Python 3",
   "language": "python",
   "name": "python3"
  },
  "language_info": {
   "codemirror_mode": {
    "name": "ipython",
    "version": 3
   },
   "file_extension": ".py",
   "mimetype": "text/x-python",
   "name": "python",
   "nbconvert_exporter": "python",
   "pygments_lexer": "ipython3",
   "version": "3.6.8"
  }
 },
 "nbformat": 4,
 "nbformat_minor": 2
}
