{
 "cells": [
  {
   "cell_type": "code",
   "execution_count": 5,
   "metadata": {},
   "outputs": [
    {
     "name": "stdout",
     "output_type": "stream",
     "text": [
      "0 4 0 20 0 12 0 "
     ]
    }
   ],
   "source": [
    "# Assignment - Maximum Path Sum in a Binary Tree\n",
    "# Time: O(n)\n",
    "# Space: O(h)\n",
    "\n",
    "class Node:\n",
    "    def __init__(self, val):\n",
    "        self.val = val\n",
    "        self.left = self.right = None\n",
    "\n",
    "def inorder(root):\n",
    "    if root:\n",
    "        inorder(root.left)\n",
    "        print(root.val, end = ' ')\n",
    "        inorder(root.right)\n",
    "\n",
    "def bt_to_sum_tree(root):\n",
    "    if not root:    return 0\n",
    "    left = bt_to_sum_tree(root.left)\n",
    "    right = bt_to_sum_tree(root.right)\n",
    "    subtree_sum = root.val + left + right\n",
    "    root.val = left + right\n",
    "    return subtree_sum\n",
    "\n",
    "if __name__=='__main__':\n",
    "#     Inputs\n",
    "#     TC: 1\n",
    "#     root = Node(10)\n",
    "#     root.left = Node(-3)\n",
    "#     root.right = Node(4)\n",
    "#     root.left.left = Node(9)\n",
    "#     root.left.right = Node(-4)\n",
    "#     root.right.left = Node(6)\n",
    "#     root.right.right = Node(5)\n",
    "    \n",
    "#     TC: 2\n",
    "    root = Node(10)\n",
    "    root.left = Node(-2)\n",
    "    root.right = Node(6)\n",
    "    root.left.left = Node(8)\n",
    "    root.left.right = Node(-4)\n",
    "    root.right.left = Node(7)\n",
    "    root.right.right = Node(5)\n",
    "    bt_to_sum_tree(root)\n",
    "    inorder(root)"
   ]
  },
  {
   "cell_type": "code",
   "execution_count": null,
   "metadata": {},
   "outputs": [],
   "source": []
  }
 ],
 "metadata": {
  "kernelspec": {
   "display_name": "Python 3",
   "language": "python",
   "name": "python3"
  },
  "language_info": {
   "codemirror_mode": {
    "name": "ipython",
    "version": 3
   },
   "file_extension": ".py",
   "mimetype": "text/x-python",
   "name": "python",
   "nbconvert_exporter": "python",
   "pygments_lexer": "ipython3",
   "version": "3.6.8"
  }
 },
 "nbformat": 4,
 "nbformat_minor": 2
}
