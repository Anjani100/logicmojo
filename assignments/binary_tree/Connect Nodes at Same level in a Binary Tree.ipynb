{
 "cells": [
  {
   "cell_type": "code",
   "execution_count": 6,
   "metadata": {},
   "outputs": [
    {
     "name": "stdout",
     "output_type": "stream",
     "text": [
      "9 -> None\n",
      "12 -> None\n",
      "4 -> None\n",
      "6 -> None\n",
      "8 -> None\n",
      "10 -> None\n",
      "12 -> None\n",
      "14 -> None\n",
      "\n",
      "9 -> 14\n",
      "12 -> 8\n",
      "4 -> 10\n",
      "6 -> None\n",
      "8 -> 12\n",
      "10 -> None\n",
      "12 -> None\n",
      "14 -> None\n"
     ]
    }
   ],
   "source": [
    "# Time: O(n)\n",
    "# Space: O(h)\n",
    "\n",
    "class Node:\n",
    "    def __init__(self, val):\n",
    "        self.val = val\n",
    "        self.left = self.right = self.next = None\n",
    "\n",
    "def inorder(root):\n",
    "    if not root:\n",
    "        return root\n",
    "    inorder(root.left)\n",
    "    print(root.val, end=\" -> \")\n",
    "    if root.next:\n",
    "        print(root.next.val)\n",
    "    else:\n",
    "        print(\"None\")\n",
    "    inorder(root.right)\n",
    "\n",
    "def connect(root):\n",
    "    if root.left:    return root.left\n",
    "    if root.right:   return root.right\n",
    "    if root.next:    return connect(root.next)\n",
    "    return None\n",
    "\n",
    "def connect_nodes(root):\n",
    "    if not root:    return root\n",
    "    if root.left and root.right:\n",
    "        root.left.next = root.right\n",
    "    elif root.next and root.left:\n",
    "        root.left.next = connect(root.next)\n",
    "    if root.next and root.right:\n",
    "        root.right.next = connect(root.next)\n",
    "    connect_nodes(root.right)\n",
    "    connect_nodes(root.left)\n",
    "\n",
    "if __name__=='__main__':\n",
    "    root = Node(6)\n",
    "    root.left = Node(4)\n",
    "    root.left.left = Node(12)\n",
    "    root.left.left.left = Node(9)\n",
    "    root.right = Node(10)\n",
    "    root.right.left = Node(8)\n",
    "    root.right.right = Node(12)\n",
    "    root.right.right.right = Node(14)\n",
    "    inorder(root)\n",
    "    print()\n",
    "    connect_nodes(root)\n",
    "    inorder(root)"
   ]
  },
  {
   "cell_type": "code",
   "execution_count": null,
   "metadata": {},
   "outputs": [],
   "source": []
  }
 ],
 "metadata": {
  "kernelspec": {
   "display_name": "Python 3",
   "language": "python",
   "name": "python3"
  },
  "language_info": {
   "codemirror_mode": {
    "name": "ipython",
    "version": 3
   },
   "file_extension": ".py",
   "mimetype": "text/x-python",
   "name": "python",
   "nbconvert_exporter": "python",
   "pygments_lexer": "ipython3",
   "version": "3.6.8"
  }
 },
 "nbformat": 4,
 "nbformat_minor": 2
}
