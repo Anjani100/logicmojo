{
 "cells": [
  {
   "cell_type": "code",
   "execution_count": 1,
   "metadata": {},
   "outputs": [
    {
     "name": "stdout",
     "output_type": "stream",
     "text": [
      "[4, 20]\n"
     ]
    }
   ],
   "source": [
    "# BFS-Approach -> Two-pass solution\n",
    "# Time: O(n)\n",
    "# Space: O(n)\n",
    "\n",
    "from collections import deque\n",
    "\n",
    "class Node:\n",
    "    def __init__(self, val):\n",
    "        self.val = val\n",
    "        self.left = self.right = None\n",
    "\n",
    "def find_nodes_k_dist(root, target, k):\n",
    "    def dfs(root, parent = None):\n",
    "        if not root:    return root\n",
    "        root.parent = parent\n",
    "        dfs(root.left, root)\n",
    "        dfs(root.right, root)\n",
    "\n",
    "    dfs(root)\n",
    "    res = []\n",
    "    seen = set()\n",
    "    seen.add(target)\n",
    "    queue = deque([[target, k]])\n",
    "    while queue:\n",
    "        node, k = queue.popleft()\n",
    "        if not k:   res.append(node.val)\n",
    "        for ptr in node.left, node.right, node.parent:\n",
    "            if not ptr or ptr in seen:  continue\n",
    "            queue.append([ptr, k - 1])\n",
    "            seen.add(ptr)\n",
    "    return res\n",
    "\n",
    "if __name__=='__main__':\n",
    "    root = Node(20)\n",
    "    root.left = Node(8)\n",
    "    root.right = Node(22)\n",
    "    root.left.left = Node(4)\n",
    "    root.left.right = Node(12)\n",
    "    root.left.right.left = Node(10)\n",
    "    root.left.right.right = Node(14)\n",
    "    target = root.left.right\n",
    "    print(find_nodes_k_dist(root, target, 2))"
   ]
  },
  {
   "cell_type": "code",
   "execution_count": 3,
   "metadata": {},
   "outputs": [
    {
     "name": "stdout",
     "output_type": "stream",
     "text": [
      "[19, 11, 9, 23]\n"
     ]
    }
   ],
   "source": [
    "# DFS-Approach -> One-pass solution\n",
    "# Time: O(n)\n",
    "# Space: O(n)\n",
    "\n",
    "class Node:\n",
    "    def __init__(self, val):\n",
    "        self.val = val\n",
    "        self.left = self.right = None\n",
    "\n",
    "def print_down(node, k, res):\n",
    "    if not node:    return\n",
    "    if not k:\n",
    "        res.append(node.val)\n",
    "        return\n",
    "    print_down(node.left, k - 1, res)\n",
    "    print_down(node.right, k - 1, res)\n",
    "\n",
    "def find_nodes_k_dist(node, target, k, res):\n",
    "    if not node:    return -1\n",
    "    if node == target:\n",
    "        print_down(target, k, res)\n",
    "        return 1\n",
    "    dleft = find_nodes_k_dist(node.left, target, k, res)\n",
    "    if dleft != -1:\n",
    "        if dleft == k:\n",
    "            res.append(node.val)\n",
    "        else:\n",
    "            print_down(node.right, k - dleft - 1, res)\n",
    "        return 1 + dleft\n",
    "    dright = find_nodes_k_dist(node.right, target, k, res)\n",
    "    if dright != -1:\n",
    "        if dright == k:\n",
    "            res.append(node.val)\n",
    "        else:\n",
    "            print_down(node.left, k - dright - 1, res)\n",
    "        return 1 + dright\n",
    "    return -1\n",
    "\n",
    "if __name__=='__main__':\n",
    "#     root = Node(20)\n",
    "#     root.left = Node(8)\n",
    "#     root.right = Node(22)\n",
    "#     root.left.left = Node(4)\n",
    "#     root.left.right = Node(12)\n",
    "#     root.left.right.left = Node(10)\n",
    "#     root.left.right.right = Node(14)\n",
    "#     target = root.left.right\n",
    "    \n",
    "    root = Node(1)\n",
    "    root.left = Node(2)\n",
    "    root.left.left = Node(4)\n",
    "    root.left.left.left = Node(9)\n",
    "    root.left.right = Node(5)\n",
    "    root.left.right.left = Node(6)\n",
    "    root.left.right.left.left = Node(12)\n",
    "    root.left.right.left.left.right = Node(19)\n",
    "    root.left.right.right = Node(7)\n",
    "    root.left.right.right.right = Node(10)\n",
    "    root.left.right.right.right.right = Node(11)\n",
    "    root.right = Node(23)\n",
    "    root.right.right = Node(32)\n",
    "    target = root.left.right\n",
    "    \n",
    "    res = []\n",
    "    find_nodes_k_dist(root, target, 3, res)\n",
    "    print(res)"
   ]
  },
  {
   "cell_type": "code",
   "execution_count": null,
   "metadata": {},
   "outputs": [],
   "source": []
  }
 ],
 "metadata": {
  "kernelspec": {
   "display_name": "Python 3",
   "language": "python",
   "name": "python3"
  },
  "language_info": {
   "codemirror_mode": {
    "name": "ipython",
    "version": 3
   },
   "file_extension": ".py",
   "mimetype": "text/x-python",
   "name": "python",
   "nbconvert_exporter": "python",
   "pygments_lexer": "ipython3",
   "version": "3.6.8"
  }
 },
 "nbformat": 4,
 "nbformat_minor": 2
}
