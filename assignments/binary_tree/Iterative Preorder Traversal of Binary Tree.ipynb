{
 "cells": [
  {
   "cell_type": "code",
   "execution_count": 5,
   "metadata": {},
   "outputs": [
    {
     "name": "stdout",
     "output_type": "stream",
     "text": [
      "[1, 2, 3]\n"
     ]
    }
   ],
   "source": [
    "# Time: O(n)\n",
    "# Space: O(n)\n",
    "\n",
    "class Node:\n",
    "    def __init__(self, val):\n",
    "        self.val = val\n",
    "        self.left = self.right = None\n",
    "\n",
    "def preorder(root):\n",
    "    stack = [root]\n",
    "    traverse = []\n",
    "    while stack:\n",
    "        for _ in range(len(stack)):\n",
    "            node = stack.pop()\n",
    "            traverse.append(node.val)\n",
    "            if node.right:    stack.append(node.right)\n",
    "            if node.left:    stack.append(node.left)\n",
    "    return traverse\n",
    "\n",
    "if __name__=='__main__':\n",
    "#     TC: 1\n",
    "#     root = Node(6)\n",
    "#     root.left = Node(4)\n",
    "#     root.right = Node(10)\n",
    "#     root.left.right = Node(5)\n",
    "#     root.right.right = Node(12)\n",
    "#     root.right.left = Node(8)\n",
    "    \n",
    "#     TC: 2\n",
    "    root = Node(1)\n",
    "    root.right = Node(2)\n",
    "    root.right.left = Node(3)\n",
    "    \n",
    "    print(preorder(root))"
   ]
  },
  {
   "cell_type": "code",
   "execution_count": null,
   "metadata": {},
   "outputs": [],
   "source": []
  }
 ],
 "metadata": {
  "kernelspec": {
   "display_name": "Python 3",
   "language": "python",
   "name": "python3"
  },
  "language_info": {
   "codemirror_mode": {
    "name": "ipython",
    "version": 3
   },
   "file_extension": ".py",
   "mimetype": "text/x-python",
   "name": "python",
   "nbconvert_exporter": "python",
   "pygments_lexer": "ipython3",
   "version": "3.6.8"
  }
 },
 "nbformat": 4,
 "nbformat_minor": 2
}
