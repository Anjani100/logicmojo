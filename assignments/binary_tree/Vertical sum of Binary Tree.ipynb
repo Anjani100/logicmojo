{
 "cells": [
  {
   "cell_type": "code",
   "execution_count": 5,
   "metadata": {},
   "outputs": [
    {
     "name": "stdout",
     "output_type": "stream",
     "text": [
      "9 6 11 6 "
     ]
    }
   ],
   "source": [
    "class Node:\n",
    "    def __init__(self, val):\n",
    "        self.val = val\n",
    "        self.left = self.right = None\n",
    "\n",
    "def vertical_sum(root, v_sum, dist = 0):\n",
    "    if not root:    return root\n",
    "    vertical_sum(root.left, v_sum, dist - 1)\n",
    "    if v_sum.get(dist):    v_sum[dist] += root.val\n",
    "    else:    v_sum[dist] = root.val\n",
    "    vertical_sum(root.right, v_sum, dist + 1)\n",
    "\n",
    "if __name__=='__main__':\n",
    "    root = Node(1)\n",
    "    root.left = Node(2)\n",
    "    root.right = Node(3)\n",
    "    root.right.left = Node(5)\n",
    "    root.right.right = Node(6)\n",
    "    root.right.left.left = Node(7)\n",
    "    root.right.left.right = Node(8)\n",
    "    v_sum = {}\n",
    "    vertical_sum(root, v_sum)\n",
    "    dist = sorted(v_sum.keys())\n",
    "    for d in dist:\n",
    "        print(v_sum[d], end = ' ')"
   ]
  },
  {
   "cell_type": "code",
   "execution_count": 12,
   "metadata": {},
   "outputs": [
    {
     "name": "stdout",
     "output_type": "stream",
     "text": [
      "9 6 11 6 "
     ]
    }
   ],
   "source": [
    "# Space-Optimized approach\n",
    "\n",
    "class LNode:\n",
    "    def __init__(self, val, prev = None, nnext = None):\n",
    "        self.val = val\n",
    "        self.prev = prev\n",
    "        self.next = nnext\n",
    "\n",
    "class Node:\n",
    "    def __init__(self, val):\n",
    "        self.val = val\n",
    "        self.left = self.right = None\n",
    "\n",
    "def vertical_sum(root, node):\n",
    "    if not root:    return root\n",
    "    node.val += root.val\n",
    "    if root.left and not node.prev:    node.prev = LNode(0, None, node)\n",
    "    vertical_sum(root.left, node.prev)\n",
    "    if root.right and not node.next:    node.next = LNode(0, node, None)\n",
    "    vertical_sum(root.right, node.next)\n",
    "\n",
    "if __name__=='__main__':\n",
    "    root = Node(1)\n",
    "    root.left = Node(2)\n",
    "    root.right = Node(3)\n",
    "    root.right.left = Node(5)\n",
    "    root.right.right = Node(6)\n",
    "    root.right.left.left = Node(7)\n",
    "    root.right.left.right = Node(8)\n",
    "    head = LNode(0)\n",
    "    vertical_sum(root, head)\n",
    "    while head.prev:\n",
    "        head = head.prev\n",
    "    while head:\n",
    "        print(head.val, end = ' ')\n",
    "        head = head.next"
   ]
  },
  {
   "cell_type": "code",
   "execution_count": null,
   "metadata": {},
   "outputs": [],
   "source": []
  }
 ],
 "metadata": {
  "kernelspec": {
   "display_name": "Python 3",
   "language": "python",
   "name": "python3"
  },
  "language_info": {
   "codemirror_mode": {
    "name": "ipython",
    "version": 3
   },
   "file_extension": ".py",
   "mimetype": "text/x-python",
   "name": "python",
   "nbconvert_exporter": "python",
   "pygments_lexer": "ipython3",
   "version": "3.6.8"
  }
 },
 "nbformat": 4,
 "nbformat_minor": 2
}
