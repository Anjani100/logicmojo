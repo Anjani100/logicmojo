{
 "cells": [
  {
   "cell_type": "code",
   "execution_count": 4,
   "metadata": {},
   "outputs": [
    {
     "name": "stdout",
     "output_type": "stream",
     "text": [
      "6\n"
     ]
    }
   ],
   "source": [
    "class Node:\n",
    "    def __init__(self, val):\n",
    "        self.val = val\n",
    "        self.left = self.right = None\n",
    "\n",
    "def diameter(root, dia):\n",
    "    if not root:    return 0, dia\n",
    "    left, dia = diameter(root.left, dia)\n",
    "    right, dia = diameter(root.right, dia)\n",
    "    dia = max(dia, 1 + left + right)\n",
    "    return 1 + max(left, right), dia\n",
    "\n",
    "if __name__=='__main__':\n",
    "    root = Node(1)\n",
    "    root.left = Node(2)\n",
    "    root.right = Node(3)\n",
    "    root.left.right = Node(4)\n",
    "    root.right.left = Node(5)\n",
    "    root.right.right = Node(6)\n",
    "    root.right.left.left = Node(7)\n",
    "    root.right.left.right = Node(8)\n",
    "    _, dia = diameter(root, 0)\n",
    "    print(dia)"
   ]
  },
  {
   "cell_type": "code",
   "execution_count": null,
   "metadata": {},
   "outputs": [],
   "source": []
  }
 ],
 "metadata": {
  "kernelspec": {
   "display_name": "Python 3",
   "language": "python",
   "name": "python3"
  },
  "language_info": {
   "codemirror_mode": {
    "name": "ipython",
    "version": 3
   },
   "file_extension": ".py",
   "mimetype": "text/x-python",
   "name": "python",
   "nbconvert_exporter": "python",
   "pygments_lexer": "ipython3",
   "version": "3.6.8"
  }
 },
 "nbformat": 4,
 "nbformat_minor": 2
}
