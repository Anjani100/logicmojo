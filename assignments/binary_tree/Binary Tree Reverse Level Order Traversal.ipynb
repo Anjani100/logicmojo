{
 "cells": [
  {
   "cell_type": "code",
   "execution_count": 1,
   "metadata": {},
   "outputs": [
    {
     "name": "stdout",
     "output_type": "stream",
     "text": [
      "[8, 12, 16, 25, 10, 20, 15]\n"
     ]
    }
   ],
   "source": [
    "from collections import deque\n",
    "\n",
    "class Node:\n",
    "    def __init__(self, val):\n",
    "        self.val = val\n",
    "        self.left = self.right = None\n",
    "\n",
    "def reverse_level_order(root):\n",
    "    queue = deque([root])\n",
    "    traverse = []\n",
    "    while queue:\n",
    "        level = []\n",
    "        for i in range(len(queue)):\n",
    "            node = queue.popleft()\n",
    "            level.append(node.val)\n",
    "            if node.left:    queue.append(node.left)\n",
    "            if node.right:   queue.append(node.right)\n",
    "        traverse = level + traverse\n",
    "    return traverse\n",
    "\n",
    "if __name__=='__main__':\n",
    "    root = Node(15)\n",
    "    root.left = Node(10)\n",
    "    root.right = Node(20)\n",
    "    root.left.left = Node(8)\n",
    "    root.left.right = Node(12)\n",
    "    root.right.left = Node(16)\n",
    "    root.right.right = Node(25)\n",
    "    print(reverse_level_order(root))"
   ]
  },
  {
   "cell_type": "code",
   "execution_count": null,
   "metadata": {},
   "outputs": [],
   "source": []
  }
 ],
 "metadata": {
  "kernelspec": {
   "display_name": "Python 3",
   "language": "python",
   "name": "python3"
  },
  "language_info": {
   "codemirror_mode": {
    "name": "ipython",
    "version": 3
   },
   "file_extension": ".py",
   "mimetype": "text/x-python",
   "name": "python",
   "nbconvert_exporter": "python",
   "pygments_lexer": "ipython3",
   "version": "3.6.8"
  }
 },
 "nbformat": 4,
 "nbformat_minor": 2
}
