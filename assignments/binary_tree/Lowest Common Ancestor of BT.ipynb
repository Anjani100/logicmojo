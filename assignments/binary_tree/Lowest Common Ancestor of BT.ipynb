{
 "cells": [
  {
   "cell_type": "code",
   "execution_count": 22,
   "metadata": {},
   "outputs": [
    {
     "name": "stdout",
     "output_type": "stream",
     "text": [
      "3\n"
     ]
    }
   ],
   "source": [
    "# Assignment - Bottom View of Binary Tree\n",
    "# Time: O(n)\n",
    "# Space: O(n)\n",
    "\n",
    "class Node:\n",
    "    def __init__(self, val):\n",
    "        self.val = val\n",
    "        self.left = self.right = None\n",
    "\n",
    "def find_lca(root, node1, node2):\n",
    "    def dfs(root, node1, node2, first = False, second = False, lca = None):\n",
    "        if not root or lca:    return first, second, lca\n",
    "        fl, sl, lca = dfs(root.left, node1, node2, first, second, lca)\n",
    "        fr, sr, lca = dfs(root.right, node1, node2, first, second, lca)\n",
    "        if root.val == node1:    first = True\n",
    "        if root.val == node2:    second = True\n",
    "        first = first or fl or fr\n",
    "        second = second or sl or sr\n",
    "        if first and second:\n",
    "            if not lca:    lca = root\n",
    "            return first, second, lca\n",
    "        return first, second, lca\n",
    "    lca = dfs(root, node1, node2)\n",
    "    return lca[2] if lca else None\n",
    "\n",
    "if __name__=='__main__':\n",
    "    root = Node(3)\n",
    "    root.left = Node(4)\n",
    "    root.right = Node(5)\n",
    "    root.left.left = Node(6)\n",
    "    root.left.right = Node(7)\n",
    "    root.right.left = Node(8)\n",
    "    root.right.right = Node(9)\n",
    "    lca = find_lca(root, 4, 9)\n",
    "    if lca:    print(lca.val)\n",
    "    else:    print(lca)"
   ]
  },
  {
   "cell_type": "code",
   "execution_count": null,
   "metadata": {},
   "outputs": [],
   "source": []
  }
 ],
 "metadata": {
  "kernelspec": {
   "display_name": "Python 3",
   "language": "python",
   "name": "python3"
  },
  "language_info": {
   "codemirror_mode": {
    "name": "ipython",
    "version": 3
   },
   "file_extension": ".py",
   "mimetype": "text/x-python",
   "name": "python",
   "nbconvert_exporter": "python",
   "pygments_lexer": "ipython3",
   "version": "3.6.8"
  }
 },
 "nbformat": 4,
 "nbformat_minor": 2
}
