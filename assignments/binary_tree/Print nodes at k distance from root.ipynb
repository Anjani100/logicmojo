{
 "cells": [
  {
   "cell_type": "code",
   "execution_count": 12,
   "metadata": {},
   "outputs": [
    {
     "name": "stdout",
     "output_type": "stream",
     "text": [
      "4\n",
      "5\n",
      "8\n"
     ]
    }
   ],
   "source": [
    "# Time: O(n)\n",
    "# Space: O(n) for recursion stack\n",
    "\n",
    "class Node:\n",
    "    def __init__(self, val):\n",
    "        self.val = val\n",
    "        self.left = None\n",
    "        self.right = None\n",
    "\n",
    "def print_k_nodes(root, k):\n",
    "    if not root:    return root\n",
    "    print_k_nodes(root.left, k - 1)\n",
    "    if k == 0:\n",
    "        print(root.val)\n",
    "    print_k_nodes(root.right, k - 1)\n",
    "\n",
    "if __name__=='__main__':\n",
    "#     root = Node(1)\n",
    "#     root.left = Node(2)\n",
    "#     root.left.left = Node(4)\n",
    "#     root.left.left.left = Node(9)\n",
    "#     root.left.right = Node(5)\n",
    "#     root.left.right.left = Node(6)\n",
    "#     root.left.right.left.left = Node(12)\n",
    "#     root.left.right.left.left.right = Node(19)\n",
    "#     root.left.right.right = Node(7)\n",
    "#     root.left.right.right.right = Node(10)\n",
    "#     root.left.right.right.right.right = Node(11)\n",
    "#     root.right = Node(23)\n",
    "#     root.right.right = Node(32)\n",
    "    root = Node(1)\n",
    "    root.left = Node(2)\n",
    "    root.right = Node(3)\n",
    "    root.left.left = Node(4)\n",
    "    root.left.right = Node(5)\n",
    "    root.right.left = Node(8)\n",
    "    print_k_nodes(root, 2)"
   ]
  },
  {
   "cell_type": "code",
   "execution_count": null,
   "metadata": {},
   "outputs": [],
   "source": []
  }
 ],
 "metadata": {
  "kernelspec": {
   "display_name": "Python 3",
   "language": "python",
   "name": "python3"
  },
  "language_info": {
   "codemirror_mode": {
    "name": "ipython",
    "version": 3
   },
   "file_extension": ".py",
   "mimetype": "text/x-python",
   "name": "python",
   "nbconvert_exporter": "python",
   "pygments_lexer": "ipython3",
   "version": "3.6.8"
  }
 },
 "nbformat": 4,
 "nbformat_minor": 2
}
