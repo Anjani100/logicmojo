{
 "cells": [
  {
   "cell_type": "code",
   "execution_count": 11,
   "metadata": {},
   "outputs": [
    {
     "name": "stdout",
     "output_type": "stream",
     "text": [
      "[1, 2, 4, 8, 12, 13, 10, 6, 14, 11, 7, 3]\n"
     ]
    }
   ],
   "source": [
    "# Time: O(n)\n",
    "# Space: O(n)\n",
    "\n",
    "class Node:\n",
    "    def __init__(self, val):\n",
    "        self.val = val\n",
    "        self.left = self.right = None\n",
    "\n",
    "def print_boundary_nodes(root):\n",
    "    def print_left_boundary(root):\n",
    "        if not root:    return root\n",
    "        if not root.left and not root.right:\n",
    "            return\n",
    "        res.append(root.val)\n",
    "        if root.left:\n",
    "            print_left_boundary(root.left)\n",
    "        elif root.right:\n",
    "            print_left_boundary(root.right)\n",
    "    \n",
    "    def print_leaf_nodes(root):\n",
    "        if not root:    return root\n",
    "        if not root.left and not root.right:\n",
    "            res.append(root.val)\n",
    "            return\n",
    "        print_leaf_nodes(root.left)\n",
    "        print_leaf_nodes(root.right)\n",
    "    \n",
    "    def print_right_boundary(root):\n",
    "        if not root:    return root\n",
    "        if not root.left and not root.right:\n",
    "            return\n",
    "        if root.right:\n",
    "            print_right_boundary(root.right)\n",
    "        elif root.left:\n",
    "            print_right_boundary(root.left)\n",
    "        res.append(root.val)\n",
    "    \n",
    "    res = []\n",
    "    print_left_boundary(root)\n",
    "    print_leaf_nodes(root)\n",
    "    print_right_boundary(root.right)\n",
    "    return res\n",
    "\n",
    "if __name__=='__main__':\n",
    "#     root = Node(1)\n",
    "#     root.left = Node(2)\n",
    "#     root.right = Node(3)\n",
    "    \n",
    "#     root = Node(1)\n",
    "#     root.left = Node(2)\n",
    "#     root.left.right = Node(5)\n",
    "#     root.left.right.left = Node(8)\n",
    "#     root.left.right.right = Node(4)\n",
    "#     root.right = Node(3)\n",
    "#     root.right.right = Node(7)\n",
    "#     root.right.right.left = Node(17)\n",
    "#     root.right.left = Node(6)\n",
    "#     root.right.left.right = Node(16)\n",
    "    \n",
    "    root = Node(1)\n",
    "    root.left = Node(2)\n",
    "    root.right = Node(3)\n",
    "    root.left.left = Node(4)\n",
    "    root.left.right = Node(5)\n",
    "    root.right.left = Node(6)\n",
    "    root.right.right = Node(7)\n",
    "    root.left.left.left = Node(8)\n",
    "    root.left.left.right = Node(9)\n",
    "    root.left.right.right = Node(10)\n",
    "    root.right.right.left = Node(11)\n",
    "    root.left.left.right.left = Node(12)\n",
    "    root.left.left.right.right = Node(13)\n",
    "    root.right.right.left.left = Node(14)\n",
    "    \n",
    "    print(print_boundary_nodes(root))"
   ]
  },
  {
   "cell_type": "code",
   "execution_count": null,
   "metadata": {},
   "outputs": [],
   "source": []
  }
 ],
 "metadata": {
  "kernelspec": {
   "display_name": "Python 3",
   "language": "python",
   "name": "python3"
  },
  "language_info": {
   "codemirror_mode": {
    "name": "ipython",
    "version": 3
   },
   "file_extension": ".py",
   "mimetype": "text/x-python",
   "name": "python",
   "nbconvert_exporter": "python",
   "pygments_lexer": "ipython3",
   "version": "3.6.8"
  }
 },
 "nbformat": 4,
 "nbformat_minor": 2
}
