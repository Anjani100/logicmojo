{
 "cells": [
  {
   "cell_type": "code",
   "execution_count": 6,
   "metadata": {},
   "outputs": [
    {
     "name": "stdout",
     "output_type": "stream",
     "text": [
      "3\n"
     ]
    }
   ],
   "source": [
    "# Time: O(n)\n",
    "# Space: O(h)\n",
    "\n",
    "from collections import deque\n",
    "\n",
    "class Node:\n",
    "    def __init__(self, val):\n",
    "        self.val = val\n",
    "        self.left = self.right = None\n",
    "\n",
    "def find_right_node(root, key):\n",
    "    if not root or root.val == key:    return -1\n",
    "    queue = deque([root])\n",
    "    found = False\n",
    "    while queue:\n",
    "        for _ in range(len(queue)):\n",
    "            node = queue.popleft()\n",
    "            if node.left:\n",
    "                if found:    return node.left.val\n",
    "                if node.left.val == key:    found = True\n",
    "                queue.append(node.left)\n",
    "            if node.right:\n",
    "                if found:    return node.right.val\n",
    "                if node.right.val == key:    found = True\n",
    "                queue.append(node.right)\n",
    "        if found:    return None\n",
    "\n",
    "if __name__=='__main__':\n",
    "#     Inputs\n",
    "#     TC: 1\n",
    "#     root = Node(1)\n",
    "#     root.left = Node(2)\n",
    "#     root.right = Node(3)\n",
    "#     root.left.left = Node(4)\n",
    "#     root.left.right = Node(5)\n",
    "#     root.right.left = Node(6)\n",
    "#     root.right.left.left = Node(7)\n",
    "#     root.right.left.right = Node(8)\n",
    "#     print(find_right_node(root, 5))\n",
    "    \n",
    "#     TC: 2\n",
    "#     root = Node(1)\n",
    "#     root.left = Node(2)\n",
    "#     root.right = Node(3)\n",
    "#     root.left.left = Node(4)\n",
    "#     root.left.right = Node(5)\n",
    "#     root.right.left = Node(6)\n",
    "#     root.right.left.left = Node(7)\n",
    "#     root.right.left.right = Node(8)\n",
    "#     print(find_right_node(root, 2))\n",
    "    \n",
    "#     TC: 3\n",
    "    root = Node(1)\n",
    "    root.left = Node(2)\n",
    "    root.right = Node(3)\n",
    "    \n",
    "    print(find_right_node(root, 2))"
   ]
  },
  {
   "cell_type": "code",
   "execution_count": 16,
   "metadata": {},
   "outputs": [
    {
     "name": "stdout",
     "output_type": "stream",
     "text": [
      "3\n"
     ]
    }
   ],
   "source": [
    "# Time: O(n)\n",
    "# Space: O(h)\n",
    "\n",
    "from collections import deque\n",
    "\n",
    "desired_level = 0\n",
    "\n",
    "class Node:\n",
    "    def __init__(self, val):\n",
    "        self.val = val\n",
    "        self.left = self.right = None\n",
    "\n",
    "def find_right_node(root, key, level = 0):\n",
    "    global desired_level\n",
    "    if not root:    return\n",
    "    if root.val == key:\n",
    "        desired_level = level\n",
    "        return\n",
    "    if desired_level and desired_level == level:    return root\n",
    "    left = find_right_node(root.left, key, level + 1)\n",
    "    if left:    return left\n",
    "    return find_right_node(root.right, key, level + 1)\n",
    "\n",
    "if __name__=='__main__':\n",
    "#     Inputs\n",
    "#     TC: 1\n",
    "#     root = Node(1)\n",
    "#     root.left = Node(2)\n",
    "#     root.right = Node(3)\n",
    "#     root.left.left = Node(4)\n",
    "#     root.left.right = Node(5)\n",
    "#     root.right.left = Node(6)\n",
    "#     root.right.left.left = Node(7)\n",
    "#     root.right.left.right = Node(8)\n",
    "#     print(find_right_node(root, 5).val)\n",
    "    \n",
    "#     TC: 2\n",
    "#     root = Node(1)\n",
    "#     root.left = Node(2)\n",
    "#     root.right = Node(3)\n",
    "#     root.left.left = Node(4)\n",
    "#     root.left.right = Node(5)\n",
    "#     root.right.left = Node(6)\n",
    "#     root.right.left.left = Node(7)\n",
    "#     root.right.left.right = Node(8)\n",
    "#     print(find_right_node(root, 2).val)\n",
    "    \n",
    "#     TC: 3\n",
    "    root = Node(1)\n",
    "    root.left = Node(2)\n",
    "    root.right = Node(3)\n",
    "    \n",
    "    print(find_right_node(root, 2).val)"
   ]
  },
  {
   "cell_type": "code",
   "execution_count": null,
   "metadata": {},
   "outputs": [],
   "source": []
  }
 ],
 "metadata": {
  "kernelspec": {
   "display_name": "Python 3",
   "language": "python",
   "name": "python3"
  },
  "language_info": {
   "codemirror_mode": {
    "name": "ipython",
    "version": 3
   },
   "file_extension": ".py",
   "mimetype": "text/x-python",
   "name": "python",
   "nbconvert_exporter": "python",
   "pygments_lexer": "ipython3",
   "version": "3.6.8"
  }
 },
 "nbformat": 4,
 "nbformat_minor": 2
}
