{
 "cells": [
  {
   "cell_type": "code",
   "execution_count": 41,
   "metadata": {},
   "outputs": [
    {
     "name": "stdout",
     "output_type": "stream",
     "text": [
      "[3, 8]\n"
     ]
    }
   ],
   "source": [
    "# Assignment - Find All Nodes Distance K in Binary Tree\n",
    "# Time: O(n) -> Two-pass approach\n",
    "# Space: O(n)\n",
    "\n",
    "from collections import deque\n",
    "\n",
    "class Node:\n",
    "    def __init__(self, val):\n",
    "        self.val = val\n",
    "        self.left = self.right = None\n",
    "\n",
    "def print_k_leaf(root, k):\n",
    "    def dfs(root, parent = None):\n",
    "        if not root:    return root\n",
    "        root.parent = parent\n",
    "        if not root.left and not root.right:\n",
    "            queue.append(root)\n",
    "        dfs(root.left, root)\n",
    "        dfs(root.right, root)\n",
    "    \n",
    "    queue = []\n",
    "    dfs(root)\n",
    "    res = []\n",
    "    seen = set()\n",
    "    for node in queue:\n",
    "        K = k\n",
    "        while K and node:\n",
    "            node = node.parent\n",
    "            K -= 1\n",
    "        if not K and node and node not in seen:\n",
    "            res.append(node.val)\n",
    "            seen.add(node)\n",
    "    return res\n",
    "\n",
    "if __name__=='__main__':\n",
    "    root = Node(3)\n",
    "    root.left = Node(8)\n",
    "    root.right = Node(9)\n",
    "    root.left.left = Node(11)\n",
    "    root.left.right = Node(7)\n",
    "    root.left.right.left = Node(6)\n",
    "    root.left.right.right = Node(12)\n",
    "    root.right.left = Node(8)\n",
    "    root.right.right = Node(3)\n",
    "\n",
    "    print(print_k_leaf(root, 2))"
   ]
  },
  {
   "cell_type": "code",
   "execution_count": 42,
   "metadata": {},
   "outputs": [
    {
     "name": "stdout",
     "output_type": "stream",
     "text": [
      "[3, 8]\n"
     ]
    }
   ],
   "source": [
    "# Time: O(n) -> One-pass approach\n",
    "# Space: O(n)\n",
    "\n",
    "class Node:\n",
    "    def __init__(self, val):\n",
    "        self.val = val\n",
    "        self.left = self.right = None\n",
    "\n",
    "def print_k_leaf(node, k, res):\n",
    "    def dfs(root, i = -1, arr = [], seen = []):\n",
    "        if not root:    return root\n",
    "        arr.append(root.val)\n",
    "        seen.append(False)\n",
    "        i += 1\n",
    "        if not root.left and not root.right and i >= k:\n",
    "            if not seen[i - k]:\n",
    "                res.append(arr[i - k])\n",
    "                seen[i - k] = True\n",
    "        dfs(root.left, i, arr, seen)\n",
    "        dfs(root.right, i, arr, seen)\n",
    "        arr.pop()\n",
    "        seen.pop()\n",
    "    dfs(root)\n",
    "\n",
    "if __name__=='__main__':\n",
    "    root = Node(3)\n",
    "    root.left = Node(8)\n",
    "    root.right = Node(9)\n",
    "    root.left.left = Node(11)\n",
    "    root.left.right = Node(7)\n",
    "    root.left.right.left = Node(6)\n",
    "    root.left.right.right = Node(12)\n",
    "    root.right.left = Node(8)\n",
    "    root.right.right = Node(3)\n",
    "    \n",
    "    res = []\n",
    "    print_k_leaf(root, 2, res)\n",
    "    print(res)"
   ]
  },
  {
   "cell_type": "code",
   "execution_count": null,
   "metadata": {},
   "outputs": [],
   "source": []
  }
 ],
 "metadata": {
  "kernelspec": {
   "display_name": "Python 3",
   "language": "python",
   "name": "python3"
  },
  "language_info": {
   "codemirror_mode": {
    "name": "ipython",
    "version": 3
   },
   "file_extension": ".py",
   "mimetype": "text/x-python",
   "name": "python",
   "nbconvert_exporter": "python",
   "pygments_lexer": "ipython3",
   "version": "3.6.8"
  }
 },
 "nbformat": 4,
 "nbformat_minor": 2
}
