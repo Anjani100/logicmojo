{
 "cells": [
  {
   "cell_type": "code",
   "execution_count": 4,
   "metadata": {},
   "outputs": [
    {
     "name": "stdout",
     "output_type": "stream",
     "text": [
      "25 -> 12 -> 30 -> 10 -> 36 -> 15 -> X\n"
     ]
    }
   ],
   "source": [
    "# Time: O(n)\n",
    "# Space: O(1)\n",
    "\n",
    "class Node:\n",
    "    def __init__(self, val):\n",
    "        self.val = val\n",
    "        self.left = self.right = None\n",
    "\n",
    "def display(head):\n",
    "    while head:\n",
    "        print(head.val, end = ' -> ')\n",
    "        head = head.right\n",
    "    print('X')\n",
    "\n",
    "head = tail = None\n",
    "def bt_to_dll(root):\n",
    "    if not root:\n",
    "        return root\n",
    "    global head\n",
    "    global tail\n",
    "    bt_to_dll(root.left)\n",
    "    if not head:\n",
    "        head = tail = root\n",
    "    else:\n",
    "        tail.right = root\n",
    "        root.left = tail\n",
    "        tail = root\n",
    "    bt_to_dll(root.right)\n",
    "\n",
    "if __name__=='__main__':\n",
    "#     TC - 1\n",
    "#     root = Node(1)\n",
    "#     root.left = Node(2)\n",
    "#     root.right = Node(3)\n",
    "#     root.left.left = Node(4)\n",
    "#     root.left.right = Node(5)\n",
    "#     root.right.left = Node(6)\n",
    "#     root.right.right = Node(7)\n",
    "\n",
    "#     TC - 2\n",
    "\n",
    "#     root = Node(1)\n",
    "#     root.left = Node(2)\n",
    "#     root.right = Node(3)\n",
    "\n",
    "#     TC - 3\n",
    "    \n",
    "    root =  Node(10)\n",
    "    root.left =  Node(12)\n",
    "    root.right =  Node(15)\n",
    "    root.left.left =  Node(25)\n",
    "    root.left.right =  Node(30)\n",
    "    root.right.left =  Node(36)\n",
    "    bt_to_dll(root)\n",
    "    display(head)"
   ]
  },
  {
   "cell_type": "code",
   "execution_count": null,
   "metadata": {},
   "outputs": [],
   "source": []
  }
 ],
 "metadata": {
  "kernelspec": {
   "display_name": "Python 3",
   "language": "python",
   "name": "python3"
  },
  "language_info": {
   "codemirror_mode": {
    "name": "ipython",
    "version": 3
   },
   "file_extension": ".py",
   "mimetype": "text/x-python",
   "name": "python",
   "nbconvert_exporter": "python",
   "pygments_lexer": "ipython3",
   "version": "3.6.8"
  }
 },
 "nbformat": 4,
 "nbformat_minor": 2
}
