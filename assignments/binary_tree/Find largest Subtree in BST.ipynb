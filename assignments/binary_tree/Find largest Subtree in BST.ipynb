{
 "cells": [
  {
   "cell_type": "code",
   "execution_count": 25,
   "metadata": {},
   "outputs": [
    {
     "name": "stdout",
     "output_type": "stream",
     "text": [
      "3\n"
     ]
    }
   ],
   "source": [
    "class Node:\n",
    "    def __init__(self, val):\n",
    "        self.val = val\n",
    "        self.left = self.right = None\n",
    "\n",
    "def count_nodes(root, count = 0):\n",
    "    if not root:    return count\n",
    "    count = count_nodes(root.left, count)\n",
    "    count = count_nodes(root.right, count)\n",
    "    return 1 + count\n",
    "\n",
    "def is_BST(root, low = float('-inf'), high = float('inf')):\n",
    "    if not root:    return True\n",
    "    if not is_BST(root.left, low, root.val - 1):    return False\n",
    "    if low > root.val or root.val > high:    return False\n",
    "    if not is_BST(root.right, root.val + 1, high):    return False\n",
    "    return True\n",
    "\n",
    "def largest_BST(root, max_nodes = 0):\n",
    "    if not root:    return max_nodes\n",
    "    max_nodes = largest_BST(root.left, max_nodes)\n",
    "    if is_BST(root):\n",
    "        max_nodes = max(max_nodes, count_nodes(root))\n",
    "    max_nodes = largest_BST(root.right, max_nodes)\n",
    "    return max_nodes\n",
    "\n",
    "if __name__=='__main__':\n",
    "#     TC: 1\n",
    "#     root = Node(60)\n",
    "#     root.left = Node(65)\n",
    "#     root.right = Node(70)\n",
    "#     root.left.left = Node(50)\n",
    "    \n",
    "#     TC: 2\n",
    "    root = Node(5)\n",
    "    root.left = Node(2)\n",
    "    root.right = Node(4)\n",
    "    root.left.left = Node(1)\n",
    "    root.left.right = Node(3)\n",
    "    print(largest_BST(root))"
   ]
  },
  {
   "cell_type": "code",
   "execution_count": null,
   "metadata": {},
   "outputs": [],
   "source": []
  }
 ],
 "metadata": {
  "kernelspec": {
   "display_name": "Python 3",
   "language": "python",
   "name": "python3"
  },
  "language_info": {
   "codemirror_mode": {
    "name": "ipython",
    "version": 3
   },
   "file_extension": ".py",
   "mimetype": "text/x-python",
   "name": "python",
   "nbconvert_exporter": "python",
   "pygments_lexer": "ipython3",
   "version": "3.6.8"
  }
 },
 "nbformat": 4,
 "nbformat_minor": 2
}
