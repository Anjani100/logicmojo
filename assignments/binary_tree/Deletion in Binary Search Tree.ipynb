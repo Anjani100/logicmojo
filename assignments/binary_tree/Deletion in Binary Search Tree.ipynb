{
 "cells": [
  {
   "cell_type": "code",
   "execution_count": 38,
   "metadata": {},
   "outputs": [
    {
     "name": "stdout",
     "output_type": "stream",
     "text": [
      "20 30 40 50 60 70 80 \n",
      "20 30 50 60 70 80 "
     ]
    }
   ],
   "source": [
    "# Assingment - Print nodes at k distance from root\n",
    "# Time: O(n)\n",
    "# Space: O(n)\n",
    "\n",
    "class Node:\n",
    "    def __init__(self, val):\n",
    "        self.val = val\n",
    "        self.left = self.right = None\n",
    "\n",
    "def inorder(root):\n",
    "    if root is not None:\n",
    "        inorder(root.left)\n",
    "        print(root.val, end = ' ')\n",
    "        inorder(root.right)\n",
    "\n",
    "def delete(root, key):\n",
    "    if not root:    return root\n",
    "    if root.val > key:    root.left = delete(root.left, key)\n",
    "    elif root.val < key:    root.right = delete(root.right, key)\n",
    "    else:\n",
    "        if not root.left and not root.right:    return None\n",
    "        if not root.left:\n",
    "            return root.right\n",
    "        if not root.right:\n",
    "            return root.left\n",
    "        temp = root.left\n",
    "        while temp.right:\n",
    "            temp = temp.right\n",
    "        temp.val, root.val = root.val, temp.val\n",
    "        root.left = delete(root.left, temp.val)\n",
    "    return root\n",
    "\n",
    "if __name__=='__main__':\n",
    "#     root = Node(6)\n",
    "#     root.left = Node(4)\n",
    "#     root.right = Node(10)\n",
    "#     root.left.right = Node(5)\n",
    "#     root.right.left = Node(8)\n",
    "#     root.right.right = Node(12)\n",
    "    \n",
    "    root = Node(50)\n",
    "    root.left = Node(30)\n",
    "    root.left.left = Node(20)\n",
    "    root.left.right = Node(40)\n",
    "    root.right = Node(70)\n",
    "    root.right.left = Node(60)\n",
    "    root.right.right = Node(80)\n",
    "    \n",
    "    inorder(root)\n",
    "    root = delete(root, 40)\n",
    "    print()\n",
    "    inorder(root)"
   ]
  },
  {
   "cell_type": "code",
   "execution_count": null,
   "metadata": {},
   "outputs": [],
   "source": []
  }
 ],
 "metadata": {
  "kernelspec": {
   "display_name": "Python 3",
   "language": "python",
   "name": "python3"
  },
  "language_info": {
   "codemirror_mode": {
    "name": "ipython",
    "version": 3
   },
   "file_extension": ".py",
   "mimetype": "text/x-python",
   "name": "python",
   "nbconvert_exporter": "python",
   "pygments_lexer": "ipython3",
   "version": "3.6.8"
  }
 },
 "nbformat": 4,
 "nbformat_minor": 2
}
