{
 "cells": [
  {
   "cell_type": "code",
   "execution_count": 6,
   "metadata": {},
   "outputs": [
    {
     "name": "stdout",
     "output_type": "stream",
     "text": [
      "4\n",
      "-1\n",
      "0\n"
     ]
    }
   ],
   "source": [
    "# Time: O(m * n) + O(m * n) ~ O(m * n)\n",
    "# Space: O(m * n)\n",
    "\n",
    "from collections import deque\n",
    "\n",
    "def rotten_oranges(matrix):\n",
    "    X = [-1, 0, 0, 1]\n",
    "    Y = [0, -1, 1, 0]\n",
    "    m, n = len(matrix), len(matrix[0])\n",
    "    queue = deque()\n",
    "    time = ones = 0\n",
    "    for i in range(m):\n",
    "        for j in range(n):\n",
    "            if matrix[i][j] == 2:\n",
    "                queue.append([i, j, time])\n",
    "            elif matrix[i][j] == 1:\n",
    "                ones += 1\n",
    "    while queue:\n",
    "        i, j, time = queue.popleft()\n",
    "        for k in range(4):\n",
    "            x, y = i + X[k], j + Y[k]\n",
    "            if 0 <= x < m and 0 <= y < n and matrix[x][y] == 1:\n",
    "                matrix[x][y] = 2\n",
    "                ones -= 1\n",
    "                queue.append([x, y, time + 1])\n",
    "    if ones:    return -1\n",
    "    return time\n",
    "\n",
    "if __name__=='__main__':\n",
    "    tc = [[[2,1,1],[1,1,0],[0,1,1]],\n",
    "          [[2,1,1],[0,1,1],[1,0,1]],\n",
    "          [[0,2]]]\n",
    "    for matrix in tc:\n",
    "        print(rotten_oranges(matrix))"
   ]
  },
  {
   "cell_type": "code",
   "execution_count": null,
   "metadata": {},
   "outputs": [],
   "source": []
  }
 ],
 "metadata": {
  "kernelspec": {
   "display_name": "Python 3",
   "language": "python",
   "name": "python3"
  },
  "language_info": {
   "codemirror_mode": {
    "name": "ipython",
    "version": 3
   },
   "file_extension": ".py",
   "mimetype": "text/x-python",
   "name": "python",
   "nbconvert_exporter": "python",
   "pygments_lexer": "ipython3",
   "version": "3.6.8"
  }
 },
 "nbformat": 4,
 "nbformat_minor": 2
}
