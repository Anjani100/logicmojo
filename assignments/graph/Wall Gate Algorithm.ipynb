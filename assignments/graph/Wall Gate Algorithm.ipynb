{
 "cells": [
  {
   "cell_type": "code",
   "execution_count": 9,
   "metadata": {},
   "outputs": [
    {
     "name": "stdout",
     "output_type": "stream",
     "text": [
      "[3, -1, 0, 1]\n",
      "[2, 2, 1, -1]\n",
      "[1, -1, 2, -1]\n",
      "[0, -1, 3, 4]\n",
      "\n",
      "[0, -1]\n",
      "[1, 2]\n",
      "\n"
     ]
    }
   ],
   "source": [
    "# Time: O(m * n) + O(m * n)\n",
    "# Space: O(m * n)\n",
    "\n",
    "from collections import deque\n",
    "\n",
    "def wallsAndGates(matrix):\n",
    "    X = [-1, 0, 0, 1]\n",
    "    Y = [0, -1, 1, 0]\n",
    "    m, n = len(matrix), len(matrix[0])\n",
    "    queue = deque()\n",
    "    for i in range(m):\n",
    "        for j in range(n):\n",
    "            if matrix[i][j] == 0:\n",
    "                queue.append([i, j, 0])\n",
    "    while queue:\n",
    "        i, j, dist = queue.popleft()\n",
    "        for k in range(4):\n",
    "            x, y = i + X[k], j + Y[k]\n",
    "            if 0 <= x < m and 0 <= y < n and matrix[x][y] == 2147483647:\n",
    "                matrix[x][y] = dist + 1\n",
    "                queue.append([x, y, dist + 1])\n",
    "\n",
    "if __name__=='__main__':\n",
    "    tc = [[[2147483647,-1,0,2147483647],[2147483647,2147483647,2147483647,-1],[2147483647,-1,2147483647,-1],[0,-1,2147483647,2147483647]],\n",
    "          [[0,-1],[2147483647,2147483647]]]\n",
    "    for matrix in tc:\n",
    "        wallsAndGates(matrix)\n",
    "        for m in matrix:\n",
    "            print(m)\n",
    "        print()"
   ]
  },
  {
   "cell_type": "code",
   "execution_count": null,
   "metadata": {},
   "outputs": [],
   "source": []
  }
 ],
 "metadata": {
  "kernelspec": {
   "display_name": "Python 3",
   "language": "python",
   "name": "python3"
  },
  "language_info": {
   "codemirror_mode": {
    "name": "ipython",
    "version": 3
   },
   "file_extension": ".py",
   "mimetype": "text/x-python",
   "name": "python",
   "nbconvert_exporter": "python",
   "pygments_lexer": "ipython3",
   "version": "3.6.8"
  }
 },
 "nbformat": 4,
 "nbformat_minor": 2
}
