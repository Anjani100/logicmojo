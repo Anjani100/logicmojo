{
 "cells": [
  {
   "cell_type": "code",
   "execution_count": 3,
   "metadata": {},
   "outputs": [
    {
     "name": "stdout",
     "output_type": "stream",
     "text": [
      "[[2, 0, 1, 3], [2, 0, 3], [2, 1, 3]]\n"
     ]
    }
   ],
   "source": [
    "# Time: O(V^E)\n",
    "# Space: O(V^E)\n",
    "\n",
    "from collections import defaultdict\n",
    "\n",
    "class Graph:\n",
    "    def __init__(self, n):\n",
    "        self.graph = defaultdict(list)\n",
    "        self.n = n\n",
    "    \n",
    "    def add_edge(self, u, v):\n",
    "        self.graph[u].append(v)\n",
    "    \n",
    "    def dfs(self, src, dest, path, seen, paths):\n",
    "        if src == dest:\n",
    "            paths.append(path[:])\n",
    "            return\n",
    "        for node in self.graph[src]:\n",
    "            if node in seen:    continue\n",
    "            seen.add(node)\n",
    "            self.dfs(node, dest, path + [node], seen, paths)\n",
    "            seen.remove(node)\n",
    "    \n",
    "    def find_all_paths(self, src, dest):\n",
    "        paths = []\n",
    "        seen = set()\n",
    "        seen.add(src)\n",
    "        self.dfs(src, dest, [src], seen, paths)\n",
    "        return paths\n",
    "\n",
    "if __name__=='__main__':\n",
    "    g = Graph(4)\n",
    "    g.add_edge(0, 1)\n",
    "    g.add_edge(0, 2)\n",
    "    g.add_edge(0, 3)\n",
    "    g.add_edge(2, 0)\n",
    "    g.add_edge(2, 1)\n",
    "    g.add_edge(1, 3)\n",
    "    \n",
    "    print(g.find_all_paths(2, 3))"
   ]
  },
  {
   "cell_type": "code",
   "execution_count": null,
   "metadata": {},
   "outputs": [],
   "source": []
  }
 ],
 "metadata": {
  "kernelspec": {
   "display_name": "Python 3",
   "language": "python",
   "name": "python3"
  },
  "language_info": {
   "codemirror_mode": {
    "name": "ipython",
    "version": 3
   },
   "file_extension": ".py",
   "mimetype": "text/x-python",
   "name": "python",
   "nbconvert_exporter": "python",
   "pygments_lexer": "ipython3",
   "version": "3.6.8"
  }
 },
 "nbformat": 4,
 "nbformat_minor": 2
}
