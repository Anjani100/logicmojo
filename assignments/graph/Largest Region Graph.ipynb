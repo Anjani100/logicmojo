{
 "cells": [
  {
   "cell_type": "code",
   "execution_count": 4,
   "metadata": {},
   "outputs": [
    {
     "name": "stdout",
     "output_type": "stream",
     "text": [
      "6\n"
     ]
    }
   ],
   "source": [
    "# Time: O(V + E)\n",
    "# Space: O(V)\n",
    "\n",
    "from collections import deque\n",
    "\n",
    "def num_islands(matrix):\n",
    "    X = [-1, -1, -1, 0, 1, 0, 1, 1]\n",
    "    Y = [-1, 1, 0, -1, -1, 1, 0, 1]\n",
    "    def bfs(i, j):\n",
    "        queue = deque([[i, j]])\n",
    "        seen.add((i, j))\n",
    "        region = 0\n",
    "        while queue:\n",
    "            i, j = queue.popleft()\n",
    "            region += 1\n",
    "            for k in range(8):\n",
    "                x, y = i + X[k], j + Y[k]\n",
    "                if 0 <= x < m and 0 <= y < n and matrix[x][y]:\n",
    "                    if (x, y) in seen:    continue\n",
    "                    queue.append([x, y])\n",
    "                    seen.add((x, y))\n",
    "        return region\n",
    "    \n",
    "    m, n = len(matrix), len(matrix[0])\n",
    "    seen = set()\n",
    "    max_region = 0\n",
    "    for i in range(m):\n",
    "        for j in range(n):\n",
    "            if matrix[i][j] and (i, j) not in seen:\n",
    "                max_region = max(max_region, bfs(i, j))\n",
    "    return max_region\n",
    "\n",
    "if __name__=='__main__':\n",
    "#     Inputs:\n",
    "#     TC: 1\n",
    "    mat = [[0, 0, 1, 1, 0],\n",
    "           [1, 0, 1, 1, 0],\n",
    "           [0, 1, 0, 0, 0],\n",
    "           [0, 0, 0, 0, 1],\n",
    "           [0, 0, 1, 1, 0]]\n",
    "    \n",
    "#     TC: 2\n",
    "#     mat = [[0, 1, 0],\n",
    "#            [0, 1, 0],\n",
    "#            [0, 0, 0],\n",
    "#            [1, 1, 0],\n",
    "#            [1, 0, 1],\n",
    "#            [0, 1, 1],\n",
    "#            [1, 1, 1],\n",
    "#            [0, 1, 1],\n",
    "#            [1, 0, 1]]\n",
    "    print(num_islands(mat))"
   ]
  },
  {
   "cell_type": "code",
   "execution_count": null,
   "metadata": {},
   "outputs": [],
   "source": []
  }
 ],
 "metadata": {
  "kernelspec": {
   "display_name": "Python 3",
   "language": "python",
   "name": "python3"
  },
  "language_info": {
   "codemirror_mode": {
    "name": "ipython",
    "version": 3
   },
   "file_extension": ".py",
   "mimetype": "text/x-python",
   "name": "python",
   "nbconvert_exporter": "python",
   "pygments_lexer": "ipython3",
   "version": "3.6.8"
  }
 },
 "nbformat": 4,
 "nbformat_minor": 2
}
