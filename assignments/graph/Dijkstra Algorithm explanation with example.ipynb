{
 "cells": [
  {
   "cell_type": "code",
   "execution_count": 9,
   "metadata": {},
   "outputs": [
    {
     "name": "stdout",
     "output_type": "stream",
     "text": [
      "[0, 2, 3, 8, 6, 9]\n"
     ]
    }
   ],
   "source": [
    "# Time: O((V + E) * logV)\n",
    "# Space: O(V) + O(V) + O(V) ~ O(V)\n",
    "\n",
    "from heapq import heappush, heappop\n",
    "from collections import defaultdict\n",
    "\n",
    "class Graph:\n",
    "    def __init__(self, n):\n",
    "        self.graph = defaultdict(list)\n",
    "        self.n = n\n",
    "    \n",
    "    def add_edge(self, u, v, w):\n",
    "        self.graph[u].append([v, w])\n",
    "    \n",
    "    def dijkstra(self, u):\n",
    "        queue = [[0, u]]\n",
    "        distances = [float('inf')] * (self.n + 1)\n",
    "        distances[u] = 0\n",
    "        seen = set()\n",
    "        while queue:\n",
    "            dist, u = heappop(queue)\n",
    "            seen.add(u)\n",
    "            for v, w in self.graph[u]:\n",
    "                if distances[v] <= (dist + w) or v in seen:    continue\n",
    "                heappush(queue, [dist + w, v])\n",
    "                distances[v] = dist + w\n",
    "        return distances\n",
    "    \n",
    "if __name__=='__main__':\n",
    "    g = Graph(6)\n",
    "    g.add_edge(1, 2, 2)\n",
    "    g.add_edge(2, 3, 1)\n",
    "    g.add_edge(1, 3, 4)\n",
    "    g.add_edge(3, 5, 3)\n",
    "    g.add_edge(5, 6, 5)\n",
    "    g.add_edge(5, 4, 2)\n",
    "    g.add_edge(4, 6, 1)\n",
    "    g.add_edge(2, 4, 7)\n",
    "    g.add_edge(2, 1, 3)\n",
    "    dv = g.dijkstra(1)\n",
    "    print(dv[1:])"
   ]
  },
  {
   "cell_type": "code",
   "execution_count": null,
   "metadata": {},
   "outputs": [],
   "source": []
  }
 ],
 "metadata": {
  "kernelspec": {
   "display_name": "Python 3",
   "language": "python",
   "name": "python3"
  },
  "language_info": {
   "codemirror_mode": {
    "name": "ipython",
    "version": 3
   },
   "file_extension": ".py",
   "mimetype": "text/x-python",
   "name": "python",
   "nbconvert_exporter": "python",
   "pygments_lexer": "ipython3",
   "version": "3.6.8"
  }
 },
 "nbformat": 4,
 "nbformat_minor": 2
}
