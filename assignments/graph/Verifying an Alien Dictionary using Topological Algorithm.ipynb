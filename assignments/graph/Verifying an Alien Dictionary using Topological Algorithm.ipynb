{
 "cells": [
  {
   "cell_type": "code",
   "execution_count": 5,
   "metadata": {},
   "outputs": [
    {
     "name": "stdout",
     "output_type": "stream",
     "text": [
      "y -> t -> x -> z -> a -> END\n"
     ]
    }
   ],
   "source": [
    "# Time: O(n * s) + O(n * s) ~ O(n * s) where n -> Length of Alien dictionary & s -> Length of the largest word in dictionary\n",
    "# Space: O(n) + O(n) + O(n) + O(n + s) ~ O(n)\n",
    "\n",
    "from collections import defaultdict\n",
    "\n",
    "def verify_alien_dictionary(words):\n",
    "    def dfs(u):\n",
    "        seen.add(u)\n",
    "        for v in graph[u]:\n",
    "            if not in_degree[v] or v in seen:    continue\n",
    "            in_degree[v] -= 1\n",
    "            if not in_degree[v]:\n",
    "                res.append(v)\n",
    "                dfs(v)\n",
    "    \n",
    "    graph = defaultdict(list)\n",
    "    in_degree = defaultdict(int)\n",
    "    n = len(words)\n",
    "    for i in range(n - 1):\n",
    "        for j in range(len(min(words[i], words[i + 1]))):\n",
    "            if words[i][j] != words[i + 1][j]:\n",
    "                graph[words[i][j]].append(words[i + 1][j])\n",
    "                in_degree[words[i + 1][j]] += 1\n",
    "                if not in_degree[words[i][j]]:    in_degree[words[i][j]] = 0\n",
    "                break\n",
    "    seen = set()\n",
    "    res = []\n",
    "    for c in in_degree:\n",
    "        if not in_degree[c] and c not in seen:\n",
    "            res.append(c)\n",
    "            dfs(c)\n",
    "    for word in words:\n",
    "        for c in word:\n",
    "            if c not in res:\n",
    "                res.append(c)\n",
    "    return res\n",
    "\n",
    "if __name__=='__main__':\n",
    "    dictionary = ['yxx', 'yxxta', 'xyzt', 'xyzx', 'zxy', 'zxt']\n",
    "    res = verify_alien_dictionary(dictionary)\n",
    "    for r in res:\n",
    "        print(r, end = ' -> ')\n",
    "    print('END')"
   ]
  },
  {
   "cell_type": "code",
   "execution_count": null,
   "metadata": {},
   "outputs": [],
   "source": []
  }
 ],
 "metadata": {
  "kernelspec": {
   "display_name": "Python 3",
   "language": "python",
   "name": "python3"
  },
  "language_info": {
   "codemirror_mode": {
    "name": "ipython",
    "version": 3
   },
   "file_extension": ".py",
   "mimetype": "text/x-python",
   "name": "python",
   "nbconvert_exporter": "python",
   "pygments_lexer": "ipython3",
   "version": "3.6.8"
  }
 },
 "nbformat": 4,
 "nbformat_minor": 2
}
