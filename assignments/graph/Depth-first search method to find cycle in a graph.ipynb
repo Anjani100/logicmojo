{
 "cells": [
  {
   "cell_type": "code",
   "execution_count": 5,
   "metadata": {},
   "outputs": [
    {
     "name": "stdout",
     "output_type": "stream",
     "text": [
      "Graph contains cycle\n"
     ]
    }
   ],
   "source": [
    "# Time: O(V + E)\n",
    "# Space: O(V)\n",
    "\n",
    "from collections import defaultdict\n",
    "\n",
    "class Graph:\n",
    "    def __init__(self, n):\n",
    "        self.graph = defaultdict(list)\n",
    "        self.n = n\n",
    "    \n",
    "    def add_edge(self, u, v):\n",
    "        self.graph[u].append(v)\n",
    "        self.graph[v].append(u)\n",
    "    \n",
    "    def dfs(self, u, parent, seen):\n",
    "        seen.add(u)\n",
    "        for v in self.graph[u]:\n",
    "            if v == parent:    continue\n",
    "            if v in seen:    return True\n",
    "            if self.dfs(v, u, seen):    return True\n",
    "        return False\n",
    "    \n",
    "    def is_cycle(self):\n",
    "        seen = set()\n",
    "        for u in self.graph:\n",
    "            if u in seen:    continue\n",
    "            if self.dfs(u, None, seen):    return True\n",
    "        return False\n",
    "\n",
    "if __name__=='__main__':\n",
    "    g = Graph(5)\n",
    "    g.add_edge(1, 0)\n",
    "    g.add_edge(1, 2)\n",
    "    g.add_edge(2, 0)\n",
    "    g.add_edge(0, 3)\n",
    "    g.add_edge(3, 4)\n",
    "\n",
    "    if g.is_cycle():\n",
    "        print(\"Graph contains cycle\")\n",
    "    else:\n",
    "        print(\"Graph does not contain cycle \")"
   ]
  },
  {
   "cell_type": "code",
   "execution_count": null,
   "metadata": {},
   "outputs": [],
   "source": []
  }
 ],
 "metadata": {
  "kernelspec": {
   "display_name": "Python 3",
   "language": "python",
   "name": "python3"
  },
  "language_info": {
   "codemirror_mode": {
    "name": "ipython",
    "version": 3
   },
   "file_extension": ".py",
   "mimetype": "text/x-python",
   "name": "python",
   "nbconvert_exporter": "python",
   "pygments_lexer": "ipython3",
   "version": "3.6.8"
  }
 },
 "nbformat": 4,
 "nbformat_minor": 2
}
