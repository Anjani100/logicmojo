{
 "cells": [
  {
   "cell_type": "code",
   "execution_count": 13,
   "metadata": {},
   "outputs": [
    {
     "name": "stdout",
     "output_type": "stream",
     "text": [
      "[0, 1, 2, 3, 4]\n"
     ]
    }
   ],
   "source": [
    "# Time: O(V + E)\n",
    "# Space: O(V)\n",
    "\n",
    "from collections import defaultdict\n",
    "\n",
    "class Graph:\n",
    "    def __init__(self, n):\n",
    "        self.graph = defaultdict(list)\n",
    "        self.in_degree = [0] * n\n",
    "        self.n = n\n",
    "    \n",
    "    def add_edge(self, u, v):\n",
    "        self.graph[u].append(v)\n",
    "        if self.graph[v]:    pass\n",
    "        self.in_degree[v] += 1\n",
    "    \n",
    "    def dfs(self, u, seen, res):\n",
    "        for v in self.graph[u]:\n",
    "            if not self.in_degree[v]:    continue\n",
    "            self.in_degree[v] -= 1\n",
    "            if not self.in_degree[v] and v not in seen:\n",
    "                seen.add(v)\n",
    "                res.append(v)\n",
    "                self.dfs(v, seen, res)\n",
    "    \n",
    "    def topological_sort(self):\n",
    "        res = []\n",
    "        seen = set()\n",
    "        for u in self.graph:\n",
    "            if u in seen:    continue\n",
    "            if not self.in_degree[u]:\n",
    "                seen.add(u)\n",
    "                res.append(u)\n",
    "                self.dfs(u, seen, res)\n",
    "        return res\n",
    "\n",
    "if __name__=='__main__':\n",
    "    g = Graph(5)\n",
    "    g.add_edge(0, 1)\n",
    "    g.add_edge(0, 3)\n",
    "    g.add_edge(1, 2)\n",
    "    g.add_edge(2, 3)\n",
    "    g.add_edge(2, 4)\n",
    "    g.add_edge(3, 4)\n",
    "\n",
    "\n",
    "    print(g.topological_sort())"
   ]
  },
  {
   "cell_type": "code",
   "execution_count": null,
   "metadata": {},
   "outputs": [],
   "source": []
  }
 ],
 "metadata": {
  "kernelspec": {
   "display_name": "Python 3",
   "language": "python",
   "name": "python3"
  },
  "language_info": {
   "codemirror_mode": {
    "name": "ipython",
    "version": 3
   },
   "file_extension": ".py",
   "mimetype": "text/x-python",
   "name": "python",
   "nbconvert_exporter": "python",
   "pygments_lexer": "ipython3",
   "version": "3.6.8"
  }
 },
 "nbformat": 4,
 "nbformat_minor": 2
}
