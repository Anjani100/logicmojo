{
 "cells": [
  {
   "cell_type": "code",
   "execution_count": 8,
   "metadata": {},
   "outputs": [
    {
     "name": "stdout",
     "output_type": "stream",
     "text": [
      "2\n"
     ]
    }
   ],
   "source": [
    "# Time: O(V + E)\n",
    "# Space: O(V)\n",
    "\n",
    "from collections import deque\n",
    "\n",
    "def num_islands(matrix):\n",
    "    X = [-1, -1, -1, 0, 1, 0, 1, 1]\n",
    "    Y = [-1, 1, 0, -1, -1, 1, 0, 1]\n",
    "    def bfs(i, j):\n",
    "        queue = deque([[i, j]])\n",
    "        seen.add((i, j))\n",
    "        while queue:\n",
    "            i, j = queue.popleft()\n",
    "            for k in range(8):\n",
    "                x, y = i + X[k], j + Y[k]\n",
    "                if 0 <= x < m and 0 <= y < n and matrix[x][y]:\n",
    "                    if (x, y) in seen:    continue\n",
    "                    queue.append([x, y])\n",
    "                    seen.add((x, y))\n",
    "    \n",
    "    m, n = len(matrix), len(matrix[0])\n",
    "    seen = set()\n",
    "    islands = 0\n",
    "    for i in range(m):\n",
    "        for j in range(n):\n",
    "            if matrix[i][j] and (i, j) not in seen:\n",
    "                bfs(i, j)\n",
    "                islands += 1\n",
    "    return islands\n",
    "\n",
    "if __name__=='__main__':\n",
    "#     mat = [[0, 0, 1, 1, 0],\n",
    "#            [1, 0, 1, 1, 0],\n",
    "#            [0, 1, 0, 0, 0],\n",
    "#            [0, 0, 0, 0, 1],\n",
    "#            [0, 0, 1, 1, 0]]\n",
    "    \n",
    "    mat = [[0, 1, 0],\n",
    "           [0, 1, 0],\n",
    "           [0, 0, 0],\n",
    "           [1, 1, 0],\n",
    "           [1, 0, 1],\n",
    "           [0, 1, 1],\n",
    "           [1, 1, 1],\n",
    "           [0, 1, 1],\n",
    "           [1, 0, 1]]\n",
    "    print(num_islands(mat))"
   ]
  },
  {
   "cell_type": "code",
   "execution_count": null,
   "metadata": {},
   "outputs": [],
   "source": []
  }
 ],
 "metadata": {
  "kernelspec": {
   "display_name": "Python 3",
   "language": "python",
   "name": "python3"
  },
  "language_info": {
   "codemirror_mode": {
    "name": "ipython",
    "version": 3
   },
   "file_extension": ".py",
   "mimetype": "text/x-python",
   "name": "python",
   "nbconvert_exporter": "python",
   "pygments_lexer": "ipython3",
   "version": "3.6.8"
  }
 },
 "nbformat": 4,
 "nbformat_minor": 2
}
