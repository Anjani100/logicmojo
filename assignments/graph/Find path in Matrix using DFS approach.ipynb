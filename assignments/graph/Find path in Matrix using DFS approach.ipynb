{
 "cells": [
  {
   "cell_type": "code",
   "execution_count": 7,
   "metadata": {},
   "outputs": [
    {
     "name": "stdout",
     "output_type": "stream",
     "text": [
      "True\n"
     ]
    }
   ],
   "source": [
    "# Time: O(V + E)\n",
    "# Space: O(V)\n",
    "\n",
    "from collections import deque\n",
    "\n",
    "def find_path(matrix):\n",
    "    if not matrix or not matrix[0][0]:    return False\n",
    "    seen = set()\n",
    "    m, n = len(matrix), len(matrix[0])\n",
    "    queue = deque([[0, 0]])\n",
    "    X = [-1, 0, 0, 1]\n",
    "    Y = [0, -1, 1, 0]\n",
    "    while queue:\n",
    "        i, j = queue.popleft()\n",
    "        if (i, j) == (m - 1, n - 1):    return True\n",
    "        for k in range(4):\n",
    "            x, y = i + X[k], j + Y[k]\n",
    "            if 0 <= x < m and 0 <= y < n:\n",
    "                if (x, y) in seen:    continue\n",
    "                queue.append([x, y])\n",
    "                seen.add((x, y))\n",
    "    return False\n",
    "\n",
    "if __name__=='__main__':\n",
    "#     Inputs\n",
    "#     TC: 1\n",
    "#     matrix = [[0, 0, 0, 1, 0],\n",
    "#               [1, 0, 0, 1, 1],\n",
    "#               [0, 0, 0, 1, 0],\n",
    "#               [1, 0, 1, 0, 1],\n",
    "#               [0, 0, 1, 0, 0]]\n",
    "    \n",
    "#     TC: 2\n",
    "    matrix = [[1, 0, 0, 0, 0],\n",
    "              [1, 0, 1, 1, 1],\n",
    "              [1, 1, 1, 0, 1],\n",
    "              [1, 0, 0, 0, 1],\n",
    "              [1, 0, 0, 0, 1]]\n",
    "    print(find_path(matrix))"
   ]
  },
  {
   "cell_type": "code",
   "execution_count": null,
   "metadata": {},
   "outputs": [],
   "source": []
  }
 ],
 "metadata": {
  "kernelspec": {
   "display_name": "Python 3",
   "language": "python",
   "name": "python3"
  },
  "language_info": {
   "codemirror_mode": {
    "name": "ipython",
    "version": 3
   },
   "file_extension": ".py",
   "mimetype": "text/x-python",
   "name": "python",
   "nbconvert_exporter": "python",
   "pygments_lexer": "ipython3",
   "version": "3.6.8"
  }
 },
 "nbformat": 4,
 "nbformat_minor": 2
}
