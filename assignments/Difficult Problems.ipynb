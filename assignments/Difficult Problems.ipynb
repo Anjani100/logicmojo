{
 "cells": [
  {
   "cell_type": "markdown",
   "metadata": {},
   "source": [
    "## Array"
   ]
  },
  {
   "cell_type": "markdown",
   "metadata": {},
   "source": [
    "#### Search element in a Sorted and Rotated Array"
   ]
  },
  {
   "cell_type": "code",
   "execution_count": null,
   "metadata": {},
   "outputs": [],
   "source": [
    "def search_number(nums, target):\n",
    "    low, high = 0, len(nums) - 1\n",
    "    while low <= high:\n",
    "        mid = (low + high) // 2\n",
    "        if nums[mid] == target:\n",
    "            return mid\n",
    "        if nums[mid] > target:\n",
    "            if target <= nums[high] and nums[mid] > nums[high]: low = mid + 1\n",
    "            else:   high = mid - 1\n",
    "        else:\n",
    "            if nums[low] >= target and nums[low] > nums[mid]:   high = mid - 1\n",
    "            else:   low = mid + 1\n",
    "    return -1\n",
    "\n",
    "if __name__=='__main__':\n",
    "    test_cases = [[[3, 4, 5, 6, 7, 8, 9, 10, 1, 2], 1],\n",
    "                  [[5, 6, 7, 8, 9, 10, 1, 2, 3], 3],\n",
    "                  [[5, 6, 7, 8, 9, 10, 1, 2, 3], 28],\n",
    "                  [[30, 40, 50, 10, 20], 10]]\n",
    "    for arr, val in test_cases:\n",
    "        print(search_number(arr, val))"
   ]
  },
  {
   "cell_type": "markdown",
   "metadata": {},
   "source": [
    "#### Move All 0's to end"
   ]
  },
  {
   "cell_type": "code",
   "execution_count": null,
   "metadata": {},
   "outputs": [],
   "source": [
    "def move_zeros(nums):\n",
    "    zero = 0\n",
    "    for i in range(len(nums)):\n",
    "        if nums[i]:\n",
    "            nums[i], nums[zero] = nums[zero], nums[i]\n",
    "            zero += 1\n",
    "    return nums\n",
    "\n",
    "if __name__=='__main__':\n",
    "    test_cases = [[1,3,0,0,4,0,9],\n",
    "                  [0,1,0,3,12],\n",
    "                  [0, 1, 9, 8, 4, 0, 0, 2, 7, 0, 6, 0, 9]]\n",
    "    for tc in test_cases:\n",
    "        print(move_zeros(tc))"
   ]
  },
  {
   "cell_type": "markdown",
   "metadata": {},
   "source": [
    "#### Remove duplicates from Sorted Array"
   ]
  },
  {
   "cell_type": "code",
   "execution_count": null,
   "metadata": {},
   "outputs": [],
   "source": [
    "def remove_duplicates(nums):\n",
    "    idx = 0\n",
    "    for i in range(1, len(nums)):\n",
    "        if nums[i] != nums[idx]:\n",
    "            idx += 1\n",
    "            nums[i], nums[idx] = nums[idx], nums[i]\n",
    "#     print(nums)\n",
    "    return idx + 1\n",
    "\n",
    "if __name__=='__main__':\n",
    "    test_cases = [[1,1,2],\n",
    "                  [2, 2, 2, 2, 2],\n",
    "                  [1, 2, 2, 3, 4, 4, 4, 5, 5],\n",
    "                  [1,2,3,4,5]]\n",
    "    for tc in test_cases:\n",
    "        print(remove_duplicates(tc))"
   ]
  },
  {
   "cell_type": "markdown",
   "metadata": {},
   "source": [
    "#### Spiral Order"
   ]
  },
  {
   "cell_type": "code",
   "execution_count": null,
   "metadata": {},
   "outputs": [],
   "source": [
    "def spiral_order(matrix):\n",
    "    m, n = len(matrix), len(matrix[0])\n",
    "    k = l = 0\n",
    "    while k < m and l < n:\n",
    "        for i in range(l, n):\n",
    "            print(matrix[k][i], end = ' ')\n",
    "        k += 1\n",
    "        for i in range(k, m):\n",
    "            print(matrix[i][n - 1], end = ' ')\n",
    "        n -= 1\n",
    "        if k < m:\n",
    "            for i in range(n - 1, l - 1, -1):\n",
    "                print(matrix[m - 1][i], end = ' ')\n",
    "            m -= 1\n",
    "        if l < n:\n",
    "            for i in range(m - 1, k - 1, -1):\n",
    "                print(matrix[i][l], end = ' ')\n",
    "            l += 1\n",
    "    print()\n",
    "\n",
    "if __name__=='__main__':\n",
    "    tc = [[[1,2,3],[4,5,6],[7,8,9]],\n",
    "          [[1,2,3,4],[5,6,7,8],[9,10,11,12]],\n",
    "          [[1, 2, 3, 4, 5],[16, 17, 18, 19, 6],[15, 24, 25, 20, 7],[14, 23, 22, 21, 8],[13, 12, 11, 10, 9]]]\n",
    "    for t in tc:\n",
    "        spiral_order(t)"
   ]
  },
  {
   "cell_type": "markdown",
   "metadata": {},
   "source": [
    "#### Diagonal Order"
   ]
  },
  {
   "cell_type": "code",
   "execution_count": null,
   "metadata": {},
   "outputs": [],
   "source": [
    "def diagonal_order(matrix):\n",
    "    m, n = len(matrix), len(matrix[0])\n",
    "    i = j = 0\n",
    "    I = J = 1\n",
    "    while i < m and j < n:\n",
    "        print(matrix[i][j], end = ' ')\n",
    "        i -= 1\n",
    "        j += 1\n",
    "        if i < 0 or j >= n:\n",
    "            i = I\n",
    "            j = 0\n",
    "            if I >= m:\n",
    "                i = m - 1\n",
    "                j = J\n",
    "                J += 1\n",
    "            I += 1\n",
    "    print()\n",
    "\n",
    "if __name__=='__main__':\n",
    "    test_cases = [[[1, 2, 3, 4, 5],[6, 7, 8, 9, 10],[11, 12, 13, 14, 15],[16, 17, 18, 19, 20]],\n",
    "                  [[1,2,3],[4,5,6],[7,8,9]],\n",
    "                  [[1,2],[3,4]],\n",
    "                  [[1,2,3,4]],\n",
    "                  [[1],[2],[3]],\n",
    "                  [[1]]]\n",
    "    for tc in test_cases:\n",
    "        diagonal_order(tc)"
   ]
  },
  {
   "cell_type": "markdown",
   "metadata": {},
   "source": [
    "#### Next Smallest Palindrome"
   ]
  },
  {
   "cell_type": "code",
   "execution_count": null,
   "metadata": {},
   "outputs": [],
   "source": [
    "def next_smallest_palindrome(nums):\n",
    "    n = len(nums)\n",
    "    if nums.count(9) == n:\n",
    "        return str(int(''.join(map(str, nums))) + 2)\n",
    "    mid = n // 2\n",
    "    left = mid - 1\n",
    "    right = mid if n % 2 == 0 else mid + 1\n",
    "    left_smaller = False\n",
    "    while left > -1 and right < n and nums[left] == nums[right]:\n",
    "        left -= 1\n",
    "        right += 1\n",
    "    if left < 0 or nums[left] < nums[right]:    left_smaller = True\n",
    "    while left > -1 and right < n:\n",
    "        nums[right] = nums[left]\n",
    "        left -= 1\n",
    "        right += 1\n",
    "    if left_smaller:\n",
    "        left = mid - 1 if n % 2 == 0 else mid\n",
    "        right = mid\n",
    "        carry = 1\n",
    "        while left > -1 and right < n:\n",
    "            nums[left] += carry\n",
    "            carry = nums[left] // 10\n",
    "            nums[left] %= 10\n",
    "            nums[right] = nums[left]\n",
    "            left -= 1\n",
    "            right += 1\n",
    "    return ''.join(map(str, nums))\n",
    "\n",
    "if __name__=='__main__':\n",
    "    tc = [[8, 3, 1, 7, 7, 9, 7, 9, 3, 2, 3],\n",
    "          [1,2,1],\n",
    "          [2,3,5,4,5],\n",
    "          [9, 4, 1, 8, 7, 9, 7, 8, 3, 2, 2],\n",
    "          [2,4,5,6],\n",
    "          [9,9,9],\n",
    "          [9],\n",
    "          [1]]\n",
    "    for t in tc:\n",
    "        print(next_smallest_palindrome(t))"
   ]
  },
  {
   "cell_type": "markdown",
   "metadata": {},
   "source": [
    "#### Find Two Non-Repeating Number"
   ]
  },
  {
   "cell_type": "code",
   "execution_count": null,
   "metadata": {},
   "outputs": [],
   "source": [
    "def find_non_repeating_numbers(nums):\n",
    "    xor = nums[0]\n",
    "    for i in range(1, len(nums)):\n",
    "        xor ^= nums[i]\n",
    "    most_right_bit = xor & ~(xor - 1)\n",
    "    a = b = 0\n",
    "    for num in nums:\n",
    "        if num & most_right_bit:    a ^= num\n",
    "        else:    b ^= num\n",
    "    return a, b\n",
    "\n",
    "if __name__=='__main__':\n",
    "    tc = [[2,4,7,9,2,4],\n",
    "          [4,5,4,5,3,2,9,3,9,8]]\n",
    "    for t in tc:\n",
    "        print(find_non_repeating_numbers(t))"
   ]
  },
  {
   "cell_type": "markdown",
   "metadata": {},
   "source": [
    "#### Count Inversions while sorting an array"
   ]
  },
  {
   "cell_type": "code",
   "execution_count": null,
   "metadata": {},
   "outputs": [],
   "source": [
    "def merge(nums, arr, low, mid, high):\n",
    "    i = k = low\n",
    "    inv_count, j = 0, mid + 1\n",
    "    while i <= mid and j <= high:\n",
    "        if nums[i] <= nums[j]:\n",
    "            arr[k] = nums[i]\n",
    "            i += 1\n",
    "        else:\n",
    "            arr[k] = nums[j]\n",
    "            inv_count += (mid - i + 1)\n",
    "            j += 1\n",
    "        k += 1\n",
    "    while i <= mid:\n",
    "        arr[k] = nums[i]\n",
    "        i += 1\n",
    "        k += 1\n",
    "    while j <= high:\n",
    "        arr[k] = nums[j]\n",
    "        j += 1\n",
    "        k += 1\n",
    "    for i in range(low, high + 1):\n",
    "        nums[i] = arr[i]\n",
    "    return inv_count\n",
    "\n",
    "def merge_sort(nums, arr, low, high):\n",
    "    inv_count = 0\n",
    "    if low >= high:    return inv_count\n",
    "    mid = (low + high) // 2\n",
    "    inv_count += merge_sort(nums, arr, low, mid)\n",
    "    inv_count += merge_sort(nums, arr, mid + 1, high)\n",
    "    inv_count += merge(nums, arr, low, mid, high)\n",
    "    return inv_count\n",
    "\n",
    "if __name__=='__main__':\n",
    "    tc = [[9, 1, 6, 4, 5],\n",
    "          [1, 2, 5, 4, 3],\n",
    "          [5, 17, 100, 11],\n",
    "          [3, 2, 1],\n",
    "          [4, 1, 3, 2],\n",
    "          [8, 4, 2, 1]]\n",
    "    for t in tc:\n",
    "        arr = [0] * len(t)\n",
    "        print(merge_sort(t, arr, 0, len(t) - 1))"
   ]
  },
  {
   "cell_type": "markdown",
   "metadata": {},
   "source": [
    "#### Merge Two Sorted Arrays"
   ]
  },
  {
   "cell_type": "code",
   "execution_count": null,
   "metadata": {},
   "outputs": [],
   "source": [
    "# Better-Brute Force\n",
    "# Time: O((m * n))\n",
    "# Space: O(1)\n",
    "\n",
    "def merge_sorted_arr(nums1, nums2):\n",
    "    m, n = len(nums1), len(nums2)\n",
    "    i = j = 0\n",
    "    while i < m:\n",
    "        if nums1[i] > nums2[j]:\n",
    "            nums1[i], nums2[j] = nums2[j], nums1[i]\n",
    "            for k in range(j, n - 1):\n",
    "                if nums2[k] > nums2[k + 1]:    nums2[k], nums2[k + 1] = nums2[k + 1], nums2[k]\n",
    "                else:    break\n",
    "        i += 1\n",
    "\n",
    "if __name__=='__main__':\n",
    "    tc = [[[1, 3, 5, 7], [0, 2, 6, 8, 9]],\n",
    "          [[10, 12], [5, 18, 20]]]\n",
    "    for nums1, nums2 in tc:\n",
    "        merge_sorted_arr(nums1, nums2)\n",
    "        print(nums1, nums2)"
   ]
  },
  {
   "cell_type": "code",
   "execution_count": null,
   "metadata": {},
   "outputs": [],
   "source": [
    "# Optimal Solution\n",
    "# Time: O((m + n) * (log(m + n)))\n",
    "# Space: O(1)\n",
    "\n",
    "\n",
    "def merge_sorted_arr(nums1, nums2):\n",
    "    m, n = len(nums1), len(nums2)\n",
    "    gap = (m + n) // 2 + ((m + n) % 2)\n",
    "    while gap:\n",
    "        i = 0\n",
    "        while i + gap < m:\n",
    "            if nums1[i] > nums1[i + gap]:    nums1[i], nums1[i + gap] = nums1[i + gap], nums1[i]\n",
    "            i += 1\n",
    "        j = gap - m if gap > m else 0\n",
    "        while i < m and j < n:\n",
    "            if nums1[i] > nums2[j]:\n",
    "                nums1[i], nums2[j] = nums2[j], nums1[i]\n",
    "            i += 1\n",
    "            j += 1\n",
    "        if j < n:\n",
    "            j = 0\n",
    "            while j + gap < n:\n",
    "                if nums2[j] > nums2[j + gap]:\n",
    "                    nums2[j], nums2[j + gap] = nums2[j + gap], nums2[j]\n",
    "                j += 1\n",
    "        gap = (gap // 2) + (gap % 2) if gap > 1 else 0\n",
    "\n",
    "if __name__=='__main__':\n",
    "    tc = [[[1, 3, 5, 7], [0, 2, 6, 8, 9]],\n",
    "          [[10, 12], [5, 18, 20]]]\n",
    "    for nums1, nums2 in tc:\n",
    "        merge_sorted_arr(nums1, nums2)\n",
    "        print(nums1, nums2)"
   ]
  },
  {
   "cell_type": "markdown",
   "metadata": {},
   "source": [
    "#### Median of Two Sorted Arrays"
   ]
  },
  {
   "cell_type": "code",
   "execution_count": null,
   "metadata": {},
   "outputs": [],
   "source": [
    "# Better-Brute Force\n",
    "# Time: O(m1 + n1)\n",
    "# Space: O(1)\n",
    "\n",
    "def median(nums1, nums2):\n",
    "    m, n = len(nums1), len(nums2)\n",
    "    i = j = count = 0\n",
    "    while i < m and j < n:\n",
    "        if nums1[i] <= nums2[j]:    a, i = nums1[i], i + 1\n",
    "        else:    a, j = nums2[j], j + 1\n",
    "        count += 1\n",
    "        if count == (m + n) // 2:\n",
    "            if (m + n) % 2:    return min(nums1[i] if i < m else float('inf'), nums2[j] if j < n else float('inf'))\n",
    "            else:\n",
    "                return (a + min(nums1[i] if i < m else float('inf'), nums2[j] if j < n else float('inf'))) / 2\n",
    "    while i < m:\n",
    "        if count == (m + n) // 2:\n",
    "            if (m + n) % 2:    return nums1[i]\n",
    "            else:\n",
    "                return (nums1[i - 1] + nums1[i]) / 2\n",
    "        i += 1\n",
    "        count += 1\n",
    "    while j < n:\n",
    "        if count == (m + n) // 2:\n",
    "            if (m + n) % 2:    return nums2[j]\n",
    "            else:\n",
    "                return (nums2[j - 1] + nums2[j]) / 2\n",
    "        j += 1\n",
    "        count += 1\n",
    "\n",
    "if __name__=='__main__':\n",
    "    tc = [[[1,3],[2]],\n",
    "          [[1,2],[3,4]],\n",
    "          [[0,0],[0,0]],\n",
    "          [[], [1]],\n",
    "          [[2], []]]\n",
    "    for nums1, nums2 in tc:\n",
    "        print(median(nums1, nums2))"
   ]
  },
  {
   "cell_type": "code",
   "execution_count": 17,
   "metadata": {
    "scrolled": false
   },
   "outputs": [
    {
     "name": "stdout",
     "output_type": "stream",
     "text": [
      "2\n",
      "2.5\n",
      "0.0\n",
      "1\n",
      "2\n",
      "5.0\n",
      "3.5\n"
     ]
    }
   ],
   "source": [
    "# Optimal Approach\n",
    "# Time: O(log(m1 + n1))\n",
    "# Space: O(1)\n",
    "\n",
    "def median(nums1, nums2):\n",
    "    if len(nums2) < len(nums1):    return median(nums2, nums1)\n",
    "    m, n = len(nums1), len(nums2)\n",
    "    partition = (m + n + 1) // 2\n",
    "    low, high = 0, m\n",
    "    while low <= high:\n",
    "        mid = (low + high) // 2\n",
    "        l1, r1 = nums1[mid - 1] if mid > 0 else float('-inf'), nums1[mid] if mid < m else float('inf')\n",
    "        l2, r2 = nums2[partition - mid - 1] if partition - mid - 1 > -1 else float('-inf'),\\\n",
    "                 nums2[partition - mid] if partition - mid < n else float('inf')\n",
    "        if l1 > r2:\n",
    "            high = mid - 1\n",
    "        elif l2 > r1:\n",
    "            low = mid + 1\n",
    "        else:\n",
    "            if (m + n) % 2:\n",
    "                return max(l1, l2)\n",
    "            return (max(l1, l2) + min(r1, r2)) / 2\n",
    "\n",
    "if __name__=='__main__':\n",
    "    tc = [[[1,3],[2]],\n",
    "          [[1,2],[3,4]],\n",
    "          [[0,0],[0,0]],\n",
    "          [[], [1]],\n",
    "          [[2], []],\n",
    "          [[1,3,4,7,10,12],[2,3,6,15]],\n",
    "          [[1,2,3],[4,5,6]]]\n",
    "    for nums1, nums2 in tc:\n",
    "        print(median(nums1, nums2))"
   ]
  },
  {
   "cell_type": "markdown",
   "metadata": {},
   "source": [
    "#### Kth Smallest Element"
   ]
  },
  {
   "cell_type": "code",
   "execution_count": 42,
   "metadata": {},
   "outputs": [
    {
     "name": "stdout",
     "output_type": "stream",
     "text": [
      "6\n",
      "3\n",
      "256\n",
      "35\n",
      "6\n",
      "1\n"
     ]
    }
   ],
   "source": [
    "def kth_smallest_element(nums1, nums2, m, n, k):\n",
    "    if n < m:    return kth_smallest_element(nums2, nums1, n, m, k)\n",
    "    low, high = max(0, k - n), min(k, m)\n",
    "    while low <= high:\n",
    "        mid = (low + high) // 2\n",
    "        l1, r1 = nums1[mid - 1] if mid > 0 else float('-inf'), nums1[mid] if mid < m else float('inf')\n",
    "        l2, r2 = nums2[k - mid - 1] if k - mid > 0 else float('-inf'), nums2[k - mid] if k - mid < n else float('inf')\n",
    "        if l1 > r2:    high = mid - 1\n",
    "        elif l2 > r1:    low = mid + 1\n",
    "        else:    return max(l1, l2)\n",
    "\n",
    "if __name__=='__main__':\n",
    "    tc = [[[2, 3, 6, 7, 9],[1, 4, 8, 10],5,4,5],\n",
    "          [[-2, -1, 3, 5, 6, 8],[1, 4, 8, 10],6,4,4],\n",
    "          [[100 ,112, 256, 349, 770],[72, 86, 113, 119, 265, 445, 892],5,7,7],\n",
    "          [[10, 20, 40, 60],[15, 35, 50, 70, 100],4,5,4],\n",
    "          [[2, 3, 6, 7, 9],[1, 4, 8, 10],5,4,5],\n",
    "          [[1],[2],1,1,1]]\n",
    "    for nums1, nums2, m, n, k in tc:\n",
    "        print(kth_smallest_element(nums1, nums2, m, n, k))"
   ]
  },
  {
   "cell_type": "markdown",
   "metadata": {},
   "source": [
    "#### Design data structure that support Insert, remove(), findMiddle(), deleteMiddle() operation in O(1)"
   ]
  },
  {
   "cell_type": "code",
   "execution_count": null,
   "metadata": {},
   "outputs": [],
   "source": []
  }
 ],
 "metadata": {
  "kernelspec": {
   "display_name": "Python 3",
   "language": "python",
   "name": "python3"
  },
  "language_info": {
   "codemirror_mode": {
    "name": "ipython",
    "version": 3
   },
   "file_extension": ".py",
   "mimetype": "text/x-python",
   "name": "python",
   "nbconvert_exporter": "python",
   "pygments_lexer": "ipython3",
   "version": "3.6.8"
  }
 },
 "nbformat": 4,
 "nbformat_minor": 2
}
