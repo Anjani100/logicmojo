{
 "cells": [
  {
   "cell_type": "markdown",
   "metadata": {},
   "source": [
    "## Array"
   ]
  },
  {
   "cell_type": "markdown",
   "metadata": {},
   "source": [
    "#### Search element in a Sorted and Rotated Array"
   ]
  },
  {
   "cell_type": "code",
   "execution_count": 1,
   "metadata": {},
   "outputs": [
    {
     "name": "stdout",
     "output_type": "stream",
     "text": [
      "8\n",
      "-1\n",
      "-1\n",
      "3\n"
     ]
    }
   ],
   "source": [
    "def search_number(nums, target):\n",
    "    low, high = 0, len(nums) - 1\n",
    "    while low <= high:\n",
    "        mid = (low + high) // 2\n",
    "        if nums[mid] == target:\n",
    "            return mid\n",
    "        if nums[mid] > target:\n",
    "            if target <= nums[high] and nums[mid] > nums[high]: low = mid + 1\n",
    "            else:   high = mid - 1\n",
    "        else:\n",
    "            if nums[low] >= target and nums[low] > nums[mid]:   high = mid - 1\n",
    "            else:   low = mid + 1\n",
    "    return -1\n",
    "\n",
    "if __name__=='__main__':\n",
    "    test_cases = [[[3, 4, 5, 6, 7, 8, 9, 10, 1, 2], 1],\n",
    "                  [[5, 6, 7, 8, 9, 10, 1, 2, 3], 3],\n",
    "                  [[5, 6, 7, 8, 9, 10, 1, 2, 3], 28],\n",
    "                  [[30, 40, 50, 10, 20], 10]]\n",
    "    for arr, val in test_cases:\n",
    "        print(search_number(arr, val))"
   ]
  },
  {
   "cell_type": "markdown",
   "metadata": {},
   "source": [
    "#### Move All 0's to end"
   ]
  },
  {
   "cell_type": "code",
   "execution_count": 2,
   "metadata": {},
   "outputs": [
    {
     "name": "stdout",
     "output_type": "stream",
     "text": [
      "[1, 3, 4, 9, 0, 0, 0]\n",
      "[1, 3, 12, 0, 0]\n",
      "[1, 9, 8, 4, 2, 7, 6, 9, 0, 0, 0, 0, 0]\n"
     ]
    }
   ],
   "source": [
    "def move_zeros(nums):\n",
    "    zero = 0\n",
    "    for i in range(len(nums)):\n",
    "        if nums[i]:\n",
    "            nums[i], nums[zero] = nums[zero], nums[i]\n",
    "            zero += 1\n",
    "    return nums\n",
    "\n",
    "if __name__=='__main__':\n",
    "    test_cases = [[1,3,0,0,4,0,9],\n",
    "                  [0,1,0,3,12],\n",
    "                  [0, 1, 9, 8, 4, 0, 0, 2, 7, 0, 6, 0, 9]]\n",
    "    for tc in test_cases:\n",
    "        print(move_zeros(tc))"
   ]
  },
  {
   "cell_type": "markdown",
   "metadata": {},
   "source": [
    "#### Remove duplicates from Sorted Array"
   ]
  },
  {
   "cell_type": "code",
   "execution_count": 3,
   "metadata": {},
   "outputs": [
    {
     "name": "stdout",
     "output_type": "stream",
     "text": [
      "2\n",
      "1\n",
      "5\n",
      "5\n"
     ]
    }
   ],
   "source": [
    "def remove_duplicates(nums):\n",
    "    idx = 0\n",
    "    for i in range(1, len(nums)):\n",
    "        if nums[i] != nums[idx]:\n",
    "            idx += 1\n",
    "            nums[i], nums[idx] = nums[idx], nums[i]\n",
    "#     print(nums)\n",
    "    return idx + 1\n",
    "\n",
    "if __name__=='__main__':\n",
    "    test_cases = [[1,1,2],\n",
    "                  [2, 2, 2, 2, 2],\n",
    "                  [1, 2, 2, 3, 4, 4, 4, 5, 5],\n",
    "                  [1,2,3,4,5]]\n",
    "    for tc in test_cases:\n",
    "        print(remove_duplicates(tc))"
   ]
  },
  {
   "cell_type": "markdown",
   "metadata": {},
   "source": [
    "#### Spiral Order"
   ]
  },
  {
   "cell_type": "code",
   "execution_count": 4,
   "metadata": {},
   "outputs": [
    {
     "name": "stdout",
     "output_type": "stream",
     "text": [
      "1 2 3 6 9 8 7 4 5 \n",
      "1 2 3 4 8 12 11 10 9 5 6 7 \n",
      "1 2 3 4 5 6 7 8 9 10 11 12 13 14 15 16 17 18 19 20 21 22 23 24 25 \n"
     ]
    }
   ],
   "source": [
    "def spiral_order(matrix):\n",
    "    m, n = len(matrix), len(matrix[0])\n",
    "    k = l = 0\n",
    "    while k < m and l < n:\n",
    "        for i in range(l, n):\n",
    "            print(matrix[k][i], end = ' ')\n",
    "        k += 1\n",
    "        for i in range(k, m):\n",
    "            print(matrix[i][n - 1], end = ' ')\n",
    "        n -= 1\n",
    "        if k < m:\n",
    "            for i in range(n - 1, l - 1, -1):\n",
    "                print(matrix[m - 1][i], end = ' ')\n",
    "            m -= 1\n",
    "        if l < n:\n",
    "            for i in range(m - 1, k - 1, -1):\n",
    "                print(matrix[i][l], end = ' ')\n",
    "            l += 1\n",
    "    print()\n",
    "\n",
    "if __name__=='__main__':\n",
    "    tc = [[[1,2,3],[4,5,6],[7,8,9]],\n",
    "          [[1,2,3,4],[5,6,7,8],[9,10,11,12]],\n",
    "          [[1, 2, 3, 4, 5],[16, 17, 18, 19, 6],[15, 24, 25, 20, 7],[14, 23, 22, 21, 8],[13, 12, 11, 10, 9]]]\n",
    "    for t in tc:\n",
    "        spiral_order(t)"
   ]
  },
  {
   "cell_type": "markdown",
   "metadata": {},
   "source": [
    "#### Diagonal Order"
   ]
  },
  {
   "cell_type": "code",
   "execution_count": 5,
   "metadata": {},
   "outputs": [
    {
     "name": "stdout",
     "output_type": "stream",
     "text": [
      "1 6 2 11 7 3 16 12 8 4 17 13 9 5 18 14 10 19 15 20 \n",
      "1 4 2 7 5 3 8 6 9 \n",
      "1 3 2 4 \n",
      "1 2 3 4 \n",
      "1 2 3 \n",
      "1 \n"
     ]
    }
   ],
   "source": [
    "def diagonal_order(matrix):\n",
    "    m, n = len(matrix), len(matrix[0])\n",
    "    i = j = 0\n",
    "    I = J = 1\n",
    "    while i < m and j < n:\n",
    "        print(matrix[i][j], end = ' ')\n",
    "        i -= 1\n",
    "        j += 1\n",
    "        if i < 0 or j >= n:\n",
    "            i = I\n",
    "            j = 0\n",
    "            if I >= m:\n",
    "                i = m - 1\n",
    "                j = J\n",
    "                J += 1\n",
    "            I += 1\n",
    "    print()\n",
    "\n",
    "if __name__=='__main__':\n",
    "    test_cases = [[[1, 2, 3, 4, 5],[6, 7, 8, 9, 10],[11, 12, 13, 14, 15],[16, 17, 18, 19, 20]],\n",
    "                  [[1,2,3],[4,5,6],[7,8,9]],\n",
    "                  [[1,2],[3,4]],\n",
    "                  [[1,2,3,4]],\n",
    "                  [[1],[2],[3]],\n",
    "                  [[1]]]\n",
    "    for tc in test_cases:\n",
    "        diagonal_order(tc)"
   ]
  },
  {
   "cell_type": "markdown",
   "metadata": {},
   "source": [
    "#### Next Smallest Palindrome"
   ]
  },
  {
   "cell_type": "code",
   "execution_count": 6,
   "metadata": {},
   "outputs": [
    {
     "name": "stdout",
     "output_type": "stream",
     "text": [
      "83178087138\n",
      "131\n",
      "23632\n",
      "94188088149\n",
      "2552\n",
      "1001\n",
      "11\n",
      "2\n"
     ]
    }
   ],
   "source": [
    "def next_smallest_palindrome(nums):\n",
    "    n = len(nums)\n",
    "    if nums.count(9) == n:\n",
    "        return str(int(''.join(map(str, nums))) + 2)\n",
    "    mid = n // 2\n",
    "    left = mid - 1\n",
    "    right = mid if n % 2 == 0 else mid + 1\n",
    "    left_smaller = False\n",
    "    while left > -1 and right < n and nums[left] == nums[right]:\n",
    "        left -= 1\n",
    "        right += 1\n",
    "    if left < 0 or nums[left] < nums[right]:    left_smaller = True\n",
    "    while left > -1 and right < n:\n",
    "        nums[right] = nums[left]\n",
    "        left -= 1\n",
    "        right += 1\n",
    "    if left_smaller:\n",
    "        left = mid - 1 if n % 2 == 0 else mid\n",
    "        right = mid\n",
    "        carry = 1\n",
    "        while left > -1 and right < n:\n",
    "            nums[left] += carry\n",
    "            carry = nums[left] // 10\n",
    "            nums[left] %= 10\n",
    "            nums[right] = nums[left]\n",
    "            left -= 1\n",
    "            right += 1\n",
    "    return ''.join(map(str, nums))\n",
    "\n",
    "if __name__=='__main__':\n",
    "    tc = [[8, 3, 1, 7, 7, 9, 7, 9, 3, 2, 3],\n",
    "          [1,2,1],\n",
    "          [2,3,5,4,5],\n",
    "          [9, 4, 1, 8, 7, 9, 7, 8, 3, 2, 2],\n",
    "          [2,4,5,6],\n",
    "          [9,9,9],\n",
    "          [9],\n",
    "          [1]]\n",
    "    for t in tc:\n",
    "        print(next_smallest_palindrome(t))"
   ]
  },
  {
   "cell_type": "markdown",
   "metadata": {},
   "source": [
    "#### Find Two Non-Repeating Number"
   ]
  },
  {
   "cell_type": "code",
   "execution_count": 7,
   "metadata": {},
   "outputs": [
    {
     "name": "stdout",
     "output_type": "stream",
     "text": [
      "(7, 9)\n",
      "(2, 8)\n"
     ]
    }
   ],
   "source": [
    "def find_non_repeating_numbers(nums):\n",
    "    xor = nums[0]\n",
    "    for i in range(1, len(nums)):\n",
    "        xor ^= nums[i]\n",
    "    most_right_bit = xor & ~(xor - 1)\n",
    "    a = b = 0\n",
    "    for num in nums:\n",
    "        if num & most_right_bit:    a ^= num\n",
    "        else:    b ^= num\n",
    "    return a, b\n",
    "\n",
    "if __name__=='__main__':\n",
    "    tc = [[2,4,7,9,2,4],\n",
    "          [4,5,4,5,3,2,9,3,9,8]]\n",
    "    for t in tc:\n",
    "        print(find_non_repeating_numbers(t))"
   ]
  },
  {
   "cell_type": "markdown",
   "metadata": {},
   "source": [
    "#### Count Inversions while sorting an array"
   ]
  },
  {
   "cell_type": "code",
   "execution_count": 8,
   "metadata": {},
   "outputs": [
    {
     "name": "stdout",
     "output_type": "stream",
     "text": [
      "6\n",
      "3\n",
      "2\n",
      "3\n",
      "4\n",
      "6\n"
     ]
    }
   ],
   "source": [
    "def merge(nums, arr, low, mid, high):\n",
    "    i = k = low\n",
    "    inv_count, j = 0, mid + 1\n",
    "    while i <= mid and j <= high:\n",
    "        if nums[i] <= nums[j]:\n",
    "            arr[k] = nums[i]\n",
    "            i += 1\n",
    "        else:\n",
    "            arr[k] = nums[j]\n",
    "            inv_count += (mid - i + 1)\n",
    "            j += 1\n",
    "        k += 1\n",
    "    while i <= mid:\n",
    "        arr[k] = nums[i]\n",
    "        i += 1\n",
    "        k += 1\n",
    "    while j <= high:\n",
    "        arr[k] = nums[j]\n",
    "        j += 1\n",
    "        k += 1\n",
    "    for i in range(low, high + 1):\n",
    "        nums[i] = arr[i]\n",
    "    return inv_count\n",
    "\n",
    "def merge_sort(nums, arr, low, high):\n",
    "    inv_count = 0\n",
    "    if low >= high:    return inv_count\n",
    "    mid = (low + high) // 2\n",
    "    inv_count += merge_sort(nums, arr, low, mid)\n",
    "    inv_count += merge_sort(nums, arr, mid + 1, high)\n",
    "    inv_count += merge(nums, arr, low, mid, high)\n",
    "    return inv_count\n",
    "\n",
    "if __name__=='__main__':\n",
    "    tc = [[9, 1, 6, 4, 5],\n",
    "          [1, 2, 5, 4, 3],\n",
    "          [5, 17, 100, 11],\n",
    "          [3, 2, 1],\n",
    "          [4, 1, 3, 2],\n",
    "          [8, 4, 2, 1]]\n",
    "    for t in tc:\n",
    "        arr = [0] * len(t)\n",
    "        print(merge_sort(t, arr, 0, len(t) - 1))"
   ]
  },
  {
   "cell_type": "markdown",
   "metadata": {},
   "source": [
    "#### Merge Two Sorted Arrays"
   ]
  },
  {
   "cell_type": "code",
   "execution_count": 9,
   "metadata": {},
   "outputs": [
    {
     "name": "stdout",
     "output_type": "stream",
     "text": [
      "[0, 1, 2, 3] [5, 6, 7, 8, 9]\n",
      "[5, 10] [12, 18, 20]\n"
     ]
    }
   ],
   "source": [
    "# Better-Brute Force\n",
    "# Time: O((m * n))\n",
    "# Space: O(1)\n",
    "\n",
    "def merge_sorted_arr(nums1, nums2):\n",
    "    m, n = len(nums1), len(nums2)\n",
    "    i = j = 0\n",
    "    while i < m:\n",
    "        if nums1[i] > nums2[j]:\n",
    "            nums1[i], nums2[j] = nums2[j], nums1[i]\n",
    "            for k in range(j, n - 1):\n",
    "                if nums2[k] > nums2[k + 1]:    nums2[k], nums2[k + 1] = nums2[k + 1], nums2[k]\n",
    "                else:    break\n",
    "        i += 1\n",
    "\n",
    "if __name__=='__main__':\n",
    "    tc = [[[1, 3, 5, 7], [0, 2, 6, 8, 9]],\n",
    "          [[10, 12], [5, 18, 20]]]\n",
    "    for nums1, nums2 in tc:\n",
    "        merge_sorted_arr(nums1, nums2)\n",
    "        print(nums1, nums2)"
   ]
  },
  {
   "cell_type": "code",
   "execution_count": 10,
   "metadata": {},
   "outputs": [
    {
     "name": "stdout",
     "output_type": "stream",
     "text": [
      "[0, 1, 2, 3] [5, 6, 7, 8, 9]\n",
      "[5, 10] [12, 18, 20]\n"
     ]
    }
   ],
   "source": [
    "# Optimal Solution\n",
    "# Time: O((m + n) * (log(m + n)))\n",
    "# Space: O(1)\n",
    "\n",
    "\n",
    "def merge_sorted_arr(nums1, nums2):\n",
    "    m, n = len(nums1), len(nums2)\n",
    "    gap = (m + n) // 2 + ((m + n) % 2)\n",
    "    while gap:\n",
    "        i = 0\n",
    "        while i + gap < m:\n",
    "            if nums1[i] > nums1[i + gap]:    nums1[i], nums1[i + gap] = nums1[i + gap], nums1[i]\n",
    "            i += 1\n",
    "        j = gap - m if gap > m else 0\n",
    "        while i < m and j < n:\n",
    "            if nums1[i] > nums2[j]:\n",
    "                nums1[i], nums2[j] = nums2[j], nums1[i]\n",
    "            i += 1\n",
    "            j += 1\n",
    "        if j < n:\n",
    "            j = 0\n",
    "            while j + gap < n:\n",
    "                if nums2[j] > nums2[j + gap]:\n",
    "                    nums2[j], nums2[j + gap] = nums2[j + gap], nums2[j]\n",
    "                j += 1\n",
    "        gap = (gap // 2) + (gap % 2) if gap > 1 else 0\n",
    "\n",
    "if __name__=='__main__':\n",
    "    tc = [[[1, 3, 5, 7], [0, 2, 6, 8, 9]],\n",
    "          [[10, 12], [5, 18, 20]]]\n",
    "    for nums1, nums2 in tc:\n",
    "        merge_sorted_arr(nums1, nums2)\n",
    "        print(nums1, nums2)"
   ]
  },
  {
   "cell_type": "markdown",
   "metadata": {},
   "source": [
    "#### Median of Two Sorted Arrays"
   ]
  },
  {
   "cell_type": "code",
   "execution_count": 11,
   "metadata": {},
   "outputs": [
    {
     "name": "stdout",
     "output_type": "stream",
     "text": [
      "2\n",
      "2.5\n",
      "0.0\n",
      "1\n",
      "2\n"
     ]
    }
   ],
   "source": [
    "# Better-Brute Force\n",
    "# Time: O(m1 + n1)\n",
    "# Space: O(1)\n",
    "\n",
    "def median(nums1, nums2):\n",
    "    m, n = len(nums1), len(nums2)\n",
    "    i = j = count = 0\n",
    "    while i < m and j < n:\n",
    "        if nums1[i] <= nums2[j]:    a, i = nums1[i], i + 1\n",
    "        else:    a, j = nums2[j], j + 1\n",
    "        count += 1\n",
    "        if count == (m + n) // 2:\n",
    "            if (m + n) % 2:    return min(nums1[i] if i < m else float('inf'), nums2[j] if j < n else float('inf'))\n",
    "            else:\n",
    "                return (a + min(nums1[i] if i < m else float('inf'), nums2[j] if j < n else float('inf'))) / 2\n",
    "    while i < m:\n",
    "        if count == (m + n) // 2:\n",
    "            if (m + n) % 2:    return nums1[i]\n",
    "            else:\n",
    "                return (nums1[i - 1] + nums1[i]) / 2\n",
    "        i += 1\n",
    "        count += 1\n",
    "    while j < n:\n",
    "        if count == (m + n) // 2:\n",
    "            if (m + n) % 2:    return nums2[j]\n",
    "            else:\n",
    "                return (nums2[j - 1] + nums2[j]) / 2\n",
    "        j += 1\n",
    "        count += 1\n",
    "\n",
    "if __name__=='__main__':\n",
    "    tc = [[[1,3],[2]],\n",
    "          [[1,2],[3,4]],\n",
    "          [[0,0],[0,0]],\n",
    "          [[], [1]],\n",
    "          [[2], []]]\n",
    "    for nums1, nums2 in tc:\n",
    "        print(median(nums1, nums2))"
   ]
  },
  {
   "cell_type": "code",
   "execution_count": 12,
   "metadata": {
    "scrolled": false
   },
   "outputs": [
    {
     "name": "stdout",
     "output_type": "stream",
     "text": [
      "2\n",
      "2.5\n",
      "0.0\n",
      "1\n",
      "2\n",
      "5.0\n",
      "3.5\n"
     ]
    }
   ],
   "source": [
    "# Optimal Approach\n",
    "# Time: O(log(m1 + n1))\n",
    "# Space: O(1)\n",
    "\n",
    "def median(nums1, nums2):\n",
    "    if len(nums2) < len(nums1):    return median(nums2, nums1)\n",
    "    m, n = len(nums1), len(nums2)\n",
    "    partition = (m + n + 1) // 2\n",
    "    low, high = 0, m\n",
    "    while low <= high:\n",
    "        mid = (low + high) // 2\n",
    "        l1, r1 = nums1[mid - 1] if mid > 0 else float('-inf'), nums1[mid] if mid < m else float('inf')\n",
    "        l2, r2 = nums2[partition - mid - 1] if partition - mid - 1 > -1 else float('-inf'),\\\n",
    "                 nums2[partition - mid] if partition - mid < n else float('inf')\n",
    "        if l1 > r2:\n",
    "            high = mid - 1\n",
    "        elif l2 > r1:\n",
    "            low = mid + 1\n",
    "        else:\n",
    "            if (m + n) % 2:\n",
    "                return max(l1, l2)\n",
    "            return (max(l1, l2) + min(r1, r2)) / 2\n",
    "\n",
    "if __name__=='__main__':\n",
    "    tc = [[[1,3],[2]],\n",
    "          [[1,2],[3,4]],\n",
    "          [[0,0],[0,0]],\n",
    "          [[], [1]],\n",
    "          [[2], []],\n",
    "          [[1,3,4,7,10,12],[2,3,6,15]],\n",
    "          [[1,2,3],[4,5,6]]]\n",
    "    for nums1, nums2 in tc:\n",
    "        print(median(nums1, nums2))"
   ]
  },
  {
   "cell_type": "markdown",
   "metadata": {},
   "source": [
    "#### Kth Smallest Element"
   ]
  },
  {
   "cell_type": "code",
   "execution_count": 13,
   "metadata": {},
   "outputs": [
    {
     "name": "stdout",
     "output_type": "stream",
     "text": [
      "6\n",
      "3\n",
      "256\n",
      "35\n",
      "6\n",
      "1\n"
     ]
    }
   ],
   "source": [
    "def kth_smallest_element(nums1, nums2, m, n, k):\n",
    "    if n < m:    return kth_smallest_element(nums2, nums1, n, m, k)\n",
    "    low, high = max(0, k - n), min(k, m)\n",
    "    while low <= high:\n",
    "        mid = (low + high) // 2\n",
    "        l1, r1 = nums1[mid - 1] if mid > 0 else float('-inf'), nums1[mid] if mid < m else float('inf')\n",
    "        l2, r2 = nums2[k - mid - 1] if k - mid > 0 else float('-inf'), nums2[k - mid] if k - mid < n else float('inf')\n",
    "        if l1 > r2:    high = mid - 1\n",
    "        elif l2 > r1:    low = mid + 1\n",
    "        else:    return max(l1, l2)\n",
    "\n",
    "if __name__=='__main__':\n",
    "    tc = [[[2, 3, 6, 7, 9],[1, 4, 8, 10],5,4,5],\n",
    "          [[-2, -1, 3, 5, 6, 8],[1, 4, 8, 10],6,4,4],\n",
    "          [[100 ,112, 256, 349, 770],[72, 86, 113, 119, 265, 445, 892],5,7,7],\n",
    "          [[10, 20, 40, 60],[15, 35, 50, 70, 100],4,5,4],\n",
    "          [[2, 3, 6, 7, 9],[1, 4, 8, 10],5,4,5],\n",
    "          [[1],[2],1,1,1]]\n",
    "    for nums1, nums2, m, n, k in tc:\n",
    "        print(kth_smallest_element(nums1, nums2, m, n, k))"
   ]
  },
  {
   "cell_type": "markdown",
   "metadata": {},
   "source": [
    "#### Design data structure that support Insert, remove(), findMiddle(), deleteMiddle() operation in O(1)"
   ]
  },
  {
   "cell_type": "code",
   "execution_count": 14,
   "metadata": {},
   "outputs": [
    {
     "name": "stdout",
     "output_type": "stream",
     "text": [
      "44\n",
      "True\n",
      "33\n",
      "True\n",
      "33\n",
      "22\n"
     ]
    }
   ],
   "source": [
    "class Node:\n",
    "    def __init__(self, val, prev = None, nnext = None):\n",
    "        self.val = val\n",
    "        self.prev, self.next = prev, nnext\n",
    "\n",
    "class ModifiedStack:\n",
    "    def __init__(self):\n",
    "        self.head = self.tail = self.middle = None\n",
    "        self.count = 0\n",
    "    \n",
    "    def push(self, val):\n",
    "        self.count += 1\n",
    "        if not self.head:\n",
    "            self.head = self.tail = self.middle = Node(val)\n",
    "            return True\n",
    "        self.tail.next = Node(val, self.tail)\n",
    "        self.tail = self.tail.next\n",
    "        if self.count % 2:\n",
    "            self.middle = self.middle.next\n",
    "        return True\n",
    "    \n",
    "    def pop(self):\n",
    "        if not self.head:\n",
    "            return False\n",
    "        node = self.tail\n",
    "        self.tail = node.prev\n",
    "        node = None\n",
    "        self.count -= 1\n",
    "        if self.count % 2 == 0:\n",
    "            self.middle = self.middle.prev\n",
    "        return True\n",
    "    \n",
    "    def find_middle(self):\n",
    "        return self.middle.val if self.middle else -1\n",
    "    \n",
    "    def delete_middle(self):\n",
    "        if not self.head:\n",
    "            return False\n",
    "        pre = self.middle.prev\n",
    "        pre.next = self.middle.next\n",
    "        self.middle.next.prev = pre\n",
    "        self.middle = None\n",
    "        self.middle = pre\n",
    "        self.count -= 1\n",
    "        return True\n",
    "\n",
    "\n",
    "if __name__=='__main__':\n",
    "    ms = ModifiedStack()\n",
    "    ms.push(11)\n",
    "    ms.push(22)\n",
    "    ms.push(33)\n",
    "    ms.push(44)\n",
    "    ms.push(55)\n",
    "    ms.push(66)\n",
    "    ms.push(77)\n",
    "    print(ms.find_middle())\n",
    "    print(ms.pop())\n",
    "    print(ms.find_middle())\n",
    "    print(ms.pop())\n",
    "    print(ms.find_middle())\n",
    "    ms.delete_middle()\n",
    "    print(ms.find_middle())"
   ]
  },
  {
   "cell_type": "markdown",
   "metadata": {},
   "source": [
    "## Linked List"
   ]
  },
  {
   "cell_type": "markdown",
   "metadata": {},
   "source": [
    "#### Reverse K Linked List"
   ]
  },
  {
   "cell_type": "code",
   "execution_count": 15,
   "metadata": {},
   "outputs": [
    {
     "name": "stdout",
     "output_type": "stream",
     "text": [
      "Original List: 4 -> 2 -> 8 -> 5 -> 1 -> 6 -> 3 -> 7 -> X\n",
      "Reversed List: 8 -> 2 -> 4 -> 6 -> 1 -> 5 -> 7 -> 3 -> X\n"
     ]
    }
   ],
   "source": [
    "class Node:\n",
    "    def __init__(self, val):\n",
    "        self.val = val\n",
    "        self.prev = self.next = None\n",
    "\n",
    "def display(head):\n",
    "    while head:\n",
    "        print(head.val, end = ' -> ')\n",
    "        head = head.next\n",
    "    print('X')\n",
    "\n",
    "def reverse_kll(head, k):\n",
    "    if not head:    return head\n",
    "    count = 0\n",
    "    pre = None\n",
    "    ptr = head\n",
    "    while ptr and count < k:\n",
    "        post = ptr.next\n",
    "        ptr.next = pre\n",
    "        pre = ptr\n",
    "        ptr = post\n",
    "        count += 1\n",
    "    head.next = reverse_kll(post, k)\n",
    "    return pre\n",
    "\n",
    "if __name__=='__main__':\n",
    "    head = Node(4)\n",
    "    head.next = Node(2)\n",
    "    head.next.next = Node(8)\n",
    "    head.next.next.next = Node(5)\n",
    "    head.next.next.next.next = Node(1)\n",
    "    head.next.next.next.next.next = Node(6)\n",
    "    head.next.next.next.next.next.next = Node(3)\n",
    "    head.next.next.next.next.next.next.next = Node(7)\n",
    "    print('Original List: ', end = '')\n",
    "    display(head)\n",
    "    head1 = reverse_kll(head, 3)\n",
    "    print('Reversed List: ', end = '')\n",
    "    display(head1)"
   ]
  },
  {
   "cell_type": "markdown",
   "metadata": {},
   "source": [
    "#### Intersection point of the two LinkedList"
   ]
  },
  {
   "cell_type": "code",
   "execution_count": 16,
   "metadata": {},
   "outputs": [
    {
     "name": "stdout",
     "output_type": "stream",
     "text": [
      "7\n"
     ]
    }
   ],
   "source": [
    "class Node:\n",
    "    def __init__(self, val):\n",
    "        self.val = val\n",
    "        self.prev = self.next = None\n",
    "\n",
    "def move_ahead(ptr, dist):\n",
    "    while dist:\n",
    "        ptr = ptr.next\n",
    "        dist -= 1\n",
    "    return ptr\n",
    "\n",
    "def intersection_point(head1, head2):\n",
    "    ptr = head1\n",
    "    m = n = 0\n",
    "    while ptr:\n",
    "        ptr = ptr.next\n",
    "        m += 1\n",
    "    ptr = head2\n",
    "    while ptr:\n",
    "        ptr = ptr.next\n",
    "        n += 1\n",
    "    if m > n:    ptr1, ptr2 = move_ahead(head1, m - n), head2\n",
    "    else:    ptr1, ptr2 = move_ahead(head2, n - m), head1\n",
    "    while ptr1 is not ptr2:\n",
    "        ptr1 = ptr1.next\n",
    "        ptr2 = ptr2.next\n",
    "    return ptr1\n",
    "\n",
    "if __name__=='__main__':\n",
    "    headA = Node(4)\n",
    "    headB = Node(5)\n",
    "    headA.next = Node(7)\n",
    "    headA.next.next = Node(9)\n",
    "    headB.next = headA.next\n",
    "\n",
    "#     headA = Node(4)\n",
    "#     headB = Node(5)\n",
    "#     headA.next = Node(7)\n",
    "#     headA.next.next = Node(9)\n",
    "#     headB.next = Node(17)\n",
    "#     headB.next.next = Node(18)\n",
    "    \n",
    "    node = intersection_point(headA, headB)\n",
    "    if node:    print(node.val)\n",
    "    else:    print(-1)"
   ]
  },
  {
   "cell_type": "markdown",
   "metadata": {},
   "source": [
    "#### Segregate Linked List into Even and Odd"
   ]
  },
  {
   "cell_type": "code",
   "execution_count": 17,
   "metadata": {},
   "outputs": [
    {
     "name": "stdout",
     "output_type": "stream",
     "text": [
      "4 -> 2 -> 6 -> 8 -> 7 -> 3 -> 5 -> 1 -> X\n"
     ]
    }
   ],
   "source": [
    "class Node:\n",
    "    def __init__(self, val):\n",
    "        self.val = val\n",
    "        self.prev = self.next = None\n",
    "\n",
    "def display(node):\n",
    "    while node:\n",
    "        print(node.val, end = ' -> ')\n",
    "        node = node.next\n",
    "    print('X')\n",
    "\n",
    "def segregate_ll(head):\n",
    "    even = None\n",
    "    pre, ptr = None, head\n",
    "    while ptr:\n",
    "        if ptr.val % 2 == 0:\n",
    "            if not pre:\n",
    "                even = head\n",
    "            else:\n",
    "                if not even:\n",
    "                    pre.next = ptr.next\n",
    "                    ptr.next = head\n",
    "                    even = ptr\n",
    "                    head = even\n",
    "                else:\n",
    "                    pre.next = ptr.next\n",
    "                    ptr.next = even.next\n",
    "                    even.next = ptr\n",
    "                    even = ptr\n",
    "                    if pre.next == even:\n",
    "                        pre = ptr\n",
    "                        ptr = ptr.next\n",
    "                        continue\n",
    "                ptr = pre.next\n",
    "                continue\n",
    "        pre = ptr\n",
    "        ptr = ptr.next\n",
    "    return head\n",
    "\n",
    "if __name__=='__main__':\n",
    "    head = Node(4)\n",
    "    head.next = Node(2)\n",
    "    head.next.next = Node(7)\n",
    "    head.next.next.next = Node(3)\n",
    "    head.next.next.next.next = Node(6)\n",
    "    head.next.next.next.next.next = Node(5)\n",
    "    head.next.next.next.next.next.next = Node(1)\n",
    "    head.next.next.next.next.next.next.next = Node(8)\n",
    "    \n",
    "#     node2 = Node(1)\n",
    "#     node2.next = Node(3)\n",
    "#     node2.next.next = Node(6)\n",
    "#     node2.next.next.next = Node(7)\n",
    "    \n",
    "    node = segregate_ll(head)\n",
    "    display(node)"
   ]
  },
  {
   "cell_type": "markdown",
   "metadata": {},
   "source": [
    "## Tree"
   ]
  },
  {
   "cell_type": "markdown",
   "metadata": {},
   "source": [
    "#### Binary Tree to Doubly Linked List Conversion"
   ]
  },
  {
   "cell_type": "code",
   "execution_count": 18,
   "metadata": {},
   "outputs": [
    {
     "name": "stdout",
     "output_type": "stream",
     "text": [
      "25 -> 12 -> 30 -> 10 -> 36 -> 15 -> X\n"
     ]
    }
   ],
   "source": [
    "class Node:\n",
    "    def __init__(self, val):\n",
    "        self.val = val\n",
    "        self.left = self.right = None\n",
    "\n",
    "class Tree:\n",
    "    def __init__(self):\n",
    "        self.head = self.tail = None\n",
    "    \n",
    "    def bt_to_dll(self, root):\n",
    "        if not root:    return root\n",
    "        self.bt_to_dll(root.left)\n",
    "        if not root.left and not self.head:\n",
    "            self.head = self.tail = root\n",
    "        else:\n",
    "            self.tail.right = root\n",
    "            root.left = self.tail\n",
    "            self.tail = root\n",
    "        self.bt_to_dll(root.right)\n",
    "    \n",
    "    def display(self):\n",
    "        while self.head:\n",
    "            print(self.head.val, end = ' -> ')\n",
    "            self.head = self.head.right\n",
    "        print('X')\n",
    "\n",
    "if __name__=='__main__':\n",
    "    tree = Tree()\n",
    "#     TC - 1\n",
    "#     root = Node(1)\n",
    "#     root.left = Node(2)\n",
    "#     root.right = Node(3)\n",
    "#     root.left.left = Node(4)\n",
    "#     root.left.right = Node(5)\n",
    "#     root.right.left = Node(6)\n",
    "#     root.right.right = Node(7)\n",
    "\n",
    "#     TC - 2\n",
    "\n",
    "#     root = Node(1)\n",
    "#     root.left = Node(2)\n",
    "#     root.right = Node(3)\n",
    "\n",
    "#     TC - 3\n",
    "    \n",
    "    root =  Node(10)\n",
    "    root.left =  Node(12)\n",
    "    root.right =  Node(15)\n",
    "    root.left.left =  Node(25)\n",
    "    root.left.right =  Node(30)\n",
    "    root.right.left =  Node(36)\n",
    "    tree.bt_to_dll(root)\n",
    "    tree.display()"
   ]
  },
  {
   "cell_type": "markdown",
   "metadata": {},
   "source": [
    "#### Find All Nodes Distance K in Binary Tree"
   ]
  },
  {
   "cell_type": "code",
   "execution_count": 19,
   "metadata": {},
   "outputs": [
    {
     "name": "stdout",
     "output_type": "stream",
     "text": [
      "[19, 11, 9, 23]\n"
     ]
    }
   ],
   "source": [
    "class Node:\n",
    "    def __init__(self, val):\n",
    "        self.val = val\n",
    "        self.left = self.right = None\n",
    "\n",
    "def print_k_nodes_downwards(root, k, res):\n",
    "    if not root or k < 0:    return root\n",
    "    print_k_nodes_downwards(root.left, k - 1, res)\n",
    "    if not k:    res.append(root.val)\n",
    "    print_k_nodes_downwards(root.right, k - 1, res)\n",
    "\n",
    "def find_k_nodes(node, target, k, res):\n",
    "    if not node:    return -1\n",
    "    if node == target:\n",
    "        print_k_nodes_downwards(node, k, res)\n",
    "        return 1\n",
    "    dleft = find_k_nodes(node.left, target, k, res)\n",
    "    if dleft != -1:\n",
    "        if dleft == k:\n",
    "            res.append(node.val)\n",
    "        else:\n",
    "            print_k_nodes_downwards(node.right, k - dleft - 1, res)\n",
    "        return 1 + dleft\n",
    "    dright = find_k_nodes(node.right, target, k, res)\n",
    "    if dright != -1:\n",
    "        if dright == k:\n",
    "            res.append(node.val)\n",
    "        else:\n",
    "            print_k_nodes_downwards(node.left, k - dright - 1, res)\n",
    "        return 1 + dright\n",
    "    return -1\n",
    "\n",
    "if __name__=='__main__':\n",
    "#     root = Node(20)\n",
    "#     root.left = Node(8)\n",
    "#     root.right = Node(22)\n",
    "#     root.left.left = Node(4)\n",
    "#     root.left.right = Node(12)\n",
    "#     root.left.right.left = Node(10)\n",
    "#     root.left.right.right = Node(14)\n",
    "#     target = root.left.right\n",
    "    \n",
    "    root = Node(1)\n",
    "    root.left = Node(2)\n",
    "    root.left.left = Node(4)\n",
    "    root.left.left.left = Node(9)\n",
    "    root.left.right = Node(5)\n",
    "    root.left.right.left = Node(6)\n",
    "    root.left.right.left.left = Node(12)\n",
    "    root.left.right.left.left.right = Node(19)\n",
    "    root.left.right.right = Node(7)\n",
    "    root.left.right.right.right = Node(10)\n",
    "    root.left.right.right.right.right = Node(11)\n",
    "    root.right = Node(23)\n",
    "    root.right.right = Node(32)\n",
    "    target = root.left.right\n",
    "    \n",
    "    res = []\n",
    "    find_k_nodes(root, target, 3, res)\n",
    "    print(res)"
   ]
  },
  {
   "cell_type": "markdown",
   "metadata": {},
   "source": [
    "#### Print All Nodes K Distance from Leaf Node in Binary Tree"
   ]
  },
  {
   "cell_type": "code",
   "execution_count": 20,
   "metadata": {},
   "outputs": [
    {
     "name": "stdout",
     "output_type": "stream",
     "text": [
      "[3, 8]\n"
     ]
    }
   ],
   "source": [
    "class Node:\n",
    "    def __init__(self, val):\n",
    "        self.val = val\n",
    "        self.left = self.right = None\n",
    "\n",
    "def find_k_leaf(root, k, path = []):\n",
    "    if not root:    return\n",
    "    if not root.left and not root.right:\n",
    "        if len(path) >= k and path[-k] != -1:\n",
    "            res.append(path[-k])\n",
    "            path[-k] = -1\n",
    "        return\n",
    "    path.append(root.val)\n",
    "    find_k_leaf(root.left, k, path)\n",
    "    find_k_leaf(root.right, k, path)\n",
    "    path.pop()\n",
    "\n",
    "if __name__=='__main__':\n",
    "    root = Node(3)\n",
    "    root.left = Node(8)\n",
    "    root.right = Node(9)\n",
    "    root.left.left = Node(11)\n",
    "    root.left.right = Node(7)\n",
    "    root.left.right.left = Node(6)\n",
    "    root.left.right.right = Node(12)\n",
    "    root.right.left = Node(8)\n",
    "    root.right.right = Node(3)\n",
    "    \n",
    "    res = []\n",
    "    find_k_leaf(root, 2)\n",
    "    print(res)"
   ]
  },
  {
   "cell_type": "markdown",
   "metadata": {},
   "source": [
    "#### Check whether Binary Tree is Binary Search Tree"
   ]
  },
  {
   "cell_type": "code",
   "execution_count": 2,
   "metadata": {},
   "outputs": [
    {
     "name": "stdout",
     "output_type": "stream",
     "text": [
      "True\n"
     ]
    }
   ],
   "source": [
    "class Node:\n",
    "    def __init__(self, val):\n",
    "        self.val = val\n",
    "        self.left = self.right = None\n",
    "\n",
    "def is_bst(root, mini = float('-inf'), maxi = float('inf')):\n",
    "    if not root:    return True\n",
    "    if not is_bst(root.left, mini, root.val - 1):    return False\n",
    "    if mini > root.val or root.val > maxi:    return False\n",
    "    if not is_bst(root.right, root.val + 1, maxi):    return False\n",
    "    return True\n",
    "\n",
    "if __name__=='__main__':\n",
    "    root = Node(12)\n",
    "    root.left = Node(4)\n",
    "    root.right = Node(25)\n",
    "    root.left.left = Node(2)\n",
    "    root.left.right = Node(9)\n",
    "    root.right.left = Node(16)\n",
    "    root.right.right = Node(32)\n",
    "    \n",
    "#     root = Node(2)\n",
    "#     root.left = Node(1)\n",
    "#     root.right = Node(3)\n",
    "    \n",
    "    print(is_bst(root))"
   ]
  },
  {
   "cell_type": "markdown",
   "metadata": {},
   "source": [
    "#### Lowest Common Ancestor of BT"
   ]
  },
  {
   "cell_type": "code",
   "execution_count": 17,
   "metadata": {},
   "outputs": [
    {
     "name": "stdout",
     "output_type": "stream",
     "text": [
      "3\n"
     ]
    }
   ],
   "source": [
    "class Node:\n",
    "    def __init__(self, val):\n",
    "        self.val = val\n",
    "        self.left = self.right = None\n",
    "\n",
    "def find_lca(root, node1, node2, found1 = False, found2 = False, lca = None):\n",
    "    if not root or lca:    return found1, found2, lca\n",
    "    fl, sl, lca = find_lca(root.left, node1, node2, found1, found2, lca)\n",
    "    fr, sr, lca = find_lca(root.right, node1, node2, found1, found2, lca)\n",
    "    if root.val == node1:    found1 = True\n",
    "    if root.val == node2:    found2 = True\n",
    "    found1 = found1 or fl or fr\n",
    "    found2 = found2 or sl or sr\n",
    "    if found1 and found2:\n",
    "        if not lca:    lca = root\n",
    "        return found1, found2, lca\n",
    "    return found1, found2, lca\n",
    "\n",
    "if __name__=='__main__':\n",
    "    root = Node(3)\n",
    "    root.left = Node(4)\n",
    "    root.right = Node(5)\n",
    "    root.left.left = Node(6)\n",
    "    root.left.right = Node(7)\n",
    "    root.right.left = Node(8)\n",
    "    root.right.right = Node(9)\n",
    "    _, _, lca = find_lca(root, 4, 9)\n",
    "    print(lca.val)"
   ]
  },
  {
   "cell_type": "code",
   "execution_count": null,
   "metadata": {},
   "outputs": [],
   "source": []
  }
 ],
 "metadata": {
  "kernelspec": {
   "display_name": "Python 3",
   "language": "python",
   "name": "python3"
  },
  "language_info": {
   "codemirror_mode": {
    "name": "ipython",
    "version": 3
   },
   "file_extension": ".py",
   "mimetype": "text/x-python",
   "name": "python",
   "nbconvert_exporter": "python",
   "pygments_lexer": "ipython3",
   "version": "3.6.8"
  }
 },
 "nbformat": 4,
 "nbformat_minor": 2
}
