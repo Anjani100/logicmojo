{
 "cells": [
  {
   "cell_type": "code",
   "execution_count": 8,
   "metadata": {},
   "outputs": [
    {
     "name": "stdout",
     "output_type": "stream",
     "text": [
      "6\n",
      "1\n",
      "12\n",
      "16\n"
     ]
    }
   ],
   "source": [
    "# Assignment - Lexicographical order method to solve next smallest palindrome\n",
    "# Time: O(n)\n",
    "# Space: O(n)\n",
    "\n",
    "def maximum_subarray(nums):\n",
    "    dp = [nums[0]]\n",
    "    for i in range(1, len(nums)):\n",
    "        dp.append(max(dp[-1] + nums[i], nums[i]))\n",
    "    return max(dp)\n",
    "\n",
    "if __name__=='__main__':\n",
    "    tc = [[-2,1,-3,4,-1,2,1,-5,4],\n",
    "          [1],\n",
    "          [-4, 2, -5, 1, 2, 3, 6, -5, 1],\n",
    "          [-5, 6, -7, 1, 4, -8, 16]]\n",
    "    for t in tc:\n",
    "        print(maximum_subarray(t))"
   ]
  },
  {
   "cell_type": "code",
   "execution_count": 2,
   "metadata": {},
   "outputs": [
    {
     "name": "stdout",
     "output_type": "stream",
     "text": [
      "6\n",
      "1\n",
      "12\n",
      "16\n"
     ]
    }
   ],
   "source": [
    "# Constant Space Approach (Kadane's Algorithm)\n",
    "# Time: O(n)\n",
    "# Space: O(1)\n",
    "\n",
    "def maximum_subarray(nums):\n",
    "    sum_so_far = sum_till_now = nums[0]\n",
    "    for i in range(1, len(nums)):\n",
    "        sum_till_now = max(sum_till_now + nums[i], nums[i])\n",
    "        sum_so_far = max(sum_till_now, sum_so_far)\n",
    "    return sum_so_far\n",
    "\n",
    "if __name__=='__main__':\n",
    "    tc = [[-2,1,-3,4,-1,2,1,-5,4],\n",
    "          [1],\n",
    "          [-4, 2, -5, 1, 2, 3, 6, -5, 1],\n",
    "          [-5, 6, -7, 1, 4, -8, 16]]\n",
    "    for t in tc:\n",
    "        print(maximum_subarray(t))"
   ]
  },
  {
   "cell_type": "code",
   "execution_count": null,
   "metadata": {},
   "outputs": [],
   "source": []
  }
 ],
 "metadata": {
  "kernelspec": {
   "display_name": "Python 3",
   "language": "python",
   "name": "python3"
  },
  "language_info": {
   "codemirror_mode": {
    "name": "ipython",
    "version": 3
   },
   "file_extension": ".py",
   "mimetype": "text/x-python",
   "name": "python",
   "nbconvert_exporter": "python",
   "pygments_lexer": "ipython3",
   "version": "3.6.8"
  }
 },
 "nbformat": 4,
 "nbformat_minor": 2
}
