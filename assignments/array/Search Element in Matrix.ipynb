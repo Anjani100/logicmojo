{
 "cells": [
  {
   "cell_type": "code",
   "execution_count": 7,
   "metadata": {},
   "outputs": [
    {
     "name": "stdout",
     "output_type": "stream",
     "text": [
      "True\n",
      "False\n"
     ]
    }
   ],
   "source": [
    "# Assignment - In-place techniques matrix rotation method by 90 degree\n",
    "# Time: O(n + n)\n",
    "# Space: O(1)\n",
    "\n",
    "def search_element(matrix, val):\n",
    "    m, n = len(matrix), len(matrix[0])\n",
    "    i, j = 0, n - 1\n",
    "    while i < m:\n",
    "        if matrix[i][j] == val:\n",
    "            return True\n",
    "        if matrix[i][j] < val:\n",
    "            i += 1\n",
    "        else:\n",
    "            j -= 1\n",
    "        if i == m or j < 0:\n",
    "            return False\n",
    "\n",
    "if __name__=='__main__':\n",
    "    tc = [[[[10, 20, 30, 40],[15, 25, 36, 46],[27, 29, 37, 48],[32, 33, 39, 50]], 32],\n",
    "          [[[10, 20, 30, 40],[15, 25, 36, 46],[27, 29, 37, 48],[32, 33, 39, 50]], 59]]\n",
    "    for t in tc:\n",
    "        print(search_element(t[0], t[1]))"
   ]
  },
  {
   "cell_type": "code",
   "execution_count": null,
   "metadata": {},
   "outputs": [],
   "source": []
  }
 ],
 "metadata": {
  "kernelspec": {
   "display_name": "Python 3",
   "language": "python",
   "name": "python3"
  },
  "language_info": {
   "codemirror_mode": {
    "name": "ipython",
    "version": 3
   },
   "file_extension": ".py",
   "mimetype": "text/x-python",
   "name": "python",
   "nbconvert_exporter": "python",
   "pygments_lexer": "ipython3",
   "version": "3.6.8"
  }
 },
 "nbformat": 4,
 "nbformat_minor": 2
}
