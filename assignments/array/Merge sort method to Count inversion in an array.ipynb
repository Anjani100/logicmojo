{
 "cells": [
  {
   "cell_type": "code",
   "execution_count": 11,
   "metadata": {},
   "outputs": [
    {
     "name": "stdout",
     "output_type": "stream",
     "text": [
      "6\n",
      "3\n",
      "2\n",
      "3\n",
      "4\n",
      "5\n"
     ]
    }
   ],
   "source": [
    "def merge(arr):\n",
    "    n = len(arr)\n",
    "    if n < 2: return 0\n",
    "    mid = n // 2\n",
    "    l = arr[:mid]\n",
    "    r = arr[mid:]\n",
    "    count = 0\n",
    "    count += merge(l)\n",
    "    count += merge(r)\n",
    "    i = j = k = 0\n",
    "    while i < len(l) and j < len(r):\n",
    "        if l[i] <= r[j]:\n",
    "            arr[k] = l[i]\n",
    "            i += 1\n",
    "        else:\n",
    "            arr[k] = r[j]\n",
    "            count += (mid - i + 1)\n",
    "            j += 1\n",
    "        k += 1\n",
    "    while i < len(l):\n",
    "        arr[k] = l[i]\n",
    "        i += 1\n",
    "        k += 1\n",
    "    while j < len(r):\n",
    "        arr[k] = r[j]\n",
    "        j += 1\n",
    "        k += 1\n",
    "    return count\n",
    "\n",
    "if __name__=='__main__':\n",
    "    tc = [[9, 1, 6, 4, 5],\n",
    "          [1, 2, 5, 4, 3],\n",
    "          [5, 17, 100, 11],\n",
    "          [3, 2, 1],\n",
    "          [4, 1, 3, 2],\n",
    "          [8, 4, 2, 1]]\n",
    "    for t in tc:\n",
    "        print(merge(t) // 2)"
   ]
  },
  {
   "cell_type": "code",
   "execution_count": null,
   "metadata": {},
   "outputs": [],
   "source": []
  }
 ],
 "metadata": {
  "kernelspec": {
   "display_name": "Python 3",
   "language": "python",
   "name": "python3"
  },
  "language_info": {
   "codemirror_mode": {
    "name": "ipython",
    "version": 3
   },
   "file_extension": ".py",
   "mimetype": "text/x-python",
   "name": "python",
   "nbconvert_exporter": "python",
   "pygments_lexer": "ipython3",
   "version": "3.6.8"
  }
 },
 "nbformat": 4,
 "nbformat_minor": 2
}
