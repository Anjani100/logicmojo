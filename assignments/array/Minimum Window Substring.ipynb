{
 "cells": [
  {
   "cell_type": "code",
   "execution_count": 1,
   "metadata": {},
   "outputs": [
    {
     "name": "stdout",
     "output_type": "stream",
     "text": [
      "BANC\n",
      "skz\n",
      "tori\n"
     ]
    }
   ],
   "source": [
    "# Time: O(n + p)\n",
    "# Space: O(n + p)\n",
    "\n",
    "from collections import defaultdict\n",
    "\n",
    "def min_window(text, ptr):\n",
    "    ascii_text, ascii_ptr = defaultdict(int), defaultdict(int)\n",
    "    for p in ptr:   ascii_ptr[p] += 1\n",
    "    n, p = len(text), len(ascii_ptr)\n",
    "    count = start = 0\n",
    "    window = ''\n",
    "    for i in range(n):\n",
    "        ascii_text[text[i]] += 1\n",
    "        if count < p:\n",
    "            if ascii_text[text[i]] == ascii_ptr[text[i]]:\n",
    "                count += 1\n",
    "        if count == p:\n",
    "            while ascii_text[text[start]] > ascii_ptr[text[start]]:\n",
    "                ascii_text[text[start]] -= 1\n",
    "                start += 1\n",
    "            window = min(window, text[start:i + 1], key = len) if window else text[start:i + 1]\n",
    "    return window\n",
    "\n",
    "if __name__=='__main__':\n",
    "    tc = [[\"ADOBECODEBANC\",\"ABC\"],\n",
    "          [\"zaaskzaa\", \"zsk\"],\n",
    "          [\"tutorial\",\"oti\"]]\n",
    "    for t, p in tc:\n",
    "        print(min_window(t, p))"
   ]
  },
  {
   "cell_type": "code",
   "execution_count": null,
   "metadata": {},
   "outputs": [],
   "source": []
  }
 ],
 "metadata": {
  "kernelspec": {
   "display_name": "Python 3",
   "language": "python",
   "name": "python3"
  },
  "language_info": {
   "codemirror_mode": {
    "name": "ipython",
    "version": 3
   },
   "file_extension": ".py",
   "mimetype": "text/x-python",
   "name": "python",
   "nbconvert_exporter": "python",
   "pygments_lexer": "ipython3",
   "version": "3.6.8"
  }
 },
 "nbformat": 4,
 "nbformat_minor": 2
}
