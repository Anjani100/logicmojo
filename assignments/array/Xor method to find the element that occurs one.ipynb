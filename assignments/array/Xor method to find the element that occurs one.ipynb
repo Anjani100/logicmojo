{
 "cells": [
  {
   "cell_type": "code",
   "execution_count": 2,
   "metadata": {},
   "outputs": [
    {
     "name": "stdout",
     "output_type": "stream",
     "text": [
      "6\n",
      "3\n",
      "6\n"
     ]
    }
   ],
   "source": [
    "# Time: O(n)\n",
    "# Space: O(1)\n",
    "\n",
    "def find_unique_element(arr):\n",
    "    unique = arr[0]\n",
    "    for i in range(1, len(arr)):\n",
    "        unique ^= arr[i]\n",
    "    return unique\n",
    "\n",
    "if __name__=='__main__':\n",
    "    tc = [[6,2,4,3,4,2,3],\n",
    "          [-1,2,-1,3,2],\n",
    "          [9,4,9,6,4]]\n",
    "    for t in tc:\n",
    "        print(find_unique_element(t))"
   ]
  },
  {
   "cell_type": "code",
   "execution_count": null,
   "metadata": {},
   "outputs": [],
   "source": []
  }
 ],
 "metadata": {
  "kernelspec": {
   "display_name": "Python 3",
   "language": "python",
   "name": "python3"
  },
  "language_info": {
   "codemirror_mode": {
    "name": "ipython",
    "version": 3
   },
   "file_extension": ".py",
   "mimetype": "text/x-python",
   "name": "python",
   "nbconvert_exporter": "python",
   "pygments_lexer": "ipython3",
   "version": "3.6.8"
  }
 },
 "nbformat": 4,
 "nbformat_minor": 2
}
