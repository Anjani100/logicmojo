{
 "cells": [
  {
   "cell_type": "code",
   "execution_count": 9,
   "metadata": {},
   "outputs": [
    {
     "name": "stdout",
     "output_type": "stream",
     "text": [
      "5\n",
      "6\n",
      "5\n",
      "8\n",
      "-1\n"
     ]
    }
   ],
   "source": [
    "# Time: O(n)\n",
    "# Space: O(n)\n",
    "\n",
    "def max_range(arr):\n",
    "    n = len(arr)\n",
    "    maxi = [arr[n - 1]]\n",
    "    for i in range(n - 2, -1, -1):\n",
    "        maxi.append(max(maxi[-1], arr[i]))\n",
    "    maxi.reverse()\n",
    "    i = j = 0\n",
    "    diff = -1\n",
    "    while i < n and j < n:\n",
    "        if arr[i] < maxi[j]:\n",
    "            diff = max(diff, j - i)\n",
    "            j += 1\n",
    "        else:\n",
    "            i += 1\n",
    "    return diff\n",
    "\n",
    "if __name__=='__main__':\n",
    "    tc = [[9, 10, 2, 6, 7, 12, 8, 1],\n",
    "          [35, 9, 12, 3, 2, 70, 31, 33, 1],\n",
    "          [1, 2, 3, 4, 5, 6],\n",
    "          [9, 2, 3, 4, 5, 6, 7, 8, 18, 0],\n",
    "          [6, 5, 4, 3, 2, 1]]\n",
    "    for t in tc:\n",
    "        print(max_range(t))"
   ]
  },
  {
   "cell_type": "code",
   "execution_count": null,
   "metadata": {},
   "outputs": [],
   "source": []
  }
 ],
 "metadata": {
  "kernelspec": {
   "display_name": "Python 3",
   "language": "python",
   "name": "python3"
  },
  "language_info": {
   "codemirror_mode": {
    "name": "ipython",
    "version": 3
   },
   "file_extension": ".py",
   "mimetype": "text/x-python",
   "name": "python",
   "nbconvert_exporter": "python",
   "pygments_lexer": "ipython3",
   "version": "3.6.8"
  }
 },
 "nbformat": 4,
 "nbformat_minor": 2
}
