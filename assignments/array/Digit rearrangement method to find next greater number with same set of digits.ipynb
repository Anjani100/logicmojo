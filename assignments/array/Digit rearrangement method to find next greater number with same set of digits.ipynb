{
 "cells": [
  {
   "cell_type": "code",
   "execution_count": 8,
   "metadata": {},
   "outputs": [
    {
     "name": "stdout",
     "output_type": "stream",
     "text": [
      "251678\n",
      "12354\n"
     ]
    }
   ],
   "source": [
    "# Time: O(nlogn)\n",
    "# Space: O(1)\n",
    "\n",
    "def next_greater_element(nums):\n",
    "    n = len(nums)\n",
    "    nums = list(nums)\n",
    "    for i in range(n - 1, 0, -1):\n",
    "        if nums[i] > nums[i - 1]:\n",
    "            mini = i\n",
    "            for j in range(i + 1, n):\n",
    "                if nums[mini] > nums[j] > nums[i - 1]:\n",
    "                    mini = j\n",
    "            nums[i - 1], nums[mini] = nums[mini], nums[i - 1]\n",
    "            nums = nums[:i] + sorted(nums[i:])\n",
    "            return ''.join(nums)\n",
    "    return ''.join(nums)\n",
    "\n",
    "if __name__=='__main__':\n",
    "    test_cases = ['218765', '12345']\n",
    "    for tc in test_cases:\n",
    "        print(next_greater_element(tc))"
   ]
  },
  {
   "cell_type": "code",
   "execution_count": null,
   "metadata": {},
   "outputs": [],
   "source": []
  }
 ],
 "metadata": {
  "kernelspec": {
   "display_name": "Python 3",
   "language": "python",
   "name": "python3"
  },
  "language_info": {
   "codemirror_mode": {
    "name": "ipython",
    "version": 3
   },
   "file_extension": ".py",
   "mimetype": "text/x-python",
   "name": "python",
   "nbconvert_exporter": "python",
   "pygments_lexer": "ipython3",
   "version": "3.6.8"
  }
 },
 "nbformat": 4,
 "nbformat_minor": 2
}
