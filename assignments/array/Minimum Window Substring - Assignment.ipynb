{
 "cells": [
  {
   "cell_type": "code",
   "execution_count": 4,
   "metadata": {},
   "outputs": [
    {
     "name": "stdout",
     "output_type": "stream",
     "text": [
      "dbca\n"
     ]
    }
   ],
   "source": [
    "# Time: O(m + n)\n",
    "# Space: O(m + n)\n",
    "\n",
    "from collections import defaultdict\n",
    "\n",
    "def min_window(text):\n",
    "    ascii_ptr, ascii_text = defaultdict(int), defaultdict(int)\n",
    "    for t in text:\n",
    "        if ascii_ptr[t]:    continue\n",
    "        ascii_ptr[t] = 1\n",
    "    p = len(ascii_ptr)\n",
    "    window = ''\n",
    "    start = count = 0\n",
    "    n = len(text)\n",
    "    for i in range(n):\n",
    "        ascii_text[text[i]] += 1\n",
    "        if count < p:\n",
    "            if ascii_text[text[i]] == 1:\n",
    "                count += 1\n",
    "        if count == p:\n",
    "            while ascii_text[text[start]] > 1:\n",
    "                ascii_text[text[start]] -= 1\n",
    "                start += 1\n",
    "            window = min(window, text[start:i + 1], key = len) if window else text[start:i + 1]\n",
    "    return window\n",
    "\n",
    "if __name__=='__main__':\n",
    "    tc = ['aabcbcdbca']\n",
    "    for t in tc:\n",
    "        print(min_window(t))"
   ]
  },
  {
   "cell_type": "code",
   "execution_count": null,
   "metadata": {},
   "outputs": [],
   "source": []
  }
 ],
 "metadata": {
  "kernelspec": {
   "display_name": "Python 3",
   "language": "python",
   "name": "python3"
  },
  "language_info": {
   "codemirror_mode": {
    "name": "ipython",
    "version": 3
   },
   "file_extension": ".py",
   "mimetype": "text/x-python",
   "name": "python",
   "nbconvert_exporter": "python",
   "pygments_lexer": "ipython3",
   "version": "3.6.8"
  }
 },
 "nbformat": 4,
 "nbformat_minor": 2
}
