{
 "cells": [
  {
   "cell_type": "code",
   "execution_count": 1,
   "metadata": {},
   "outputs": [
    {
     "name": "stdout",
     "output_type": "stream",
     "text": [
      "Frequency of 1 = 0\n",
      "Frequency of 2 = 2\n",
      "Frequency of 3 = 2\n",
      "Frequency of 4 = 0\n",
      "Frequency of 5 = 1\n",
      "\n",
      "Frequency of 1 = 0\n",
      "Frequency of 2 = 2\n",
      "Frequency of 3 = 0\n",
      "Frequency of 4 = 0\n",
      "Frequency of 5 = 3\n",
      "Frequency of 6 = 0\n",
      "Frequency of 7 = 2\n",
      "\n",
      "Frequency of 1 = 3\n",
      "Frequency of 2 = 4\n",
      "Frequency of 3 = 1\n",
      "Frequency of 4 = 0\n",
      "Frequency of 5 = 0\n",
      "Frequency of 6 = 0\n",
      "Frequency of 7 = 0\n",
      "Frequency of 8 = 0\n",
      "\n",
      "Frequency of 1 = 1\n",
      "Frequency of 2 = 2\n",
      "Frequency of 3 = 0\n",
      "\n",
      "Frequency of 1 = 0\n",
      "Frequency of 2 = 0\n",
      "Frequency of 3 = 0\n",
      "Frequency of 4 = 4\n",
      "\n"
     ]
    }
   ],
   "source": [
    "# Time: O(n)\n",
    "# Space: O(1)\n",
    "\n",
    "def count_freq(arr):\n",
    "    arr = [i - 1 for i in arr]\n",
    "    n = len(arr)\n",
    "    for i in range(n):\n",
    "        arr[arr[i] % n] += n\n",
    "    for i in range(n):\n",
    "        print('Frequency of', i + 1, '=', arr[i] // n)\n",
    "\n",
    "if __name__=='__main__':\n",
    "    tc = [[2, 3, 3, 2, 5],\n",
    "         [5, 2, 7, 7, 5, 5, 2],\n",
    "         [1, 2, 2, 1, 1, 2, 3, 2],\n",
    "         [1, 2, 2],\n",
    "         [4, 4, 4, 4]]\n",
    "    for t in tc:\n",
    "        count_freq(t)\n",
    "        print()"
   ]
  },
  {
   "cell_type": "code",
   "execution_count": null,
   "metadata": {},
   "outputs": [],
   "source": []
  }
 ],
 "metadata": {
  "kernelspec": {
   "display_name": "Python 3",
   "language": "python",
   "name": "python3"
  },
  "language_info": {
   "codemirror_mode": {
    "name": "ipython",
    "version": 3
   },
   "file_extension": ".py",
   "mimetype": "text/x-python",
   "name": "python",
   "nbconvert_exporter": "python",
   "pygments_lexer": "ipython3",
   "version": "3.6.8"
  }
 },
 "nbformat": 4,
 "nbformat_minor": 2
}
