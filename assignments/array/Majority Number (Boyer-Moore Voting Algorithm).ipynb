{
 "cells": [
  {
   "cell_type": "code",
   "execution_count": 2,
   "metadata": {},
   "outputs": [
    {
     "name": "stdout",
     "output_type": "stream",
     "text": [
      "2\n",
      "2\n",
      "3\n",
      "2\n"
     ]
    }
   ],
   "source": [
    "# Assignment - Count frequencies of array elements in O(n) time complexity\n",
    "# Time: O(n)\n",
    "# Space: O(1)\n",
    "\n",
    "def majority_number(arr):\n",
    "    n = len(arr)\n",
    "    majority = arr[0]\n",
    "    count = 1\n",
    "    for i in range(1, n):\n",
    "        if arr[i] == majority:\n",
    "            count += 1\n",
    "        else:\n",
    "            count -= 1\n",
    "        if count == 0:\n",
    "            majority = arr[i]\n",
    "            count = 1\n",
    "    return majority\n",
    "\n",
    "if __name__=='__main__':\n",
    "    tc = [[1, 3, 3, 4, 3, 2, 2, 2, 2, 2, 2],\n",
    "          [1, 8, 7, 4, 1, 2, 2, 2, 2, 2, 2],\n",
    "          [3,2,3],\n",
    "          [2,2,1,1,1,2,2]]\n",
    "    for t in tc:\n",
    "        print(majority_number(t))"
   ]
  },
  {
   "cell_type": "code",
   "execution_count": null,
   "metadata": {},
   "outputs": [],
   "source": []
  }
 ],
 "metadata": {
  "kernelspec": {
   "display_name": "Python 3",
   "language": "python",
   "name": "python3"
  },
  "language_info": {
   "codemirror_mode": {
    "name": "ipython",
    "version": 3
   },
   "file_extension": ".py",
   "mimetype": "text/x-python",
   "name": "python",
   "nbconvert_exporter": "python",
   "pygments_lexer": "ipython3",
   "version": "3.6.8"
  }
 },
 "nbformat": 4,
 "nbformat_minor": 2
}
