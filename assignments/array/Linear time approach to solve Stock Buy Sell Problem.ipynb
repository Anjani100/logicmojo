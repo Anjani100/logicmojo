{
 "cells": [
  {
   "cell_type": "code",
   "execution_count": 6,
   "metadata": {},
   "outputs": [
    {
     "name": "stdout",
     "output_type": "stream",
     "text": [
      "852\n",
      "7\n",
      "4\n",
      "0\n"
     ]
    }
   ],
   "source": [
    "# Time: O(n)\n",
    "# Space: O(1)\n",
    "\n",
    "def buy_sell_stock(nums):\n",
    "    profit, buy = 0, nums[0]\n",
    "    for i in range(1, len(nums)):\n",
    "        if nums[i - 1] > nums[i]:\n",
    "            profit += nums[i - 1] - buy\n",
    "            buy = nums[i]\n",
    "    return profit + (nums[-1] - buy)\n",
    "\n",
    "if __name__=='__main__':\n",
    "    tc = [[98, 178, 250, 300, 40, 540, 690],\n",
    "          [7,1,5,3,6,4],\n",
    "          [1,2,3,4,5],\n",
    "          [7,6,4,3,1]]\n",
    "    for t in tc:\n",
    "        print(buy_sell_stock(t))"
   ]
  },
  {
   "cell_type": "code",
   "execution_count": null,
   "metadata": {},
   "outputs": [],
   "source": []
  }
 ],
 "metadata": {
  "kernelspec": {
   "display_name": "Python 3",
   "language": "python",
   "name": "python3"
  },
  "language_info": {
   "codemirror_mode": {
    "name": "ipython",
    "version": 3
   },
   "file_extension": ".py",
   "mimetype": "text/x-python",
   "name": "python",
   "nbconvert_exporter": "python",
   "pygments_lexer": "ipython3",
   "version": "3.6.8"
  }
 },
 "nbformat": 4,
 "nbformat_minor": 2
}
