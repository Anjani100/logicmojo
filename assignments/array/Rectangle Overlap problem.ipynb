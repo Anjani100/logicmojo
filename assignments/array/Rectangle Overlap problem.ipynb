{
 "cells": [
  {
   "cell_type": "code",
   "execution_count": 3,
   "metadata": {},
   "outputs": [
    {
     "name": "stdout",
     "output_type": "stream",
     "text": [
      "False\n",
      "False\n",
      "True\n"
     ]
    }
   ],
   "source": [
    "def rectangle_overlap(rec1, rec2):\n",
    "    if rec1[0] >= rec1[2] or rec2[0] >= rec1[2]:\n",
    "        return False\n",
    "    if rec1[1] <= rec2[3] or rec2[1] <= rec1[3]:\n",
    "        return False\n",
    "    return True\n",
    "\n",
    "if __name__=='__main__':\n",
    "    test_cases = [[[0,0,2,2], [1,1,3,3]],\n",
    "                  [[0,0,1,1], [1,0,2,1]],\n",
    "                  [[1,4,3,2], [2,3,4,1]]]\n",
    "    for rec1, rec2 in test_cases:\n",
    "        print(rectangle_overlap(rec1, rec2))"
   ]
  },
  {
   "cell_type": "code",
   "execution_count": null,
   "metadata": {},
   "outputs": [],
   "source": []
  }
 ],
 "metadata": {
  "kernelspec": {
   "display_name": "Python 3",
   "language": "python",
   "name": "python3"
  },
  "language_info": {
   "codemirror_mode": {
    "name": "ipython",
    "version": 3
   },
   "file_extension": ".py",
   "mimetype": "text/x-python",
   "name": "python",
   "nbconvert_exporter": "python",
   "pygments_lexer": "ipython3",
   "version": "3.6.8"
  }
 },
 "nbformat": 4,
 "nbformat_minor": 2
}
