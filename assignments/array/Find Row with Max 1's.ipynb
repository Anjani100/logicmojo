{
 "cells": [
  {
   "cell_type": "code",
   "execution_count": 1,
   "metadata": {},
   "outputs": [
    {
     "name": "stdout",
     "output_type": "stream",
     "text": [
      "3\n",
      "2\n",
      "0\n",
      "3\n"
     ]
    }
   ],
   "source": [
    "# Assignment - Binary search method to find square root of an element\n",
    "# Time: O(n)\n",
    "# Space: O(1)\n",
    "\n",
    "def find_max_row(matrix):\n",
    "    m, n = len(matrix), len(matrix[0])\n",
    "    res, i, j = 0, 0, n - 1\n",
    "    while i < m and j > -1:\n",
    "        if matrix[i][j]:\n",
    "            j -= 1\n",
    "            res = i\n",
    "        else:\n",
    "            i += 1\n",
    "    return res\n",
    "\n",
    "if __name__=='__main__':\n",
    "    tc = [[[0,1,1,1],[0,0,1,1],[0,0,0,1],[1,1,1,1]],\n",
    "          [[0, 1, 1, 1],[0, 0, 1, 1],[1, 1, 1, 1],[0, 0, 0, 0]],\n",
    "          [[1, 1, 1],[0, 0, 0],[1, 1, 0],[1, 0, 0]],\n",
    "          [[0, 0, 0, 1, 1],[0, 0, 1, 1, 1],[0, 0, 0, 0, 0],[0, 1, 1, 1, 1],[0, 0, 0, 0, 1]]]\n",
    "    for t in tc:\n",
    "        print(find_max_row(t))"
   ]
  },
  {
   "cell_type": "code",
   "execution_count": null,
   "metadata": {},
   "outputs": [],
   "source": []
  }
 ],
 "metadata": {
  "kernelspec": {
   "display_name": "Python 3",
   "language": "python",
   "name": "python3"
  },
  "language_info": {
   "codemirror_mode": {
    "name": "ipython",
    "version": 3
   },
   "file_extension": ".py",
   "mimetype": "text/x-python",
   "name": "python",
   "nbconvert_exporter": "python",
   "pygments_lexer": "ipython3",
   "version": "3.6.8"
  }
 },
 "nbformat": 4,
 "nbformat_minor": 2
}
