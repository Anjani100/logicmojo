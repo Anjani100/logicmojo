{
 "cells": [
  {
   "cell_type": "code",
   "execution_count": 4,
   "metadata": {},
   "outputs": [
    {
     "name": "stdout",
     "output_type": "stream",
     "text": [
      "True\n",
      "False\n",
      "True\n",
      "1\n",
      "True\n",
      "False\n",
      "2\n"
     ]
    }
   ],
   "source": [
    "# Time: O(1)\n",
    "# Space: O(n)\n",
    "\n",
    "from random import randint\n",
    "\n",
    "class randomized_set:\n",
    "    def __init__(self):\n",
    "        self.nums = []\n",
    "        self.hashMap = {}\n",
    "        self.n = 0\n",
    "    \n",
    "    def insert(self, val):\n",
    "        if self.hashMap.get(val, None):\n",
    "            return False\n",
    "        self.nums.append(val)\n",
    "        self.n += 1\n",
    "        self.hashMap[val] = self.n\n",
    "        return True\n",
    "    \n",
    "    def delete(self, val):\n",
    "        if not self.hashMap.get(val, None):\n",
    "            return False\n",
    "        i = self.hashMap[val] - 1\n",
    "        self.nums[i], self.nums[-1] = self.nums[-1], self.nums[i]\n",
    "        self.hashMap[self.nums[i]] = i + 1\n",
    "        self.nums.pop()\n",
    "        del self.hashMap[val]\n",
    "        self.n -= 1\n",
    "        return True\n",
    "    \n",
    "    def search(self, val):\n",
    "        if self.hashMap.get(val, None):\n",
    "            return False\n",
    "        return self.hashMap[val] - 1\n",
    "    \n",
    "    def get_random(self):\n",
    "        return self.nums[randint(0, self.n - 1)]\n",
    "\n",
    "\n",
    "if __name__=='__main__':\n",
    "    ob = randomized_set()\n",
    "    #insert value into the Data structure\n",
    "    print(ob.insert(1))\n",
    "    print(ob.delete(2))\n",
    "    print(ob.insert(2))\n",
    "    print(ob.get_random())\n",
    "    print(ob.delete(1))\n",
    "    print(ob.insert(2))\n",
    "    print(ob.get_random())"
   ]
  },
  {
   "cell_type": "code",
   "execution_count": null,
   "metadata": {},
   "outputs": [],
   "source": []
  }
 ],
 "metadata": {
  "kernelspec": {
   "display_name": "Python 3",
   "language": "python",
   "name": "python3"
  },
  "language_info": {
   "codemirror_mode": {
    "name": "ipython",
    "version": 3
   },
   "file_extension": ".py",
   "mimetype": "text/x-python",
   "name": "python",
   "nbconvert_exporter": "python",
   "pygments_lexer": "ipython3",
   "version": "3.6.8"
  }
 },
 "nbformat": 4,
 "nbformat_minor": 2
}
