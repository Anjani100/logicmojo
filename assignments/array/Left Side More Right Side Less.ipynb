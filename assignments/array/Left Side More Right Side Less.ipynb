{
 "cells": [
  {
   "cell_type": "code",
   "execution_count": 5,
   "metadata": {},
   "outputs": [
    {
     "name": "stdout",
     "output_type": "stream",
     "text": [
      "4\n",
      "4\n",
      "-1\n"
     ]
    }
   ],
   "source": [
    "# Assignment - Digit rearrangement method to find next greater number with same set of digits\n",
    "# Time: O(n)\n",
    "# Space: O(n)\n",
    "\n",
    "def find_element(nums):\n",
    "    n = len(nums)\n",
    "    left, right = [nums[0]], [nums[-1]]\n",
    "    for i in range(1, n):\n",
    "        left.append(nums[i] if nums[i] > left[-1] else left[-1])\n",
    "        right.append(nums[n - i - 1] if nums[n - i - 1] < right[-1] else right[-1])\n",
    "    right.reverse()\n",
    "    for i in range(1, n - 1):\n",
    "        if nums[i] >= left[i] and nums[i] <= right[i]:\n",
    "            return i\n",
    "    return -1\n",
    "\n",
    "if __name__=='__main__':\n",
    "    test_cases = [[5, 1, 4, 3, 6, 8, 10, 7, 9],\n",
    "                  [6, 2, 5, 4, 7, 9, 11, 8, 10],\n",
    "                  [5, 1, 4, 4]]\n",
    "    for tc in test_cases:\n",
    "        print(find_element(tc))"
   ]
  },
  {
   "cell_type": "code",
   "execution_count": null,
   "metadata": {},
   "outputs": [],
   "source": []
  }
 ],
 "metadata": {
  "kernelspec": {
   "display_name": "Python 3",
   "language": "python",
   "name": "python3"
  },
  "language_info": {
   "codemirror_mode": {
    "name": "ipython",
    "version": 3
   },
   "file_extension": ".py",
   "mimetype": "text/x-python",
   "name": "python",
   "nbconvert_exporter": "python",
   "pygments_lexer": "ipython3",
   "version": "3.6.8"
  }
 },
 "nbformat": 4,
 "nbformat_minor": 2
}
