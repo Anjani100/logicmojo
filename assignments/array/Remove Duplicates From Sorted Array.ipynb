{
 "cells": [
  {
   "cell_type": "code",
   "execution_count": 22,
   "metadata": {},
   "outputs": [
    {
     "name": "stdout",
     "output_type": "stream",
     "text": [
      "2\n",
      "1\n",
      "5\n",
      "5\n"
     ]
    }
   ],
   "source": [
    "# Assignment - Linear time approach to solve jump game problem\n",
    "# Time: O(n)\n",
    "# Space: O(1)\n",
    "\n",
    "def remove_duplicates(arr):\n",
    "    n = len(arr)\n",
    "    curr_num, curr_idx, idx = -1, 0, -1\n",
    "    for i in range(n):\n",
    "        if arr[i] > curr_num:\n",
    "            curr_num = arr[i]\n",
    "            arr[i], arr[curr_idx] = arr[curr_idx], arr[i]\n",
    "            curr_idx += 1\n",
    "    for i in range(n - 1):\n",
    "        if arr[i] >= arr[i + 1]:\n",
    "            arr = arr[:i + 1]\n",
    "            return i + 1\n",
    "    return n\n",
    "\n",
    "if __name__=='__main__':\n",
    "    test_cases = [[1,1,2],\n",
    "                  [2, 2, 2, 2, 2],\n",
    "                  [1, 2, 2, 3, 4, 4, 4, 5, 5],\n",
    "                  [1,2,3,4,5]]\n",
    "    for tc in test_cases:\n",
    "        print(remove_duplicates(tc))"
   ]
  },
  {
   "cell_type": "code",
   "execution_count": null,
   "metadata": {},
   "outputs": [],
   "source": []
  }
 ],
 "metadata": {
  "kernelspec": {
   "display_name": "Python 3",
   "language": "python",
   "name": "python3"
  },
  "language_info": {
   "codemirror_mode": {
    "name": "ipython",
    "version": 3
   },
   "file_extension": ".py",
   "mimetype": "text/x-python",
   "name": "python",
   "nbconvert_exporter": "python",
   "pygments_lexer": "ipython3",
   "version": "3.6.8"
  }
 },
 "nbformat": 4,
 "nbformat_minor": 2
}
