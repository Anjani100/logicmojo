{
 "cells": [
  {
   "cell_type": "code",
   "execution_count": 10,
   "metadata": {},
   "outputs": [
    {
     "name": "stdout",
     "output_type": "stream",
     "text": [
      "[3, 4, 4, 3]\n",
      "[2, 1]\n",
      "[2, 3, 3, 2]\n",
      "[1, 1, 1, 1]\n"
     ]
    }
   ],
   "source": [
    "# Assignment - QuickSelect Algorithm to find the Kth smallest Element in array\n",
    "\n",
    "from collections import defaultdict\n",
    "\n",
    "def distinct_element(arr, k):\n",
    "    j, unique, counter = 0, [], defaultdict(int)\n",
    "    for i in range(len(arr)):\n",
    "        counter[arr[i]] += 1\n",
    "        if i - k < -1:\n",
    "            continue\n",
    "        unique.append(len(counter))\n",
    "        counter[arr[j]] -= 1\n",
    "        if counter[arr[j]] == 0:\n",
    "            del counter[arr[j]]\n",
    "        j += 1\n",
    "    return unique\n",
    "\n",
    "if __name__=='__main__':\n",
    "    tc = [[[1,2,1,3,4,2,3],4],\n",
    "          [[4,1,1],2],\n",
    "          [[1,2,1,3,4,3],3],\n",
    "          [[1,1,2,2],1]]\n",
    "    for t, k in tc:\n",
    "        print(distinct_element(t, k))"
   ]
  },
  {
   "cell_type": "code",
   "execution_count": null,
   "metadata": {},
   "outputs": [],
   "source": []
  }
 ],
 "metadata": {
  "kernelspec": {
   "display_name": "Python 3",
   "language": "python",
   "name": "python3"
  },
  "language_info": {
   "codemirror_mode": {
    "name": "ipython",
    "version": 3
   },
   "file_extension": ".py",
   "mimetype": "text/x-python",
   "name": "python",
   "nbconvert_exporter": "python",
   "pygments_lexer": "ipython3",
   "version": "3.6.8"
  }
 },
 "nbformat": 4,
 "nbformat_minor": 2
}
