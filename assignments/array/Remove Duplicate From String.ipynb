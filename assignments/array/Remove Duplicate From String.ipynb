{
 "cells": [
  {
   "cell_type": "code",
   "execution_count": 2,
   "metadata": {},
   "outputs": [
    {
     "name": "stdout",
     "output_type": "stream",
     "text": [
      "bca\n",
      "cbad\n",
      "abcdef\n"
     ]
    }
   ],
   "source": [
    "# Assignment - Linear time approach to solve Stock Buy Sell Problem\n",
    "# Time: O(n)\n",
    "# Space: O(1)\n",
    "\n",
    "def remove_duplicates(word):\n",
    "    ascii_word = [0] * 26\n",
    "    wordset = ''\n",
    "    for w in word:\n",
    "        if ascii_word[ord(w) - 97]:\n",
    "            continue\n",
    "        wordset += w\n",
    "        ascii_word[ord(w)- 97] += 1\n",
    "    return wordset\n",
    "\n",
    "if __name__=='__main__':\n",
    "    tc = ['bcabc', 'cbacdcbc', 'aabbccdef']\n",
    "    for t in tc:\n",
    "        print(remove_duplicates(t))"
   ]
  },
  {
   "cell_type": "code",
   "execution_count": null,
   "metadata": {},
   "outputs": [],
   "source": []
  }
 ],
 "metadata": {
  "kernelspec": {
   "display_name": "Python 3",
   "language": "python",
   "name": "python3"
  },
  "language_info": {
   "codemirror_mode": {
    "name": "ipython",
    "version": 3
   },
   "file_extension": ".py",
   "mimetype": "text/x-python",
   "name": "python",
   "nbconvert_exporter": "python",
   "pygments_lexer": "ipython3",
   "version": "3.6.8"
  }
 },
 "nbformat": 4,
 "nbformat_minor": 2
}
