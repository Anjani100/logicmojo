{
 "cells": [
  {
   "cell_type": "code",
   "execution_count": 7,
   "metadata": {},
   "outputs": [
    {
     "name": "stdout",
     "output_type": "stream",
     "text": [
      "1 2 3 6 9 8 7 4 5 \n",
      "1 2 3 4 8 12 11 10 9 5 6 7 \n",
      "1 2 3 4 5 6 7 8 9 10 11 12 13 14 15 16 17 18 19 20 21 22 23 24 25 \n"
     ]
    }
   ],
   "source": [
    "def spiral_order(matrix):\n",
    "    m, n = len(matrix), len(matrix[0])\n",
    "    k = l = 0\n",
    "    while k < m and l < n:\n",
    "        for i in range(l, n):\n",
    "            print(matrix[k][i], end = ' ')\n",
    "        k += 1\n",
    "        for i in range(k, m):\n",
    "            print(matrix[i][n - 1], end = ' ')\n",
    "        n -= 1\n",
    "        if k < m:\n",
    "            for i in range(n - 1, l - 1, -1):\n",
    "                print(matrix[m - 1][i], end = ' ')\n",
    "            m -= 1\n",
    "        if l < n:\n",
    "            for i in range(m - 1, k - 1, -1):\n",
    "                print(matrix[i][l], end = ' ')\n",
    "            l += 1\n",
    "    print()\n",
    "\n",
    "if __name__=='__main__':\n",
    "    tc = [[[1,2,3],[4,5,6],[7,8,9]],\n",
    "          [[1,2,3,4],[5,6,7,8],[9,10,11,12]],\n",
    "          [[1, 2, 3, 4, 5],[16, 17, 18, 19, 6],[15, 24, 25, 20, 7],[14, 23, 22, 21, 8],[13, 12, 11, 10, 9]]]\n",
    "    for t in tc:\n",
    "        spiral_order(t)"
   ]
  },
  {
   "cell_type": "code",
   "execution_count": null,
   "metadata": {},
   "outputs": [],
   "source": [
    "# Input Test-cases:\n",
    "# [[[1,2,3],[4,5,6],[7,8,9]],\n",
    "#                   [[1,2,3,4],[5,6,7,8],[9,10,11,12]],\n",
    "#                   [[1, 2, 3, 4, 5],[16, 17, 18, 19, 6],[15, 24, 25, 20, 7],[14, 23, 22, 21, 8],[13, 12, 11, 10, 9]]]"
   ]
  },
  {
   "cell_type": "code",
   "execution_count": null,
   "metadata": {},
   "outputs": [],
   "source": [
    "def spiral_order(matrix):\n",
    "    m, n = len(matrix), len(matrix[0])\n",
    "    k = p = 0\n",
    "    for i in range(n // 2):\n",
    "        for j in range(k, m):\n",
    "            print(matrix[i][j], end = ' ')\n",
    "        for j in range(k, n):\n",
    "            print(matrix[j][m], end = ' ')\n",
    "        for j in range(n, p, -1):\n",
    "            print(matrix[n][j], end = ' ')\n",
    "        for j in range(n, k, -1):\n",
    "            print(matrix[j][p], end = ' ')\n",
    "        k, m, p, n = k + 1, m - 1, p + 1, n - 1\n",
    "    print()"
   ]
  }
 ],
 "metadata": {
  "kernelspec": {
   "display_name": "Python 3",
   "language": "python",
   "name": "python3"
  },
  "language_info": {
   "codemirror_mode": {
    "name": "ipython",
    "version": 3
   },
   "file_extension": ".py",
   "mimetype": "text/x-python",
   "name": "python",
   "nbconvert_exporter": "python",
   "pygments_lexer": "ipython3",
   "version": "3.6.8"
  }
 },
 "nbformat": 4,
 "nbformat_minor": 2
}
