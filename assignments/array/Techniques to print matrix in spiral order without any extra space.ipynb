{
 "cells": [
  {
   "cell_type": "code",
   "execution_count": 9,
   "metadata": {},
   "outputs": [
    {
     "name": "stdout",
     "output_type": "stream",
     "text": [
      "1 2 3 6 9 8 7 4 5 \n",
      "1 2 3 4 8 12 11 10 9 5 6 7 6 \n",
      "1 2 3 4 5 6 7 20 25 24 15 16 17 18 19 18 17 25 \n"
     ]
    }
   ],
   "source": [
    "def spiral_order(matrix):\n",
    "    m, n = len(matrix), len(matrix[0])\n",
    "    k, l = m, n\n",
    "    for i in range(n // 2 + 1):\n",
    "        for j in range(i, l):\n",
    "            print(matrix[i][j], end = ' ')\n",
    "        l -= 1\n",
    "        for j in range(i + 1, k):\n",
    "            print(matrix[j][n - i - 1], end = ' ')\n",
    "        for j in range(l - 1, i - 1, -1):\n",
    "            print(matrix[k - 1][j], end = ' ')\n",
    "        k -= 1\n",
    "        for j in range(k - 1, i, -1):\n",
    "            print(matrix[j][i], end = ' ')\n",
    "\n",
    "if __name__=='__main__':\n",
    "    test_cases = [[[1,2,3],[4,5,6],[7,8,9]],\n",
    "                  [[1,2,3,4],[5,6,7,8],[9,10,11,12]],\n",
    "                  [[1, 2, 3, 4, 5],[16, 17, 18, 19, 6],[15, 24, 25, 20, 7],[14, 23, 22, 21, 8],[13, 12, 11, 10, 9]]]\n",
    "    for tc in test_cases:\n",
    "        spiral_order(tc)\n",
    "        print()"
   ]
  },
  {
   "cell_type": "code",
   "execution_count": null,
   "metadata": {},
   "outputs": [],
   "source": [
    "1 2 3 6 9 8 7 4 5\n",
    "1 2 3 4 8 12 11 10 9 5 6 7\n",
    "1 2 3 4 5 6 7 8 9 10 11 12 13 14 15 16 17 18 19 20 21 22 23 24 25"
   ]
  }
 ],
 "metadata": {
  "kernelspec": {
   "display_name": "Python 3",
   "language": "python",
   "name": "python3"
  },
  "language_info": {
   "codemirror_mode": {
    "name": "ipython",
    "version": 3
   },
   "file_extension": ".py",
   "mimetype": "text/x-python",
   "name": "python",
   "nbconvert_exporter": "python",
   "pygments_lexer": "ipython3",
   "version": "3.6.8"
  }
 },
 "nbformat": 4,
 "nbformat_minor": 2
}
