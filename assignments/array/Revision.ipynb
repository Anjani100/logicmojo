{
 "cells": [
  {
   "cell_type": "markdown",
   "metadata": {},
   "source": [
    "# Array"
   ]
  },
  {
   "cell_type": "markdown",
   "metadata": {},
   "source": [
    "##### Difficult Problems:\n",
    "- Move All 0's to end\n",
    "- Remove Duplicates from Sorted Array\n",
    "- Rectangle Overlap\n",
    "- Spiral Order of Matrix\n",
    "- Matrix Rotation by 90 degrees"
   ]
  },
  {
   "cell_type": "markdown",
   "metadata": {},
   "source": [
    "### Maximum Value in an array of Increasing and Decreasing using Binary Search"
   ]
  },
  {
   "cell_type": "code",
   "execution_count": null,
   "metadata": {},
   "outputs": [],
   "source": [
    "def find_max_value(nums):\n",
    "#     1 5 9 14 19 17 13 8 4 2\n",
    "    n = len(nums)\n",
    "    low, high = 0, n - 1\n",
    "    while low <= high:\n",
    "        mid = (low + high) // 2\n",
    "        if mid == 0 or mid == n - 1 or (nums[mid] > nums[mid - 1] and nums[mid] > nums[mid + 1]):\n",
    "            return nums[mid]\n",
    "        if nums[mid] < nums[mid - 1]:\n",
    "            high = mid - 1\n",
    "        else:\n",
    "            low = mid + 1\n",
    "\n",
    "if __name__=='__main__':\n",
    "    test_cases = [[3, 5, 15, 50, 11, 10, 8, 6],\n",
    "                  [10, 20, 30, 40, 50],\n",
    "                  [8, 10, 20, 80, 100, 200, 400, 500, 3, 2, 1],\n",
    "                  [120, 100, 80, 20, 0]]\n",
    "    for tc in test_cases:\n",
    "        print(find_max_value(tc))"
   ]
  },
  {
   "cell_type": "markdown",
   "metadata": {},
   "source": [
    "### Search an element in a sorted and rotated array"
   ]
  },
  {
   "cell_type": "code",
   "execution_count": null,
   "metadata": {},
   "outputs": [],
   "source": [
    "def search_number(nums, val):\n",
    "#     7 8 9 10 1 2 3 4 5 6    val = 8\n",
    "    n = len(nums)\n",
    "    low, high = 0, n - 1\n",
    "    while low <= high:\n",
    "        mid = (low + high) // 2\n",
    "        if nums[mid] == val:\n",
    "            return mid\n",
    "        if nums[mid] < nums[low]:\n",
    "            if nums[mid] < val <= nums[high]:\n",
    "                low = mid + 1\n",
    "            else:\n",
    "                high = mid - 1\n",
    "        else:\n",
    "            if nums[low] <= val < nums[mid]:\n",
    "                high = mid - 1\n",
    "            else:\n",
    "                low = mid + 1\n",
    "    return -1\n",
    "\n",
    "if __name__=='__main__':\n",
    "    test_cases = [[[3, 4, 5, 6, 7, 8, 9, 10, 1, 2], 1],\n",
    "                  [[5, 6, 7, 8, 9, 10, 1, 2, 3], 3],\n",
    "                  [[5, 6, 7, 8, 9, 10, 1, 2, 3], 28],\n",
    "                  [[30, 40, 50, 10, 20], 10]]\n",
    "    for arr, val in test_cases:\n",
    "        print(search_number(arr, val))"
   ]
  },
  {
   "cell_type": "markdown",
   "metadata": {},
   "source": [
    "### Segregation logic to Sort an array of 0's, 1's and 2's"
   ]
  },
  {
   "cell_type": "code",
   "execution_count": null,
   "metadata": {},
   "outputs": [],
   "source": [
    "def sort_012(nums):\n",
    "    n = len(nums)\n",
    "    zeros, mid, twos = 0, 0, n - 1\n",
    "    while mid <= twos:\n",
    "        if nums[mid] == 0:\n",
    "            nums[mid], nums[zeros] = nums[zeros], nums[mid]\n",
    "            zeros += 1\n",
    "        elif nums[mid] == 2:\n",
    "            nums[mid], nums[twos] = nums[twos], nums[mid]\n",
    "            twos -= 1\n",
    "            mid -= 1\n",
    "        mid += 1\n",
    "    return nums\n",
    "\n",
    "if __name__=='__main__':\n",
    "    print(sort_012([2, 1, 1, 0, 1, 2, 1, 2, 0, 0, 0, 1]))"
   ]
  },
  {
   "cell_type": "markdown",
   "metadata": {},
   "source": [
    "### Move All 0's To End"
   ]
  },
  {
   "cell_type": "code",
   "execution_count": null,
   "metadata": {},
   "outputs": [],
   "source": [
    "def move_zeros_to_end(nums):\n",
    "    zero = 0\n",
    "    for i in range(len(nums)):\n",
    "        if nums[i]:\n",
    "            nums[i], nums[zero] = nums[zero], nums[i]\n",
    "            zero += 1\n",
    "    return nums\n",
    "\n",
    "if __name__=='__main__':\n",
    "    test_cases = [[1,3,0,0,4,0,9],\n",
    "                  [0,1,0,3,12],\n",
    "                  [0, 1, 9, 8, 4, 0, 0, 2, 7, 0, 6, 0, 9]]\n",
    "    for tc in test_cases:\n",
    "        print(move_zeros_to_end(tc))"
   ]
  },
  {
   "cell_type": "markdown",
   "metadata": {},
   "source": [
    "### Linear time approach to solve jump game problem"
   ]
  },
  {
   "cell_type": "code",
   "execution_count": null,
   "metadata": {},
   "outputs": [],
   "source": [
    "def jump_game(nums):\n",
    "    a = b = nums[0]\n",
    "    jumps = 0\n",
    "    for i in range(1, len(nums)):\n",
    "        a -= 1\n",
    "        b -= 1\n",
    "        b = max(nums[i], b)\n",
    "        if not a or i == len(nums) - 1:\n",
    "            if not b:\n",
    "                return -1\n",
    "            a = b\n",
    "            jumps += 1\n",
    "    return jumps\n",
    "\n",
    "if __name__=='__main__':\n",
    "    test_cases = [[2,3,1,1,4],\n",
    "                  [1, 3, 5, 8, 9, 2, 6, 7, 6, 8, 9],\n",
    "                  [1, 1, 1, 1, 1, 1, 1, 1, 1, 1, 1],\n",
    "                  [3,2,1,0,4]]\n",
    "    for tc in test_cases:\n",
    "        print(jump_game(tc))"
   ]
  },
  {
   "cell_type": "markdown",
   "metadata": {},
   "source": [
    "### Remove Duplicates From Sorted Array"
   ]
  },
  {
   "cell_type": "code",
   "execution_count": null,
   "metadata": {},
   "outputs": [],
   "source": [
    "def remove_duplicates(nums):\n",
    "    j = 0\n",
    "    for i in range(len(nums) - 1):\n",
    "        if nums[i] != nums[i + 1]:\n",
    "            j += 1\n",
    "            nums[j] = nums[i + 1]\n",
    "    return j + 1\n",
    "\n",
    "if __name__=='__main__':\n",
    "    test_cases = [[1,1,2],\n",
    "                  [2, 2, 2, 2, 2],\n",
    "                  [1, 2, 2, 3, 4, 4, 4, 5, 5],\n",
    "                  [0,0,1,1,1,2,2,3,3,4],\n",
    "                  [1,2,3,4,5]]\n",
    "    for tc in test_cases:\n",
    "        print(remove_duplicates(tc))"
   ]
  },
  {
   "cell_type": "markdown",
   "metadata": {},
   "source": [
    "### Digit rearrangement method to find next greater number with same set of digits"
   ]
  },
  {
   "cell_type": "code",
   "execution_count": null,
   "metadata": {},
   "outputs": [],
   "source": [
    "def next_greater_element(nums):\n",
    "    n = len(nums)\n",
    "    nums = list(nums)\n",
    "    for i in range(n - 1, 0, -1):\n",
    "        if nums[i - 1] < nums[i]:\n",
    "            mini = i\n",
    "            for j in range(i + 1, n):\n",
    "                if nums[i - 1] < nums[j] < nums[mini]:\n",
    "                    mini = j\n",
    "            nums[mini], nums[i - 1] = nums[i - 1], nums[mini]\n",
    "            nums = nums[:i] + sorted(nums[i:])\n",
    "            return ''.join(nums)\n",
    "\n",
    "if __name__=='__main__':\n",
    "    test_cases = ['218765', '12345']\n",
    "    for tc in test_cases:\n",
    "        print(next_greater_element(tc))"
   ]
  },
  {
   "cell_type": "markdown",
   "metadata": {},
   "source": [
    "### Left Side More Right Side Less"
   ]
  },
  {
   "cell_type": "code",
   "execution_count": null,
   "metadata": {},
   "outputs": [],
   "source": [
    "def llrm(nums):\n",
    "    n = len(nums)\n",
    "    left, right = [nums[0]], [nums[-1]]\n",
    "    for i in range(1, n):\n",
    "        left.append(max(left[-1], nums[i]))\n",
    "        right.append(min(right[-1], nums[n - i - 1]))\n",
    "    right.reverse()\n",
    "    for i in range(n):\n",
    "        if left[i] == right[i] == nums[i]:\n",
    "            return i\n",
    "    return -1\n",
    "\n",
    "if __name__=='__main__':\n",
    "    test_cases = [[5, 1, 4, 3, 6, 8, 10, 7, 9],\n",
    "                  [6, 2, 5, 4, 7, 9, 11, 8, 10],\n",
    "                  [5, 1, 4, 4]]\n",
    "    for tc in test_cases:\n",
    "        print(llrm(tc))"
   ]
  },
  {
   "cell_type": "markdown",
   "metadata": {},
   "source": [
    "### Rectangle Overlap problem"
   ]
  },
  {
   "cell_type": "code",
   "execution_count": null,
   "metadata": {},
   "outputs": [],
   "source": [
    "def rectangle_overlap(rec1, rec2):\n",
    "    x1, x2, y1, y2 = rec1\n",
    "    x1p, x2p, y1p, y2p = rec2\n",
    "    if x2 <= x1p or x2p <= x1:    return False\n",
    "    if y1 <= y2p or y1p <= y2:    return False\n",
    "    return True\n",
    "\n",
    "if __name__=='__main__':\n",
    "    test_cases = [[[0,0,2,2], [1,1,3,3]],\n",
    "                  [[0,0,1,1], [1,0,2,1]],\n",
    "                  [[1,4,3,2], [2,3,4,1]]]\n",
    "    for rec1, rec2 in test_cases:\n",
    "        print(rectangle_overlap(rec1, rec2))"
   ]
  },
  {
   "cell_type": "markdown",
   "metadata": {},
   "source": [
    "### Greedy Techniques to find minimum number of platforms"
   ]
  },
  {
   "cell_type": "code",
   "execution_count": null,
   "metadata": {},
   "outputs": [],
   "source": [
    "def optimize_platforms(arr, dept):\n",
    "    dept.sort()\n",
    "    n = len(arr)\n",
    "    platforms = min_platforms = 0\n",
    "    i = j = 0\n",
    "    while i < n and j < n:\n",
    "        if arr[i] <= dept[j]:\n",
    "            platforms += 1\n",
    "            i += 1\n",
    "            min_platforms = max(min_platforms, platforms)\n",
    "        else:\n",
    "            platforms -= 1\n",
    "            j += 1\n",
    "    return min_platforms\n",
    "\n",
    "if __name__=='__main__':\n",
    "    tc = [[[900, 940, 950, 1100, 1500, 1800],[910, 1200, 1120, 1130, 1900, 2000]],\n",
    "          [[100,140,150,200,215,400],[110, 300, 220, 230, 315, 600]],\n",
    "          [[200, 210, 300, 320, 350, 500],[230, 340, 320, 430, 400, 520]],\n",
    "          [[900, 1100, 1235],[1000, 1200, 1240]]]\n",
    "    for arrival, departure in tc:\n",
    "        print(optimize_platforms(arrival, departure))"
   ]
  },
  {
   "cell_type": "markdown",
   "metadata": {},
   "source": [
    "### Distribute Candy"
   ]
  },
  {
   "cell_type": "code",
   "execution_count": null,
   "metadata": {},
   "outputs": [],
   "source": [
    "def distribute_candy(ratings):\n",
    "    n = len(ratings)\n",
    "    left, right = [1], [1]\n",
    "    for i in range(1, n):\n",
    "        left.append(left[-1] + 1 if ratings[i] > ratings[i - 1] else 1)\n",
    "        right.append(right[-1] + 1 if ratings[n - i - 1] > ratings[n - i] else 1)\n",
    "    right.reverse()\n",
    "    candies = 0\n",
    "    for i in range(n):\n",
    "        candies += max(left[i], right[i])\n",
    "    return candies\n",
    "\n",
    "if __name__=='__main__':\n",
    "    test_cases = [[1, 3],\n",
    "                  [1, 5, 2, 1]]\n",
    "    for tc in test_cases:\n",
    "        print(distribute_candy(tc))"
   ]
  },
  {
   "cell_type": "markdown",
   "metadata": {},
   "source": [
    "### Techniques to print matrix in spiral order without any extra space"
   ]
  },
  {
   "cell_type": "code",
   "execution_count": 4,
   "metadata": {},
   "outputs": [
    {
     "name": "stdout",
     "output_type": "stream",
     "text": [
      "1 2 3 6 9 8 7 4 5 \n",
      "1 2 3 4 8 12 11 10 9 5 6 7 \n",
      "1 2 3 4 5 6 7 8 9 10 11 12 13 14 15 16 17 18 19 20 21 22 23 24 25 \n"
     ]
    }
   ],
   "source": [
    "def spiral_order(matrix):\n",
    "    m, n = len(matrix), len(matrix[0])\n",
    "    k = l = 0\n",
    "    while k < m and l < n:\n",
    "        for i in range(l, n):\n",
    "            print(matrix[k][i], end = ' ')\n",
    "        k += 1\n",
    "        for i in range(k, m):\n",
    "            print(matrix[i][n - 1], end = ' ')\n",
    "        n -= 1\n",
    "        if k < m:\n",
    "            for i in range(n - 1, l - 1, -1):\n",
    "                print(matrix[m - 1][i], end = ' ')\n",
    "            m -= 1\n",
    "        if l < n:\n",
    "            for i in range(m - 1, k - 1, -1):\n",
    "                print(matrix[i][l], end = ' ')\n",
    "            l += 1\n",
    "    print()\n",
    "\n",
    "if __name__=='__main__':\n",
    "    tc = [[[1,2,3],[4,5,6],[7,8,9]],\n",
    "          [[1,2,3,4],[5,6,7,8],[9,10,11,12]],\n",
    "          [[1, 2, 3, 4, 5],[16, 17, 18, 19, 6],[15, 24, 25, 20, 7],[14, 23, 22, 21, 8],[13, 12, 11, 10, 9]]]\n",
    "    for t in tc:\n",
    "        spiral_order(t)"
   ]
  },
  {
   "cell_type": "markdown",
   "metadata": {},
   "source": [
    "### Print Matrix Diagonally"
   ]
  },
  {
   "cell_type": "code",
   "execution_count": 8,
   "metadata": {},
   "outputs": [
    {
     "name": "stdout",
     "output_type": "stream",
     "text": [
      "[1, 6, 2, 11, 7, 3, 16, 12, 8, 4, 17, 13, 9, 5, 18, 14, 10, 19, 15, 20]\n",
      "[1, 4, 2, 7, 5, 3, 8, 6, 9]\n",
      "[1, 3, 2, 4]\n",
      "[1, 2, 3, 4]\n",
      "[1, 2, 3]\n",
      "[1]\n"
     ]
    }
   ],
   "source": [
    "def diagonal_order(matrix):\n",
    "    m, n = len(matrix), len(matrix[0])\n",
    "    i = j = 0\n",
    "    I, J, N = 1, 1, m\n",
    "    res = []\n",
    "    while len(res) < m * n:\n",
    "        if i < m:\n",
    "            while j < min(I, n):\n",
    "                res.append(matrix[i][j])\n",
    "                i -= 1\n",
    "                j += 1\n",
    "            i = I\n",
    "            I += 1\n",
    "            j = 0\n",
    "        else:\n",
    "            i = m - 1\n",
    "            j = J\n",
    "            while j < min(n, N):\n",
    "                res.append(matrix[i][j])\n",
    "                i -= 1\n",
    "                j += 1\n",
    "            J += 1\n",
    "            N += 1\n",
    "    return res\n",
    "\n",
    "if __name__=='__main__':\n",
    "    test_cases = [[[1, 2, 3, 4, 5],[6, 7, 8, 9, 10],[11, 12, 13, 14, 15],[16, 17, 18, 19, 20]],\n",
    "                  [[1,2,3],[4,5,6],[7,8,9]],\n",
    "                  [[1,2],[3,4]],\n",
    "                  [[1,2,3,4]],\n",
    "                  [[1],[2],[3]],\n",
    "                  [[1]]]\n",
    "    for tc in test_cases:\n",
    "        print(diagonal_order(tc))"
   ]
  },
  {
   "cell_type": "markdown",
   "metadata": {},
   "source": [
    "### Count frequencies of array elements in O(n) time complexity"
   ]
  },
  {
   "cell_type": "code",
   "execution_count": 9,
   "metadata": {},
   "outputs": [
    {
     "name": "stdout",
     "output_type": "stream",
     "text": [
      "Frequency of 2 -> 2\n",
      "Frequency of 3 -> 2\n",
      "Frequency of 5 -> 1\n",
      "\n",
      "Frequency of 2 -> 2\n",
      "Frequency of 5 -> 3\n",
      "Frequency of 7 -> 2\n",
      "\n",
      "Frequency of 1 -> 3\n",
      "Frequency of 2 -> 4\n",
      "Frequency of 3 -> 1\n",
      "\n",
      "Frequency of 1 -> 1\n",
      "Frequency of 2 -> 2\n",
      "\n",
      "Frequency of 4 -> 4\n",
      "\n"
     ]
    }
   ],
   "source": [
    "def count_freq(nums):\n",
    "    n = len(nums)\n",
    "    for i in range(n):\n",
    "        nums[i] -= 1\n",
    "    for i in range(n):\n",
    "        nums[nums[i] % n] += n\n",
    "    for i in range(n):\n",
    "        if nums[i] // n:\n",
    "            print('Frequency of', i + 1, '->', nums[i] // n)\n",
    "\n",
    "if __name__=='__main__':\n",
    "    tc = [[2, 3, 3, 2, 5],\n",
    "         [5, 2, 7, 7, 5, 5, 2],\n",
    "         [1, 2, 2, 1, 1, 2, 3, 2],\n",
    "         [1, 2, 2],\n",
    "         [4, 4, 4, 4]]\n",
    "    for t in tc:\n",
    "        count_freq(t)\n",
    "        print()"
   ]
  },
  {
   "cell_type": "markdown",
   "metadata": {},
   "source": [
    "### Majority Number (Boyer-Moore's Voting Algorithm)"
   ]
  },
  {
   "cell_type": "code",
   "execution_count": 12,
   "metadata": {},
   "outputs": [
    {
     "name": "stdout",
     "output_type": "stream",
     "text": [
      "2\n",
      "2\n",
      "3\n",
      "2\n"
     ]
    }
   ],
   "source": [
    "def majority_number(nums):\n",
    "    n = len(nums)\n",
    "    vote = 1\n",
    "    major_element = nums[0]\n",
    "    for i in range(1, n):\n",
    "        if nums[i] == nums[i - 1]:\n",
    "            vote += 1\n",
    "        else:\n",
    "            vote -= 1\n",
    "            if not vote:\n",
    "                major_element = nums[i]\n",
    "                vote = 1\n",
    "    return major_element\n",
    "\n",
    "if __name__=='__main__':\n",
    "    tc = [[1, 3, 3, 4, 3, 2, 2, 2, 2, 2, 2],\n",
    "          [1, 8, 7, 4, 1, 2, 2, 2, 2, 2, 2],\n",
    "          [3,2,3],\n",
    "          [2,2,1,1,1,2,2]]\n",
    "    for t in tc:\n",
    "        print(majority_number(t))"
   ]
  },
  {
   "cell_type": "markdown",
   "metadata": {},
   "source": [
    "### Linear time approach to solve Stock Buy Sell Problem"
   ]
  },
  {
   "cell_type": "code",
   "execution_count": 15,
   "metadata": {},
   "outputs": [
    {
     "name": "stdout",
     "output_type": "stream",
     "text": [
      "852\n",
      "7\n",
      "4\n",
      "0\n"
     ]
    }
   ],
   "source": [
    "def buy_and_sell_stock(prices):\n",
    "    buy = prices[0]\n",
    "    profit = 0\n",
    "    for i in range(1, len(prices)):\n",
    "        if prices[i] < prices[i - 1]:\n",
    "            profit += (prices[i - 1] - buy)\n",
    "            buy = prices[i]\n",
    "    return profit + prices[-1] - buy\n",
    "\n",
    "if __name__=='__main__':\n",
    "    tc = [[98, 178, 250, 300, 40, 540, 690],\n",
    "          [7,1,5,3,6,4],\n",
    "          [1,2,3,4,5],\n",
    "          [7,6,4,3,1]]\n",
    "    for t in tc:\n",
    "        print(buy_and_sell_stock(t))"
   ]
  },
  {
   "cell_type": "markdown",
   "metadata": {},
   "source": [
    "### Remove Duplicate From String"
   ]
  },
  {
   "cell_type": "code",
   "execution_count": 18,
   "metadata": {},
   "outputs": [
    {
     "name": "stdout",
     "output_type": "stream",
     "text": [
      "bca\n",
      "cbad\n",
      "abcdef\n"
     ]
    }
   ],
   "source": [
    "from collections import defaultdict\n",
    "\n",
    "def remove_duplicates(word):\n",
    "    ascii_ptr = defaultdict(bool)\n",
    "    for w in word:\n",
    "        ascii_ptr[w] = True\n",
    "    return ''.join(list(ascii_ptr.keys()))\n",
    "\n",
    "if __name__=='__main__':\n",
    "    tc = ['bcabc', 'cbacdcbc', 'aabbccdef']\n",
    "    for t in tc:\n",
    "        print(remove_duplicates(t))"
   ]
  },
  {
   "cell_type": "markdown",
   "metadata": {},
   "source": [
    "### In-place techniques matrix rotation method by 90 degree"
   ]
  },
  {
   "cell_type": "code",
   "execution_count": 27,
   "metadata": {},
   "outputs": [
    {
     "name": "stdout",
     "output_type": "stream",
     "text": [
      "[7, 4, 1]\n",
      "[8, 5, 2]\n",
      "[9, 6, 3]\n",
      "\n",
      "[13, 9, 5, 1]\n",
      "[14, 10, 6, 2]\n",
      "[15, 11, 7, 3]\n",
      "[16, 12, 8, 4]\n",
      "\n"
     ]
    }
   ],
   "source": [
    "def rotate_matrix(matrix):\n",
    "    n = len(matrix)\n",
    "    for i in range(n // 2):\n",
    "        for j in range(i, n - i - 1):\n",
    "            temp = matrix[j][n - i - 1]\n",
    "            matrix[j][n - i - 1] = matrix[i][j]\n",
    "            matrix[i][j] = matrix[n - j - 1][i]\n",
    "            matrix[n - j - 1][i] = matrix[n - i - 1][n - j - 1]\n",
    "            matrix[n - i - 1][n - j - 1] = temp\n",
    "    return matrix\n",
    "\n",
    "if __name__=='__main__':\n",
    "    tc = [[[1, 2, 3],[4, 5, 6],[7, 8, 9]],\n",
    "          [[1, 2, 3, 4],[5, 6, 7, 8],[9, 10, 11, 12],[13, 14, 15, 16]]]\n",
    "    for t in tc:\n",
    "        matrix = rotate_matrix(t)\n",
    "        for m in matrix:\n",
    "            print(m)\n",
    "        print()"
   ]
  },
  {
   "cell_type": "markdown",
   "metadata": {},
   "source": [
    "### Search Element in Matrix"
   ]
  },
  {
   "cell_type": "code",
   "execution_count": null,
   "metadata": {},
   "outputs": [],
   "source": [
    "def search_element(matrix, val):\n",
    "    m, n = len(matrix), len(matrix[0])\n",
    "    i, j = 0, n - 1\n",
    "    while i < m and j > -1:\n",
    "        if matrix[i][j] == val:    return i, j\n",
    "        if matrix[i][j]"
   ]
  }
 ],
 "metadata": {
  "kernelspec": {
   "display_name": "Python 3",
   "language": "python",
   "name": "python3"
  },
  "language_info": {
   "codemirror_mode": {
    "name": "ipython",
    "version": 3
   },
   "file_extension": ".py",
   "mimetype": "text/x-python",
   "name": "python",
   "nbconvert_exporter": "python",
   "pygments_lexer": "ipython3",
   "version": "3.6.8"
  }
 },
 "nbformat": 4,
 "nbformat_minor": 2
}
