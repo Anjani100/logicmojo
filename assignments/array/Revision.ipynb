{
 "cells": [
  {
   "cell_type": "markdown",
   "metadata": {},
   "source": [
    "# Array"
   ]
  },
  {
   "cell_type": "markdown",
   "metadata": {},
   "source": [
    "### Maximum Value in an array of Increasing and Decreasing using Binary Search"
   ]
  },
  {
   "cell_type": "code",
   "execution_count": 11,
   "metadata": {},
   "outputs": [
    {
     "name": "stdout",
     "output_type": "stream",
     "text": [
      "50\n",
      "50\n",
      "500\n",
      "120\n"
     ]
    }
   ],
   "source": [
    "def find_max_value(nums):\n",
    "#     1 5 9 14 19 17 13 8 4 2\n",
    "    n = len(nums)\n",
    "    low, high = 0, n - 1\n",
    "    while low <= high:\n",
    "        mid = (low + high) // 2\n",
    "        if mid == 0 or mid == n - 1 or (nums[mid] > nums[mid - 1] and nums[mid] > nums[mid + 1]):\n",
    "            return nums[mid]\n",
    "        if nums[mid] < nums[mid - 1]:\n",
    "            high = mid - 1\n",
    "        else:\n",
    "            low = mid + 1\n",
    "\n",
    "if __name__=='__main__':\n",
    "    test_cases = [[3, 5, 15, 50, 11, 10, 8, 6],\n",
    "                  [10, 20, 30, 40, 50],\n",
    "                  [8, 10, 20, 80, 100, 200, 400, 500, 3, 2, 1],\n",
    "                  [120, 100, 80, 20, 0]]\n",
    "    for tc in test_cases:\n",
    "        print(find_max_value(tc))"
   ]
  },
  {
   "cell_type": "markdown",
   "metadata": {},
   "source": [
    "### Search an element in a sorted and rotated array"
   ]
  },
  {
   "cell_type": "code",
   "execution_count": 14,
   "metadata": {},
   "outputs": [
    {
     "name": "stdout",
     "output_type": "stream",
     "text": [
      "8\n",
      "8\n",
      "-1\n",
      "3\n"
     ]
    }
   ],
   "source": [
    "def search_number(nums, val):\n",
    "#     7 8 9 10 1 2 3 4 5 6    val = 8\n",
    "    n = len(nums)\n",
    "    low, high = 0, n - 1\n",
    "    while low <= high:\n",
    "        mid = (low + high) // 2\n",
    "        if nums[mid] == val:\n",
    "            return mid\n",
    "        if nums[mid] < nums[low]:\n",
    "            if nums[mid] < val <= nums[high]:\n",
    "                low = mid + 1\n",
    "            else:\n",
    "                high = mid - 1\n",
    "        else:\n",
    "            if nums[low] <= val < nums[mid]:\n",
    "                high = mid - 1\n",
    "            else:\n",
    "                low = mid + 1\n",
    "    return -1\n",
    "\n",
    "if __name__=='__main__':\n",
    "    test_cases = [[[3, 4, 5, 6, 7, 8, 9, 10, 1, 2], 1],\n",
    "                  [[5, 6, 7, 8, 9, 10, 1, 2, 3], 3],\n",
    "                  [[5, 6, 7, 8, 9, 10, 1, 2, 3], 28],\n",
    "                  [[30, 40, 50, 10, 20], 10]]\n",
    "    for arr, val in test_cases:\n",
    "        print(search_number(arr, val))"
   ]
  },
  {
   "cell_type": "markdown",
   "metadata": {},
   "source": [
    "### Segregation logic to Sort an array of 0's, 1's and 2's"
   ]
  },
  {
   "cell_type": "code",
   "execution_count": 19,
   "metadata": {},
   "outputs": [
    {
     "name": "stdout",
     "output_type": "stream",
     "text": [
      "[0, 0, 0, 0, 1, 1, 1, 1, 1, 2, 2, 2]\n"
     ]
    }
   ],
   "source": [
    "def sort_012(nums):\n",
    "    n = len(nums)\n",
    "    zeros, mid, twos = 0, 0, n - 1\n",
    "    while mid <= twos:\n",
    "        if nums[mid] == 0:\n",
    "            nums[mid], nums[zeros] = nums[zeros], nums[mid]\n",
    "            zeros += 1\n",
    "        elif nums[mid] == 2:\n",
    "            nums[mid], nums[twos] = nums[twos], nums[mid]\n",
    "            twos -= 1\n",
    "            mid -= 1\n",
    "        mid += 1\n",
    "    return nums\n",
    "\n",
    "if __name__=='__main__':\n",
    "    print(sort_012([2, 1, 1, 0, 1, 2, 1, 2, 0, 0, 0, 1]))"
   ]
  },
  {
   "cell_type": "markdown",
   "metadata": {},
   "source": []
  }
 ],
 "metadata": {
  "kernelspec": {
   "display_name": "Python 3",
   "language": "python",
   "name": "python3"
  },
  "language_info": {
   "codemirror_mode": {
    "name": "ipython",
    "version": 3
   },
   "file_extension": ".py",
   "mimetype": "text/x-python",
   "name": "python",
   "nbconvert_exporter": "python",
   "pygments_lexer": "ipython3",
   "version": "3.6.8"
  }
 },
 "nbformat": 4,
 "nbformat_minor": 2
}
