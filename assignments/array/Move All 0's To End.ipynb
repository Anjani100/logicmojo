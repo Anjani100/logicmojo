{
 "cells": [
  {
   "cell_type": "code",
   "execution_count": 19,
   "metadata": {},
   "outputs": [
    {
     "name": "stdout",
     "output_type": "stream",
     "text": [
      "[1, 3, 4, 9, 0, 0, 0]\n",
      "[1, 3, 12, 0, 0]\n",
      "[1, 9, 8, 4, 2, 7, 6, 9, 0, 0, 0, 0, 0]\n"
     ]
    }
   ],
   "source": [
    "# Assignment - Segregation logic to Sort an array of 0's, 1's and 2's\n",
    "# Time: O(n)\n",
    "# Space: O(1)\n",
    "\n",
    "def move_zeros(arr):\n",
    "    n = len(arr)\n",
    "    i, zero = 0, arr.index(0)\n",
    "    while i < n:\n",
    "        if arr[i] and i > zero:\n",
    "            arr[i], arr[zero] = arr[zero], arr[i]\n",
    "            zero += 1\n",
    "        i += 1\n",
    "    return arr\n",
    "\n",
    "if __name__=='__main__':\n",
    "    test_cases = [[1,3,0,0,4,0,9],\n",
    "                  [0,1,0,3,12],\n",
    "                  [0, 1, 9, 8, 4, 0, 0, 2, 7, 0, 6, 0, 9]]\n",
    "    for tc in test_cases:\n",
    "        print(move_zeros(tc))"
   ]
  },
  {
   "cell_type": "code",
   "execution_count": 20,
   "metadata": {},
   "outputs": [
    {
     "name": "stdout",
     "output_type": "stream",
     "text": [
      "[1, 3, 4, 9, 0, 0, 0]\n",
      "[1, 3, 12, 0, 0]\n",
      "[1, 9, 8, 4, 2, 7, 6, 9, 0, 0, 0, 0, 0]\n"
     ]
    }
   ],
   "source": [
    "# Time: O(n)\n",
    "# Space: O(1)\n",
    "\n",
    "def move_zeros(arr):\n",
    "    n = len(arr)\n",
    "    i, zero = 0, 0\n",
    "    while i < n:\n",
    "        if arr[i]:\n",
    "            arr[i], arr[zero] = arr[zero], arr[i]\n",
    "            zero += 1\n",
    "        i += 1\n",
    "    return arr\n",
    "\n",
    "if __name__=='__main__':\n",
    "    test_cases = [[1,3,0,0,4,0,9],\n",
    "                  [0,1,0,3,12],\n",
    "                  [0, 1, 9, 8, 4, 0, 0, 2, 7, 0, 6, 0, 9]]\n",
    "    for tc in test_cases:\n",
    "        print(move_zeros(tc))"
   ]
  },
  {
   "cell_type": "code",
   "execution_count": null,
   "metadata": {},
   "outputs": [],
   "source": []
  }
 ],
 "metadata": {
  "kernelspec": {
   "display_name": "Python 3",
   "language": "python",
   "name": "python3"
  },
  "language_info": {
   "codemirror_mode": {
    "name": "ipython",
    "version": 3
   },
   "file_extension": ".py",
   "mimetype": "text/x-python",
   "name": "python",
   "nbconvert_exporter": "python",
   "pygments_lexer": "ipython3",
   "version": "3.6.8"
  }
 },
 "nbformat": 4,
 "nbformat_minor": 2
}
