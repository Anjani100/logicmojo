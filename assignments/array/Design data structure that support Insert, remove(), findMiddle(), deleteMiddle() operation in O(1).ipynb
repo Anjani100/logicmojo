{
 "cells": [
  {
   "cell_type": "code",
   "execution_count": 2,
   "metadata": {},
   "outputs": [
    {
     "name": "stdout",
     "output_type": "stream",
     "text": [
      "44\n",
      "True\n",
      "33\n",
      "True\n",
      "33\n",
      "22\n"
     ]
    }
   ],
   "source": [
    "# Assignment - Design a data Structure which support Insert delete, Random in O(1) time\n",
    "\n",
    "class DLL:\n",
    "    def __init__(self, val):\n",
    "        self.val = val\n",
    "        self.prev = self.next = None\n",
    "\n",
    "class ModifiedStack:\n",
    "    def __init__(self):\n",
    "        self.head = self.tail = self.middle = None\n",
    "        self.count = 0\n",
    "    \n",
    "    def push(self, val):\n",
    "        if not self.tail:\n",
    "            self.head = self.tail = self.middle = DLL(val)\n",
    "            self.count = 1\n",
    "        else:\n",
    "            node = DLL(val)\n",
    "            self.tail.next = node\n",
    "            node.prev = self.tail\n",
    "            self.tail = node\n",
    "            self.count += 1\n",
    "            if self.count % 2:\n",
    "                self.middle = self.middle.next\n",
    "    \n",
    "    def pop(self):\n",
    "        if not self.head:\n",
    "            return False\n",
    "        node = self.tail.prev\n",
    "        node.next = None\n",
    "        self.tail = node\n",
    "        self.count -= 1\n",
    "        if self.count % 2 == 0:\n",
    "            self.middle = self.middle.prev\n",
    "        return True\n",
    "    \n",
    "    def find_middle(self):\n",
    "        return self.middle.val if self.middle else -1\n",
    "    \n",
    "    def delete_middle(self):\n",
    "#         1 -> 2 -> 3 -> 4 -> 5 -> 6 -> X\n",
    "        node = self.middle\n",
    "        self.middle = self.middle.prev\n",
    "        self.middle.next = node.next\n",
    "        node.next.prev = node.prev\n",
    "        node = None\n",
    "        self.count -= 1\n",
    "        if self.count % 2:\n",
    "            self.middle = self.middle.next\n",
    "        return True\n",
    "\n",
    "if __name__=='__main__':\n",
    "    ms = ModifiedStack()\n",
    "    ms.push(11)\n",
    "    ms.push(22)\n",
    "    ms.push(33)\n",
    "    ms.push(44)\n",
    "    ms.push(55)\n",
    "    ms.push(66)\n",
    "    ms.push(77)\n",
    "    print(ms.find_middle())\n",
    "    print(ms.pop())\n",
    "    print(ms.find_middle())\n",
    "    print(ms.pop())\n",
    "    print(ms.find_middle())\n",
    "    ms.delete_middle()\n",
    "    print(ms.find_middle())"
   ]
  },
  {
   "cell_type": "code",
   "execution_count": null,
   "metadata": {},
   "outputs": [],
   "source": [
    "11 -> 22 -> 33 -> 44 -> 55 -> 66 -> 77 -> X"
   ]
  }
 ],
 "metadata": {
  "kernelspec": {
   "display_name": "Python 3",
   "language": "python",
   "name": "python3"
  },
  "language_info": {
   "codemirror_mode": {
    "name": "ipython",
    "version": 3
   },
   "file_extension": ".py",
   "mimetype": "text/x-python",
   "name": "python",
   "nbconvert_exporter": "python",
   "pygments_lexer": "ipython3",
   "version": "3.6.8"
  }
 },
 "nbformat": 4,
 "nbformat_minor": 2
}
