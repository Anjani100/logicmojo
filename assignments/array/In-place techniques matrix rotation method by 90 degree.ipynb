{
 "cells": [
  {
   "cell_type": "code",
   "execution_count": 1,
   "metadata": {},
   "outputs": [
    {
     "name": "stdout",
     "output_type": "stream",
     "text": [
      "[7, 4, 1]\n",
      "[8, 5, 2]\n",
      "[9, 6, 3]\n",
      "\n",
      "[13, 9, 5, 1]\n",
      "[14, 10, 6, 2]\n",
      "[15, 11, 7, 3]\n",
      "[16, 12, 8, 4]\n",
      "\n"
     ]
    }
   ],
   "source": [
    "# Assignment - In-place techniques matrix rotation method by 90 degree\n",
    "# Time: O(n * n)\n",
    "# Space: O(1)\n",
    "\n",
    "def rotate_matrix(matrix):\n",
    "    n = len(matrix)\n",
    "    for i in range(n // 2):\n",
    "        for j in range(i, n - i - 1):\n",
    "            temp = matrix[j][n - i - 1]\n",
    "            matrix[j][n - i - 1] = matrix[i][j]\n",
    "            matrix[i][j] = matrix[n - j - 1][i]\n",
    "            matrix[n - j - 1][i] = matrix[n - i - 1][n - j - 1]\n",
    "            matrix[n - i - 1][n - j - 1] = temp\n",
    "    return matrix\n",
    "\n",
    "if __name__=='__main__':\n",
    "    tc = [[[1, 2, 3],[4, 5, 6],[7, 8, 9]],\n",
    "          [[1, 2, 3, 4],[5, 6, 7, 8],[9, 10, 11, 12],[13, 14, 15, 16]]]\n",
    "    for t in tc:\n",
    "        matrix = rotate_matrix(t)\n",
    "        for m in matrix:\n",
    "            print(m)\n",
    "        print()"
   ]
  },
  {
   "cell_type": "code",
   "execution_count": null,
   "metadata": {},
   "outputs": [],
   "source": []
  }
 ],
 "metadata": {
  "kernelspec": {
   "display_name": "Python 3",
   "language": "python",
   "name": "python3"
  },
  "language_info": {
   "codemirror_mode": {
    "name": "ipython",
    "version": 3
   },
   "file_extension": ".py",
   "mimetype": "text/x-python",
   "name": "python",
   "nbconvert_exporter": "python",
   "pygments_lexer": "ipython3",
   "version": "3.6.8"
  }
 },
 "nbformat": 4,
 "nbformat_minor": 2
}
