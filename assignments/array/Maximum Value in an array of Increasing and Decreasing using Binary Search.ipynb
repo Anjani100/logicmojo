{
 "cells": [
  {
   "cell_type": "code",
   "execution_count": 5,
   "metadata": {},
   "outputs": [
    {
     "name": "stdout",
     "output_type": "stream",
     "text": [
      "50\n",
      "50\n",
      "500\n",
      "120\n"
     ]
    }
   ],
   "source": [
    "# Time: O(logn)\n",
    "# Space: O(1)\n",
    "\n",
    "def find_max_value(arr):\n",
    "    n = len(arr)\n",
    "    low, high = 0, n - 1\n",
    "    while low <= high:\n",
    "        mid = (low + high) // 2\n",
    "        if (not mid or mid == n - 1) or arr[mid - 1] < arr[mid] > arr[mid + 1]:\n",
    "            return arr[mid]\n",
    "        if arr[mid - 1] < arr[mid] < arr[mid + 1]:\n",
    "            low = mid + 1\n",
    "        else:\n",
    "            high = mid - 1\n",
    "\n",
    "if __name__=='__main__':\n",
    "    test_cases = [[3, 5,15, 50, 11, 10, 8, 6],\n",
    "                  [10, 20, 30, 40, 50],\n",
    "                  [8, 10, 20, 80, 100, 200, 400, 500, 3, 2, 1],\n",
    "                  [120, 100, 80, 20, 0]]\n",
    "    for tc in test_cases:\n",
    "        print(find_max_value(tc))"
   ]
  },
  {
   "cell_type": "code",
   "execution_count": null,
   "metadata": {},
   "outputs": [],
   "source": []
  }
 ],
 "metadata": {
  "kernelspec": {
   "display_name": "Python 3",
   "language": "python",
   "name": "python3"
  },
  "language_info": {
   "codemirror_mode": {
    "name": "ipython",
    "version": 3
   },
   "file_extension": ".py",
   "mimetype": "text/x-python",
   "name": "python",
   "nbconvert_exporter": "python",
   "pygments_lexer": "ipython3",
   "version": "3.6.8"
  }
 },
 "nbformat": 4,
 "nbformat_minor": 2
}
