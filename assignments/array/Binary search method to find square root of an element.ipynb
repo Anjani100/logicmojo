{
 "cells": [
  {
   "cell_type": "code",
   "execution_count": 3,
   "metadata": {},
   "outputs": [
    {
     "name": "stdout",
     "output_type": "stream",
     "text": [
      "8\n",
      "4\n",
      "3\n",
      "1\n",
      "7\n",
      "8\n",
      "7\n",
      "4\n",
      "3\n",
      "2\n",
      "2\n"
     ]
    }
   ],
   "source": [
    "# Time: O(n)\n",
    "# Space: O(1)\n",
    "\n",
    "def square_root(num):\n",
    "    low, high = 0, num\n",
    "    while low <= high:\n",
    "        mid = (low + high) // 2\n",
    "        if mid * mid == num or (mid * mid < num and (mid + 1) * (mid + 1) > num):\n",
    "            return mid\n",
    "        if mid * mid > num:\n",
    "            high = mid - 1\n",
    "        else:\n",
    "            low = mid + 1\n",
    "\n",
    "if __name__=='__main__':\n",
    "    tc = [64, 16, 9, 1, 63, 72, 57, 19, 11, 8, 4]\n",
    "    for t in tc:\n",
    "        print(square_root(t))"
   ]
  },
  {
   "cell_type": "code",
   "execution_count": null,
   "metadata": {},
   "outputs": [],
   "source": []
  }
 ],
 "metadata": {
  "kernelspec": {
   "display_name": "Python 3",
   "language": "python",
   "name": "python3"
  },
  "language_info": {
   "codemirror_mode": {
    "name": "ipython",
    "version": 3
   },
   "file_extension": ".py",
   "mimetype": "text/x-python",
   "name": "python",
   "nbconvert_exporter": "python",
   "pygments_lexer": "ipython3",
   "version": "3.6.8"
  }
 },
 "nbformat": 4,
 "nbformat_minor": 2
}
