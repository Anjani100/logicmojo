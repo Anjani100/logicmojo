{
 "cells": [
  {
   "cell_type": "code",
   "execution_count": 1,
   "metadata": {},
   "outputs": [
    {
     "name": "stdout",
     "output_type": "stream",
     "text": [
      "4\n"
     ]
    }
   ],
   "source": [
    "def trap_water(heights):\n",
    "    left, right = [heights[0]], [heights[-1]]\n",
    "    n = len(heights)\n",
    "    for i in range(1, n):\n",
    "        left.append(max(left[-1], heights[i]))\n",
    "        right.append(max(right[-1], heights[n - i - 1]))\n",
    "    right.reverse()\n",
    "    water = 0\n",
    "    for i in range(n):\n",
    "        water += min(left[i], right[i]) - heights[i]\n",
    "    return water\n",
    "\n",
    "if __name__=='__main__':\n",
    "    tc = [[3,2,1,4,6,5,3,1,2]]\n",
    "    for t in tc:\n",
    "        print(trap_water(t))"
   ]
  },
  {
   "cell_type": "code",
   "execution_count": null,
   "metadata": {},
   "outputs": [],
   "source": [
    "        -\n",
    "        - -\n",
    "      - - -\n",
    "-     - - - -\n",
    "- -   - - - -   -\n",
    "- - - - - - - - -"
   ]
  }
 ],
 "metadata": {
  "kernelspec": {
   "display_name": "Python 3",
   "language": "python",
   "name": "python3"
  },
  "language_info": {
   "codemirror_mode": {
    "name": "ipython",
    "version": 3
   },
   "file_extension": ".py",
   "mimetype": "text/x-python",
   "name": "python",
   "nbconvert_exporter": "python",
   "pygments_lexer": "ipython3",
   "version": "3.6.8"
  }
 },
 "nbformat": 4,
 "nbformat_minor": 2
}
