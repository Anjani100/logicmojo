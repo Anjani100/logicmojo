{
 "cells": [
  {
   "cell_type": "markdown",
   "metadata": {},
   "source": [
    "### QuickSort Algorithm\n",
    "\n",
    "This problem can be done using HeapSort and MergeSort in O(nlogn) and the space complexity for these solutions is O(n)\n",
    "\n",
    "Although QuickSort can do it in constant space and linear time complexity\n",
    "\n",
    "So, let's recall QuickSort before doing the problem"
   ]
  },
  {
   "cell_type": "code",
   "execution_count": 28,
   "metadata": {},
   "outputs": [
    {
     "name": "stdout",
     "output_type": "stream",
     "text": [
      "[10, 30, 40, 50, 70, 80, 90]\n",
      "[1, 5, 7, 8, 9, 10]\n"
     ]
    }
   ],
   "source": [
    "def partition(arr, low, high):\n",
    "    i = low - 1\n",
    "    pivot = arr[high]\n",
    "    for j in range(low, high):\n",
    "        if arr[j] < pivot:\n",
    "            i += 1\n",
    "            arr[i], arr[j] = arr[j], arr[i]\n",
    "    arr[i + 1], arr[high] = arr[high], arr[i + 1]\n",
    "    return i + 1\n",
    "\n",
    "def quick_sort(arr, low, high):\n",
    "    if low >= high:\n",
    "        return\n",
    "    pivot = partition(arr, low, high)\n",
    "    quick_sort(arr, low, pivot - 1)\n",
    "    quick_sort(arr, pivot + 1, high)\n",
    "\n",
    "if __name__=='__main__':\n",
    "    tc = [[10, 80, 30, 90, 40, 50, 70],\n",
    "           [10, 7, 8, 9, 1, 5]]\n",
    "    for t in tc:\n",
    "        quick_sort(t, 0, len(t) - 1)\n",
    "        print(t)"
   ]
  },
  {
   "cell_type": "markdown",
   "metadata": {},
   "source": [
    "### Find k-th Smallest Element"
   ]
  },
  {
   "cell_type": "code",
   "execution_count": 55,
   "metadata": {},
   "outputs": [
    {
     "name": "stdout",
     "output_type": "stream",
     "text": [
      "90 7\n",
      "1 1\n"
     ]
    }
   ],
   "source": [
    "# Time: O(n)\n",
    "# Space: O(1)\n",
    "\n",
    "from random import randint\n",
    "\n",
    "def partition(arr, low, high):\n",
    "    i = low - 1\n",
    "    for j in range(low, high):\n",
    "        if arr[j] < arr[high]:\n",
    "            i += 1\n",
    "            arr[i], arr[j] = arr[j], arr[i]\n",
    "    arr[i + 1], arr[high] = arr[high], arr[i + 1]\n",
    "    return i + 1\n",
    "\n",
    "def modified_quick_sort(arr, low, high, k):\n",
    "    if low > high:\n",
    "        return\n",
    "    pivot = partition(arr, low, high)\n",
    "    if pivot == k:\n",
    "        return arr[pivot]\n",
    "    if pivot > k:\n",
    "        return modified_quick_sort(arr, low, pivot - 1, k)\n",
    "    else:\n",
    "        return modified_quick_sort(arr, pivot + 1, high, k)\n",
    "\n",
    "if __name__=='__main__':\n",
    "    tc = [[[10, 80, 30, 90, 40, 50, 70], randint(1, len([10, 80, 30, 90, 40, 50, 70]))],\n",
    "           [[10, 7, 8, 9, 1, 5], randint(0, len([10, 7, 8, 9, 1, 5]) - 1)]]\n",
    "    for t, k in tc:\n",
    "        print(modified_quick_sort(t, 0, len(t) - 1, k - 1), k)"
   ]
  },
  {
   "cell_type": "code",
   "execution_count": null,
   "metadata": {},
   "outputs": [],
   "source": []
  }
 ],
 "metadata": {
  "kernelspec": {
   "display_name": "Python 3",
   "language": "python",
   "name": "python3"
  },
  "language_info": {
   "codemirror_mode": {
    "name": "ipython",
    "version": 3
   },
   "file_extension": ".py",
   "mimetype": "text/x-python",
   "name": "python",
   "nbconvert_exporter": "python",
   "pygments_lexer": "ipython3",
   "version": "3.6.8"
  }
 },
 "nbformat": 4,
 "nbformat_minor": 2
}
