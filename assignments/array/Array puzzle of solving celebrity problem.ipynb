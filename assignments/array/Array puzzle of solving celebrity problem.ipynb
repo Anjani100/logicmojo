{
 "cells": [
  {
   "cell_type": "code",
   "execution_count": 2,
   "metadata": {},
   "outputs": [
    {
     "name": "stdout",
     "output_type": "stream",
     "text": [
      "2\n",
      "1\n",
      "-1\n",
      "-1\n"
     ]
    }
   ],
   "source": [
    "# Time: O(n + n)\n",
    "# Space: O(1)\n",
    "\n",
    "def celebrity_problem(matrix):\n",
    "    n = len(matrix)\n",
    "    i, j = 0, n - 1\n",
    "    while i < j:\n",
    "        if matrix[i][j]:\n",
    "            i += 1\n",
    "        else:\n",
    "            j -= 1\n",
    "    for k in range(n):\n",
    "        if i != k and (matrix[i][k] or not matrix[k][i]):\n",
    "            return -1\n",
    "    return i\n",
    "\n",
    "if __name__=='__main__':\n",
    "    tc = [[[ 0, 0, 1, 0 ],[ 0, 0, 1, 0 ],[ 0, 0, 0, 0 ],[ 0, 0, 1, 0 ]],\n",
    "          [[0, 1, 0],[0, 0, 0],[0, 1, 0]],\n",
    "          [[0, 1], [1, 0]],\n",
    "          [[0, 0, 1, 0],[0, 0, 1, 0],[0, 1, 0, 0],[0, 0, 1, 0]]]\n",
    "    for t in tc:\n",
    "        print(celebrity_problem(t))"
   ]
  },
  {
   "cell_type": "code",
   "execution_count": null,
   "metadata": {},
   "outputs": [],
   "source": []
  }
 ],
 "metadata": {
  "kernelspec": {
   "display_name": "Python 3",
   "language": "python",
   "name": "python3"
  },
  "language_info": {
   "codemirror_mode": {
    "name": "ipython",
    "version": 3
   },
   "file_extension": ".py",
   "mimetype": "text/x-python",
   "name": "python",
   "nbconvert_exporter": "python",
   "pygments_lexer": "ipython3",
   "version": "3.6.8"
  }
 },
 "nbformat": 4,
 "nbformat_minor": 2
}
