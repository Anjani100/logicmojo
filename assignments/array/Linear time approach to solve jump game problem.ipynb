{
 "cells": [
  {
   "cell_type": "code",
   "execution_count": 4,
   "metadata": {},
   "outputs": [
    {
     "name": "stdout",
     "output_type": "stream",
     "text": [
      "2\n",
      "3\n",
      "10\n",
      "-1\n"
     ]
    }
   ],
   "source": [
    "# Time: O(n)\n",
    "# Space: O(1)\n",
    "\n",
    "def jump_game(arr):\n",
    "    n = len(arr)\n",
    "    a = b = arr[0]\n",
    "    jumps = 0\n",
    "    for i in range(1, n):\n",
    "        a -= 1\n",
    "        b = max(arr[i], b - 1)\n",
    "        if not a or i == n - 1:\n",
    "            if not b:\n",
    "                return -1\n",
    "            a = b\n",
    "            jumps += 1\n",
    "    return jumps\n",
    "\n",
    "if __name__=='__main__':\n",
    "    test_cases = [[2,3,1,1,4],\n",
    "                  [1, 3, 5, 8, 9, 2, 6, 7, 6, 8, 9],\n",
    "                  [1, 1, 1, 1, 1, 1, 1, 1, 1, 1, 1],\n",
    "                  [3,2,1,0,4]]\n",
    "    for tc in test_cases:\n",
    "        print(jump_game(tc))"
   ]
  },
  {
   "cell_type": "code",
   "execution_count": null,
   "metadata": {},
   "outputs": [],
   "source": []
  }
 ],
 "metadata": {
  "kernelspec": {
   "display_name": "Python 3",
   "language": "python",
   "name": "python3"
  },
  "language_info": {
   "codemirror_mode": {
    "name": "ipython",
    "version": 3
   },
   "file_extension": ".py",
   "mimetype": "text/x-python",
   "name": "python",
   "nbconvert_exporter": "python",
   "pygments_lexer": "ipython3",
   "version": "3.6.8"
  }
 },
 "nbformat": 4,
 "nbformat_minor": 2
}
