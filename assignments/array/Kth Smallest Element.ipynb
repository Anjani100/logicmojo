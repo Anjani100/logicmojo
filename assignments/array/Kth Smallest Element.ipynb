{
 "cells": [
  {
   "cell_type": "code",
   "execution_count": 3,
   "metadata": {},
   "outputs": [
    {
     "name": "stdout",
     "output_type": "stream",
     "text": [
      "6\n",
      "3\n",
      "256\n",
      "35\n"
     ]
    }
   ],
   "source": [
    "# Time: O(n)\n",
    "# Space: O(1)\n",
    "\n",
    "def kth_smallest_element(nums1, nums2, k):\n",
    "    m, n = len(nums1), len(nums2)\n",
    "    i = j = 0\n",
    "    while i < m and j < n:\n",
    "        if nums1[i] <= nums2[j]:\n",
    "            if k == 1:\n",
    "                return nums1[i]\n",
    "            i += 1\n",
    "        else:\n",
    "            if k == 1:\n",
    "                return nums2[j]\n",
    "            j += 1\n",
    "        k -= 1\n",
    "    while i < m:\n",
    "        if k == 1:\n",
    "            return nums1[i]\n",
    "        i += 1\n",
    "        k -= 1\n",
    "    while j < n:\n",
    "        if k == 1:\n",
    "            return nums2[j]\n",
    "        j += 1\n",
    "        k -= 1\n",
    "\n",
    "if __name__=='__main__':\n",
    "    tc = [[[2, 3, 6, 7, 9],[1, 4, 8, 10], 5],\n",
    "          [[-2, -1, 3, 5, 6, 8],[1, 4, 8, 10], 4],\n",
    "          [[100 ,112, 256, 349, 770],[72, 86, 113, 119, 265, 445, 892], 7],\n",
    "          [[10, 20, 40, 60],[15, 35, 50, 70, 100], 4]]\n",
    "    for nums1, nums2, k in tc:\n",
    "        print(k_smallest_element(nums1, nums2, k))"
   ]
  },
  {
   "cell_type": "code",
   "execution_count": 1,
   "metadata": {},
   "outputs": [
    {
     "name": "stdout",
     "output_type": "stream",
     "text": [
      "6\n",
      "3\n",
      "256\n",
      "35\n",
      "6\n",
      "1\n"
     ]
    }
   ],
   "source": [
    "def kth_smallest_element(nums1, nums2, m, n, k):\n",
    "    if n < m:    return kth_smallest_element(nums2, nums1, n, m, k)\n",
    "    low, high = max(0, k - n), min(k, m)\n",
    "    while low <= high:\n",
    "        mid = (low + high) // 2\n",
    "        l1, r1 = nums1[mid - 1] if mid > 0 else float('-inf'), nums1[mid] if mid < m else float('inf')\n",
    "        l2, r2 = nums2[k - mid - 1] if k - mid > 0 else float('-inf'), nums2[k - mid] if k - mid < n else float('inf')\n",
    "        if l1 > r2:    high = mid - 1\n",
    "        elif l2 > r1:    low = mid + 1\n",
    "        else:    return max(l1, l2)\n",
    "\n",
    "if __name__=='__main__':\n",
    "    tc = [[[2, 3, 6, 7, 9],[1, 4, 8, 10],5,4,5],\n",
    "          [[-2, -1, 3, 5, 6, 8],[1, 4, 8, 10],6,4,4],\n",
    "          [[100 ,112, 256, 349, 770],[72, 86, 113, 119, 265, 445, 892],5,7,7],\n",
    "          [[10, 20, 40, 60],[15, 35, 50, 70, 100],4,5,4],\n",
    "          [[2, 3, 6, 7, 9],[1, 4, 8, 10],5,4,5],\n",
    "          [[1],[2],1,1,1]]\n",
    "    for nums1, nums2, m, n, k in tc:\n",
    "        print(kth_smallest_element(nums1, nums2, m, n, k))"
   ]
  },
  {
   "cell_type": "code",
   "execution_count": null,
   "metadata": {},
   "outputs": [],
   "source": []
  }
 ],
 "metadata": {
  "kernelspec": {
   "display_name": "Python 3",
   "language": "python",
   "name": "python3"
  },
  "language_info": {
   "codemirror_mode": {
    "name": "ipython",
    "version": 3
   },
   "file_extension": ".py",
   "mimetype": "text/x-python",
   "name": "python",
   "nbconvert_exporter": "python",
   "pygments_lexer": "ipython3",
   "version": "3.6.8"
  }
 },
 "nbformat": 4,
 "nbformat_minor": 2
}
