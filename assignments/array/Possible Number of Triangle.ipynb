{
 "cells": [
  {
   "cell_type": "code",
   "execution_count": 2,
   "metadata": {},
   "outputs": [
    {
     "name": "stdout",
     "output_type": "stream",
     "text": [
      "9\n",
      "3\n",
      "3\n",
      "6\n"
     ]
    }
   ],
   "source": [
    "# Time: O(n^2)\n",
    "# Space: O(1)\n",
    "\n",
    "def count_triangles(nums):\n",
    "    nums.sort()\n",
    "    triangles, n = 0, len(nums)\n",
    "    for i in range(n - 2):\n",
    "        for j in range(i + 1, n - 1):\n",
    "            for k in range(j + 1, n):\n",
    "                if nums[i] + nums[j] > nums[k]:\n",
    "                    triangles += 1\n",
    "                else:\n",
    "                    break\n",
    "    return triangles\n",
    "\n",
    "if __name__=='__main__':\n",
    "    test_cases = [[12, 35, 38, 90, 95, 250, 255],\n",
    "                  [2,2,3,4],\n",
    "                  [4, 6, 3, 7],\n",
    "                  [10, 21, 22, 100, 101, 200, 300]]\n",
    "    for tc in test_cases:\n",
    "        print(count_triangles(tc))"
   ]
  },
  {
   "cell_type": "code",
   "execution_count": null,
   "metadata": {},
   "outputs": [],
   "source": []
  }
 ],
 "metadata": {
  "kernelspec": {
   "display_name": "Python 3",
   "language": "python",
   "name": "python3"
  },
  "language_info": {
   "codemirror_mode": {
    "name": "ipython",
    "version": 3
   },
   "file_extension": ".py",
   "mimetype": "text/x-python",
   "name": "python",
   "nbconvert_exporter": "python",
   "pygments_lexer": "ipython3",
   "version": "3.6.8"
  }
 },
 "nbformat": 4,
 "nbformat_minor": 2
}
