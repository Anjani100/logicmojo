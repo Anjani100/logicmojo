{
 "cells": [
  {
   "cell_type": "code",
   "execution_count": 2,
   "metadata": {},
   "outputs": [
    {
     "name": "stdout",
     "output_type": "stream",
     "text": [
      "(7, 9)\n",
      "(2, 8)\n"
     ]
    }
   ],
   "source": [
    "# Assignment - Xor method to find the element that occurs one\n",
    "# Time: O(n)\n",
    "# Space: O(1)\n",
    "\n",
    "def find_two_unique_elements(arr):\n",
    "    unique = arr[0]\n",
    "    for i in range(1, len(arr)):\n",
    "        unique ^= arr[i]\n",
    "    most_right_bit = unique & (~(unique - 1))\n",
    "    a = b = 0\n",
    "    for i in range(len(arr)):\n",
    "        if arr[i] & most_right_bit:\n",
    "            a ^= arr[i]\n",
    "        else:\n",
    "            b ^= arr[i]\n",
    "    return a, b\n",
    "\n",
    "if __name__=='__main__':\n",
    "    tc = [[2,4,7,9,2,4],\n",
    "          [4,5,4,5,3,2,9,3,9,8]]\n",
    "    for t in tc:\n",
    "        print(find_two_unique_elements(t))"
   ]
  },
  {
   "cell_type": "code",
   "execution_count": null,
   "metadata": {},
   "outputs": [],
   "source": []
  }
 ],
 "metadata": {
  "kernelspec": {
   "display_name": "Python 3",
   "language": "python",
   "name": "python3"
  },
  "language_info": {
   "codemirror_mode": {
    "name": "ipython",
    "version": 3
   },
   "file_extension": ".py",
   "mimetype": "text/x-python",
   "name": "python",
   "nbconvert_exporter": "python",
   "pygments_lexer": "ipython3",
   "version": "3.6.8"
  }
 },
 "nbformat": 4,
 "nbformat_minor": 2
}
