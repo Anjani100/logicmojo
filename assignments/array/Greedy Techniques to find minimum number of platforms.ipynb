{
 "cells": [
  {
   "cell_type": "code",
   "execution_count": 1,
   "metadata": {},
   "outputs": [
    {
     "name": "stdout",
     "output_type": "stream",
     "text": [
      "3\n",
      "4\n",
      "3\n",
      "1\n"
     ]
    }
   ],
   "source": [
    "# Time: O(n + nlogn)\n",
    "# Space: O(1)\n",
    "\n",
    "def min_platforms(arr, dept):\n",
    "    dept.sort()\n",
    "    n = len(arr)\n",
    "    i = j = platforms = max_platforms = 0\n",
    "    while i < n:\n",
    "        platforms += 1\n",
    "        while j < n and dept[j] < arr[i]:\n",
    "            platforms -= 1\n",
    "            j += 1\n",
    "        max_platforms = max(platforms, max_platforms)\n",
    "        i += 1\n",
    "    return max_platforms\n",
    "\n",
    "if __name__=='__main__':\n",
    "    tc = [[[900, 940, 950, 1100, 1500, 1800],[910, 1200, 1120, 1130, 1900, 2000]],\n",
    "          [[100,140,150,200,215,400],[110, 300, 220, 230, 315, 600]],\n",
    "          [[200, 210, 300, 320, 350, 500],[230, 340, 320, 430, 400, 520]],\n",
    "          [[900, 1100, 1235],[1000, 1200, 1240]]]\n",
    "    for arrival, departure in tc:\n",
    "        print(min_platforms(arrival, departure))"
   ]
  },
  {
   "cell_type": "code",
   "execution_count": null,
   "metadata": {},
   "outputs": [],
   "source": []
  }
 ],
 "metadata": {
  "kernelspec": {
   "display_name": "Python 3",
   "language": "python",
   "name": "python3"
  },
  "language_info": {
   "codemirror_mode": {
    "name": "ipython",
    "version": 3
   },
   "file_extension": ".py",
   "mimetype": "text/x-python",
   "name": "python",
   "nbconvert_exporter": "python",
   "pygments_lexer": "ipython3",
   "version": "3.6.8"
  }
 },
 "nbformat": 4,
 "nbformat_minor": 2
}
