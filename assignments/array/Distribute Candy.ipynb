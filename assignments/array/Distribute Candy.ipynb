{
 "cells": [
  {
   "cell_type": "code",
   "execution_count": 11,
   "metadata": {},
   "outputs": [
    {
     "name": "stdout",
     "output_type": "stream",
     "text": [
      "3\n",
      "7\n"
     ]
    }
   ],
   "source": [
    "# Assignment - Greedy Techniques to find minimum number of platforms\n",
    "# Time: O(n)\n",
    "# Space: O(n + n)\n",
    "\n",
    "def distribute_candies(ratings):\n",
    "    n = len(ratings)\n",
    "    left, right = [1], [1]\n",
    "    for i in range(1, n):\n",
    "        if ratings[i] > ratings[i - 1]:\n",
    "            left.append(left[-1] + 1)\n",
    "        else:\n",
    "            left.append(1)\n",
    "        if ratings[n - i - 1] > ratings[n - i]:\n",
    "            right.append(right[-1] + 1)\n",
    "        else:\n",
    "            right.append(1)\n",
    "    right.reverse()\n",
    "    for i in range(n):\n",
    "        left[i] = max(left[i], right[i])\n",
    "    return sum(left)\n",
    "\n",
    "if __name__=='__main__':\n",
    "    test_cases = [[1, 3],\n",
    "                  [1, 5, 2, 1]]\n",
    "    for tc in test_cases:\n",
    "        print(distribute_candies(tc))"
   ]
  },
  {
   "cell_type": "code",
   "execution_count": null,
   "metadata": {},
   "outputs": [],
   "source": []
  }
 ],
 "metadata": {
  "kernelspec": {
   "display_name": "Python 3",
   "language": "python",
   "name": "python3"
  },
  "language_info": {
   "codemirror_mode": {
    "name": "ipython",
    "version": 3
   },
   "file_extension": ".py",
   "mimetype": "text/x-python",
   "name": "python",
   "nbconvert_exporter": "python",
   "pygments_lexer": "ipython3",
   "version": "3.6.8"
  }
 },
 "nbformat": 4,
 "nbformat_minor": 2
}
