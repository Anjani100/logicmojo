{
 "cells": [
  {
   "cell_type": "code",
   "execution_count": 4,
   "metadata": {},
   "outputs": [
    {
     "name": "stdout",
     "output_type": "stream",
     "text": [
      "[[1, 3]]\n",
      "[[2, 2]]\n",
      "[]\n",
      "[]\n",
      "[[2, 4], [2, 7], [5, 7]]\n"
     ]
    }
   ],
   "source": [
    "# Assignment - Array puzzle of solving celebrity problem\n",
    "# Time: O(n)\n",
    "# Space: O(n)\n",
    "\n",
    "from collections import defaultdict\n",
    "\n",
    "def subarray_sum(nums):\n",
    "    res = []\n",
    "    sum_dict = defaultdict(list)\n",
    "    curr_sum = 0\n",
    "    for i, num in enumerate(nums):\n",
    "        curr_sum += num\n",
    "        for idx in sum_dict[curr_sum]:\n",
    "            res.append([idx + 1, i])\n",
    "        sum_dict[curr_sum].append(i)\n",
    "    return res\n",
    "\n",
    "if __name__=='__main__':\n",
    "    tc = [[4,2,-3,1,6],\n",
    "          [4,2,0,1,6],\n",
    "          [-3,2,3,1,6],\n",
    "          [1,2],\n",
    "          [6,3,-2,5,-3,7,-6,-1,4]]\n",
    "    for t in tc:\n",
    "        print(subarray_sum(t))"
   ]
  },
  {
   "cell_type": "code",
   "execution_count": null,
   "metadata": {},
   "outputs": [],
   "source": []
  }
 ],
 "metadata": {
  "kernelspec": {
   "display_name": "Python 3",
   "language": "python",
   "name": "python3"
  },
  "language_info": {
   "codemirror_mode": {
    "name": "ipython",
    "version": 3
   },
   "file_extension": ".py",
   "mimetype": "text/x-python",
   "name": "python",
   "nbconvert_exporter": "python",
   "pygments_lexer": "ipython3",
   "version": "3.6.8"
  }
 },
 "nbformat": 4,
 "nbformat_minor": 2
}
