{
 "cells": [
  {
   "cell_type": "code",
   "execution_count": 1,
   "metadata": {},
   "outputs": [
    {
     "name": "stdout",
     "output_type": "stream",
     "text": [
      "1 \n",
      "6 2 \n",
      "11 7 3 \n",
      "16 12 8 4 \n",
      "17 13 9 5 \n",
      "18 14 10 \n",
      "19 15 \n",
      "20 \n",
      "\n",
      "1 \n",
      "4 2 \n",
      "7 5 3 \n",
      "8 6 \n",
      "9 \n",
      "\n",
      "1 \n",
      "3 2 \n",
      "4 \n",
      "\n",
      "1 \n",
      "2 \n",
      "3 \n",
      "4 \n",
      "\n",
      "1\n",
      "2\n",
      "3\n",
      "\n",
      "1 \n",
      "\n"
     ]
    }
   ],
   "source": [
    "# Assignment - Techniques to print matrix in spiral order without any extra space\n",
    "# Time: O(m * n)\n",
    "# Space: O(1)\n",
    "\n",
    "def diagonal_order(matrix):\n",
    "    m, n = len(matrix), len(matrix[0])\n",
    "    if n == 1 and m > 1:\n",
    "        for i in range(m):\n",
    "            print(matrix[i][0])\n",
    "        return\n",
    "    i = j = 0\n",
    "    J = 1\n",
    "    while i != m - 1 or j != n:\n",
    "        print(matrix[i][j], end = ' ')\n",
    "        i -= 1\n",
    "        j += 1\n",
    "        if (i < 0 and j >= m) or j >= n:\n",
    "            print()\n",
    "            i, j, J = m - 1, J, J + 1\n",
    "        elif i < 0:\n",
    "            print()\n",
    "            i, j = j, 0\n",
    "\n",
    "if __name__=='__main__':\n",
    "    test_cases = [[[1, 2, 3, 4, 5],[6, 7, 8, 9, 10],[11, 12, 13, 14, 15],[16, 17, 18, 19, 20]],\n",
    "                  [[1,2,3],[4,5,6],[7,8,9]],\n",
    "                  [[1,2],[3,4]],\n",
    "                  [[1,2,3,4]],\n",
    "                  [[1],[2],[3]],\n",
    "                  [[1]]]\n",
    "    for tc in test_cases:\n",
    "        diagonal_order(tc)\n",
    "        print()"
   ]
  },
  {
   "cell_type": "code",
   "execution_count": null,
   "metadata": {},
   "outputs": [],
   "source": []
  }
 ],
 "metadata": {
  "kernelspec": {
   "display_name": "Python 3",
   "language": "python",
   "name": "python3"
  },
  "language_info": {
   "codemirror_mode": {
    "name": "ipython",
    "version": 3
   },
   "file_extension": ".py",
   "mimetype": "text/x-python",
   "name": "python",
   "nbconvert_exporter": "python",
   "pygments_lexer": "ipython3",
   "version": "3.6.8"
  }
 },
 "nbformat": 4,
 "nbformat_minor": 2
}
