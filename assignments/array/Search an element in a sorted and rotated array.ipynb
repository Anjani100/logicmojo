{
 "cells": [
  {
   "cell_type": "code",
   "execution_count": 1,
   "metadata": {},
   "outputs": [
    {
     "name": "stdout",
     "output_type": "stream",
     "text": [
      "8\n",
      "8\n",
      "-1\n",
      "3\n"
     ]
    }
   ],
   "source": [
    "# Assignment - Maximum Value in an array of Increasing and Decreasing using Binary Search\n",
    "# Time: O(logn)\n",
    "# Space: O(1)\n",
    "\n",
    "def search_number(arr, val):\n",
    "    n = len(arr) - 1\n",
    "    low, high = 0, n\n",
    "    while low <= high:\n",
    "        mid = (low + high) // 2\n",
    "        if arr[mid] == val:\n",
    "            return mid\n",
    "        if arr[mid] < arr[low]:\n",
    "            if arr[high] >= val:\n",
    "                low = mid + 1\n",
    "            else:\n",
    "                high = mid - 1\n",
    "        else:\n",
    "            if arr[low] <= val <= arr[mid]:\n",
    "                high = mid - 1\n",
    "            else:\n",
    "                low = mid + 1\n",
    "    return -1\n",
    "\n",
    "if __name__=='__main__':\n",
    "    test_cases = [[[3, 4, 5, 6, 7, 8, 9, 10, 1, 2], 1],\n",
    "                  [[5, 6, 7, 8, 9, 10, 1, 2, 3], 3],\n",
    "                  [[5, 6, 7, 8, 9, 10, 1, 2, 3], 28],\n",
    "                  [[30, 40, 50, 10, 20], 10]]\n",
    "    for arr, val in test_cases:\n",
    "        print(search_number(arr, val))"
   ]
  },
  {
   "cell_type": "code",
   "execution_count": null,
   "metadata": {},
   "outputs": [],
   "source": []
  }
 ],
 "metadata": {
  "kernelspec": {
   "display_name": "Python 3",
   "language": "python",
   "name": "python3"
  },
  "language_info": {
   "codemirror_mode": {
    "name": "ipython",
    "version": 3
   },
   "file_extension": ".py",
   "mimetype": "text/x-python",
   "name": "python",
   "nbconvert_exporter": "python",
   "pygments_lexer": "ipython3",
   "version": "3.6.8"
  }
 },
 "nbformat": 4,
 "nbformat_minor": 2
}
