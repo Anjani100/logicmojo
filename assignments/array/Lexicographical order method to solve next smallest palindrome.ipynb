{
 "cells": [
  {
   "cell_type": "code",
   "execution_count": 33,
   "metadata": {},
   "outputs": [
    {
     "name": "stdout",
     "output_type": "stream",
     "text": [
      "83178087138\n",
      "131\n",
      "23632\n",
      "94188088149\n",
      "2552\n",
      "1001\n",
      "9\n",
      "1\n"
     ]
    }
   ],
   "source": [
    "def next_smallest_palindrome(nums):\n",
    "    n = len(nums)\n",
    "    if n == 1:\n",
    "        print(nums[0])\n",
    "        return\n",
    "    if nums.count(9) == n:\n",
    "        print(int(''.join(map(str, nums))) + 2)\n",
    "        return\n",
    "    mid = n // 2\n",
    "    left, right = mid - 1, mid + 1 if n % 2 else mid\n",
    "    while left >= 0 and right < n and nums[left] == nums[right]:\n",
    "        left -= 1\n",
    "        right += 1\n",
    "    left_smaller = False\n",
    "    if left < 0 or nums[left] < nums[right]:\n",
    "        left_smaller = True\n",
    "    while left >= 0 and right < n:\n",
    "        nums[right] = nums[left]\n",
    "        left -= 1\n",
    "        right += 1\n",
    "    if left_smaller:\n",
    "        if n % 2 == 0:\n",
    "            mid -= 1\n",
    "        nums[mid] += 1\n",
    "        carry = nums[mid] // 10\n",
    "        nums[mid] %= 10\n",
    "        right = mid + 1\n",
    "        left = mid - 1 if n % 2 else mid\n",
    "#         print(nums, left, right)\n",
    "        while left >= 0 and right < n:\n",
    "            nums[left] += carry\n",
    "            carry = nums[mid] // 10\n",
    "            nums[left] %= 10\n",
    "            nums[right] = nums[left]\n",
    "            right += 1\n",
    "            left -= 1\n",
    "    print(int(''.join(map(str, nums))))\n",
    "\n",
    "if __name__=='__main__':\n",
    "    tc = [[8, 3, 1, 7, 7, 9, 7, 9, 3, 2, 3],\n",
    "          [1,2,1],\n",
    "          [2,3,5,4,5],\n",
    "          [9, 4, 1, 8, 7, 9, 7, 8, 3, 2, 2],\n",
    "          [2,4,5,6],\n",
    "          [9,9,9],\n",
    "          [9],\n",
    "          [1]]\n",
    "    for t in tc:\n",
    "        next_smallest_palindrome(t)"
   ]
  },
  {
   "cell_type": "code",
   "execution_count": null,
   "metadata": {},
   "outputs": [],
   "source": []
  }
 ],
 "metadata": {
  "kernelspec": {
   "display_name": "Python 3",
   "language": "python",
   "name": "python3"
  },
  "language_info": {
   "codemirror_mode": {
    "name": "ipython",
    "version": 3
   },
   "file_extension": ".py",
   "mimetype": "text/x-python",
   "name": "python",
   "nbconvert_exporter": "python",
   "pygments_lexer": "ipython3",
   "version": "3.6.8"
  }
 },
 "nbformat": 4,
 "nbformat_minor": 2
}
