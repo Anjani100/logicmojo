{
 "cells": [
  {
   "cell_type": "code",
   "execution_count": 11,
   "metadata": {},
   "outputs": [
    {
     "name": "stdout",
     "output_type": "stream",
     "text": [
      "1 -> 2 -> 3 -> 4 -> 5 -> 6 -> 7 -> 8 -> X\n"
     ]
    }
   ],
   "source": [
    "# Time: O(nlogn)\n",
    "# Space: O(1)\n",
    "\n",
    "class Node:\n",
    "    def __init__(self, val):\n",
    "        self.val = val\n",
    "        self.next = None\n",
    "\n",
    "def display(node):\n",
    "    while node:\n",
    "        print(node.val, end = ' -> ')\n",
    "        node = node.next\n",
    "    print('X')\n",
    "\n",
    "def find_middle(node):\n",
    "    slow = fast = node\n",
    "    while fast.next and fast.next.next:\n",
    "        slow = slow.next\n",
    "        fast = fast.next.next\n",
    "    return slow\n",
    "\n",
    "def merge_two_sorted_ll(first, second):\n",
    "    if first.val < second.val:\n",
    "        head = ptr = first\n",
    "        first = first.next\n",
    "    else:\n",
    "        head = ptr = second\n",
    "        second = second.next\n",
    "    while first or second:\n",
    "        if not first:\n",
    "            ptr.next = second\n",
    "            return head\n",
    "        if not second:\n",
    "            ptr.next = first\n",
    "            return head\n",
    "        if first.val < second.val:\n",
    "            ptr.next = first\n",
    "            ptr = first\n",
    "            first = first.next\n",
    "        else:\n",
    "            ptr.next = second\n",
    "            ptr = second\n",
    "            second = second.next\n",
    "    return head\n",
    "\n",
    "def sort_ll(head):\n",
    "    if not head or not head.next:\n",
    "        return head\n",
    "    mid = find_middle(head)\n",
    "    first = head\n",
    "    second = mid.next\n",
    "    mid.next = None\n",
    "    first = sort_ll(head)\n",
    "    second = sort_ll(second)\n",
    "    head = merge_two_sorted_ll(first, second)\n",
    "    return head\n",
    "\n",
    "if __name__=='__main__':\n",
    "    head = Node(4)\n",
    "    head.next = Node(2)\n",
    "    head.next.next = Node(7)\n",
    "    head.next.next.next = Node(3)\n",
    "    head.next.next.next.next = Node(6)\n",
    "    head.next.next.next.next.next = Node(5)\n",
    "    head.next.next.next.next.next.next = Node(1)\n",
    "    head.next.next.next.next.next.next.next = Node(8)\n",
    "    \n",
    "#     node2 = Node(1)\n",
    "#     node2.next = Node(3)\n",
    "#     node2.next.next = Node(6)\n",
    "#     node2.next.next.next = Node(7)\n",
    "    \n",
    "    node = sort_ll(head)\n",
    "    display(node)"
   ]
  },
  {
   "cell_type": "code",
   "execution_count": null,
   "metadata": {},
   "outputs": [],
   "source": []
  }
 ],
 "metadata": {
  "kernelspec": {
   "display_name": "Python 3",
   "language": "python",
   "name": "python3"
  },
  "language_info": {
   "codemirror_mode": {
    "name": "ipython",
    "version": 3
   },
   "file_extension": ".py",
   "mimetype": "text/x-python",
   "name": "python",
   "nbconvert_exporter": "python",
   "pygments_lexer": "ipython3",
   "version": "3.6.8"
  }
 },
 "nbformat": 4,
 "nbformat_minor": 2
}
