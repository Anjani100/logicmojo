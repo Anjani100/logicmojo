{
 "cells": [
  {
   "cell_type": "code",
   "execution_count": 13,
   "metadata": {},
   "outputs": [
    {
     "name": "stdout",
     "output_type": "stream",
     "text": [
      "True\n"
     ]
    }
   ],
   "source": [
    "# Assignment - Merge two Sorted Linked List\n",
    "# Time: O(n)\n",
    "# Space: O(1)\n",
    "\n",
    "class Node:\n",
    "    def __init__(self, val):\n",
    "        self.val = val\n",
    "        self.next = None\n",
    "\n",
    "def check_palindrome(head):\n",
    "    def find_middle(node):\n",
    "        slow = fast = node\n",
    "        while fast.next and fast.next.next:\n",
    "            slow = slow.next\n",
    "            fast = fast.next.next\n",
    "        return slow\n",
    "    \n",
    "    def reverse(node):\n",
    "        pre = None\n",
    "        ptr = node\n",
    "        while ptr:\n",
    "            post = ptr.next\n",
    "            ptr.next = pre\n",
    "            pre = ptr\n",
    "            ptr = post\n",
    "        return pre\n",
    "    \n",
    "    mid = find_middle(head)\n",
    "    first = head\n",
    "    second = mid.next\n",
    "    mid.next = None\n",
    "    second = reverse(second)\n",
    "    while second:\n",
    "        if first.val != second.val:\n",
    "            return False\n",
    "        first = first.next\n",
    "        second = second.next\n",
    "    return True\n",
    "\n",
    "if __name__=='__main__':\n",
    "    node1 = Node(2)\n",
    "    node1.next = Node(4)\n",
    "    node1.next.next = Node(3)\n",
    "    node1.next.next.next = Node(4)\n",
    "    node1.next.next.next.next = Node(2)\n",
    "    \n",
    "    print(check_palindrome(node1))"
   ]
  },
  {
   "cell_type": "code",
   "execution_count": null,
   "metadata": {},
   "outputs": [],
   "source": []
  }
 ],
 "metadata": {
  "kernelspec": {
   "display_name": "Python 3",
   "language": "python",
   "name": "python3"
  },
  "language_info": {
   "codemirror_mode": {
    "name": "ipython",
    "version": 3
   },
   "file_extension": ".py",
   "mimetype": "text/x-python",
   "name": "python",
   "nbconvert_exporter": "python",
   "pygments_lexer": "ipython3",
   "version": "3.6.8"
  }
 },
 "nbformat": 4,
 "nbformat_minor": 2
}
