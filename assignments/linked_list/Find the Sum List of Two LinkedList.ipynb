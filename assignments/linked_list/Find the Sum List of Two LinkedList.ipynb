{
 "cells": [
  {
   "cell_type": "code",
   "execution_count": 12,
   "metadata": {},
   "outputs": [
    {
     "name": "stdout",
     "output_type": "stream",
     "text": [
      "8 -> 0 -> 7 -> X\n"
     ]
    }
   ],
   "source": [
    "# Assignment - Sort Linked List using Merge Sort\n",
    "# Time: O(n)\n",
    "# Space: O(1)\n",
    "\n",
    "class Node:\n",
    "    def __init__(self, val):\n",
    "        self.val = val\n",
    "        self.next = None\n",
    "\n",
    "def display(node):\n",
    "    while node:\n",
    "        print(node.val, end = ' -> ')\n",
    "        node = node.next\n",
    "    print('X')\n",
    "\n",
    "def calculate_sum(head1, head2):\n",
    "    def reverse(head):\n",
    "        pre = None\n",
    "        ptr = head\n",
    "        while ptr:\n",
    "            post = ptr.next\n",
    "            ptr.next = pre\n",
    "            pre = ptr\n",
    "            ptr = post\n",
    "        return pre\n",
    "    \n",
    "    head1 = reverse(head1)\n",
    "    head2 = reverse(head2)\n",
    "    head = ptr = Node(-1)\n",
    "    carry = 0\n",
    "    while head1 or head2:\n",
    "        if not head1:\n",
    "            ptr.next = Node((head2.val + carry) % 10)\n",
    "            carry = (head2.val + carry) // 10\n",
    "            ptr = ptr.next\n",
    "            head2 = head2.next\n",
    "            continue\n",
    "        if not head2:\n",
    "            ptr.next = Node((head1.val + carry) % 10)\n",
    "            carry = (head1.val + carry) // 10\n",
    "            ptr = ptr.next\n",
    "            head1 = head1.next\n",
    "            continue\n",
    "        node = Node((head1.val + head2.val + carry) % 10)\n",
    "        carry = (head1.val + head2.val + carry) // 10\n",
    "        head1 = head1.next\n",
    "        head2 = head2.next\n",
    "        ptr.next = node\n",
    "        ptr = node\n",
    "    if carry:   ptr.next = Node(carry)\n",
    "    head = reverse(head.next)\n",
    "    return head\n",
    "\n",
    "if __name__=='__main__':\n",
    "    node1 = Node(3)\n",
    "    node1.next = Node(4)\n",
    "    node1.next.next = Node(2)\n",
    "    \n",
    "    node2 = Node(4)\n",
    "    node2.next = Node(6)\n",
    "    node2.next.next = Node(5)\n",
    "    \n",
    "    node = calculate_sum(node1, node2)\n",
    "    display(node)"
   ]
  },
  {
   "cell_type": "code",
   "execution_count": null,
   "metadata": {},
   "outputs": [],
   "source": [
    "# Inputs:\n",
    "- node1 = Node(2)\n",
    "    node1.next = Node(4)\n",
    "    node1.next.next = Node(5)\n",
    "    node1.next.next.next = Node(8)\n",
    "    \n",
    "    node2 = Node(1)\n",
    "    node2.next = Node(3)\n",
    "    node2.next.next = Node(6)\n",
    "    node2.next.next.next = Node(7)\n",
    "\n",
    "- node1 = Node(3)\n",
    "    node1.next = Node(4)\n",
    "    node1.next.next = Node(2)\n",
    "    \n",
    "    node2 = Node(4)\n",
    "    node2.next = Node(6)\n",
    "    node2.next.next = Node(5)"
   ]
  }
 ],
 "metadata": {
  "kernelspec": {
   "display_name": "Python 3",
   "language": "python",
   "name": "python3"
  },
  "language_info": {
   "codemirror_mode": {
    "name": "ipython",
    "version": 3
   },
   "file_extension": ".py",
   "mimetype": "text/x-python",
   "name": "python",
   "nbconvert_exporter": "python",
   "pygments_lexer": "ipython3",
   "version": "3.6.8"
  }
 },
 "nbformat": 4,
 "nbformat_minor": 2
}
