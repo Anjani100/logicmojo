{
 "cells": [
  {
   "cell_type": "code",
   "execution_count": 1,
   "metadata": {},
   "outputs": [
    {
     "name": "stdout",
     "output_type": "stream",
     "text": [
      "4 -> 2 -> 6 -> 8 -> 7 -> 3 -> 5 -> 1 -> X\n"
     ]
    }
   ],
   "source": [
    "# Assignment - Flattering of LinkedList\n",
    "# Time: O(n)\n",
    "# Space: O(1)\n",
    "\n",
    "class Node:\n",
    "    def __init__(self, val):\n",
    "        self.val = val\n",
    "        self.next = None\n",
    "\n",
    "def display(node):\n",
    "    while node:\n",
    "        print(node.val, end = ' -> ')\n",
    "        node = node.next\n",
    "    print('X')\n",
    "\n",
    "def segregate_ll(head):\n",
    "    even = None\n",
    "    pre = ptr = head\n",
    "    while ptr:\n",
    "        if ptr.val % 2 == 0:\n",
    "            if not even:\n",
    "                if pre == ptr:\n",
    "                    even = ptr\n",
    "                else:\n",
    "                    node = ptr\n",
    "                    pre.next = ptr.next\n",
    "                    node.next = head\n",
    "                    head = node\n",
    "                    even = head\n",
    "            else:\n",
    "                node = ptr\n",
    "                pre.next = ptr.next\n",
    "                node.next = even.next\n",
    "                even.next = node\n",
    "                even = node\n",
    "        pre = ptr\n",
    "        ptr = ptr.next\n",
    "    return head\n",
    "\n",
    "if __name__=='__main__':\n",
    "    head = Node(4)\n",
    "    head.next = Node(2)\n",
    "    head.next.next = Node(7)\n",
    "    head.next.next.next = Node(3)\n",
    "    head.next.next.next.next = Node(6)\n",
    "    head.next.next.next.next.next = Node(5)\n",
    "    head.next.next.next.next.next.next = Node(1)\n",
    "    head.next.next.next.next.next.next.next = Node(8)\n",
    "    \n",
    "#     node2 = Node(1)\n",
    "#     node2.next = Node(3)\n",
    "#     node2.next.next = Node(6)\n",
    "#     node2.next.next.next = Node(7)\n",
    "    \n",
    "    node = segregate_ll(head)\n",
    "    display(node)"
   ]
  },
  {
   "cell_type": "code",
   "execution_count": null,
   "metadata": {},
   "outputs": [],
   "source": []
  }
 ],
 "metadata": {
  "kernelspec": {
   "display_name": "Python 3",
   "language": "python",
   "name": "python3"
  },
  "language_info": {
   "codemirror_mode": {
    "name": "ipython",
    "version": 3
   },
   "file_extension": ".py",
   "mimetype": "text/x-python",
   "name": "python",
   "nbconvert_exporter": "python",
   "pygments_lexer": "ipython3",
   "version": "3.6.8"
  }
 },
 "nbformat": 4,
 "nbformat_minor": 2
}
