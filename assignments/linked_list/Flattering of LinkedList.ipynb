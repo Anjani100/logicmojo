{
 "cells": [
  {
   "cell_type": "code",
   "execution_count": 3,
   "metadata": {},
   "outputs": [
    {
     "name": "stdout",
     "output_type": "stream",
     "text": [
      "4 -> 6 -> 7 -> 11 -> 18 -> 20 -> 22 -> 28 -> 30 -> 35 -> 40 -> 45 -> 50 -> X\n"
     ]
    }
   ],
   "source": [
    "# Time: O(n) -> n: number of nodes in the entire list\n",
    "# Space: O(1)\n",
    "\n",
    "class Node:\n",
    "    def __init__(self, val):\n",
    "        self.val = val\n",
    "        self.next = self.down = None\n",
    "\n",
    "def display(node):\n",
    "    while node:\n",
    "        print(node.val, end = ' -> ')\n",
    "        node = node.down\n",
    "    print('X')\n",
    "\n",
    "def merge_two_sorted_ll(head1, head2):\n",
    "    head1.next = None\n",
    "    if head1.val < head2.val:\n",
    "        head = ptr = head1\n",
    "        first, second = head1.down, head2\n",
    "    else:\n",
    "        head = ptr = head2\n",
    "        first, second = head1, head2.down\n",
    "    while first or second:\n",
    "        if not first:\n",
    "            ptr.down = second\n",
    "            return head\n",
    "        if not second:\n",
    "            ptr.down = first\n",
    "            return head\n",
    "        if first.val < second.val:\n",
    "            ptr.down = first\n",
    "            ptr = first\n",
    "            first = first.down\n",
    "        else:\n",
    "            ptr.down = second\n",
    "            ptr = second\n",
    "            second = second.down\n",
    "    return head\n",
    "\n",
    "def flatten_ll(head):\n",
    "    if not head or not head.next:\n",
    "        return head\n",
    "    head.next = flatten_ll(head.next)\n",
    "    head = merge_two_sorted_ll(head, head.next)\n",
    "    return head\n",
    "\n",
    "if __name__=='__main__':\n",
    "    node = Node(4)\n",
    "    node.down = Node(6)\n",
    "    node.down.down = Node(7)\n",
    "    node.down.down.down = Node(30)\n",
    "    node.next = Node(11)\n",
    "    node.next.down = Node(20)\n",
    "    node.next.next = Node(18)\n",
    "    node.next.next.down = Node(22)\n",
    "    node.next.next.down.down = Node(50)\n",
    "    node.next.next.next = Node(28)\n",
    "    node.next.next.next.down = Node(35)\n",
    "    node.next.next.next.down.down = Node(40)\n",
    "    node.next.next.next.down.down.down = Node(45)\n",
    "    node = flatten_ll(node)\n",
    "    display(node)"
   ]
  },
  {
   "cell_type": "code",
   "execution_count": null,
   "metadata": {},
   "outputs": [],
   "source": []
  }
 ],
 "metadata": {
  "kernelspec": {
   "display_name": "Python 3",
   "language": "python",
   "name": "python3"
  },
  "language_info": {
   "codemirror_mode": {
    "name": "ipython",
    "version": 3
   },
   "file_extension": ".py",
   "mimetype": "text/x-python",
   "name": "python",
   "nbconvert_exporter": "python",
   "pygments_lexer": "ipython3",
   "version": "3.6.8"
  }
 },
 "nbformat": 4,
 "nbformat_minor": 2
}
