{
 "cells": [
  {
   "cell_type": "code",
   "execution_count": 14,
   "metadata": {},
   "outputs": [
    {
     "name": "stdout",
     "output_type": "stream",
     "text": [
      "2\n",
      "7\n"
     ]
    }
   ],
   "source": [
    "# Assignment - Clone a Linked List\n",
    "# Time: O(n)\n",
    "# Space: O(1)\n",
    "\n",
    "class Node:\n",
    "    def __init__(self, val):\n",
    "        self.val = val\n",
    "        self.next = None\n",
    "\n",
    "def find_nth_from_last(head, n):\n",
    "    ptr = head\n",
    "    i = 0\n",
    "    pre = head\n",
    "    while ptr:\n",
    "        if i >= n:\n",
    "            pre = pre.next\n",
    "        ptr = ptr.next\n",
    "        i += 1\n",
    "    return pre.val\n",
    "\n",
    "if __name__=='__main__':\n",
    "    node1 = Node(2)\n",
    "    node1.next = Node(4)\n",
    "    node1.next.next = Node(5)\n",
    "    node1.next.next.next = Node(8)\n",
    "    \n",
    "    node2 = Node(1)\n",
    "    node2.next = Node(3)\n",
    "    node2.next.next = Node(6)\n",
    "    node2.next.next.next = Node(7)\n",
    "    \n",
    "    print(find_nth_from_last(node1, 4))\n",
    "    print(find_nth_from_last(node2, 1))"
   ]
  },
  {
   "cell_type": "code",
   "execution_count": null,
   "metadata": {},
   "outputs": [],
   "source": []
  }
 ],
 "metadata": {
  "kernelspec": {
   "display_name": "Python 3",
   "language": "python",
   "name": "python3"
  },
  "language_info": {
   "codemirror_mode": {
    "name": "ipython",
    "version": 3
   },
   "file_extension": ".py",
   "mimetype": "text/x-python",
   "name": "python",
   "nbconvert_exporter": "python",
   "pygments_lexer": "ipython3",
   "version": "3.6.8"
  }
 },
 "nbformat": 4,
 "nbformat_minor": 2
}
