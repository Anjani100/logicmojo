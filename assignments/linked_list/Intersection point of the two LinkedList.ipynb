{
 "cells": [
  {
   "cell_type": "code",
   "execution_count": 8,
   "metadata": {
    "scrolled": true
   },
   "outputs": [
    {
     "name": "stdout",
     "output_type": "stream",
     "text": [
      "-1\n"
     ]
    }
   ],
   "source": [
    "# Assignment - Reverse K Linked List\n",
    "# Time: O(m + n)\n",
    "# Space: O(1)\n",
    "\n",
    "class Node:\n",
    "    def __init__(self, val):\n",
    "        self.val = val\n",
    "        self.next = None\n",
    "\n",
    "def display(node):\n",
    "    while node:\n",
    "        print(node.val, end = ' -> ')\n",
    "        node = node.next\n",
    "    print('X')\n",
    "\n",
    "def intersect_point(head1, head2):\n",
    "    def move_ahead(ptr, m, n):\n",
    "        diff = m - n\n",
    "        while diff:\n",
    "            ptr = ptr.next\n",
    "            diff -= 1\n",
    "        return ptr\n",
    "    m = n = 0\n",
    "    ptr1, ptr2 = head1, head2\n",
    "    while ptr1:\n",
    "        m += 1\n",
    "        ptr1 = ptr1.next\n",
    "    while ptr2:\n",
    "        n += 1\n",
    "        ptr2 = ptr2.next\n",
    "    if m > n:\n",
    "        ptr1, ptr2 = move_ahead(head1, m, n), head2\n",
    "    else:\n",
    "        ptr1, ptr2 = head1, move_ahead(head2, n, m)\n",
    "    while ptr1 != ptr2:\n",
    "        ptr1, ptr2 = ptr1.next, ptr2.next\n",
    "    return ptr1\n",
    "\n",
    "if __name__=='__main__':\n",
    "#     headA = Node(4)\n",
    "#     headB = Node(5)\n",
    "#     headA.next = Node(7)\n",
    "#     headA.next.next = Node(9)\n",
    "#     headB.next = headA.next\n",
    "\n",
    "    headA = Node(4)\n",
    "    headB = Node(5)\n",
    "    headA.next = Node(7)\n",
    "    headA.next.next = Node(9)\n",
    "    headB.next = Node(17)\n",
    "    headB.next.next = Node(18)\n",
    "    \n",
    "    node = intersect_point(headA, headB)\n",
    "    if node:    print(node.val)\n",
    "    else:    print(-1)"
   ]
  },
  {
   "cell_type": "code",
   "execution_count": 10,
   "metadata": {},
   "outputs": [
    {
     "name": "stdout",
     "output_type": "stream",
     "text": [
      "7\n"
     ]
    }
   ],
   "source": [
    "# Time: O(m + n)\n",
    "# Space: O(1)\n",
    "\n",
    "class Node:\n",
    "    def __init__(self, val):\n",
    "        self.val = val\n",
    "        self.next = None\n",
    "\n",
    "def display(node):\n",
    "    while node:\n",
    "        print(node.val, end = ' -> ')\n",
    "        node = node.next\n",
    "    print('X')\n",
    "\n",
    "def intersect_point(head1, head2):\n",
    "    ptr1, ptr2 = head1, head2\n",
    "    while ptr1 != ptr2:\n",
    "        if not ptr1:\n",
    "            ptr1 = head2\n",
    "        else:\n",
    "            ptr1 = ptr1.next\n",
    "        if not ptr2:\n",
    "            ptr2 = head1\n",
    "        else:\n",
    "            ptr2 = ptr2.next\n",
    "    return ptr1\n",
    "\n",
    "if __name__=='__main__':\n",
    "    headA = Node(4)\n",
    "    headB = Node(5)\n",
    "    headA.next = Node(7)\n",
    "    headA.next.next = Node(9)\n",
    "    headB.next = headA.next\n",
    "\n",
    "#     headA = Node(4)\n",
    "#     headB = Node(5)\n",
    "#     headA.next = Node(7)\n",
    "#     headA.next.next = Node(9)\n",
    "#     headB.next = Node(17)\n",
    "#     headB.next.next = Node(18)\n",
    "    \n",
    "    node = intersect_point(headA, headB)\n",
    "    if node:    print(node.val)\n",
    "    else:    print(-1)"
   ]
  },
  {
   "cell_type": "code",
   "execution_count": null,
   "metadata": {},
   "outputs": [],
   "source": []
  }
 ],
 "metadata": {
  "kernelspec": {
   "display_name": "Python 3",
   "language": "python",
   "name": "python3"
  },
  "language_info": {
   "codemirror_mode": {
    "name": "ipython",
    "version": 3
   },
   "file_extension": ".py",
   "mimetype": "text/x-python",
   "name": "python",
   "nbconvert_exporter": "python",
   "pygments_lexer": "ipython3",
   "version": "3.6.8"
  }
 },
 "nbformat": 4,
 "nbformat_minor": 2
}
