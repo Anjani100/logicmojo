{
 "cells": [
  {
   "cell_type": "code",
   "execution_count": 26,
   "metadata": {},
   "outputs": [
    {
     "name": "stdout",
     "output_type": "stream",
     "text": [
      "wwwwwwwwwwccccccccccccccccccccccccccccccccccccccccccccccccccccccccccccpppppppppppppppsssssssssssssssssxxx###########################################################################################################################################################################################################################################################################################################################################################################################################\n"
     ]
    }
   ],
   "source": [
    "# Time: O(1) for each query; overall O(n) for stream of length n\n",
    "# Space: O(1)\n",
    "\n",
    "class Node:\n",
    "    def __init__(self, val):\n",
    "        self.val = val\n",
    "        self.prev = self.next = None\n",
    "\n",
    "def first_non_repeating_char(stream):\n",
    "    res = ''\n",
    "    head = tail = None\n",
    "    ascii_word = [0] * 256\n",
    "    for c in stream:\n",
    "        if ascii_word[ord(c)] == -1:    pass\n",
    "        elif ascii_word[ord(c)]:\n",
    "            ptr = ascii_word[ord(c)]\n",
    "            if ptr == head:\n",
    "                head = head.next\n",
    "            elif ptr == tail:\n",
    "                tail = tail.prev\n",
    "                tail.next = None\n",
    "            else:\n",
    "                ptr.prev.next = ptr.next\n",
    "                ptr.next.prev = ptr.prev\n",
    "            ptr = None\n",
    "            ascii_word[ord(c)] = -1\n",
    "        else:\n",
    "            if not head:\n",
    "                head = tail = Node(c)\n",
    "            else:\n",
    "                tail.next = Node(c)\n",
    "                tail.next.prev = tail\n",
    "                tail = tail.next\n",
    "            ascii_word[ord(c)] = tail\n",
    "        res += head.val if head else '#'\n",
    "    return res\n",
    "\n",
    "if __name__=='__main__':\n",
    "    print(first_non_repeating_char(\"wcjohjkzfdwjjozlfwgngbhtvmmopmodsoruilzuujqzjajkevdnatogakqtbridzhlxlzckaijyghieuehygpogeetyvbudjminkrsgmxxsyypeldurzznzzxtpchwgrigvebfmxoaqbkxukvqgdtvulniqmdyrdgvkmsanktmmcddhpktcwhfzvxfvpshjyriltmrevgwzmoaudrvldtgmwpadajgciaykxipeuzdgidtosakczbyxudwyowevqetdirexwrtlophzgysvxfuncgcwxnjiairchvucgejnltgitbwamrplyeaqvnelhkboidpgewvmursxxdryvlmcmhqmaaatsgsoimvdasuamtxasaqlkeungveyyfxuzujyhbavynxfiunkozawzcnticvxlrzewxzbazdwuwygigjwaglyxisjcutseyfmkubueamjpwvhowfamewevgiivmolfxrfrmakrtfwqauysvwckarm\"))"
   ]
  },
  {
   "cell_type": "code",
   "execution_count": null,
   "metadata": {},
   "outputs": [],
   "source": []
  }
 ],
 "metadata": {
  "kernelspec": {
   "display_name": "Python 3",
   "language": "python",
   "name": "python3"
  },
  "language_info": {
   "codemirror_mode": {
    "name": "ipython",
    "version": 3
   },
   "file_extension": ".py",
   "mimetype": "text/x-python",
   "name": "python",
   "nbconvert_exporter": "python",
   "pygments_lexer": "ipython3",
   "version": "3.6.8"
  }
 },
 "nbformat": 4,
 "nbformat_minor": 2
}
