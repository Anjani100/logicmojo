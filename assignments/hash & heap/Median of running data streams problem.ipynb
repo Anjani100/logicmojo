{
 "cells": [
  {
   "cell_type": "code",
   "execution_count": 8,
   "metadata": {},
   "outputs": [
    {
     "name": "stdout",
     "output_type": "stream",
     "text": [
      "8.0\n",
      "5\n",
      "5\n"
     ]
    }
   ],
   "source": [
    "# Time: O(logn) for each addNum query; O(1) for findMedian\n",
    "# Space: O(n)\n",
    "\n",
    "from heapq import heappush, heappop\n",
    "\n",
    "class MedianFinder:\n",
    "\n",
    "    def __init__(self):\n",
    "        \"\"\"\n",
    "        initialize your data structure here.\n",
    "        \"\"\"\n",
    "        self.max_heap, self.min_heap = [], []\n",
    "        self.max = self.min = 0\n",
    "\n",
    "    def addNum(self, num: int) -> None:\n",
    "        if not self.max and not self.min:\n",
    "            self.min_heap.append(num)\n",
    "            self.min += 1\n",
    "            return\n",
    "        if not self.max and self.min:\n",
    "            if num < self.min_heap[0]:\n",
    "                self.max_heap.append(-num)\n",
    "            else:\n",
    "                val = self.min_heap.pop()\n",
    "                self.max_heap.append(-val)\n",
    "                self.min_heap.append(num)\n",
    "            self.max += 1\n",
    "            return\n",
    "        if num < -self.max_heap[0]:\n",
    "            heappush(self.max_heap, -num)\n",
    "            self.max += 1\n",
    "            if self.max - self.min > 1:\n",
    "                heappush(self.min_heap, -heappop(self.max_heap))\n",
    "                self.max -= 1\n",
    "                self.min += 1\n",
    "        else:\n",
    "            heappush(self.min_heap, num)\n",
    "            self.min += 1\n",
    "            if self.min - self.max > 1:\n",
    "                heappush(self.max_heap, -heappop(self.min_heap))\n",
    "                self.max += 1\n",
    "                self.min -= 1\n",
    "\n",
    "    def findMedian(self) -> float:\n",
    "#         print(self.max_heap, self.min_heap, self.max, self.min)\n",
    "        if self.max == self.min:    return (self.min_heap[0] - self.max_heap[0]) / 2\n",
    "        if self.max > self.min:    return -self.max_heap[0]\n",
    "        return self.min_heap[0]\n",
    "\n",
    "\n",
    "if __name__=='__main__':\n",
    "    mf = MedianFinder()\n",
    "    mf.addNum(12)\n",
    "    mf.addNum(4)\n",
    "    result = mf.findMedian()\n",
    "    print(result)\n",
    "    mf.addNum(5)\n",
    "    result = mf.findMedian()\n",
    "    print(result)\n",
    "    mf.addNum(5)\n",
    "    mf.addNum(8)\n",
    "    result = mf.findMedian()\n",
    "    print(result)"
   ]
  },
  {
   "cell_type": "code",
   "execution_count": null,
   "metadata": {},
   "outputs": [],
   "source": []
  }
 ],
 "metadata": {
  "kernelspec": {
   "display_name": "Python 3",
   "language": "python",
   "name": "python3"
  },
  "language_info": {
   "codemirror_mode": {
    "name": "ipython",
    "version": 3
   },
   "file_extension": ".py",
   "mimetype": "text/x-python",
   "name": "python",
   "nbconvert_exporter": "python",
   "pygments_lexer": "ipython3",
   "version": "3.6.8"
  }
 },
 "nbformat": 4,
 "nbformat_minor": 2
}
