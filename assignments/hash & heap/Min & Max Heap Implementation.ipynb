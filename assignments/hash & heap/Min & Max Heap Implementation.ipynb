{
 "cells": [
  {
   "cell_type": "code",
   "execution_count": 4,
   "metadata": {},
   "outputs": [
    {
     "name": "stdout",
     "output_type": "stream",
     "text": [
      "Max-Heap array: [9, 5, 4, 3, 2]\n",
      "After deleting an element: [9, 5, 2, 3]\n"
     ]
    }
   ],
   "source": [
    "# Max-Heap Implementation\n",
    "\n",
    "def heapify(arr, i, n):\n",
    "    largest = i\n",
    "    left = 2 * i + 1\n",
    "    right = 2 * i + 2\n",
    "    if left < n and arr[largest] < arr[left]:    largest = left\n",
    "    if right < n and arr[largest] < arr[right]:    largest = right\n",
    "    if largest != i:\n",
    "        arr[i], arr[largest] = arr[largest], arr[i]\n",
    "        heapify(arr, largest, n)\n",
    "\n",
    "def insert(arr, val):\n",
    "    n = len(arr)\n",
    "    if not arr:    arr.append(val)\n",
    "    else:\n",
    "        arr.append(val)\n",
    "        for i in range(n // 2 - 1, -1, -1):\n",
    "            heapify(arr, i, n)\n",
    "\n",
    "def delete(arr, val):\n",
    "    n = len(arr)\n",
    "    for i in range(n):\n",
    "        if arr[i] == val:    break\n",
    "    arr[i], arr[-1] = arr[-1], arr[i]\n",
    "    arr.pop()\n",
    "    for i in range(n // 2 - 1, -1, -1):\n",
    "        heapify(arr, i, n - 1)\n",
    "\n",
    "if __name__=='__main__':\n",
    "    arr = []\n",
    "    \n",
    "    insert(arr, 3)\n",
    "    insert(arr, 4)\n",
    "    insert(arr, 9)\n",
    "    insert(arr, 5)\n",
    "    insert(arr, 2)\n",
    "    \n",
    "    print (\"Max-Heap array: \" + str(arr))\n",
    "    \n",
    "    delete(arr, 4)\n",
    "    print(\"After deleting an element: \" + str(arr))"
   ]
  },
  {
   "cell_type": "code",
   "execution_count": 6,
   "metadata": {},
   "outputs": [
    {
     "name": "stdout",
     "output_type": "stream",
     "text": [
      "Max-Heap array: [2, 3, 9, 5, 4]\n",
      "After deleting an element: [2, 3, 9, 5]\n"
     ]
    }
   ],
   "source": [
    "# Min-Heap Implementation\n",
    "\n",
    "from heapq import heapify, heappush, heappop\n",
    "\n",
    "if __name__=='__main__':\n",
    "    arr = []\n",
    "    \n",
    "    heappush(arr, 3)\n",
    "    heappush(arr, 4)\n",
    "    heappush(arr, 9)\n",
    "    heappush(arr, 5)\n",
    "    heappush(arr, 2)\n",
    "    \n",
    "    print (\"Max-Heap array: \" + str(arr))\n",
    "    \n",
    "    arr.remove(4)\n",
    "    heapify(arr)\n",
    "    print(\"After deleting an element: \" + str(arr))"
   ]
  },
  {
   "cell_type": "code",
   "execution_count": null,
   "metadata": {},
   "outputs": [],
   "source": []
  }
 ],
 "metadata": {
  "kernelspec": {
   "display_name": "Python 3",
   "language": "python",
   "name": "python3"
  },
  "language_info": {
   "codemirror_mode": {
    "name": "ipython",
    "version": 3
   },
   "file_extension": ".py",
   "mimetype": "text/x-python",
   "name": "python",
   "nbconvert_exporter": "python",
   "pygments_lexer": "ipython3",
   "version": "3.6.8"
  }
 },
 "nbformat": 4,
 "nbformat_minor": 2
}
