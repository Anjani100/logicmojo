{
 "cells": [
  {
   "cell_type": "code",
   "execution_count": 16,
   "metadata": {},
   "outputs": [
    {
     "name": "stdout",
     "output_type": "stream",
     "text": [
      "After sorting the list is: [3, 3, 3, 5, 5, 5, 7, 1, 1, 4, 4, 8, 8, 9, 9]\n"
     ]
    }
   ],
   "source": [
    "# Time: O(m + n + plogp) where m -> len(nums), n -> len(order), p -> Elements not present in order but are there in nums\n",
    "# Space: O(n + p)\n",
    "\n",
    "def relative_sorting(nums, order):\n",
    "    nums_dict = {}\n",
    "    r = []\n",
    "    i = 0\n",
    "    for num in nums:\n",
    "        nums_dict.setdefault(num, 0)\n",
    "        nums_dict[num] += 1\n",
    "    for num in order:\n",
    "        while nums_dict.get(num, 0):\n",
    "            nums[i] = num\n",
    "            i += 1\n",
    "            nums_dict[num] -= 1\n",
    "    for num in nums_dict:\n",
    "        while nums_dict[num]:\n",
    "            r.append(num)\n",
    "            nums_dict[num] -= 1\n",
    "    r.sort()\n",
    "    for num in r:\n",
    "        nums[i] = num\n",
    "        i += 1\n",
    "\n",
    "if __name__ == '__main__':\n",
    " \n",
    "    first = [5, 8, 9, 3, 5, 7, 1, 3, 4, 9, 3, 5, 1, 8, 4]\n",
    "    second = [3, 5, 7, 2]\n",
    " \n",
    "    relative_sorting(first, second)\n",
    "    print(\"After sorting the list is:\", first)"
   ]
  },
  {
   "cell_type": "code",
   "execution_count": null,
   "metadata": {},
   "outputs": [],
   "source": []
  }
 ],
 "metadata": {
  "kernelspec": {
   "display_name": "Python 3",
   "language": "python",
   "name": "python3"
  },
  "language_info": {
   "codemirror_mode": {
    "name": "ipython",
    "version": 3
   },
   "file_extension": ".py",
   "mimetype": "text/x-python",
   "name": "python",
   "nbconvert_exporter": "python",
   "pygments_lexer": "ipython3",
   "version": "3.6.8"
  }
 },
 "nbformat": 4,
 "nbformat_minor": 2
}
