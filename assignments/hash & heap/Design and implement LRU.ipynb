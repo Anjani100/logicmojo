{
 "cells": [
  {
   "cell_type": "code",
   "execution_count": 12,
   "metadata": {},
   "outputs": [
    {
     "name": "stdout",
     "output_type": "stream",
     "text": [
      "1\n",
      "-1\n",
      "-1\n",
      "3\n",
      "4\n"
     ]
    }
   ],
   "source": [
    "# Time: O(1) for each get and set query\n",
    "# Space: O(n + n) ~ O(n)\n",
    "\n",
    "from collections import defaultdict\n",
    "\n",
    "class Node:\n",
    "    def __init__(self, val):\n",
    "        self.val = val\n",
    "        self.prev = self.next = None\n",
    "\n",
    "class LRUCache:\n",
    "\n",
    "    def __init__(self, capacity: int):\n",
    "        self.capacity = capacity\n",
    "        self.current_capacity = 0\n",
    "        self.head = self.tail = None\n",
    "        self.cache = defaultdict(list)\n",
    "    \n",
    "    def update(self, key):\n",
    "        node = self.cache[key][0]\n",
    "        if node == self.head:    return\n",
    "        if node == self.tail:\n",
    "            self.tail = node.prev\n",
    "            self.tail.next = None\n",
    "        else:\n",
    "            node.prev.next = node.next\n",
    "            node.next.prev = node.prev\n",
    "        node.prev = None\n",
    "        node.next = self.head\n",
    "        self.head.prev = node\n",
    "        self.head = node\n",
    "\n",
    "    def get(self, key: int) -> int:\n",
    "        if not self.cache[key]:    return -1\n",
    "        self.update(key)\n",
    "        return self.cache[key][1]\n",
    "\n",
    "    def put(self, key: int, value: int) -> None:\n",
    "        if self.cache[key]:\n",
    "            self.update(key)\n",
    "            self.cache[key][1] = value\n",
    "            return\n",
    "        if self.current_capacity < self.capacity:\n",
    "            node = Node(key)\n",
    "            if not self.head:\n",
    "                self.head = self.tail = node\n",
    "            else:\n",
    "                self.head.prev = node\n",
    "                node.next = self.head\n",
    "                self.head = node\n",
    "            self.cache[key] = [node, value]\n",
    "            self.current_capacity += 1\n",
    "            return\n",
    "        # delete lru node\n",
    "        node = self.tail\n",
    "        self.cache[node.val] = []\n",
    "        self.tail = self.tail.prev\n",
    "        if self.tail:   self.tail.next = None\n",
    "        #add new node\n",
    "        node = Node(key)\n",
    "        node.next = self.head\n",
    "        if self.head:   self.head.prev = node\n",
    "        self.head = node\n",
    "        self.cache[key] = [node, value]\n",
    "\n",
    "if __name__=='__main__':\n",
    "    obj = LRUCache(2)\n",
    "    obj.put(1,1)\n",
    "    obj.put(2,2)\n",
    "    print(obj.get(1))\n",
    "    obj.put(3,3)\n",
    "    print(obj.get(2))\n",
    "    obj.put(4,4)\n",
    "    print(obj.get(1))\n",
    "    print(obj.get(3))\n",
    "    print(obj.get(4))"
   ]
  },
  {
   "cell_type": "code",
   "execution_count": null,
   "metadata": {},
   "outputs": [],
   "source": []
  }
 ],
 "metadata": {
  "kernelspec": {
   "display_name": "Python 3",
   "language": "python",
   "name": "python3"
  },
  "language_info": {
   "codemirror_mode": {
    "name": "ipython",
    "version": 3
   },
   "file_extension": ".py",
   "mimetype": "text/x-python",
   "name": "python",
   "nbconvert_exporter": "python",
   "pygments_lexer": "ipython3",
   "version": "3.6.8"
  }
 },
 "nbformat": 4,
 "nbformat_minor": 2
}
