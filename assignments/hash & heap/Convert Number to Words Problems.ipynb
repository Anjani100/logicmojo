{
 "cells": [
  {
   "cell_type": "code",
   "execution_count": 11,
   "metadata": {},
   "outputs": [
    {
     "name": "stdout",
     "output_type": "stream",
     "text": [
      "One Hundred Twenty Three Thousand Two Hundred Thirty Four\n"
     ]
    }
   ],
   "source": [
    "def convert_num_to_word(num):\n",
    "    THOUSANDS = ['', 'Thousand', 'Million', 'Billion']\n",
    "    LESS_THAN_TWENTY = ['', 'One', 'Two', 'Three', 'Four', 'Five', 'Six', 'Seven', 'Eight', 'Nine', 'Ten', 'Eleven',\n",
    "                        'Twelve', 'Thirteen', 'Fourteen', 'Fifteen', 'Sixteen', 'Seventeen', 'Eighteen', 'Nineteen']\n",
    "    TENS = ['', '', 'Twenty', 'Thirty', 'Forty', 'Fifty', 'Sixty', 'Seventy', 'Eighty', 'Ninety']\n",
    "\n",
    "    def helper(num):\n",
    "        h = num // 100\n",
    "        t = ''\n",
    "        if h:\n",
    "            t = LESS_THAN_TWENTY[h] + ' Hundred '\n",
    "        num %= 100\n",
    "        if num < 20:\n",
    "            t += LESS_THAN_TWENTY[num]\n",
    "        else:\n",
    "            tens = num // 10\n",
    "            t += TENS[tens] + ' '\n",
    "            num %= 10\n",
    "            t += LESS_THAN_TWENTY[num] + ' '\n",
    "        return t\n",
    "\n",
    "    if num == 0:    return 'Zero'\n",
    "    i, s = 0, ''\n",
    "    while num:\n",
    "        n = num % 1000\n",
    "        if n:\n",
    "            t = helper(n) + ' ' + THOUSANDS[i] + ' '\n",
    "            s = t + s\n",
    "        i += 1\n",
    "        num //= 1000\n",
    "    while '  ' in s:    s = s.replace('  ', ' ')\n",
    "    return s.strip()\n",
    "\n",
    "if __name__=='__main__':\n",
    "    print(convert_num_to_word(123234))"
   ]
  },
  {
   "cell_type": "code",
   "execution_count": null,
   "metadata": {},
   "outputs": [],
   "source": []
  }
 ],
 "metadata": {
  "kernelspec": {
   "display_name": "Python 3",
   "language": "python",
   "name": "python3"
  },
  "language_info": {
   "codemirror_mode": {
    "name": "ipython",
    "version": 3
   },
   "file_extension": ".py",
   "mimetype": "text/x-python",
   "name": "python",
   "nbconvert_exporter": "python",
   "pygments_lexer": "ipython3",
   "version": "3.6.8"
  }
 },
 "nbformat": 4,
 "nbformat_minor": 2
}
