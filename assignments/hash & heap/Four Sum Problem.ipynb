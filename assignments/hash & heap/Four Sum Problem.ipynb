{
 "cells": [
  {
   "cell_type": "code",
   "execution_count": 14,
   "metadata": {},
   "outputs": [
    {
     "name": "stdout",
     "output_type": "stream",
     "text": [
      "2 7 2 8\n"
     ]
    }
   ],
   "source": [
    "# Time: O(n ^ 2)\n",
    "# Space: O(n)\n",
    "\n",
    "def four_sum(nums, target):\n",
    "    sum_dict = {}\n",
    "    n = len(nums)\n",
    "    for i in range(n - 1):\n",
    "        for j in range(i + 1, n):\n",
    "            s = nums[i] + nums[j]\n",
    "            if sum_dict.get(target - s, None):\n",
    "                return sum_dict[target - s][0], sum_dict[target - s][1], i, j\n",
    "            sum_dict[s] = [i, j]\n",
    "\n",
    "if __name__=='__main__':\n",
    "    arr = [1, 2, 3, 4, 5, 6, 7, 8]\n",
    "    k = 19\n",
    "    indexes = four_sum(arr, k)\n",
    "    if indexes:\n",
    "        print(arr[indexes[0]], arr[indexes[1]], arr[indexes[2]], arr[indexes[3]])"
   ]
  },
  {
   "cell_type": "code",
   "execution_count": 15,
   "metadata": {},
   "outputs": [
    {
     "name": "stdout",
     "output_type": "stream",
     "text": [
      "{(1, 4, 6, 8), (1, 3, 7, 8), (2, 4, 5, 8), (2, 4, 6, 7), (3, 4, 5, 7), (2, 3, 6, 8), (1, 5, 6, 7)}\n"
     ]
    }
   ],
   "source": [
    "def four_sum(nums, target):\n",
    "    sum_dict = {}\n",
    "    n = len(nums)\n",
    "    res = set()\n",
    "    for i in range(n - 1):\n",
    "        for j in range(i + 1, n):\n",
    "            s = nums[i] + nums[j]\n",
    "            v = target - s\n",
    "            for x, y in sum_dict.setdefault(v, []):\n",
    "                if i == x or i == y or j == x or j == y:    continue\n",
    "                res.add(tuple(sorted([nums[x], nums[y], nums[i], nums[j]])))\n",
    "            sum_dict.setdefault(s, []).append([i, j])\n",
    "    return res\n",
    "\n",
    "if __name__=='__main__':\n",
    "    arr = [1, 2, 3, 4, 5, 6, 7, 8]\n",
    "    k = 19\n",
    "    print(four_sum(arr, k))"
   ]
  },
  {
   "cell_type": "code",
   "execution_count": null,
   "metadata": {},
   "outputs": [],
   "source": []
  }
 ],
 "metadata": {
  "kernelspec": {
   "display_name": "Python 3",
   "language": "python",
   "name": "python3"
  },
  "language_info": {
   "codemirror_mode": {
    "name": "ipython",
    "version": 3
   },
   "file_extension": ".py",
   "mimetype": "text/x-python",
   "name": "python",
   "nbconvert_exporter": "python",
   "pygments_lexer": "ipython3",
   "version": "3.6.8"
  }
 },
 "nbformat": 4,
 "nbformat_minor": 2
}
