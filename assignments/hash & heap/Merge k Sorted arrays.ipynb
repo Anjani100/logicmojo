{
 "cells": [
  {
   "cell_type": "code",
   "execution_count": 4,
   "metadata": {},
   "outputs": [
    {
     "name": "stdout",
     "output_type": "stream",
     "text": [
      "[0, 1, 2, 3, 4, 5, 6, 7, 8, 9, 10, 11]\n"
     ]
    }
   ],
   "source": [
    "# Time: O(nklog(k))\n",
    "# Space: O(n * k)\n",
    "\n",
    "from heapq import heappush, heappop\n",
    "\n",
    "def merge_k_sorted_arr(matrix):\n",
    "    m = len(matrix)\n",
    "    result_size = 0\n",
    "    min_heap = []\n",
    "    for i in range(m):\n",
    "        result_size += len(matrix[i])\n",
    "        heappush(min_heap, [matrix[i][0], i, 0, len(matrix[i])])\n",
    "    res = []\n",
    "    while result_size:\n",
    "        val, i, j, n = heappop(min_heap)\n",
    "        res.append(matrix[i][j])\n",
    "        j += 1\n",
    "        if j == n:    heappush(min_heap, [float('inf'), i, j, n])\n",
    "        else:    heappush(min_heap, [matrix[i][j], i, j, n])\n",
    "        result_size -= 1\n",
    "    return res\n",
    "\n",
    "if __name__=='__main__':\n",
    "    matrix = [[1, 3, 5, 7], [2, 4, 6, 8],[0, 9, 10, 11]] \n",
    "    print(merge_k_sorted_arr(matrix))"
   ]
  },
  {
   "cell_type": "code",
   "execution_count": null,
   "metadata": {},
   "outputs": [],
   "source": []
  }
 ],
 "metadata": {
  "kernelspec": {
   "display_name": "Python 3",
   "language": "python",
   "name": "python3"
  },
  "language_info": {
   "codemirror_mode": {
    "name": "ipython",
    "version": 3
   },
   "file_extension": ".py",
   "mimetype": "text/x-python",
   "name": "python",
   "nbconvert_exporter": "python",
   "pygments_lexer": "ipython3",
   "version": "3.6.8"
  }
 },
 "nbformat": 4,
 "nbformat_minor": 2
}
