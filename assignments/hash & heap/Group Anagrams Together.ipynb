{
 "cells": [
  {
   "cell_type": "code",
   "execution_count": 4,
   "metadata": {},
   "outputs": [
    {
     "name": "stdout",
     "output_type": "stream",
     "text": [
      "[['cat', 'tac', 'act'], ['dog'], ['got']]\n"
     ]
    }
   ],
   "source": [
    "# Time: O(n * s) [n -> length of words, s -> length of largest word in words]\n",
    "# Space: O(n + s)\n",
    "\n",
    "from collections import defaultdict\n",
    "\n",
    "def group_anagrams(words):\n",
    "    anagrams = defaultdict(list)\n",
    "    for word in words:\n",
    "        ascii_word = [0] * 26\n",
    "        for w in word:\n",
    "            ascii_word[ord(w) - 97] += 1\n",
    "        sorted_word = ''\n",
    "        for i in range(26):\n",
    "            sorted_word += chr(i + 97) * ascii_word[i]\n",
    "        anagrams[sorted_word].append(word)\n",
    "    return list(anagrams.values())\n",
    "\n",
    "if __name__ == '__main__':\n",
    "    result = []\n",
    "    words = [\"cat\", \"dog\", \"tac\", \"got\", \"act\"]\n",
    "    print(group_anagrams(words))"
   ]
  },
  {
   "cell_type": "code",
   "execution_count": null,
   "metadata": {},
   "outputs": [],
   "source": []
  }
 ],
 "metadata": {
  "kernelspec": {
   "display_name": "Python 3",
   "language": "python",
   "name": "python3"
  },
  "language_info": {
   "codemirror_mode": {
    "name": "ipython",
    "version": 3
   },
   "file_extension": ".py",
   "mimetype": "text/x-python",
   "name": "python",
   "nbconvert_exporter": "python",
   "pygments_lexer": "ipython3",
   "version": "3.6.8"
  }
 },
 "nbformat": 4,
 "nbformat_minor": 2
}
