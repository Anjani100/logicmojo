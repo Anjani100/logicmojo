{
 "cells": [
  {
   "cell_type": "code",
   "execution_count": 2,
   "metadata": {},
   "outputs": [
    {
     "name": "stdout",
     "output_type": "stream",
     "text": [
      "5\n"
     ]
    }
   ],
   "source": [
    "# Time: O(n^2)\n",
    "# Space: O(n^2)\n",
    "\n",
    "def lps(word):\n",
    "    n = len(word)\n",
    "    matrix = [[1 if i == j else 0 for j in range(n)] for i in range(n)]\n",
    "    i, j, J = 0, 1, 2\n",
    "    while i != 0 or j != n:\n",
    "        if word[i] == word[j]:    matrix[i][j] = matrix[i + 1][j - 1] + 2\n",
    "        else:    matrix[i][j] = max(matrix[i][j - 1], matrix[i + 1][j])\n",
    "        i += 1\n",
    "        j += 1\n",
    "        if j == n:    i, j, J = 0, J, J + 1\n",
    "    return matrix[0][n - 1]\n",
    "\n",
    "if __name__=='__main__':\n",
    "    print(lps('ADCECA'))"
   ]
  },
  {
   "cell_type": "code",
   "execution_count": null,
   "metadata": {},
   "outputs": [],
   "source": []
  }
 ],
 "metadata": {
  "kernelspec": {
   "display_name": "Python 3",
   "language": "python",
   "name": "python3"
  },
  "language_info": {
   "codemirror_mode": {
    "name": "ipython",
    "version": 3
   },
   "file_extension": ".py",
   "mimetype": "text/x-python",
   "name": "python",
   "nbconvert_exporter": "python",
   "pygments_lexer": "ipython3",
   "version": "3.6.8"
  }
 },
 "nbformat": 4,
 "nbformat_minor": 2
}
