{
 "cells": [
  {
   "cell_type": "code",
   "execution_count": null,
   "metadata": {},
   "outputs": [],
   "source": [
    "# Simple Approach (TLE)\n",
    "# Time: O(e * n * n) ~ O(en^2)\n",
    "# Space: O(e * n)\n",
    "\n",
    "def super_egg_drop(n, e):\n",
    "    matrix = [[0 if (not i or not j) else j if i == 1 else 1 if j == 1 else 0 for j in range(n + 1)] for i in range(e + 1)]\n",
    "    for i in range(2, e + 1):\n",
    "        for j in range(2, n + 1):\n",
    "            trials = []\n",
    "            for k in range(1, j + 1):\n",
    "                trials.append(max(matrix[i][j - k], matrix[i - 1][k - 1]))\n",
    "            matrix[i][j] = min(trials) + 1\n",
    "    return matrix[-1][-1]\n",
    "\n",
    "if __name__=='__main__':\n",
    "    print(super_egg_drop(36, 2))"
   ]
  },
  {
   "cell_type": "code",
   "execution_count": 3,
   "metadata": {},
   "outputs": [
    {
     "name": "stdout",
     "output_type": "stream",
     "text": [
      "8\n"
     ]
    }
   ],
   "source": [
    "# Optimized Approach\n",
    "# Time: O(e * n * logn) ~ O(enlogn)\n",
    "# Space: O(e * n)\n",
    "\n",
    "def super_egg_drop(n, e):\n",
    "    def find_x(n, e):\n",
    "        if (n, e) not in dp:\n",
    "            if n == 0:\n",
    "                res = 0\n",
    "            elif e == 1:\n",
    "                res = n\n",
    "            else:\n",
    "                low, high = 1, n\n",
    "                while low + 1 < high:\n",
    "                    x = (low + high) // 2\n",
    "                    t1 = find_x(x - 1, e - 1)\n",
    "                    t2 = find_x(n - x, e)\n",
    "                    if t1 < t2:\n",
    "                        low = x\n",
    "                    elif t1 > t2:\n",
    "                        high = x\n",
    "                    else:\n",
    "                        low = high = x\n",
    "                res = 1 + min(max(find_x(n - x, e), find_x(x - 1, e - 1)) for x in (low, high))\n",
    "            dp[(n, e)] = res\n",
    "        return dp[(n, e)]\n",
    "    dp = {}\n",
    "    return find_x(n, e)\n",
    "\n",
    "if __name__=='__main__':\n",
    "    print(super_egg_drop(36, 2))"
   ]
  },
  {
   "cell_type": "code",
   "execution_count": 18,
   "metadata": {},
   "outputs": [
    {
     "name": "stdout",
     "output_type": "stream",
     "text": [
      "8\n"
     ]
    }
   ],
   "source": [
    "# Mathematical Approach\n",
    "# Time: O(n * k)\n",
    "# Space: O(n * k)\n",
    "\n",
    "def super_egg_drop(n, k):\n",
    "    dp = [0 for _ in range(k + 1)]\n",
    "    i = 1\n",
    "    while True:\n",
    "        dp2 = [0]\n",
    "        for j in range(1, k + 1):\n",
    "            dp2.append(1 + dp[j - 1] + dp[j])\n",
    "            if dp2[j] >= n:\n",
    "                return i\n",
    "        dp = dp2\n",
    "        i += 1\n",
    "\n",
    "if __name__=='__main__':\n",
    "    print(super_egg_drop(36, 2))"
   ]
  },
  {
   "cell_type": "code",
   "execution_count": null,
   "metadata": {},
   "outputs": [],
   "source": []
  }
 ],
 "metadata": {
  "kernelspec": {
   "display_name": "Python 3",
   "language": "python",
   "name": "python3"
  },
  "language_info": {
   "codemirror_mode": {
    "name": "ipython",
    "version": 3
   },
   "file_extension": ".py",
   "mimetype": "text/x-python",
   "name": "python",
   "nbconvert_exporter": "python",
   "pygments_lexer": "ipython3",
   "version": "3.6.8"
  }
 },
 "nbformat": 4,
 "nbformat_minor": 2
}
