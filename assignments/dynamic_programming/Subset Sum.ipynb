{
 "cells": [
  {
   "cell_type": "code",
   "execution_count": 2,
   "metadata": {},
   "outputs": [
    {
     "name": "stdout",
     "output_type": "stream",
     "text": [
      "True\n"
     ]
    }
   ],
   "source": [
    "# Time: O(n * s) where s -> sum of nums\n",
    "# Space: O(n * s)\n",
    "\n",
    "def subset_sum(nums, target):\n",
    "    n = len(nums)\n",
    "    dp = [False] * (target + 1)\n",
    "    dp[0] = True\n",
    "    for i in range(n):\n",
    "        dp2 = [True]\n",
    "        for j in range(1, target + 1):\n",
    "            if j < nums[i]:    dp2.append(dp[j])\n",
    "            else:    dp2.append(dp[j] or dp[j - nums[i]])\n",
    "        dp = dp2\n",
    "    return dp[-1]\n",
    "\n",
    "if __name__=='__main__':\n",
    "    print(subset_sum([2, 3, 5, 6], 7))"
   ]
  },
  {
   "cell_type": "code",
   "execution_count": null,
   "metadata": {},
   "outputs": [],
   "source": []
  }
 ],
 "metadata": {
  "kernelspec": {
   "display_name": "Python 3",
   "language": "python",
   "name": "python3"
  },
  "language_info": {
   "codemirror_mode": {
    "name": "ipython",
    "version": 3
   },
   "file_extension": ".py",
   "mimetype": "text/x-python",
   "name": "python",
   "nbconvert_exporter": "python",
   "pygments_lexer": "ipython3",
   "version": "3.6.8"
  }
 },
 "nbformat": 4,
 "nbformat_minor": 2
}
