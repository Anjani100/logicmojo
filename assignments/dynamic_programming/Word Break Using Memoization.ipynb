{
 "cells": [
  {
   "cell_type": "code",
   "execution_count": 5,
   "metadata": {},
   "outputs": [
    {
     "name": "stdout",
     "output_type": "stream",
     "text": [
      "True\n"
     ]
    }
   ],
   "source": [
    "# Time: O(n^2)\n",
    "# Space: O(n)\n",
    "\n",
    "def word_break(word, dictionary):\n",
    "    n = len(word)\n",
    "    dp = [True if not i else False for i in range(n + 1)]\n",
    "    for i in range(1, n + 1):\n",
    "        for j in range(i):\n",
    "            if dp[j] and word[j:i] in dictionary:\n",
    "                dp[i] = True\n",
    "                break\n",
    "    return dp[-1]\n",
    "\n",
    "if __name__=='__main__':\n",
    "    print(word_break(\"applepenapple\", [\"apple\", \"pen\"]))"
   ]
  },
  {
   "cell_type": "markdown",
   "metadata": {},
   "source": [
    "### Word Break II"
   ]
  },
  {
   "cell_type": "code",
   "execution_count": 13,
   "metadata": {},
   "outputs": [
    {
     "name": "stdout",
     "output_type": "stream",
     "text": [
      "['apple pen apple']\n"
     ]
    }
   ],
   "source": [
    "# Time: O(n^3)\n",
    "# Space: O(n)\n",
    "\n",
    "def word_break(word, dictionary):\n",
    "    def word_break_combination(word, text = []):\n",
    "        if not word:\n",
    "            res.append(' '.join(text))\n",
    "            return\n",
    "        for i in range(1, len(word) + 1):\n",
    "            w = word[:i]\n",
    "            if w in dictionary:\n",
    "                word_break_combination(word[i:], text + [w])\n",
    "    res = []\n",
    "    word_break_combination(word)\n",
    "    return res\n",
    "\n",
    "if __name__=='__main__':\n",
    "    print(word_break(\"applepenapple\", [\"apple\", \"pen\"]))"
   ]
  },
  {
   "cell_type": "code",
   "execution_count": null,
   "metadata": {},
   "outputs": [],
   "source": []
  }
 ],
 "metadata": {
  "kernelspec": {
   "display_name": "Python 3",
   "language": "python",
   "name": "python3"
  },
  "language_info": {
   "codemirror_mode": {
    "name": "ipython",
    "version": 3
   },
   "file_extension": ".py",
   "mimetype": "text/x-python",
   "name": "python",
   "nbconvert_exporter": "python",
   "pygments_lexer": "ipython3",
   "version": "3.6.8"
  }
 },
 "nbformat": 4,
 "nbformat_minor": 2
}
