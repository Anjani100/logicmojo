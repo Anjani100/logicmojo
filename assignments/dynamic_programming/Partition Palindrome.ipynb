{
 "cells": [
  {
   "cell_type": "code",
   "execution_count": 14,
   "metadata": {},
   "outputs": [
    {
     "name": "stdout",
     "output_type": "stream",
     "text": [
      "[['a', 'a', 'b'], ['aa', 'b']]\n"
     ]
    }
   ],
   "source": [
    "# Time Complexity Explanation\n",
    "# At each character we have 2 choices:\n",
    "    # - don't start a new partition or\n",
    "    # - start a new partition\n",
    "    # For each choice, we need O(n) time to both: check if palindrome & slice substring\n",
    "    # Together: O((n + n) * 2^n) -> O(2n * 2^n) -> O(n * 2^n)\n",
    "\n",
    "# Mathematical derivation:\n",
    "    # - Since in the backtrack function, we for loop the string and then call recursive function.\n",
    "    # - Say string length is n, the time complexity can be expressed as T(n) = T(n-1) + T(n-2) + ... + T(1)\n",
    "\n",
    "    # Replacing n with n-1 in the above formula, we get T(n-1) = T(n-2) + T(n-3) + ... + T(1)\n",
    "\n",
    "    # Substract the 2 expression, we get T(n) = 2T(n-1).\n",
    "\n",
    "    # Now, it is easy to see it is O(2 ^ N)\n",
    "\n",
    "# Space: O(N + 2^N), N for recursion stack and 2^N for the worst case (all the characters are same) where you can create 2^(N - 1) total combinations\n",
    "\n",
    "def palindrome_partition(word):\n",
    "    def word_combs(word, text = []):\n",
    "        if not word:\n",
    "            res.append(text[:])\n",
    "            return\n",
    "        for i in range(1, len(word) + 1):\n",
    "            w = word[:i]\n",
    "            if w == w[::-1]:\n",
    "                word_combs(word[i:], text + [w])\n",
    "    res = []\n",
    "    word_combs(word)\n",
    "    return res\n",
    "\n",
    "if __name__=='__main__':\n",
    "    print(palindrome_partition(\"aab\"))"
   ]
  },
  {
   "cell_type": "code",
   "execution_count": 34,
   "metadata": {},
   "outputs": [
    {
     "name": "stdout",
     "output_type": "stream",
     "text": [
      "3\n"
     ]
    }
   ],
   "source": [
    "# Time: O(n^3)\n",
    "# Space: O(n^2)\n",
    "\n",
    "def min_cut(word):\n",
    "    n = len(word)\n",
    "    matrix = [[-1 for _ in range(n)] for _ in range(n)]\n",
    "    def palindrome_partition(word, i, j):\n",
    "        if i >= j:    return 0\n",
    "        if word[i:j + 1] == word[i:j + 1][::-1]:    return 0\n",
    "        if matrix[i][j] != -1:    return matrix[i][j]\n",
    "        cut = float('inf')\n",
    "        for k in range(i, j):\n",
    "            if matrix[i][k] != -1:    left = matrix[i][k]\n",
    "            else:\n",
    "                left = palindrome_partition(word, i, k)\n",
    "                matrix[i][k] = left\n",
    "            if matrix[k + 1][j] != -1:    right = matrix[k + 1][j]\n",
    "            else:\n",
    "                right = palindrome_partition(word, k + 1, j)\n",
    "                matrix[k + 1][j] = right\n",
    "            cut = min(cut, 1 + left + right)\n",
    "        matrix[i][j] = cut\n",
    "        return cut\n",
    "    return palindrome_partition(word, 0, n - 1)\n",
    "\n",
    "if __name__=='__main__':\n",
    "    print(min_cut(\"ababbbabbababa\"))"
   ]
  },
  {
   "cell_type": "code",
   "execution_count": null,
   "metadata": {},
   "outputs": [],
   "source": []
  }
 ],
 "metadata": {
  "kernelspec": {
   "display_name": "Python 3",
   "language": "python",
   "name": "python3"
  },
  "language_info": {
   "codemirror_mode": {
    "name": "ipython",
    "version": 3
   },
   "file_extension": ".py",
   "mimetype": "text/x-python",
   "name": "python",
   "nbconvert_exporter": "python",
   "pygments_lexer": "ipython3",
   "version": "3.6.8"
  }
 },
 "nbformat": 4,
 "nbformat_minor": 2
}
