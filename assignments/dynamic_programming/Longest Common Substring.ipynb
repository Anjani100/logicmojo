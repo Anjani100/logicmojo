{
 "cells": [
  {
   "cell_type": "code",
   "execution_count": 2,
   "metadata": {},
   "outputs": [
    {
     "name": "stdout",
     "output_type": "stream",
     "text": [
      "4\n"
     ]
    }
   ],
   "source": [
    "# Time: O(m * n)\n",
    "# Space: O(m * n)\n",
    "\n",
    "def lcs(word1, word2):\n",
    "    m, n = len(word1), len(word2)\n",
    "    matrix = [[0 for _ in range(n + 1)] for _ in range(m + 1)]\n",
    "    longest_string = 0\n",
    "    for i in range(1, m + 1):\n",
    "        for j in range(1, n + 1):\n",
    "            if word1[i - 1] == word2[j - 1]:\n",
    "                matrix[i][j] = 1 + matrix[i - 1][j - 1]\n",
    "                longest_string = max(longest_string, matrix[i][j])\n",
    "    return longest_string\n",
    "\n",
    "if __name__=='__main__':\n",
    "    print(lcs('ABABC', 'BABCA'))"
   ]
  },
  {
   "cell_type": "code",
   "execution_count": null,
   "metadata": {},
   "outputs": [],
   "source": []
  }
 ],
 "metadata": {
  "kernelspec": {
   "display_name": "Python 3",
   "language": "python",
   "name": "python3"
  },
  "language_info": {
   "codemirror_mode": {
    "name": "ipython",
    "version": 3
   },
   "file_extension": ".py",
   "mimetype": "text/x-python",
   "name": "python",
   "nbconvert_exporter": "python",
   "pygments_lexer": "ipython3",
   "version": "3.6.8"
  }
 },
 "nbformat": 4,
 "nbformat_minor": 2
}
