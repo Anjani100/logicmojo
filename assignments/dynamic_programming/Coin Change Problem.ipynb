{
 "cells": [
  {
   "cell_type": "code",
   "execution_count": 8,
   "metadata": {},
   "outputs": [
    {
     "name": "stdout",
     "output_type": "stream",
     "text": [
      "2\n"
     ]
    }
   ],
   "source": [
    "# Time: O(m * n)\n",
    "# Space: O(m * n)\n",
    "\n",
    "def coin_change(coins, target):\n",
    "    n = len(coins)\n",
    "    dp = [1 if not i else 0 for i in range(target + 1)]\n",
    "    for i in range(n):\n",
    "        dp2 = [1]\n",
    "        for j in range(1, target + 1):\n",
    "            if j < coins[i]:    dp2.append(dp[j])\n",
    "            else:    dp2.append(dp[j] + dp2[j - coins[i]])\n",
    "        dp = dp2\n",
    "    return dp[-1]\n",
    "\n",
    "if __name__=='__main__':\n",
    "    print(coin_change([2, 3, 4], 7))"
   ]
  },
  {
   "cell_type": "code",
   "execution_count": null,
   "metadata": {},
   "outputs": [],
   "source": []
  }
 ],
 "metadata": {
  "kernelspec": {
   "display_name": "Python 3",
   "language": "python",
   "name": "python3"
  },
  "language_info": {
   "codemirror_mode": {
    "name": "ipython",
    "version": 3
   },
   "file_extension": ".py",
   "mimetype": "text/x-python",
   "name": "python",
   "nbconvert_exporter": "python",
   "pygments_lexer": "ipython3",
   "version": "3.6.8"
  }
 },
 "nbformat": 4,
 "nbformat_minor": 2
}
