{
 "cells": [
  {
   "cell_type": "code",
   "execution_count": 5,
   "metadata": {},
   "outputs": [
    {
     "name": "stdout",
     "output_type": "stream",
     "text": [
      "True\n"
     ]
    }
   ],
   "source": [
    "# Time: O(m * n)\n",
    "# Space: O(m * n)\n",
    "\n",
    "def interleaving_string(text1, text2, word):\n",
    "    m, n = len(text1), len(text2)\n",
    "    if m + n != len(word):    return False\n",
    "    dp = []\n",
    "    for i in range(n + 1):\n",
    "        if i == 0:  dp.append(True)\n",
    "        elif text2[i - 1] == word[i - 1]: dp.append(dp[-1])\n",
    "        else:   dp.append(False)\n",
    "    for i in range(1, m + 1):\n",
    "        dp2 = [dp[0] if text1[i - 1] == word[i - 1] else False]\n",
    "        for j in range(1, n + 1):\n",
    "            if text1[i - 1] == word[i + j - 1] and text2[j - 1] == word[i + j - 1]:\n",
    "                dp2.append(dp2[-1] or dp[j])\n",
    "            elif text1[i - 1] == word[i + j - 1]:    dp2.append(dp[j])\n",
    "            elif text2[j - 1] == word[i + j - 1]:    dp2.append(dp2[-1])\n",
    "            else:    dp2.append(False)\n",
    "        dp = dp2\n",
    "    return dp[-1]\n",
    "\n",
    "if __name__=='__main__':\n",
    "    print(interleaving_string('ABE', 'BDC', 'ABBDCE'))"
   ]
  },
  {
   "cell_type": "code",
   "execution_count": null,
   "metadata": {},
   "outputs": [],
   "source": []
  }
 ],
 "metadata": {
  "kernelspec": {
   "display_name": "Python 3",
   "language": "python",
   "name": "python3"
  },
  "language_info": {
   "codemirror_mode": {
    "name": "ipython",
    "version": 3
   },
   "file_extension": ".py",
   "mimetype": "text/x-python",
   "name": "python",
   "nbconvert_exporter": "python",
   "pygments_lexer": "ipython3",
   "version": "3.6.8"
  }
 },
 "nbformat": 4,
 "nbformat_minor": 2
}
