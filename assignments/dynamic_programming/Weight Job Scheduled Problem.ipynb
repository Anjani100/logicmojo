{
 "cells": [
  {
   "cell_type": "code",
   "execution_count": 11,
   "metadata": {},
   "outputs": [
    {
     "name": "stdout",
     "output_type": "stream",
     "text": [
      "[[1, 3, 20, 20], [2, 5, 20, 20], [4, 6, 70, 90], [6, 9, 60, 150], [3, 10, 100, 120]]\n",
      "150\n"
     ]
    }
   ],
   "source": [
    "# Time: O(n^2) -> TLE\n",
    "# Space: O(n)\n",
    "\n",
    "def job_scheduling(start_time, end_time, profit):\n",
    "    n = len(start_time)\n",
    "    jobs = [[st, et, p, p] for st, et, p in zip(start_time, end_time, profit)]\n",
    "    jobs.sort(key = lambda x: x[1])\n",
    "    for i in range(n - 1):\n",
    "        for j in range(i + 1, n):\n",
    "            if jobs[i][1] <= jobs[j][0]:\n",
    "                jobs[j][3] = max(jobs[j][3], jobs[i][3] + jobs[j][2])\n",
    "    print(jobs)\n",
    "    return max(jobs, key = lambda x: x[3])[3]\n",
    "\n",
    "if __name__=='__main__':\n",
    "    print(job_scheduling([1,2,3,4,6],[3,5,10,6,9],[20,20,100,70,60]))"
   ]
  },
  {
   "cell_type": "code",
   "execution_count": 13,
   "metadata": {},
   "outputs": [
    {
     "name": "stdout",
     "output_type": "stream",
     "text": [
      "150\n"
     ]
    }
   ],
   "source": [
    "# Time: O(nlogn) -> Recursive Approach\n",
    "# Space: O(n)\n",
    "\n",
    "def find_non_overlap_time(nums, val):\n",
    "    n = len(nums)\n",
    "    low, high = 0, n\n",
    "    if val > nums[-1]:    return n\n",
    "    while low <= high:\n",
    "        mid = (low + high) // 2\n",
    "        if (nums[mid] == val) or (mid < n and nums[mid] < val and nums[mid + 1] > val):    return mid\n",
    "        if nums[mid] < val:    low = mid + 1\n",
    "        else:    high = mid - 1\n",
    "    \n",
    "def job_scheduling(start_time, end_time, profit):\n",
    "    n = len(start_time)\n",
    "    start, end, profit = zip(*sorted(zip(start_time, end_time, profit)))\n",
    "    jump = {i: find_non_overlap_time(start, end[i]) for i in range(len(start))}\n",
    "    \n",
    "    def helper(i):\n",
    "        if i == n:\n",
    "            return 0\n",
    "        return max(helper(i + 1), profit[i] + helper(jump[i]))\n",
    "    return helper(0)\n",
    "\n",
    "if __name__=='__main__':\n",
    "    print(job_scheduling([1,2,3,4,6],[3,5,10,6,9],[20,20,100,70,60]))"
   ]
  },
  {
   "cell_type": "code",
   "execution_count": null,
   "metadata": {},
   "outputs": [],
   "source": []
  }
 ],
 "metadata": {
  "kernelspec": {
   "display_name": "Python 3",
   "language": "python",
   "name": "python3"
  },
  "language_info": {
   "codemirror_mode": {
    "name": "ipython",
    "version": 3
   },
   "file_extension": ".py",
   "mimetype": "text/x-python",
   "name": "python",
   "nbconvert_exporter": "python",
   "pygments_lexer": "ipython3",
   "version": "3.6.8"
  }
 },
 "nbformat": 4,
 "nbformat_minor": 2
}
