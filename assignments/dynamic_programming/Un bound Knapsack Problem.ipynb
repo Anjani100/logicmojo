{
 "cells": [
  {
   "cell_type": "code",
   "execution_count": 1,
   "metadata": {},
   "outputs": [
    {
     "name": "stdout",
     "output_type": "stream",
     "text": [
      "110\n"
     ]
    }
   ],
   "source": [
    "# Time: O(m * n)\n",
    "# Space: O(m * n)\n",
    "\n",
    "def knapsack(weights, values, capacity):\n",
    "    n = len(weights)\n",
    "    dp = [0] * (capacity + 1)\n",
    "    for i in range(1, n + 1):\n",
    "        dp2 = [0]\n",
    "        for j in range(1, capacity + 1):\n",
    "            if j < weights[i - 1]:    dp2.append(dp[j])\n",
    "            else:\n",
    "                dp2.append(max(dp[j], values[i - 1] + dp2[j - weights[i - 1]]))\n",
    "        dp = dp2\n",
    "    return dp[-1]\n",
    "\n",
    "if __name__=='__main__':\n",
    "    weights = [1, 3, 4, 5]\n",
    "    values = [10, 40, 50, 70]\n",
    "    print(knapsack(weights, values, 8))"
   ]
  },
  {
   "cell_type": "code",
   "execution_count": null,
   "metadata": {},
   "outputs": [],
   "source": []
  }
 ],
 "metadata": {
  "kernelspec": {
   "display_name": "Python 3",
   "language": "python",
   "name": "python3"
  },
  "language_info": {
   "codemirror_mode": {
    "name": "ipython",
    "version": 3
   },
   "file_extension": ".py",
   "mimetype": "text/x-python",
   "name": "python",
   "nbconvert_exporter": "python",
   "pygments_lexer": "ipython3",
   "version": "3.6.8"
  }
 },
 "nbformat": 4,
 "nbformat_minor": 2
}
