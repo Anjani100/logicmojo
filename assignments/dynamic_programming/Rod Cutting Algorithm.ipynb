{
 "cells": [
  {
   "cell_type": "code",
   "execution_count": 13,
   "metadata": {},
   "outputs": [
    {
     "name": "stdout",
     "output_type": "stream",
     "text": [
      "22\n"
     ]
    }
   ],
   "source": [
    "# Time: O(n^2)\n",
    "# Space: O(n^2)\n",
    "\n",
    "def rod_cutting(n, price):\n",
    "    dp = [0] * (n + 1)\n",
    "    for i in range(1, n + 1):\n",
    "        dp2 = [0]\n",
    "        for j in range(1, n + 1):\n",
    "            if j < i:    dp2.append(dp[j])\n",
    "            else:    dp2.append(max(dp[j], dp2[j - i] + price[i - 1]))\n",
    "        dp = dp2\n",
    "    return dp[-1]\n",
    "\n",
    "if __name__=='__main__':\n",
    "    price = [1, 5, 8, 9, 10, 17, 17, 20]\n",
    "    print(rod_cutting(len(price), price))"
   ]
  },
  {
   "cell_type": "code",
   "execution_count": null,
   "metadata": {},
   "outputs": [],
   "source": []
  }
 ],
 "metadata": {
  "kernelspec": {
   "display_name": "Python 3",
   "language": "python",
   "name": "python3"
  },
  "language_info": {
   "codemirror_mode": {
    "name": "ipython",
    "version": 3
   },
   "file_extension": ".py",
   "mimetype": "text/x-python",
   "name": "python",
   "nbconvert_exporter": "python",
   "pygments_lexer": "ipython3",
   "version": "3.6.8"
  }
 },
 "nbformat": 4,
 "nbformat_minor": 2
}
