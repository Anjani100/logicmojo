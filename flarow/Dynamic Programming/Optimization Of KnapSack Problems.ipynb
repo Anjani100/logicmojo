{
 "cells": [
  {
   "cell_type": "code",
   "execution_count": 9,
   "metadata": {},
   "outputs": [
    {
     "name": "stdout",
     "output_type": "stream",
     "text": [
      "220\n"
     ]
    }
   ],
   "source": [
    "def knapsack(weights, values, n):\n",
    "    m = len(weights)\n",
    "    matrix = [[0 for _ in range(n + 1)] for _ in range(m + 1)]\n",
    "    for i in range(1, m + 1):\n",
    "        for j in range(1, n + 1):\n",
    "            if j < weights[i - 1]:\n",
    "                matrix[i][j] = matrix[i - 1][j]\n",
    "            else:\n",
    "                matrix[i][j] = max(matrix[i - 1][j], values[i - 1] + matrix[i - 1][j - weights[i - 1]])\n",
    "    return matrix[-1][-1]\n",
    "\n",
    "if __name__=='__main__':\n",
    "    print(knapsack([10, 20, 30], [60, 100, 120], 50))"
   ]
  },
  {
   "cell_type": "code",
   "execution_count": null,
   "metadata": {},
   "outputs": [],
   "source": [
    "# Inputs:\n",
    "# [1, 3, 4, 5], [10, 40, 50, 70], 8"
   ]
  }
 ],
 "metadata": {
  "kernelspec": {
   "display_name": "Python 3",
   "language": "python",
   "name": "python3"
  },
  "language_info": {
   "codemirror_mode": {
    "name": "ipython",
    "version": 3
   },
   "file_extension": ".py",
   "mimetype": "text/x-python",
   "name": "python",
   "nbconvert_exporter": "python",
   "pygments_lexer": "ipython3",
   "version": "3.6.8"
  }
 },
 "nbformat": 4,
 "nbformat_minor": 2
}
