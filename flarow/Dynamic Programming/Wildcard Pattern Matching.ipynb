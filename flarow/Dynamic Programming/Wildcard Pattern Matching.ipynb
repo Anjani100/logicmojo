{
 "cells": [
  {
   "cell_type": "code",
   "execution_count": 39,
   "metadata": {},
   "outputs": [
    {
     "name": "stdout",
     "output_type": "stream",
     "text": [
      "[True, False, False, False, False, False]\n",
      "[False, False, False, False, False, False]\n",
      "[False, False, False, False, False, False]\n",
      "[False, False, False, False, False, False]\n",
      "False\n"
     ]
    }
   ],
   "source": [
    "def wpm(word, ptr):\n",
    "    m = len(word)\n",
    "    n = len(ptr)\n",
    "    matrix = [[True if not i and not j else False for j in range(n + 1)] for i in range(m + 1)]\n",
    "    for j in range(1, n + 1):\n",
    "        if ptr[j - 1] == '*':\n",
    "            matrix[0][j] = matrix[0][j - 1]\n",
    "    for i in range(1, m + 1):\n",
    "        for j in range(1, n + 1):\n",
    "            if ptr[j - 1] == '*':\n",
    "                matrix[i][j] = matrix[i - 1][j] or matrix[i][j - 1]\n",
    "            elif ptr[j - 1] == word[i - 1] or ptr[j - 1] == '?':\n",
    "                matrix[i][j] = matrix[i - 1][j - 1]\n",
    "    for w in matrix:\n",
    "        print(w)\n",
    "    return matrix[m][n]\n",
    "\n",
    "if __name__=='__main__':\n",
    "    print(wpm('aab', 'c*a*b'))"
   ]
  },
  {
   "cell_type": "code",
   "execution_count": 41,
   "metadata": {},
   "outputs": [
    {
     "name": "stdout",
     "output_type": "stream",
     "text": [
      "False\n"
     ]
    }
   ],
   "source": [
    "def wpm(word, ptr):\n",
    "    m = len(word)\n",
    "    n = len(ptr)\n",
    "    dp = [True if not i else False for i in range(n + 1)]\n",
    "    for j in range(1, n + 1):\n",
    "        if ptr[j - 1] == '*':\n",
    "            dp[j] = dp[j - 1]\n",
    "    for i in range(1, m + 1):\n",
    "        dp2 = [False]\n",
    "        for j in range(1, n + 1):\n",
    "            if ptr[j - 1] == '*':\n",
    "                dp2.append(dp[j] or dp2[-1])\n",
    "            elif ptr[j - 1] == word[i - 1] or ptr[j - 1] == '?':\n",
    "                dp2.append(dp[j - 1])\n",
    "            else:\n",
    "                dp2.append(False)\n",
    "        dp = dp2\n",
    "    return dp[n]\n",
    "\n",
    "if __name__=='__main__':\n",
    "    print(wpm('aab', 'c*a*b'))"
   ]
  },
  {
   "cell_type": "code",
   "execution_count": null,
   "metadata": {},
   "outputs": [],
   "source": []
  }
 ],
 "metadata": {
  "kernelspec": {
   "display_name": "Python 3",
   "language": "python",
   "name": "python3"
  },
  "language_info": {
   "codemirror_mode": {
    "name": "ipython",
    "version": 3
   },
   "file_extension": ".py",
   "mimetype": "text/x-python",
   "name": "python",
   "nbconvert_exporter": "python",
   "pygments_lexer": "ipython3",
   "version": "3.6.8"
  }
 },
 "nbformat": 4,
 "nbformat_minor": 2
}
