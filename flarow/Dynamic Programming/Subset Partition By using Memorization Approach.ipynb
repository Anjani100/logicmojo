{
 "cells": [
  {
   "cell_type": "code",
   "execution_count": 12,
   "metadata": {},
   "outputs": [
    {
     "name": "stdout",
     "output_type": "stream",
     "text": [
      "True\n"
     ]
    }
   ],
   "source": [
    "def subset_partition(arr):\n",
    "    s = sum(arr)\n",
    "    if s % 2:\n",
    "        return False\n",
    "    n = len(arr)\n",
    "    s //= 2\n",
    "    matrix = [[True if j == 0 else False for j in range(s + 1)] for i in range(n + 1)]\n",
    "    for i in range(1, n + 1):\n",
    "        for j in range(1, s + 1):\n",
    "            matrix[i][j] = matrix[i - 1][j]\n",
    "            if j >= arr[i - 1]:\n",
    "                matrix[i][j] = matrix[i - 1][j - arr[i - 1]] or matrix[i][j]\n",
    "#     for m in matrix:\n",
    "#         print(m)\n",
    "    return matrix[-1][-1]\n",
    "\n",
    "if __name__=='__main__':\n",
    "    print(subset_partition([23,13,11,7,6,5,5]))"
   ]
  },
  {
   "cell_type": "code",
   "execution_count": null,
   "metadata": {},
   "outputs": [],
   "source": []
  }
 ],
 "metadata": {
  "kernelspec": {
   "display_name": "Python 3",
   "language": "python",
   "name": "python3"
  },
  "language_info": {
   "codemirror_mode": {
    "name": "ipython",
    "version": 3
   },
   "file_extension": ".py",
   "mimetype": "text/x-python",
   "name": "python",
   "nbconvert_exporter": "python",
   "pygments_lexer": "ipython3",
   "version": "3.6.8"
  }
 },
 "nbformat": 4,
 "nbformat_minor": 2
}
