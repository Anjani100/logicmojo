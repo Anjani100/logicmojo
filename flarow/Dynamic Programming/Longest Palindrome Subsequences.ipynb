{
 "cells": [
  {
   "cell_type": "code",
   "execution_count": 19,
   "metadata": {},
   "outputs": [
    {
     "name": "stdout",
     "output_type": "stream",
     "text": [
      "1\n"
     ]
    }
   ],
   "source": [
    "def lps(word):\n",
    "    n = len(word)\n",
    "    if n == 1:\n",
    "        return 1\n",
    "    dp = []\n",
    "    for i in range(n):\n",
    "        d = []\n",
    "        for j in range(n):\n",
    "            if i == j:\n",
    "                d.append(1)\n",
    "            else:\n",
    "                d.append(0)\n",
    "        dp.append(d)\n",
    "    i = 0\n",
    "    s = j = 1\n",
    "    while True:\n",
    "        if word[i] == word[j]:\n",
    "            dp[i][j] = dp[i + 1][j - 1] + 2\n",
    "        else:\n",
    "            dp[i][j] = max(dp[i + 1][j], dp[i][j - 1])\n",
    "        i += 1\n",
    "        j += 1\n",
    "        if i == 1 and j == n:\n",
    "            break\n",
    "        if j == n:\n",
    "            i = 0\n",
    "            j = s + 1\n",
    "            s += 1\n",
    "#     for i in range(n):\n",
    "#         print(dp[i])\n",
    "    return dp[0][-1]\n",
    "\n",
    "if __name__=='__main__':\n",
    "    print(lps(\"abcde\"))"
   ]
  },
  {
   "cell_type": "code",
   "execution_count": null,
   "metadata": {},
   "outputs": [],
   "source": [
    "  A D C E C A\n",
    "A 1 1 1 1 3 5\n",
    "D 0 1 1 1 3 3\n",
    "C 0 0 1 1 3 3\n",
    "E 0 0 0 1 1 1\n",
    "C 0 0 0 0 1 1\n",
    "A 0 0 0 0 0 1"
   ]
  }
 ],
 "metadata": {
  "kernelspec": {
   "display_name": "Python 3",
   "language": "python",
   "name": "python3"
  },
  "language_info": {
   "codemirror_mode": {
    "name": "ipython",
    "version": 3
   },
   "file_extension": ".py",
   "mimetype": "text/x-python",
   "name": "python",
   "nbconvert_exporter": "python",
   "pygments_lexer": "ipython3",
   "version": "3.6.8"
  }
 },
 "nbformat": 4,
 "nbformat_minor": 2
}
