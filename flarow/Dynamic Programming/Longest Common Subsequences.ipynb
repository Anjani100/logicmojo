{
 "cells": [
  {
   "cell_type": "code",
   "execution_count": 2,
   "metadata": {},
   "outputs": [
    {
     "name": "stdout",
     "output_type": "stream",
     "text": [
      "3\n"
     ]
    }
   ],
   "source": [
    "def lcs(text1, text2):\n",
    "    m = len(text1) + 1\n",
    "    n = len(text2) + 1\n",
    "    matrix = [[0 for _ in range(n)] for _ in range(m)]\n",
    "    for i in range(1, m):\n",
    "        for j in range(1, n):\n",
    "            if text1[i - 1] == text2[j - 1]:\n",
    "                matrix[i][j] += matrix[i - 1][j - 1] + 1\n",
    "            else:\n",
    "                matrix[i][j] = max(matrix[i - 1][j], matrix[i][j - 1])\n",
    "    return matrix[-1][-1]\n",
    "\n",
    "if __name__=='__main__':\n",
    "    print(lcs('ABCDEF', 'AEDNEK'))"
   ]
  },
  {
   "cell_type": "code",
   "execution_count": null,
   "metadata": {},
   "outputs": [],
   "source": []
  }
 ],
 "metadata": {
  "kernelspec": {
   "display_name": "Python 3",
   "language": "python",
   "name": "python3"
  },
  "language_info": {
   "codemirror_mode": {
    "name": "ipython",
    "version": 3
   },
   "file_extension": ".py",
   "mimetype": "text/x-python",
   "name": "python",
   "nbconvert_exporter": "python",
   "pygments_lexer": "ipython3",
   "version": "3.6.8"
  }
 },
 "nbformat": 4,
 "nbformat_minor": 2
}
