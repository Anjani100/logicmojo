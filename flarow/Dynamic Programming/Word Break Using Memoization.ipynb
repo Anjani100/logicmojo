{
 "cells": [
  {
   "cell_type": "code",
   "execution_count": 47,
   "metadata": {},
   "outputs": [
    {
     "name": "stdout",
     "output_type": "stream",
     "text": [
      "[1, 0, 0, 0, 1, 0, 0, 1]\n",
      "[0, 0, 0, 0, 1, 0, 0, 1]\n",
      "[0, 0, 1, 0, 0, 0, 0, 0]\n",
      "[0, 0, 0, 0, 0, 0, 0, 0]\n",
      "[0, 0, 0, 0, 1, 0, 0, 1]\n",
      "[0, 0, 0, 0, 0, 0, 0, 1]\n",
      "[0, 0, 0, 0, 0, 0, 1, 1]\n",
      "[0, 0, 0, 0, 0, 0, 0, 1]\n"
     ]
    }
   ],
   "source": [
    "## Brute-force (Iteration:-> Time: O(n^3))\n",
    "def word_break(word, dictionary):\n",
    "    n = len(word)\n",
    "    matrix = [[1 if dictionary.get(word[i], None) and i == j else 0 for j in range(n)] for i in range(n)]\n",
    "    i, j = 0, 1\n",
    "    J = j + 1\n",
    "    while i != 0 or j != n:\n",
    "        if word[i:j + 1] in dictionary:\n",
    "            matrix[i][j] = 1\n",
    "        else:\n",
    "            for k in range(i, j):\n",
    "                if matrix[i][k] == 1 and matrix[k + 1][j] == 1:\n",
    "                    matrix[i][j] = 1\n",
    "                    break\n",
    "        i += 1\n",
    "        j += 1\n",
    "        if j == n:\n",
    "            i = 0\n",
    "            j = J\n",
    "            J += 1\n",
    "    for m in matrix:\n",
    "        print(m)\n",
    "    return matrix[0][n - 1]\n",
    "\n",
    "if __name__=='__main__':\n",
    "    dictionary = {'i': 1, 'like': 1, 'e': 1, 'cat': 1, 'o': 1, 'g': 1, 'dog': 1}\n",
    "    word_break('ilikedog', dictionary)"
   ]
  },
  {
   "cell_type": "code",
   "execution_count": 36,
   "metadata": {},
   "outputs": [
    {
     "name": "stdout",
     "output_type": "stream",
     "text": [
      "i like ice cream and man go\n",
      "i like ice cream and mango\n",
      "i like icecream and man go\n",
      "i like icecream and mango\n"
     ]
    }
   ],
   "source": [
    "## Brute-force (Recursion:-> Time: O(n^3))\n",
    "def word_break(word, dictionary, text):\n",
    "    if not word:\n",
    "        print(text[1:])\n",
    "        return\n",
    "    for i in range(1, len(word) + 1):\n",
    "        w = word[:i]\n",
    "        if dictionary.get(w, None):\n",
    "            word_break(word[i:], dictionary, text + ' ' + w)\n",
    "\n",
    "if __name__=='__main__':\n",
    "    dictionary = {'i': 1, 'like': 1, 'sam': 1, 'sung': 1, 'samsung': 1, 'mobile': 1, 'ice': 1, 'cream': 1, \n",
    "                  'icecream': 1, 'man': 1, 'go': 1, 'mango': 1, 'and': 1}\n",
    "    word_break('ilikeicecreamandmango', dictionary, '')"
   ]
  },
  {
   "cell_type": "code",
   "execution_count": 2,
   "metadata": {},
   "outputs": [
    {
     "name": "stdout",
     "output_type": "stream",
     "text": [
      "True\n"
     ]
    }
   ],
   "source": [
    "## Optimized approach (Author: Aryan; Time: O(n^3))\n",
    "def word_break(s, dictionary):\n",
    "    matrix = [True]\n",
    "    for i in range(1, len(s) + 1):\n",
    "        matrix.append(False)\n",
    "        for j in range(i):\n",
    "            if matrix[j] and s[j:i] in dictionary:\n",
    "                matrix[-1] = True\n",
    "                break\n",
    "    return matrix[-1]\n",
    "\n",
    "if __name__=='__main__':\n",
    "    dictionary = ['i', 'like', 'sam', 'sung', 'samsung', 'mobile', 'ice', 'cream', 'icecream', 'man', 'go', 'mango', 'and']\n",
    "    print(word_break('ilikeicecreamandmango', dictionary))"
   ]
  },
  {
   "cell_type": "code",
   "execution_count": null,
   "metadata": {},
   "outputs": [],
   "source": []
  }
 ],
 "metadata": {
  "kernelspec": {
   "display_name": "Python 3",
   "language": "python",
   "name": "python3"
  },
  "language_info": {
   "codemirror_mode": {
    "name": "ipython",
    "version": 3
   },
   "file_extension": ".py",
   "mimetype": "text/x-python",
   "name": "python",
   "nbconvert_exporter": "python",
   "pygments_lexer": "ipython3",
   "version": "3.6.8"
  }
 },
 "nbformat": 4,
 "nbformat_minor": 2
}
