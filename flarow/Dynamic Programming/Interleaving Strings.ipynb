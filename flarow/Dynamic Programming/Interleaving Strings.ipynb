{
 "cells": [
  {
   "cell_type": "code",
   "execution_count": 4,
   "metadata": {},
   "outputs": [
    {
     "name": "stdout",
     "output_type": "stream",
     "text": [
      "[True, False, False, False]\n",
      "[True, True, False, False]\n",
      "[True, True, True, True]\n",
      "[False, False, False, True]\n",
      "True\n"
     ]
    }
   ],
   "source": [
    "def interleaving_string(text1, text2, word):\n",
    "    m = len(text1)\n",
    "    n = len(text2)\n",
    "    if (m + n != len(word)):\n",
    "        return False\n",
    "    matrix = [[False for _ in range(n + 1)] for i in range(m + 1)]\n",
    "    for i in range(m + 1):\n",
    "        for j in range(n + 1):\n",
    "            if (i == 0 and j == 0):\n",
    "                matrix[i][j] = True\n",
    "            elif j == 0:\n",
    "                if text1[i - 1] == word[i - 1]:\n",
    "                    matrix[i][0] = matrix[i - 1][0]\n",
    "                else:\n",
    "                    matrix[i][0] = False\n",
    "            elif i == 0:\n",
    "                if text2[j - 1] == word[j - 1]:\n",
    "                    matrix[0][j] = matrix[0][j - 1]\n",
    "                else:\n",
    "                    matrix[0][j] = False\n",
    "            elif text1[i - 1] == word[i + j - 1] and text2[j - 1] != word[i + j - 1]:\n",
    "                matrix[i][j] = matrix[i - 1][j]\n",
    "            elif text2[j - 1] == word[i + j - 1] and text1[i - 1] != word[i + j - 1]:\n",
    "                matrix[i][j] = matrix[i][j - 1]\n",
    "            elif text1[i - 1] == word[i + j - 1] and text2[j - 1] == word[i + j - 1]:\n",
    "                matrix[i][j] = matrix[i - 1][j] or matrix[i][j - 1]\n",
    "            else:\n",
    "                matrix[i][j] = False\n",
    "    for m in matrix:\n",
    "        print(m)\n",
    "    return matrix[-1][-1]\n",
    "\n",
    "if __name__=='__main__':\n",
    "    print(interleaving_string('ABE', 'BDC', 'ABBDCE'))"
   ]
  },
  {
   "cell_type": "code",
   "execution_count": null,
   "metadata": {},
   "outputs": [],
   "source": [
    "  0 A B E\n",
    "0\n",
    "B\n",
    "D\n",
    "C"
   ]
  }
 ],
 "metadata": {
  "kernelspec": {
   "display_name": "Python 3",
   "language": "python",
   "name": "python3"
  },
  "language_info": {
   "codemirror_mode": {
    "name": "ipython",
    "version": 3
   },
   "file_extension": ".py",
   "mimetype": "text/x-python",
   "name": "python",
   "nbconvert_exporter": "python",
   "pygments_lexer": "ipython3",
   "version": "3.6.8"
  }
 },
 "nbformat": 4,
 "nbformat_minor": 2
}
