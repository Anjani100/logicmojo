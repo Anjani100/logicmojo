{
 "cells": [
  {
   "cell_type": "code",
   "execution_count": 11,
   "metadata": {},
   "outputs": [
    {
     "name": "stdout",
     "output_type": "stream",
     "text": [
      "28\n"
     ]
    }
   ],
   "source": [
    "def count_path(m, n):\n",
    "    matrix = [[1 if not i or not j else 0 for j in range(n)] for i in range(m)]\n",
    "    for i in range(1, m):\n",
    "        for j in range(1, n):\n",
    "            matrix[i][j] = matrix[i - 1][j] + matrix[i][j - 1]\n",
    "    return matrix[m - 1][n - 1]\n",
    "\n",
    "if __name__=='__main__':\n",
    "    print(count_path(3, 7))"
   ]
  },
  {
   "cell_type": "code",
   "execution_count": 12,
   "metadata": {},
   "outputs": [
    {
     "name": "stdout",
     "output_type": "stream",
     "text": [
      "28\n"
     ]
    }
   ],
   "source": [
    "def count_path(m, n):\n",
    "    dp = [1] * (n)\n",
    "    for i in range(1, m):\n",
    "        dp2 = [1]\n",
    "        for j in range(1, n):\n",
    "            dp2.append(dp[j] + dp2[-1])\n",
    "        dp = dp2\n",
    "    return dp[n - 1]\n",
    "\n",
    "if __name__=='__main__':\n",
    "    print(count_path(3, 7))"
   ]
  },
  {
   "cell_type": "code",
   "execution_count": null,
   "metadata": {},
   "outputs": [],
   "source": []
  }
 ],
 "metadata": {
  "kernelspec": {
   "display_name": "Python 3",
   "language": "python",
   "name": "python3"
  },
  "language_info": {
   "codemirror_mode": {
    "name": "ipython",
    "version": 3
   },
   "file_extension": ".py",
   "mimetype": "text/x-python",
   "name": "python",
   "nbconvert_exporter": "python",
   "pygments_lexer": "ipython3",
   "version": "3.6.8"
  }
 },
 "nbformat": 4,
 "nbformat_minor": 2
}
