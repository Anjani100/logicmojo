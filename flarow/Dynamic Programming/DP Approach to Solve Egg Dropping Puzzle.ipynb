{
 "cells": [
  {
   "cell_type": "code",
   "execution_count": 19,
   "metadata": {},
   "outputs": [
    {
     "name": "stdout",
     "output_type": "stream",
     "text": [
      "4\n"
     ]
    }
   ],
   "source": [
    "def egg_dropping(k, n):\n",
    "    matrix = [[0 for _ in range(n + 1)] for _ in range(k + 1)]\n",
    "    for i in range(1, k + 1):\n",
    "        matrix[i][1] = 1\n",
    "        matrix[i][0] = 0\n",
    "    for j in range(1, n + 1):\n",
    "        matrix[1][j] = j\n",
    "    for i in range(2, k + 1):\n",
    "        for j in range(2, n + 1):\n",
    "            matrix[i][j] = float('inf')\n",
    "            for x in range(1, j + 1):\n",
    "                res = 1 + max(matrix[i - 1][x - 1], matrix[i][j - x])\n",
    "                matrix[i][j] = min(matrix[i][j], res)\n",
    "    return matrix[k][n]\n",
    "\n",
    "if __name__=='__main__':\n",
    "    print(egg_dropping(3, 14))"
   ]
  },
  {
   "cell_type": "code",
   "execution_count": 1,
   "metadata": {},
   "outputs": [
    {
     "name": "stdout",
     "output_type": "stream",
     "text": [
      "10\n"
     ]
    }
   ],
   "source": [
    "def egg_drop(k, n):\n",
    "    if not hashMap.get((k, n), None):\n",
    "        if n == 0:\n",
    "            res = 0\n",
    "        elif k == 1:\n",
    "            res = n\n",
    "        else:\n",
    "            low, high = 1, n\n",
    "            while low + 1 < high:\n",
    "                x = (low + high) // 2\n",
    "                breaks = egg_drop(k - 1, x - 1)\n",
    "                survives = egg_drop(k, n - x)\n",
    "                if breaks < survives:\n",
    "                    low = x\n",
    "                elif breaks > survives:\n",
    "                    high = x\n",
    "                else:\n",
    "                    low = high = x\n",
    "            res = 1 + min(max(egg_drop(k - 1, x - 1), egg_drop(k, n - x)) for x in (low, high))\n",
    "        hashMap[(k, n)] = res\n",
    "    return hashMap[(k, n)]\n",
    "\n",
    "if __name__=='__main__':\n",
    "    hashMap = {}\n",
    "    print(egg_drop(100, 1000))"
   ]
  },
  {
   "cell_type": "code",
   "execution_count": 43,
   "metadata": {},
   "outputs": [
    {
     "name": "stdout",
     "output_type": "stream",
     "text": [
      "10\n"
     ]
    }
   ],
   "source": [
    "def egg_drop(k, n):\n",
    "    experiments = 300\n",
    "    matrix = [[0 for j in range(k + 1)] for i in range(experiments)]\n",
    "    for i in range(1, experiments):\n",
    "        for j in range(1, k + 1):\n",
    "            matrix[i][j] = 1 + matrix[i - 1][j - 1] + matrix[i - 1][j]\n",
    "            if matrix[i][j] >= n:\n",
    "                return i\n",
    "\n",
    "if __name__=='__main__':\n",
    "    print(egg_drop(100, 1000))"
   ]
  },
  {
   "cell_type": "code",
   "execution_count": 46,
   "metadata": {},
   "outputs": [
    {
     "name": "stdout",
     "output_type": "stream",
     "text": [
      "2\n"
     ]
    }
   ],
   "source": [
    "def egg_drop(k, n):\n",
    "    experiments = 300\n",
    "    dp = [0 for j in range(k + 1)]\n",
    "    for i in range(1, experiments):\n",
    "        dp2 = [0]\n",
    "        for j in range(1, k + 1):\n",
    "            dp2.append(1 + dp[i - 1] + dp[i])\n",
    "            if dp2[j] >= n:\n",
    "                return i\n",
    "        dp = dp2\n",
    "\n",
    "if __name__=='__main__':\n",
    "    print(egg_drop(2, 2))"
   ]
  },
  {
   "cell_type": "code",
   "execution_count": null,
   "metadata": {},
   "outputs": [],
   "source": [
    "  0 1 2 3 4 5 6  # b n\n",
    "0 1 0 0 0 0 0 0\n",
    "1 1 1 2 3 4 5 6\n",
    "2 1 1 2 3 4 5 6\n",
    "matrix[i][j] = 1 + max(matrix[i - 1][j - 1], matrix[i][j - k])\n",
    "\n",
    "# e k"
   ]
  }
 ],
 "metadata": {
  "kernelspec": {
   "display_name": "Python 3",
   "language": "python",
   "name": "python3"
  },
  "language_info": {
   "codemirror_mode": {
    "name": "ipython",
    "version": 3
   },
   "file_extension": ".py",
   "mimetype": "text/x-python",
   "name": "python",
   "nbconvert_exporter": "python",
   "pygments_lexer": "ipython3",
   "version": "3.6.8"
  }
 },
 "nbformat": 4,
 "nbformat_minor": 2
}
