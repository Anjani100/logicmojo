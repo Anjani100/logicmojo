{
 "cells": [
  {
   "cell_type": "code",
   "execution_count": 28,
   "metadata": {},
   "outputs": [
    {
     "name": "stdout",
     "output_type": "stream",
     "text": [
      "[1, 0, 0]\n",
      "[1, 1, 2]\n",
      "2\n"
     ]
    }
   ],
   "source": [
    "def coin_change(coins, amount):\n",
    "    if amount == 0:\n",
    "        return 0\n",
    "    dp = []\n",
    "    m = len(coins)\n",
    "    n = amount + 1\n",
    "    for i in range(m + 1):\n",
    "        d = []\n",
    "        for j in range(n):\n",
    "            if j == 0:\n",
    "                d.append(1)\n",
    "            else:\n",
    "                d.append(0)\n",
    "        dp.append(d)\n",
    "    \n",
    "    for i in range(1, m + 1):\n",
    "        for j in range(1, n):\n",
    "            if coins[i - 1] > j:\n",
    "                dp[i][j] = dp[i - 1][j]\n",
    "            elif coins[i - 1] == j:\n",
    "                dp[i][j] = 1\n",
    "            elif dp[i][j - coins[i - 1]] == 0:\n",
    "                dp[i][j] = dp[i - 1][j]\n",
    "            elif dp[i - 1][j] == 0:\n",
    "                dp[i][j] = dp[i][j - coins[i - 1]] + 1\n",
    "            else:\n",
    "                dp[i][j] = min(dp[i][j - coins[i - 1]] + 1, dp[i - 1][j])\n",
    "    for i in range(m + 1):\n",
    "        print(dp[i])\n",
    "    if dp[-1][-1] == 0:\n",
    "        return -1\n",
    "    return dp[-1][-1]\n",
    "\n",
    "if __name__=='__main__':\n",
    "    print(coin_change([1], 2))"
   ]
  },
  {
   "cell_type": "code",
   "execution_count": null,
   "metadata": {},
   "outputs": [],
   "source": [
    "  0 1 2 3 4 5 6 7 8 9\n",
    "0 1 0 0 0 0 0 0 0 0 0\n",
    "2 1 0 1 0 2 0 3 0 4 0\n",
    "3 1 0 1 1 2 2 2 3 3 3\n",
    "4 1 0 1 1 1 2 2 2 2 3"
   ]
  },
  {
   "cell_type": "code",
   "execution_count": 7,
   "metadata": {},
   "outputs": [
    {
     "name": "stdout",
     "output_type": "stream",
     "text": [
      "1\n"
     ]
    }
   ],
   "source": [
    "def coin_change(arr, k):\n",
    "    matrix = []\n",
    "    m = len(arr) + 1\n",
    "    for i in range(m):\n",
    "        a = []\n",
    "        for j in range(k + 1):\n",
    "            if i == 0 or j > 0:\n",
    "                a.append(0)\n",
    "            elif j == 0:\n",
    "                a.append(1)\n",
    "        matrix.append(a)\n",
    "    for i in range(1, m):\n",
    "        for j in range(1, k + 1):\n",
    "            if j >= arr[i - 1]:\n",
    "                matrix[i][j] = matrix[i][j - arr[i - 1]] + matrix[i - 1][j]\n",
    "            else:\n",
    "                matrix[i][j] = matrix[i - 1][j]\n",
    "    return matrix[-1][-1]\n",
    "\n",
    "if __name__=='__main__':\n",
    "    print(coin_change([1], 2))"
   ]
  },
  {
   "cell_type": "code",
   "execution_count": null,
   "metadata": {},
   "outputs": [],
   "source": []
  }
 ],
 "metadata": {
  "kernelspec": {
   "display_name": "Python 3",
   "language": "python",
   "name": "python3"
  },
  "language_info": {
   "codemirror_mode": {
    "name": "ipython",
    "version": 3
   },
   "file_extension": ".py",
   "mimetype": "text/x-python",
   "name": "python",
   "nbconvert_exporter": "python",
   "pygments_lexer": "ipython3",
   "version": "3.6.8"
  }
 },
 "nbformat": 4,
 "nbformat_minor": 2
}
