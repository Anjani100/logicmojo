{
 "cells": [
  {
   "cell_type": "code",
   "execution_count": 25,
   "metadata": {},
   "outputs": [
    {
     "name": "stdout",
     "output_type": "stream",
     "text": [
      "[8, 3, 1, 7, 8, 0, 8, 7, 1, 3, 8]\n"
     ]
    }
   ],
   "source": [
    "def next_pal(arr):\n",
    "    n = len(arr)\n",
    "    if arr.count(9) == n:\n",
    "        return pow(10, n) + 1\n",
    "    mid = n // 2\n",
    "    leftSmaller = False\n",
    "    i = mid - 1\n",
    "    j = (mid + 1) if (n % 2) else mid\n",
    "    while i >= 0 and arr[i] == arr[j]:\n",
    "        i -= 1\n",
    "        j += 1\n",
    "    if i < 0 or arr[i] < arr[j]:\n",
    "        leftSmaller = True\n",
    "    while i >= 0:\n",
    "        arr[j] = arr[i]\n",
    "        i -= 1\n",
    "        j += 1\n",
    "    if leftSmaller:\n",
    "        carry = 1\n",
    "        i = mid - 1\n",
    "        if (n % 2 == 1):\n",
    "            arr[mid] += carry\n",
    "            carry = arr[mid] // 10\n",
    "            arr[mid] %= 10\n",
    "            j = mid + 1\n",
    "        else:\n",
    "            j = mid\n",
    "        while i >= 0:\n",
    "            arr[i] += carry\n",
    "            carry = arr[i] // 10\n",
    "            arr[i] %= 10\n",
    "            arr[j] = arr[i]\n",
    "            i -= 1\n",
    "            j += 1\n",
    "    return arr\n",
    "\n",
    "n = 83177979323\n",
    "arr = []\n",
    "while n > 0:\n",
    "    arr.append(n % 10)\n",
    "    n //= 10\n",
    "arr.reverse()\n",
    "print(next_pal(arr))"
   ]
  },
  {
   "cell_type": "code",
   "execution_count": 26,
   "metadata": {},
   "outputs": [],
   "source": [
    "# Inputs:\n",
    "# - 999\n",
    "# - 125\n",
    "# - 23545\n",
    "# - 83177979323"
   ]
  }
 ],
 "metadata": {
  "kernelspec": {
   "display_name": "Python 3",
   "language": "python",
   "name": "python3"
  },
  "language_info": {
   "codemirror_mode": {
    "name": "ipython",
    "version": 3
   },
   "file_extension": ".py",
   "mimetype": "text/x-python",
   "name": "python",
   "nbconvert_exporter": "python",
   "pygments_lexer": "ipython3",
   "version": "3.6.8"
  }
 },
 "nbformat": 4,
 "nbformat_minor": 2
}
