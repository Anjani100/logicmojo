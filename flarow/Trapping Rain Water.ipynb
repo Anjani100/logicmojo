{
 "cells": [
  {
   "cell_type": "code",
   "execution_count": 11,
   "metadata": {},
   "outputs": [
    {
     "name": "stdout",
     "output_type": "stream",
     "text": [
      "6\n"
     ]
    }
   ],
   "source": [
    "def trap_rain(arr):\n",
    "    n = len(arr)\n",
    "    left = arr[0]\n",
    "    right = arr[-1]\n",
    "    max_left = [left]\n",
    "    max_right = [right]\n",
    "    for i in range(1, n):\n",
    "        if arr[i] > left:\n",
    "            left = arr[i]\n",
    "        max_left.append(left)\n",
    "    for i in range(n - 2, -1, -1):\n",
    "        if arr[i] > right:\n",
    "            right = arr[i]\n",
    "        max_right.append(right)\n",
    "    max_right.reverse()\n",
    "    rain = 0\n",
    "    for i in range(n):\n",
    "        rain += min(max_left[i], max_right[i]) - arr[i]\n",
    "    return rain\n",
    "\n",
    "print(trap_rain([0, 1, 0, 2, 1, 0, 1, 3, 2, 1, 2, 1]))"
   ]
  },
  {
   "cell_type": "code",
   "execution_count": 6,
   "metadata": {},
   "outputs": [],
   "source": [
    "# Inputs:\n",
    "# - [5, 3, 4, 6, 3, 6]\n",
    "# - [0, 1, 0, 2, 1, 0, 1, 3, 2, 1, 2, 1]"
   ]
  }
 ],
 "metadata": {
  "kernelspec": {
   "display_name": "Python 3",
   "language": "python",
   "name": "python3"
  },
  "language_info": {
   "codemirror_mode": {
    "name": "ipython",
    "version": 3
   },
   "file_extension": ".py",
   "mimetype": "text/x-python",
   "name": "python",
   "nbconvert_exporter": "python",
   "pygments_lexer": "ipython3",
   "version": "3.6.8"
  }
 },
 "nbformat": 4,
 "nbformat_minor": 2
}
