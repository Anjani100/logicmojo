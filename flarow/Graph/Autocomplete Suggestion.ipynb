{
 "cells": [
  {
   "cell_type": "code",
   "execution_count": 9,
   "metadata": {},
   "outputs": [
    {
     "name": "stdout",
     "output_type": "stream",
     "text": [
      "['dislike', 'disown', 'disarm']\n"
     ]
    }
   ],
   "source": [
    "from collections import defaultdict\n",
    "class TrieNode:\n",
    "    def __init__(self):\n",
    "        self.children = defaultdict(list)\n",
    "        self.end_of_word = False\n",
    "\n",
    "def char_to_index(char):\n",
    "    return ord(char) - ord('a')\n",
    "\n",
    "def insert(root, text):\n",
    "    ptr = root\n",
    "    for level in range(len(text)):\n",
    "        index = char_to_index(text[level])\n",
    "        if not ptr.children[index]:\n",
    "            ptr.children[index] = TrieNode()\n",
    "        ptr = ptr.children[index]\n",
    "    ptr.end_of_word = True\n",
    "\n",
    "def suggestions_list(ptr, res, key):\n",
    "    if ptr.end_of_word:\n",
    "        res.append(key)\n",
    "    for k, v in ptr.children.items():\n",
    "        suggestions_list(v, res, key + chr(k + ord('a')))\n",
    "\n",
    "def auto_suggestion(root, key):\n",
    "    ptr = root\n",
    "    for level in range(len(key)):\n",
    "        if not ptr.children[char_to_index(key[level])]:\n",
    "            return 'No strings found with this prefix!'\n",
    "        ptr = ptr.children[char_to_index(key[level])]\n",
    "    res = []\n",
    "    suggestions_list(ptr, res, key)\n",
    "    return res\n",
    "\n",
    "if __name__=='__main__':\n",
    "    keys = [\"hello\", \"dog\", \"hell\", \"cat\", \"a\", \"hel\", \"help\", \"helps\", \"helping\", \"dislike\", \"disown\", \"disarm\"]\n",
    "    key = \"dis\"\n",
    "    \n",
    "    root = TrieNode() \n",
    "    for k in keys:\n",
    "        insert(root, k)\n",
    "\n",
    "    print(auto_suggestion(root, key))"
   ]
  },
  {
   "cell_type": "code",
   "execution_count": null,
   "metadata": {},
   "outputs": [],
   "source": []
  }
 ],
 "metadata": {
  "kernelspec": {
   "display_name": "Python 3",
   "language": "python",
   "name": "python3"
  },
  "language_info": {
   "codemirror_mode": {
    "name": "ipython",
    "version": 3
   },
   "file_extension": ".py",
   "mimetype": "text/x-python",
   "name": "python",
   "nbconvert_exporter": "python",
   "pygments_lexer": "ipython3",
   "version": "3.6.8"
  }
 },
 "nbformat": 4,
 "nbformat_minor": 2
}
