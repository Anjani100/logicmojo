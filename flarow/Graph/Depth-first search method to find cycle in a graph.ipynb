{
 "cells": [
  {
   "cell_type": "code",
   "execution_count": 26,
   "metadata": {},
   "outputs": [
    {
     "name": "stdout",
     "output_type": "stream",
     "text": [
      "No Cycles found\n"
     ]
    }
   ],
   "source": [
    "## For Directed Graph\n",
    "from collections import defaultdict\n",
    "class Graph:\n",
    "    def __init__(self):\n",
    "        self.graph = defaultdict(list)\n",
    "    \n",
    "    def add_edge(self, u, v):\n",
    "        self.graph[u].append(v)\n",
    "        if not self.graph[v]:\n",
    "            self.graph[v] = []\n",
    "    \n",
    "    def DFS(self, v, visited):\n",
    "        visited[v] = 1\n",
    "        for i in self.graph[v]:\n",
    "            if visited[i]:\n",
    "                return 'Cycle Found'\n",
    "            return self.DFS(i, visited)\n",
    "        return 'No Cycles found'\n",
    "    \n",
    "if __name__=='__main__':\n",
    "    g = Graph()\n",
    "    g.add_edge(0, 1)\n",
    "    g.add_edge(0, 2)\n",
    "    g.add_edge(1, 2)\n",
    "#     g.add_edge(2, 0)\n",
    "    g.add_edge(2, 3)\n",
    "#     g.add_edge(3, 3)\n",
    "    visited = defaultdict(int)\n",
    "    for i in g.graph:\n",
    "        if not visited[i]:\n",
    "            status = g.DFS(i, visited)\n",
    "    print(status)"
   ]
  },
  {
   "cell_type": "code",
   "execution_count": 31,
   "metadata": {},
   "outputs": [
    {
     "name": "stdout",
     "output_type": "stream",
     "text": [
      "No Cycles found\n"
     ]
    }
   ],
   "source": [
    "## For Directed Graph\n",
    "from collections import defaultdict\n",
    "class Graph:\n",
    "    def __init__(self):\n",
    "        self.graph = defaultdict(list)\n",
    "    \n",
    "    def add_edge(self, u, v):\n",
    "        self.graph[u].append(v)\n",
    "        self.graph[v].append(u)\n",
    "    \n",
    "    def DFS(self, v, visited, parent = -1):\n",
    "        visited[v] = 1\n",
    "        for i in self.graph[v]:\n",
    "            if parent != -1 and i == parent:\n",
    "                continue\n",
    "            if visited[i]:\n",
    "                return 'Cycle Found'\n",
    "            return self.DFS(i, visited, v)\n",
    "        return 'No Cycles found'\n",
    "    \n",
    "if __name__=='__main__':\n",
    "    g = Graph()\n",
    "    g.add_edge(0, 1)\n",
    "#     g.add_edge(0, 2)\n",
    "    g.add_edge(1, 2)\n",
    "    g.add_edge(2, 3)\n",
    "    visited = defaultdict(int)\n",
    "    for i in g.graph:\n",
    "        if not visited[i]:\n",
    "            status = g.DFS(i, visited)\n",
    "    print(status)"
   ]
  },
  {
   "cell_type": "code",
   "execution_count": null,
   "metadata": {},
   "outputs": [],
   "source": []
  }
 ],
 "metadata": {
  "kernelspec": {
   "display_name": "Python 3",
   "language": "python",
   "name": "python3"
  },
  "language_info": {
   "codemirror_mode": {
    "name": "ipython",
    "version": 3
   },
   "file_extension": ".py",
   "mimetype": "text/x-python",
   "name": "python",
   "nbconvert_exporter": "python",
   "pygments_lexer": "ipython3",
   "version": "3.6.8"
  }
 },
 "nbformat": 4,
 "nbformat_minor": 2
}
