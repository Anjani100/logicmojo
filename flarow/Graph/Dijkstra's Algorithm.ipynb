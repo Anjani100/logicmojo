{
 "cells": [
  {
   "cell_type": "code",
   "execution_count": 24,
   "metadata": {},
   "outputs": [
    {
     "name": "stdout",
     "output_type": "stream",
     "text": [
      "[[1, 0], [2, 2], [3, 3], [5, 6], [4, 8], [6, 9]]\n"
     ]
    }
   ],
   "source": [
    "from collections import defaultdict\n",
    "\n",
    "class Graph:\n",
    "    def __init__(self):\n",
    "        self.graph = defaultdict(list)\n",
    "        self.dist = {}\n",
    "    \n",
    "    def add_edge(self, u, v, weight):\n",
    "        self.graph[u].append([v, weight])\n",
    "        self.dist[u] = float('inf')\n",
    "        self.dist[v] = float('inf')\n",
    "        if not self.graph[v]:\n",
    "            self.graph[v] = []\n",
    "    \n",
    "    def dijkstra(self, source):\n",
    "        dist = self.dist\n",
    "        dist[source] = 0\n",
    "        dv = []\n",
    "        while dist:\n",
    "            w = min(dist.values())\n",
    "            for d in dist:\n",
    "                if dist[d] == w:\n",
    "                    v = d\n",
    "                    break\n",
    "            del dist[v]\n",
    "            dv.append([v, w])\n",
    "            for vertex in self.graph[v]:\n",
    "                flag = True\n",
    "                for e in dv:\n",
    "                    if e[0] == vertex[0]:\n",
    "                        flag = False\n",
    "                        break\n",
    "                if flag:\n",
    "                    weight = vertex[1] + w\n",
    "                    dist[vertex[0]] = min(weight, dist[vertex[0]])\n",
    "        return dv\n",
    "\n",
    "if __name__=='__main__':\n",
    "    g = Graph()\n",
    "    g.add_edge(1, 2, 2)\n",
    "    g.add_edge(2, 3, 1)\n",
    "    g.add_edge(1, 3, 4)\n",
    "    g.add_edge(3, 5, 3)\n",
    "    g.add_edge(5, 6, 5)\n",
    "    g.add_edge(5, 4, 2)\n",
    "    g.add_edge(4, 6, 1)\n",
    "    g.add_edge(2, 4, 7)\n",
    "    g.add_edge(2, 1, 3)\n",
    "    dv = g.dijkstra(1)\n",
    "    print(dv)"
   ]
  },
  {
   "cell_type": "code",
   "execution_count": null,
   "metadata": {},
   "outputs": [],
   "source": []
  }
 ],
 "metadata": {
  "kernelspec": {
   "display_name": "Python 3",
   "language": "python",
   "name": "python3"
  },
  "language_info": {
   "codemirror_mode": {
    "name": "ipython",
    "version": 3
   },
   "file_extension": ".py",
   "mimetype": "text/x-python",
   "name": "python",
   "nbconvert_exporter": "python",
   "pygments_lexer": "ipython3",
   "version": "3.6.8"
  }
 },
 "nbformat": 4,
 "nbformat_minor": 2
}
