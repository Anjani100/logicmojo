{
 "cells": [
  {
   "cell_type": "code",
   "execution_count": 10,
   "metadata": {},
   "outputs": [
    {
     "name": "stdout",
     "output_type": "stream",
     "text": [
      "[0, 1, 2, 3, 4, 5, 6, 7, 8, 9, 10, 12, 21, 23, 32, 34, 43, 45, 54, 56, 65]\n"
     ]
    }
   ],
   "source": [
    "from collections import deque\n",
    "def jump_num(n):\n",
    "    queue = deque()\n",
    "    for i in range(1, 10):\n",
    "        if i > n:\n",
    "            return queue\n",
    "        queue.append(i)\n",
    "    res = [0]\n",
    "    while queue:\n",
    "        num = queue.popleft()\n",
    "        res.append(num)\n",
    "        last_digit = num % 10\n",
    "        a = b = False\n",
    "        if last_digit < 9:\n",
    "            a = num * 10 + last_digit + 1\n",
    "        if last_digit > 0:\n",
    "            b = num * 10 + last_digit - 1\n",
    "        if b:\n",
    "            if b <= n:\n",
    "                queue.append(b)\n",
    "        if a:\n",
    "            if a <= n:\n",
    "                queue.append(a)\n",
    "    return res\n",
    "\n",
    "if __name__=='__main__':\n",
    "    print(jump_num(65))"
   ]
  },
  {
   "cell_type": "code",
   "execution_count": null,
   "metadata": {},
   "outputs": [],
   "source": []
  }
 ],
 "metadata": {
  "kernelspec": {
   "display_name": "Python 3",
   "language": "python",
   "name": "python3"
  },
  "language_info": {
   "codemirror_mode": {
    "name": "ipython",
    "version": 3
   },
   "file_extension": ".py",
   "mimetype": "text/x-python",
   "name": "python",
   "nbconvert_exporter": "python",
   "pygments_lexer": "ipython3",
   "version": "3.6.8"
  }
 },
 "nbformat": 4,
 "nbformat_minor": 2
}
