{
 "cells": [
  {
   "cell_type": "code",
   "execution_count": 37,
   "metadata": {},
   "outputs": [
    {
     "name": "stdout",
     "output_type": "stream",
     "text": [
      "1\n"
     ]
    }
   ],
   "source": [
    "from collections import deque\n",
    "def mark_false(matrix, visited, queue, count, m, n):\n",
    "    x = [-1, -1, -1, 0, 1, 1, 1, 0]\n",
    "    y = [-1, 0, 1, 1, 1, 0, -1, -1]\n",
    "    while queue:\n",
    "        i, j = queue.popleft()\n",
    "        for k in range(len(x)):\n",
    "            if i + x[k] >= 0 and j + y[k] >= 0 and i + x[k] < m and j + y[k] < n:\n",
    "                if matrix[i + x[k]][j + y[k]] == '1' and visited[i + x[k]][j + y[k]] == True:\n",
    "                    queue.append([i + x[k], j + y[k]])\n",
    "                    visited[i + x[k]][j + y[k]] = False\n",
    "    if not queue:\n",
    "        count += 1\n",
    "        i = 0\n",
    "        j = -1\n",
    "    return count, i, j\n",
    "        \n",
    "def num_of_island(matrix):\n",
    "    visited = []\n",
    "    m = len(matrix)\n",
    "    n = len(matrix[0])\n",
    "    for i in range(m):\n",
    "        v = []\n",
    "        for j in range(n):\n",
    "            if matrix[i][j] == '1':\n",
    "                v.append(True)\n",
    "            else:\n",
    "                v.append(False)\n",
    "        visited.append(v)\n",
    "    queue = deque()\n",
    "    i = count = 0\n",
    "    while i < m:\n",
    "        j = 0\n",
    "        while j < n:\n",
    "            if matrix[i][j] == '1' and visited[i][j]:\n",
    "                queue.append([i, j])\n",
    "                visited[i][j] = False\n",
    "                count, i, j = mark_false(matrix, visited, queue, count, m, n)\n",
    "            j += 1\n",
    "        i += 1\n",
    "    return count\n",
    "\n",
    "if __name__=='__main__':\n",
    "    mat = [\n",
    "              [\"1\",\"1\",\"0\",\"0\",\"0\"],\n",
    "              [\"1\",\"1\",\"0\",\"0\",\"0\"],\n",
    "              [\"0\",\"0\",\"1\",\"0\",\"0\"],\n",
    "              [\"0\",\"0\",\"0\",\"1\",\"1\"]\n",
    "          ]\n",
    "    print(num_of_island(mat))"
   ]
  },
  {
   "cell_type": "code",
   "execution_count": 40,
   "metadata": {},
   "outputs": [
    {
     "name": "stdout",
     "output_type": "stream",
     "text": [
      "2\n"
     ]
    }
   ],
   "source": [
    "from collections import deque\n",
    "\n",
    "def mark_false(matrix, processed, i, j, m, n):\n",
    "    x = [-1, -1, -1, 0, 1, 1, 1, 0]\n",
    "    y = [-1, 0, 1, 1, 1, 0, -1, -1]\n",
    "    queue = deque()\n",
    "    queue.append([i, j])\n",
    "    while queue:\n",
    "        i, j = queue.popleft()\n",
    "        for k in range(len(x)):\n",
    "            if i + x[k] >= 0 and j + y[k] >= 0 and i + x[k] < m and j + y[k] < n:\n",
    "                if matrix[i + x[k]][j + y[k]] == '1' and not processed[i + x[k]][j + y[k]]:\n",
    "                    queue.append([i + x[k], j + y[k]])\n",
    "                    processed[i + x[k]][j + y[k]] = True\n",
    "\n",
    "def num_of_island(matrix):\n",
    "    m = len(matrix)\n",
    "    n = len(matrix[0])\n",
    "    processed = [[False for _ in range(n)] for _ in range(m)]\n",
    "    count = 0\n",
    "    for i in range(m):\n",
    "        for j in range(n):\n",
    "            if matrix[i][j] == '1' and not processed[i][j]:\n",
    "                mark_false(matrix, processed, i, j, m, n)\n",
    "                count += 1\n",
    "    return count\n",
    "\n",
    "if __name__=='__main__':\n",
    "    mat = [\n",
    "           [\"1\",\"1\",\"1\",\"1\",\"1\",\"1\"],\n",
    "           [\"1\",\"0\",\"0\",\"0\",\"0\",\"1\"],\n",
    "           [\"1\",\"0\",\"1\",\"1\",\"0\",\"1\"],\n",
    "           [\"1\",\"0\",\"0\",\"0\",\"0\",\"1\"],\n",
    "           [\"1\",\"1\",\"1\",\"1\",\"1\",\"1\"]\n",
    "          ]\n",
    "    print(num_of_island(mat))"
   ]
  },
  {
   "cell_type": "code",
   "execution_count": null,
   "metadata": {},
   "outputs": [],
   "source": [
    "# Inputs:\n",
    "# - [[\"1\",\"1\",\"1\",\"1\",\"0\"],\n",
    "#    [\"1\",\"1\",\"0\",\"1\",\"0\"],\n",
    "#    [\"1\",\"1\",\"0\",\"0\",\"0\"],\n",
    "#    [\"0\",\"0\",\"0\",\"0\",\"0\"]\n",
    "#   ]\n",
    "# - [\n",
    "#         [0, 0, 1, 1, 0],\n",
    "#         [1, 0, 1, 1, 0],\n",
    "#         [0, 1, 0, 0, 0],\n",
    "#         [0, 0, 0, 0, 1],\n",
    "#         [0, 0, 1, 1, 0]\n",
    "#     ]\n",
    "# - [\n",
    "#   [\"1\",\"1\",\"0\",\"0\",\"0\"],\n",
    "#   [\"1\",\"1\",\"0\",\"0\",\"0\"],\n",
    "#   [\"0\",\"0\",\"1\",\"0\",\"0\"],\n",
    "#   [\"0\",\"0\",\"0\",\"1\",\"1\"]\n",
    "# ]"
   ]
  }
 ],
 "metadata": {
  "kernelspec": {
   "display_name": "Python 3",
   "language": "python",
   "name": "python3"
  },
  "language_info": {
   "codemirror_mode": {
    "name": "ipython",
    "version": 3
   },
   "file_extension": ".py",
   "mimetype": "text/x-python",
   "name": "python",
   "nbconvert_exporter": "python",
   "pygments_lexer": "ipython3",
   "version": "3.6.8"
  }
 },
 "nbformat": 4,
 "nbformat_minor": 2
}
