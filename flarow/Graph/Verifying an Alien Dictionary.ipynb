{
 "cells": [
  {
   "cell_type": "code",
   "execution_count": 14,
   "metadata": {},
   "outputs": [
    {
     "name": "stdout",
     "output_type": "stream",
     "text": [
      "y -> t -> x -> z -> END\n"
     ]
    }
   ],
   "source": [
    "from collections import defaultdict\n",
    "class Graph:\n",
    "    def __init__(self):\n",
    "        self.graph = defaultdict(list)\n",
    "        self.visited = defaultdict(int)\n",
    "    \n",
    "    def add_edge(self, u, v):\n",
    "        self.graph[u].append(v)\n",
    "        if not self.visited[u]:\n",
    "            self.visited[u] = 0\n",
    "        self.visited[v] += 1\n",
    "        if not self.graph[v]:\n",
    "            self.graph[v] = []\n",
    "    \n",
    "    def str_to_chars(self, words):\n",
    "        for w in range(len(words) - 1):\n",
    "            s1 = words[w]\n",
    "            s2 = words[w + 1]\n",
    "            i = 0\n",
    "            while i < len(s1) and i < len(s2):\n",
    "                if s1[i] != s2[i]:\n",
    "                    self.add_edge(s1[i], s2[i])\n",
    "                    break\n",
    "                i += 1\n",
    "    \n",
    "    def topological_sorting(self, res):\n",
    "        for v in self.visited:\n",
    "            if self.visited[v] == 0:\n",
    "                for g in self.graph[v]:\n",
    "                    self.visited[g] -= 1\n",
    "                    self.visited[g] = max(self.visited[g], 0)\n",
    "                del self.visited[v]\n",
    "                res.append(v)\n",
    "                self.topological_sorting(res)\n",
    "                break\n",
    "\n",
    "if __name__=='__main__':\n",
    "    dictionary = ['yxx', 'yxxt', 'xyzt', 'xyzx', 'zxy', 'zxt']\n",
    "    g = Graph()\n",
    "    g.str_to_chars(dictionary)\n",
    "    res = []\n",
    "    g.topological_sorting(res)\n",
    "    for r in res:\n",
    "        print(r, end = ' -> ')\n",
    "    print('END')"
   ]
  },
  {
   "cell_type": "code",
   "execution_count": null,
   "metadata": {},
   "outputs": [],
   "source": []
  }
 ],
 "metadata": {
  "kernelspec": {
   "display_name": "Python 3",
   "language": "python",
   "name": "python3"
  },
  "language_info": {
   "codemirror_mode": {
    "name": "ipython",
    "version": 3
   },
   "file_extension": ".py",
   "mimetype": "text/x-python",
   "name": "python",
   "nbconvert_exporter": "python",
   "pygments_lexer": "ipython3",
   "version": "3.6.8"
  }
 },
 "nbformat": 4,
 "nbformat_minor": 2
}
