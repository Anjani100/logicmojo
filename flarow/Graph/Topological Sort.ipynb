{
 "cells": [
  {
   "cell_type": "code",
   "execution_count": 15,
   "metadata": {},
   "outputs": [
    {
     "name": "stdout",
     "output_type": "stream",
     "text": [
      "1 2 5 3 4 6 "
     ]
    }
   ],
   "source": [
    "from collections import defaultdict\n",
    "\n",
    "class Graph:\n",
    "    def __init__(self):\n",
    "        self.graph = defaultdict(list)\n",
    "        self.mark = defaultdict(int)\n",
    "    \n",
    "    def add_edge(self, u, v):\n",
    "        self.graph[u].append(v)\n",
    "        self.mark[v] += 1\n",
    "        if not self.graph[v]:\n",
    "            self.graph[v] = []\n",
    "    \n",
    "    def topological_sort(self, v, visited):\n",
    "        for i in self.graph[v]:\n",
    "            self.mark[i] -= 1\n",
    "            if self.mark[i] == 0:\n",
    "                if not visited[i]:\n",
    "                    print(i, end = ' ')\n",
    "                    visited[i] = 1\n",
    "                    self.topological_sort(i, visited)\n",
    "    \n",
    "    def check_vertex(self, v):\n",
    "        visited = defaultdict(int)\n",
    "        for i in range(v):\n",
    "            if not self.mark[i]:\n",
    "                if not visited[i]:\n",
    "                    if self.graph[i]:\n",
    "                        print(i, end = ' ')\n",
    "                        visited[i] = 1\n",
    "                        self.topological_sort(i, visited)\n",
    "\n",
    "if __name__=='__main__':\n",
    "    g = Graph()\n",
    "    g.add_edge(1, 2)\n",
    "    g.add_edge(1, 3)\n",
    "    g.add_edge(2, 4)\n",
    "    g.add_edge(2, 5)\n",
    "    g.add_edge(3, 4)\n",
    "    g.add_edge(3, 6)\n",
    "    g.add_edge(4, 6)\n",
    "    g.check_vertex(max(g.graph) + 1)"
   ]
  },
  {
   "cell_type": "code",
   "execution_count": null,
   "metadata": {},
   "outputs": [],
   "source": []
  }
 ],
 "metadata": {
  "kernelspec": {
   "display_name": "Python 3",
   "language": "python",
   "name": "python3"
  },
  "language_info": {
   "codemirror_mode": {
    "name": "ipython",
    "version": 3
   },
   "file_extension": ".py",
   "mimetype": "text/x-python",
   "name": "python",
   "nbconvert_exporter": "python",
   "pygments_lexer": "ipython3",
   "version": "3.6.8"
  }
 },
 "nbformat": 4,
 "nbformat_minor": 2
}
