{
 "cells": [
  {
   "cell_type": "code",
   "execution_count": 18,
   "metadata": {},
   "outputs": [
    {
     "name": "stdout",
     "output_type": "stream",
     "text": [
      "True\n",
      "pqrs deleted!\n",
      "True\n",
      "False True\n"
     ]
    }
   ],
   "source": [
    "class TrieNode:\n",
    "    def __init__(self):\n",
    "        self.children = [None] * 26\n",
    "        self.end_of_word = False\n",
    "\n",
    "class Trie:\n",
    "    def __init__(self):\n",
    "        self.root = self.get_node()\n",
    "    \n",
    "    def get_node(self):\n",
    "        return TrieNode()\n",
    "    \n",
    "    def char_to_index(self, ch):\n",
    "        return ord(ch) - ord('a')\n",
    "    \n",
    "    def insert(self, text):\n",
    "        ptr = self.root\n",
    "        for level in range(len(text)):\n",
    "            index = self.char_to_index(text[level])\n",
    "            if not ptr.children[index]:\n",
    "                ptr.children[index] = self.get_node()\n",
    "            ptr = ptr.children[index]\n",
    "        ptr.end_of_word = True\n",
    "    \n",
    "    def search(self, text):\n",
    "        ptr = self.root\n",
    "        for level in range(len(text)):\n",
    "            index = self.char_to_index(text[level])\n",
    "            if not ptr.children[index]:\n",
    "                return False\n",
    "            ptr = ptr.children[index]\n",
    "        return ptr != None and ptr.end_of_word\n",
    "    \n",
    "    def delete(self, text):\n",
    "        if not self.search(text):\n",
    "            return 'Word not found in the dictionary!'\n",
    "        ptr = self.root\n",
    "        for level in range(len(text)):\n",
    "            index = self.char_to_index(text[level])\n",
    "            ptr = ptr.children[index]\n",
    "        ptr.end_of_word = False\n",
    "        return text + ' deleted!'\n",
    "    \n",
    "    def update(self, text, word):\n",
    "        self.delete(text)\n",
    "        self.insert(word)\n",
    "\n",
    "if __name__=='__main__':\n",
    "    trie = Trie()\n",
    "    words = ['pqrs', 'prst', 'psst', 'qqrt', 'pqr']\n",
    "    for word in words:\n",
    "        trie.insert(word)\n",
    "    print(trie.search('pqrs'))\n",
    "    print(trie.delete('pqrs'))\n",
    "    print(trie.search('pqr'))\n",
    "    trie.update('pqr', 'prq')\n",
    "    print(trie.search('pqr'), trie.search('prq'))"
   ]
  },
  {
   "cell_type": "code",
   "execution_count": null,
   "metadata": {},
   "outputs": [],
   "source": []
  }
 ],
 "metadata": {
  "kernelspec": {
   "display_name": "Python 3",
   "language": "python",
   "name": "python3"
  },
  "language_info": {
   "codemirror_mode": {
    "name": "ipython",
    "version": 3
   },
   "file_extension": ".py",
   "mimetype": "text/x-python",
   "name": "python",
   "nbconvert_exporter": "python",
   "pygments_lexer": "ipython3",
   "version": "3.6.8"
  }
 },
 "nbformat": 4,
 "nbformat_minor": 2
}
