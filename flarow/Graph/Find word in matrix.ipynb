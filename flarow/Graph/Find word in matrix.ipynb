{
 "cells": [
  {
   "cell_type": "code",
   "execution_count": 19,
   "metadata": {
    "scrolled": false
   },
   "outputs": [
    {
     "name": "stdout",
     "output_type": "stream",
     "text": [
      "{'SEE', 'ABCCED'}\n"
     ]
    }
   ],
   "source": [
    "from collections import defaultdict\n",
    "\n",
    "class TrieNode:\n",
    "    def __init__(self):\n",
    "        self.children = defaultdict(list)\n",
    "        self.end_of_word = False\n",
    "\n",
    "def char_to_index(char):\n",
    "    return ord(char) - ord('a')\n",
    "\n",
    "def insert(root, text):\n",
    "    ptr = root\n",
    "    for level in range(len(text)):\n",
    "        index = char_to_index(text[level])\n",
    "        if not ptr.children[index]:\n",
    "            ptr.children[index] = TrieNode()\n",
    "        ptr = ptr.children[index]\n",
    "    ptr.end_of_word = True\n",
    "\n",
    "row = [-1, -1, -1, 0, 1, 0, 1, 1]\n",
    "col = [-1, 1, 0, -1, -1, 1, 0, 1]\n",
    "\n",
    "def is_safe(board, processed, i, j, m, n, ch):\n",
    "    return (0 <= i < m) and (0 <= j < n) and not processed[i][j] and (board[i][j] == ch)\n",
    "\n",
    "def search_boggle(board, root, i, j, m, n, path, processed, result):\n",
    "    if root.end_of_word:\n",
    "        result.add(path)\n",
    "    processed[i][j] = True\n",
    "    for key in root.children:\n",
    "        value = root.children[key]\n",
    "        for k in range(8):\n",
    "            if is_safe(board, processed, i + row[k], j + col[k], m, n, chr(key + ord('a'))):\n",
    "                search_boggle(board, root.children[key], i + row[k], j + col[k], m, n, path + chr(key + ord('a')), processed, result)\n",
    "    processed[i][j] = False\n",
    "\n",
    "def search_in_boggle(board, words):\n",
    "    root = TrieNode()\n",
    "    for word in words:\n",
    "        insert(root, word)\n",
    "    result = set()\n",
    "    m = len(board)\n",
    "    n = len(board[0])\n",
    "    processed = [[False for _ in range(n)] for _ in range(m)]\n",
    "    for i in range(m):\n",
    "        for j in range(n):\n",
    "            ch = board[i][j]\n",
    "            if root.children[char_to_index(ch)]:\n",
    "                search_boggle(board, root.children[char_to_index(ch)], i, j, m, n, ch, processed, result)\n",
    "    return result\n",
    "\n",
    "if __name__ == '__main__':\n",
    "    board = [\n",
    "                ['A','B','C','E'],\n",
    "                ['S','F','C','S'],\n",
    "                ['A','D','E','E']\n",
    "            ]\n",
    "    words = [\"ABCCED\", \"SEE\", \"ABCB\"]\n",
    "    print(search_in_boggle(board, words))"
   ]
  },
  {
   "cell_type": "code",
   "execution_count": null,
   "metadata": {},
   "outputs": [],
   "source": [
    "# Inputs:\n",
    "# - [\n",
    "#                 ['A','B','C','E'],\n",
    "#                 ['S','F','C','S'],\n",
    "#                 ['A','D','E','E']\n",
    "#             ]\n",
    "# [\"ABCCED\", \"SEE\", \"ABCB\"]\n",
    "# [\n",
    "#                 ['M', 'S', 'E', 'F'],\n",
    "#                 ['R', 'A', 'T', 'D'],\n",
    "#                 ['L', 'O', 'N', 'E'],\n",
    "#                 ['K', 'A', 'F', 'B']\n",
    "#             ]\n",
    "# [\"START\", \"NOTE\", \"SAND\", \"STONED\"]"
   ]
  }
 ],
 "metadata": {
  "kernelspec": {
   "display_name": "Python 3",
   "language": "python",
   "name": "python3"
  },
  "language_info": {
   "codemirror_mode": {
    "name": "ipython",
    "version": 3
   },
   "file_extension": ".py",
   "mimetype": "text/x-python",
   "name": "python",
   "nbconvert_exporter": "python",
   "pygments_lexer": "ipython3",
   "version": "3.6.8"
  }
 },
 "nbformat": 4,
 "nbformat_minor": 2
}
