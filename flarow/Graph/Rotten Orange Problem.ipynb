{
 "cells": [
  {
   "cell_type": "code",
   "execution_count": 58,
   "metadata": {},
   "outputs": [
    {
     "name": "stdout",
     "output_type": "stream",
     "text": [
      "4\n"
     ]
    }
   ],
   "source": [
    "from collections import deque\n",
    "\n",
    "def check_matrix(matrix, m, n):\n",
    "    for i in range(m):\n",
    "        for j in range(n):\n",
    "            if matrix[i][j] == 1:\n",
    "                return True\n",
    "    return False\n",
    "\n",
    "def rot_oranges(matrix, queue, i, j, m, n, flag, time):\n",
    "    x = [-1, 0, 0, 1]\n",
    "    y = [0, -1, 1, 0]\n",
    "    for k in range(4):\n",
    "        if (i + x[k] >= 0) and (j + y[k] >= 0) and \\\n",
    "        (i + x[k] < m) and (j + y[k] < n) and \\\n",
    "        matrix[i + x[k]][j + y[k]] == 1:\n",
    "            queue.append([i + x[k], j + y[k]])\n",
    "            if not flag:\n",
    "                time, flag = time + 1, True\n",
    "            matrix[i + x[k]][j + y[k]] = 2\n",
    "    return time, flag\n",
    "\n",
    "def rotten_orange(matrix):\n",
    "    m = len(matrix)\n",
    "    n = len(matrix[0])\n",
    "    queue = deque()\n",
    "    time = 0\n",
    "    for i in range(m):\n",
    "        for j in range(n):\n",
    "            if matrix[i][j] == 2:\n",
    "                queue.append([i, j])\n",
    "    if queue:\n",
    "        queue.append([-1, -1])\n",
    "    while queue:\n",
    "        flag = False\n",
    "        while queue[0] != [-1, -1]:\n",
    "            i, j = queue.popleft()\n",
    "            time, flag = rot_oranges(matrix, queue, i, j, m, n, flag, time)\n",
    "        queue.popleft()\n",
    "        if queue:\n",
    "            queue.append([-1, -1])\n",
    "    if check_matrix(matrix, m, n):\n",
    "        return -1\n",
    "    return time\n",
    "            \n",
    "\n",
    "if __name__=='__main__':\n",
    "    mat = [[2,1,1],[1,1,0],[0,1,1]]\n",
    "    print(rotten_orange(mat))"
   ]
  },
  {
   "cell_type": "code",
   "execution_count": null,
   "metadata": {},
   "outputs": [],
   "source": [
    "# Inputs:\n",
    "# - [[2,1,1],[1,1,0],[0,1,1]]\n",
    "# - [[2, 1, 0, 2, 1], [1, 0, 1, 2, 1], [1, 0, 0, 2, 1]]"
   ]
  }
 ],
 "metadata": {
  "kernelspec": {
   "display_name": "Python 3",
   "language": "python",
   "name": "python3"
  },
  "language_info": {
   "codemirror_mode": {
    "name": "ipython",
    "version": 3
   },
   "file_extension": ".py",
   "mimetype": "text/x-python",
   "name": "python",
   "nbconvert_exporter": "python",
   "pygments_lexer": "ipython3",
   "version": "3.6.8"
  }
 },
 "nbformat": 4,
 "nbformat_minor": 2
}
