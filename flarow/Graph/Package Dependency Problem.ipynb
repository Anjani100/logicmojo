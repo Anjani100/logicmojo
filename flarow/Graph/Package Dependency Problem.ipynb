{
 "cells": [
  {
   "cell_type": "code",
   "execution_count": 6,
   "metadata": {},
   "outputs": [
    {
     "name": "stdout",
     "output_type": "stream",
     "text": [
      "[0]\n"
     ]
    }
   ],
   "source": [
    "from collections import defaultdict\n",
    "\n",
    "def topological_sort(v, graph, mark, visited, res):\n",
    "    for i in graph[v]:\n",
    "        mark[i] -= 1\n",
    "        if mark[i] == 0 and not visited[i]:\n",
    "            res.append(i)\n",
    "            visited[i] = 1\n",
    "            topological_sort(i, graph, mark, visited, res)\n",
    "\n",
    "def check_vertex(graph, mark, num_courses, res):\n",
    "    visited = defaultdict(list)\n",
    "    for i in range(num_courses + 1):\n",
    "        if not mark[i]:\n",
    "            if not visited[i]:\n",
    "                if graph[i]:\n",
    "                    res.append(i)\n",
    "                    visited[i] = 1\n",
    "                    topological_sort(i, graph, mark, visited, res)\n",
    "    flag = False\n",
    "    for m in mark:\n",
    "        if mark[m] == 1:\n",
    "            flag = True\n",
    "    if flag:\n",
    "        res = []\n",
    "    return res\n",
    "\n",
    "def course_schedule(num_courses, prerequisites):\n",
    "    res = []\n",
    "    if not prerequisites:\n",
    "        for i in range(num_courses - 1, -1, -1):\n",
    "            res.append(i)\n",
    "        return res\n",
    "    graph = defaultdict(list)\n",
    "    mark = defaultdict(int)\n",
    "    for course in prerequisites:\n",
    "        graph[course[0]].append(course[1])\n",
    "        mark[course[1]] += 1\n",
    "        if not graph[course[1]]:\n",
    "            graph[course[1]] = []\n",
    "    res = check_vertex(graph, mark, num_courses, res)\n",
    "    if len(res) > 0 and len(res) < num_courses:\n",
    "        for i in range(num_courses):\n",
    "            if i not in res:\n",
    "                res.append(i)\n",
    "    res.reverse()\n",
    "    return res\n",
    "\n",
    "if __name__=='__main__':\n",
    "    print(course_schedule(1, []))"
   ]
  },
  {
   "cell_type": "code",
   "execution_count": null,
   "metadata": {},
   "outputs": [],
   "source": []
  }
 ],
 "metadata": {
  "kernelspec": {
   "display_name": "Python 3",
   "language": "python",
   "name": "python3"
  },
  "language_info": {
   "codemirror_mode": {
    "name": "ipython",
    "version": 3
   },
   "file_extension": ".py",
   "mimetype": "text/x-python",
   "name": "python",
   "nbconvert_exporter": "python",
   "pygments_lexer": "ipython3",
   "version": "3.6.8"
  }
 },
 "nbformat": 4,
 "nbformat_minor": 2
}
