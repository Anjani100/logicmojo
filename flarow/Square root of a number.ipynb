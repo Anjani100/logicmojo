{
 "cells": [
  {
   "cell_type": "code",
   "execution_count": 18,
   "metadata": {},
   "outputs": [
    {
     "name": "stdout",
     "output_type": "stream",
     "text": [
      "7\n"
     ]
    }
   ],
   "source": [
    "def sqrt(n):\n",
    "    low = 0\n",
    "    high = n\n",
    "    while True:\n",
    "        mid = (low + high) // 2\n",
    "        if mid * mid == n:\n",
    "            return mid\n",
    "        elif mid + 1 == high:\n",
    "            if mid * mid < n and high * high > n:\n",
    "                return mid\n",
    "            if low * low < n and mid * mid > n:\n",
    "                return low\n",
    "        elif mid * mid > n:\n",
    "            high = mid\n",
    "        else:\n",
    "            low = mid\n",
    "\n",
    "print(sqrt(56))"
   ]
  },
  {
   "cell_type": "code",
   "execution_count": null,
   "metadata": {},
   "outputs": [],
   "source": []
  }
 ],
 "metadata": {
  "kernelspec": {
   "display_name": "Python 3",
   "language": "python",
   "name": "python3"
  },
  "language_info": {
   "codemirror_mode": {
    "name": "ipython",
    "version": 3
   },
   "file_extension": ".py",
   "mimetype": "text/x-python",
   "name": "python",
   "nbconvert_exporter": "python",
   "pygments_lexer": "ipython3",
   "version": "3.6.8"
  }
 },
 "nbformat": 4,
 "nbformat_minor": 2
}
