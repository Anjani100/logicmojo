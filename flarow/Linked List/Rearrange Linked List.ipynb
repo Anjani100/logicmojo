{
 "cells": [
  {
   "cell_type": "code",
   "execution_count": 8,
   "metadata": {},
   "outputs": [
    {
     "name": "stdout",
     "output_type": "stream",
     "text": [
      "1 -> 7 -> 2 -> 6 -> 3 -> 5 -> 4 -> X\n"
     ]
    }
   ],
   "source": [
    "class Node:\n",
    "    def __init__(self, val):\n",
    "        self.val = val\n",
    "        self.next = None\n",
    "\n",
    "def display(head):\n",
    "    while head:\n",
    "        print(head.val, end = ' -> ')\n",
    "        head = head.next\n",
    "    print('X')\n",
    "\n",
    "def find_mid(head):\n",
    "    if not head:\n",
    "        return head\n",
    "    slow = fast = head\n",
    "    while fast.next and fast.next.next:\n",
    "        slow = slow.next\n",
    "        fast = fast.next.next\n",
    "    return slow\n",
    "\n",
    "def reverse_list(head):\n",
    "    pre = None\n",
    "    ptr = head\n",
    "    while ptr:\n",
    "        post = ptr.next\n",
    "        ptr.next = pre\n",
    "        pre = ptr\n",
    "        ptr = post\n",
    "    return pre\n",
    "\n",
    "def rearrange_list(head):\n",
    "    mid = find_mid(head)\n",
    "    first = head\n",
    "    second = mid.next\n",
    "    temp = first.next\n",
    "    temp1 = second.next\n",
    "    mid.next = None\n",
    "    second = reverse_list(second)\n",
    "    while temp and temp1:\n",
    "        first.next = second\n",
    "        second.next = temp\n",
    "        first = temp\n",
    "        second = temp1\n",
    "        temp = temp.next\n",
    "        temp1 = temp1.next\n",
    "    first.next = second\n",
    "    if temp:\n",
    "        second.next = temp\n",
    "    return head\n",
    "\n",
    "if __name__=='__main__':\n",
    "    head = Node(1)\n",
    "    head.next = Node(2)\n",
    "    head.next.next = Node(3)\n",
    "    head.next.next.next = Node(4)\n",
    "    head.next.next.next.next = Node(5)\n",
    "    head.next.next.next.next.next = Node(6)\n",
    "    head.next.next.next.next.next.next = Node(7)\n",
    "    head1 = rearrange_list(head)\n",
    "    display(head1)"
   ]
  },
  {
   "cell_type": "code",
   "execution_count": null,
   "metadata": {},
   "outputs": [],
   "source": []
  }
 ],
 "metadata": {
  "kernelspec": {
   "display_name": "Python 3",
   "language": "python",
   "name": "python3"
  },
  "language_info": {
   "codemirror_mode": {
    "name": "ipython",
    "version": 3
   },
   "file_extension": ".py",
   "mimetype": "text/x-python",
   "name": "python",
   "nbconvert_exporter": "python",
   "pygments_lexer": "ipython3",
   "version": "3.6.8"
  }
 },
 "nbformat": 4,
 "nbformat_minor": 2
}
