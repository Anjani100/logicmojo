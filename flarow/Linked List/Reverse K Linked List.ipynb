{
 "cells": [
  {
   "cell_type": "code",
   "execution_count": 14,
   "metadata": {},
   "outputs": [
    {
     "name": "stdout",
     "output_type": "stream",
     "text": [
      "Original List: 4 -> 2 -> 8 -> 5 -> 1 -> 6 -> 3 -> 7 -> X\n",
      "Reversed List: 1 -> 5 -> 8 -> 2 -> 4 -> 7 -> 3 -> 6 -> X\n"
     ]
    }
   ],
   "source": [
    "class Node:\n",
    "    def __init__(self, val):\n",
    "        self.val = val\n",
    "        self.next = None\n",
    "\n",
    "def display(head):\n",
    "    while head:\n",
    "        print(head.val, end = ' -> ')\n",
    "        head = head.next\n",
    "    print('X')\n",
    "\n",
    "def reverse_k_group(head, k):\n",
    "    pre = None\n",
    "    ptr = head\n",
    "    count = 0\n",
    "    while count < k and ptr:\n",
    "        post = ptr.next\n",
    "        ptr.next = pre\n",
    "        pre = ptr\n",
    "        ptr = post\n",
    "        count += 1\n",
    "    if post:\n",
    "        head.next = reverse_k_group(post, k)\n",
    "    return pre\n",
    "\n",
    "if __name__=='__main__':\n",
    "    head = Node(4)\n",
    "    head.next = Node(2)\n",
    "    head.next.next = Node(8)\n",
    "    head.next.next.next = Node(5)\n",
    "    head.next.next.next.next = Node(1)\n",
    "    head.next.next.next.next.next = Node(6)\n",
    "    head.next.next.next.next.next.next = Node(3)\n",
    "    head.next.next.next.next.next.next.next = Node(7)\n",
    "    print('Original List: ', end = '')\n",
    "    display(head)\n",
    "    head1 = reverse_k_group(head, 5)\n",
    "    print('Reversed List: ', end = '')\n",
    "    display(head1)"
   ]
  },
  {
   "cell_type": "code",
   "execution_count": null,
   "metadata": {},
   "outputs": [],
   "source": []
  }
 ],
 "metadata": {
  "kernelspec": {
   "display_name": "Python 3",
   "language": "python",
   "name": "python3"
  },
  "language_info": {
   "codemirror_mode": {
    "name": "ipython",
    "version": 3
   },
   "file_extension": ".py",
   "mimetype": "text/x-python",
   "name": "python",
   "nbconvert_exporter": "python",
   "pygments_lexer": "ipython3",
   "version": "3.6.8"
  }
 },
 "nbformat": 4,
 "nbformat_minor": 2
}
