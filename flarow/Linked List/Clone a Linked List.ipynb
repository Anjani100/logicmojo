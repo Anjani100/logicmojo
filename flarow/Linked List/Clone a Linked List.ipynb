{
 "cells": [
  {
   "cell_type": "code",
   "execution_count": 4,
   "metadata": {},
   "outputs": [
    {
     "name": "stdout",
     "output_type": "stream",
     "text": [
      "3 (5) -> 4 (3) -> 5 (7) -> 6 (7) -> 7 (4) -> X\n",
      "3 (5) -> 4 (3) -> 5 (7) -> 6 (7) -> 7 (4) -> X\n"
     ]
    }
   ],
   "source": [
    "class Node:\n",
    "    def __init__(self, val):\n",
    "        self.val = val\n",
    "        self.next = None\n",
    "        self.random = None\n",
    "\n",
    "def display(head):\n",
    "    while head:\n",
    "        if head.random:\n",
    "            print(head.val, f\"({head.random.val})\", end=' -> ')\n",
    "        else:\n",
    "            print(head.val, \"(X)\", end=' -> ')\n",
    "        head = head.next\n",
    "    print(\"X\")\n",
    "\n",
    "def clone_list(head):\n",
    "    head1 = Node(head.val)\n",
    "    head1.random = head\n",
    "    temp1 = head1\n",
    "    temp = head.next\n",
    "    while temp:\n",
    "        temp1.next = Node(temp.val)\n",
    "        temp1 = temp1.next\n",
    "        temp1.random = temp\n",
    "        temp = temp.next\n",
    "    temp = head\n",
    "    post = head.next\n",
    "    temp1 = head1\n",
    "    while temp:\n",
    "        temp.next = temp1\n",
    "        temp = post\n",
    "        temp1 = temp1.next\n",
    "        if post:\n",
    "            post = post.next\n",
    "    temp = head\n",
    "    temp1 = head1\n",
    "    while temp1:\n",
    "        temp1.random = temp1.random.random.next\n",
    "        temp1 = temp1.next\n",
    "    return head1\n",
    "\n",
    "if __name__=='__main__':\n",
    "    head = Node(3)\n",
    "    head.next = Node(4)\n",
    "    head.next.next = Node(5)\n",
    "    head.next.next.next = Node(6)\n",
    "    head.next.next.next.next = Node(7)\n",
    "\n",
    "    head.random = head.next.next\n",
    "    head.next.random = head\n",
    "    head.next.next.random = head.next.next.next.next\n",
    "    head.next.next.next.random = head.next.next.next.next\n",
    "    head.next.next.next.next.random = head.next\n",
    "    \n",
    "    display(head)\n",
    "    head1 = clone_list(head)\n",
    "    display(head1)"
   ]
  },
  {
   "cell_type": "code",
   "execution_count": null,
   "metadata": {},
   "outputs": [],
   "source": []
  }
 ],
 "metadata": {
  "kernelspec": {
   "display_name": "Python 3",
   "language": "python",
   "name": "python3"
  },
  "language_info": {
   "codemirror_mode": {
    "name": "ipython",
    "version": 3
   },
   "file_extension": ".py",
   "mimetype": "text/x-python",
   "name": "python",
   "nbconvert_exporter": "python",
   "pygments_lexer": "ipython3",
   "version": "3.6.8"
  }
 },
 "nbformat": 4,
 "nbformat_minor": 2
}
