{
 "cells": [
  {
   "cell_type": "code",
   "execution_count": 1,
   "metadata": {},
   "outputs": [
    {
     "name": "stdout",
     "output_type": "stream",
     "text": [
      "1 -> 2 -> 3 -> 4 -> 5 -> 6 -> 7 -> 8 -> X\n"
     ]
    }
   ],
   "source": [
    "class Node:\n",
    "    def __init__(self, val):\n",
    "        self.val = val\n",
    "        self.next = None\n",
    "def merge_lists(node1, node2):\n",
    "    if not node1:\n",
    "        return node2\n",
    "    if not node2:\n",
    "        return node1\n",
    "    if node1.val <= node2.val:\n",
    "        temp = node1\n",
    "        node1 = node1.next\n",
    "    else:\n",
    "        temp = node2\n",
    "        node2 = node2.next\n",
    "    head = temp\n",
    "    while node1 and node2:\n",
    "        if node1.val <= node2.val:\n",
    "            temp.next = node1\n",
    "            temp = temp.next\n",
    "            node1 = node1.next\n",
    "        else:\n",
    "            temp.next = node2\n",
    "            temp = temp.next\n",
    "            node2 = node2.next\n",
    "    if not node1:\n",
    "        temp.next = node2\n",
    "    else:\n",
    "        temp.next = node1\n",
    "    return head\n",
    "\n",
    "def find_mid(head):\n",
    "    if not head:\n",
    "        return head\n",
    "    slow = fast = head\n",
    "    while fast.next and fast.next.next:\n",
    "        slow = slow.next\n",
    "        fast = fast.next.next\n",
    "    return slow\n",
    "\n",
    "def merge_sort_linked_list(head):\n",
    "    if not head or not head.next:\n",
    "        return head\n",
    "    \n",
    "    mid = find_mid(head)\n",
    "    mid_next = mid.next\n",
    "    \n",
    "    mid.next = None\n",
    "    \n",
    "    first = merge_sort_linked_list(head)\n",
    "    second = merge_sort_linked_list(mid_next)\n",
    "    \n",
    "    sorted_head = merge_lists(first, second)\n",
    "    return sorted_head\n",
    "\n",
    "if __name__=='__main__':\n",
    "    head = Node(4)\n",
    "    head.next = Node(2)\n",
    "    head.next.next = Node(7)\n",
    "    head.next.next.next = Node(3)\n",
    "    head.next.next.next.next = Node(6)\n",
    "    head.next.next.next.next.next = Node(5)\n",
    "    head.next.next.next.next.next.next = Node(1)\n",
    "    head.next.next.next.next.next.next.next = Node(8)\n",
    "    head = merge_sort_linked_list(head)\n",
    "    while head:\n",
    "        print(head.val, end = ' -> ')\n",
    "        head = head.next\n",
    "    print('X')"
   ]
  },
  {
   "cell_type": "code",
   "execution_count": null,
   "metadata": {},
   "outputs": [],
   "source": []
  }
 ],
 "metadata": {
  "kernelspec": {
   "display_name": "Python 3",
   "language": "python",
   "name": "python3"
  },
  "language_info": {
   "codemirror_mode": {
    "name": "ipython",
    "version": 3
   },
   "file_extension": ".py",
   "mimetype": "text/x-python",
   "name": "python",
   "nbconvert_exporter": "python",
   "pygments_lexer": "ipython3",
   "version": "3.6.8"
  }
 },
 "nbformat": 4,
 "nbformat_minor": 2
}
