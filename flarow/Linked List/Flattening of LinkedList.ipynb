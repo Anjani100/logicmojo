{
 "cells": [
  {
   "cell_type": "code",
   "execution_count": 1,
   "metadata": {},
   "outputs": [
    {
     "name": "stdout",
     "output_type": "stream",
     "text": [
      "4 -> 6 -> 7 -> 11 -> 18 -> 20 -> 22 -> 28 -> 30 -> 35 -> 40 -> 45 -> 50 -> X\n"
     ]
    }
   ],
   "source": [
    "class Node:\n",
    "    def __init__(self, val):\n",
    "        self.val = val\n",
    "        self.next = None\n",
    "        self.down = None\n",
    "\n",
    "def display(node):\n",
    "    while node:\n",
    "        print(node.val, end = ' -> ')\n",
    "        node = node.down\n",
    "    print('X')\n",
    "\n",
    "def merge_lists(node1, node2):\n",
    "    if not node1:\n",
    "        return node2\n",
    "    if not node2:\n",
    "        return node1\n",
    "    if node1.val <= node2.val:\n",
    "        temp = node1\n",
    "        node1 = node1.down\n",
    "    else:\n",
    "        temp = node2\n",
    "        node2 = node2.down\n",
    "    head = temp\n",
    "    while node1 and node2:\n",
    "        if node1.val <= node2.val:\n",
    "            temp.down = node1\n",
    "            temp = temp.down\n",
    "            node1 = node1.down\n",
    "        else:\n",
    "            temp.down = node2\n",
    "            temp = temp.down\n",
    "            node2 = node2.down\n",
    "    if not node1:\n",
    "        temp.down = node2\n",
    "    else:\n",
    "        temp.down = node1\n",
    "    return head\n",
    "\n",
    "def flattening_list(node):\n",
    "    if not node or not node.next:\n",
    "        return node\n",
    "    node.next = flattening_list(node.next)\n",
    "    node = merge_lists(node, node.next)\n",
    "    return node\n",
    "\n",
    "if __name__=='__main__':\n",
    "    node = Node(4)\n",
    "    node.down = Node(6)\n",
    "    node.down.down = Node(7)\n",
    "    node.down.down.down = Node(30)\n",
    "    node.next = Node(11)\n",
    "    node.next.down = Node(20)\n",
    "    node.next.next = Node(18)\n",
    "    node.next.next.down = Node(22)\n",
    "    node.next.next.down.down = Node(50)\n",
    "    node.next.next.next = Node(28)\n",
    "    node.next.next.next.down = Node(35)\n",
    "    node.next.next.next.down.down = Node(40)\n",
    "    node.next.next.next.down.down.down = Node(45)\n",
    "    node = flattening_list(node)\n",
    "    display(node)"
   ]
  },
  {
   "cell_type": "code",
   "execution_count": null,
   "metadata": {},
   "outputs": [],
   "source": []
  }
 ],
 "metadata": {
  "kernelspec": {
   "display_name": "Python 3",
   "language": "python",
   "name": "python3"
  },
  "language_info": {
   "codemirror_mode": {
    "name": "ipython",
    "version": 3
   },
   "file_extension": ".py",
   "mimetype": "text/x-python",
   "name": "python",
   "nbconvert_exporter": "python",
   "pygments_lexer": "ipython3",
   "version": "3.6.8"
  }
 },
 "nbformat": 4,
 "nbformat_minor": 2
}
