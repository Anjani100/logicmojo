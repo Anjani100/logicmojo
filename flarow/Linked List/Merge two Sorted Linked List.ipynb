{
 "cells": [
  {
   "cell_type": "code",
   "execution_count": 6,
   "metadata": {},
   "outputs": [
    {
     "name": "stdout",
     "output_type": "stream",
     "text": [
      "1 -> 2 -> 3 -> 4 -> 5 -> 6 -> 7 -> 8 -> X\n"
     ]
    }
   ],
   "source": [
    "class Node:\n",
    "    def __init__(self, val):\n",
    "        self.val = val\n",
    "        self.next = None\n",
    "\n",
    "def display(node):\n",
    "    while node:\n",
    "        print(node.val, end = ' -> ')\n",
    "        node = node.next\n",
    "    print('X')\n",
    "\n",
    "def merge_lists(node1, node2):\n",
    "    if not node1:\n",
    "        return node2\n",
    "    if not node2:\n",
    "        return node1\n",
    "    if node1.val <= node2.val:\n",
    "        temp = node1\n",
    "        node1 = node1.next\n",
    "    else:\n",
    "        temp = node2\n",
    "        node2 = node2.next\n",
    "    head = temp\n",
    "    while node1 and node2:\n",
    "        if node1.val <= node2.val:\n",
    "            temp.next = node1\n",
    "            temp = temp.next\n",
    "            node1 = node1.next\n",
    "        else:\n",
    "            temp.next = node2\n",
    "            temp = temp.next\n",
    "            node2 = node2.next\n",
    "    if not node1:\n",
    "        temp.next = node2\n",
    "    else:\n",
    "        temp.next = node1\n",
    "    return head\n",
    "\n",
    "if __name__=='__main__':\n",
    "    node1 = Node(2)\n",
    "    node1.next = Node(4)\n",
    "    node1.next.next = Node(5)\n",
    "    node1.next.next.next = Node(8)\n",
    "    \n",
    "    node2 = Node(1)\n",
    "    node2.next = Node(3)\n",
    "    node2.next.next = Node(6)\n",
    "    node2.next.next.next = Node(7)\n",
    "    \n",
    "    node = merge_lists(node1, node2)\n",
    "    display(node)"
   ]
  },
  {
   "cell_type": "code",
   "execution_count": null,
   "metadata": {},
   "outputs": [],
   "source": []
  }
 ],
 "metadata": {
  "kernelspec": {
   "display_name": "Python 3",
   "language": "python",
   "name": "python3"
  },
  "language_info": {
   "codemirror_mode": {
    "name": "ipython",
    "version": 3
   },
   "file_extension": ".py",
   "mimetype": "text/x-python",
   "name": "python",
   "nbconvert_exporter": "python",
   "pygments_lexer": "ipython3",
   "version": "3.6.8"
  }
 },
 "nbformat": 4,
 "nbformat_minor": 2
}
