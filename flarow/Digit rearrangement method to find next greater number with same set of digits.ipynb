{
 "cells": [
  {
   "cell_type": "code",
   "execution_count": 11,
   "metadata": {},
   "outputs": [
    {
     "name": "stdout",
     "output_type": "stream",
     "text": [
      "536479\n"
     ]
    }
   ],
   "source": [
    "def find_next_greater_integer(num):\n",
    "    nums = list(str(num))\n",
    "    i = len(nums) - 2\n",
    "    j = len(nums) - 1\n",
    "    while i >= 0:\n",
    "        if int(nums[i]) < int(nums[j]):\n",
    "            smallest = j\n",
    "            for k in range(j + 1, len(nums)):\n",
    "                if int(nums[k]) > int(nums[i]) and int(nums[k]) < int(nums[smallest]):\n",
    "                    smallest = k\n",
    "            nums[i], nums[smallest] = nums[smallest], nums[i]\n",
    "            break\n",
    "        j -= 1\n",
    "        i -= 1\n",
    "    cropped_nums = nums[i + 1:]\n",
    "    cropped_nums.sort()\n",
    "    k = 0\n",
    "    for j in range(i + 1, len(nums)):\n",
    "        nums[j] = cropped_nums[k]\n",
    "        k += 1\n",
    "    s = ''\n",
    "    for i in nums:\n",
    "        s += i\n",
    "    return int(s)\n",
    "\n",
    "print(find_next_greater_integer(534976))"
   ]
  },
  {
   "cell_type": "code",
   "execution_count": null,
   "metadata": {},
   "outputs": [],
   "source": []
  }
 ],
 "metadata": {
  "kernelspec": {
   "display_name": "Python 3",
   "language": "python",
   "name": "python3"
  },
  "language_info": {
   "codemirror_mode": {
    "name": "ipython",
    "version": 3
   },
   "file_extension": ".py",
   "mimetype": "text/x-python",
   "name": "python",
   "nbconvert_exporter": "python",
   "pygments_lexer": "ipython3",
   "version": "3.6.8"
  }
 },
 "nbformat": 4,
 "nbformat_minor": 2
}
