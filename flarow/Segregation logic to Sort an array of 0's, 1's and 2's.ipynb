{
 "cells": [
  {
   "cell_type": "code",
   "execution_count": 5,
   "metadata": {},
   "outputs": [
    {
     "name": "stdout",
     "output_type": "stream",
     "text": [
      "[0, 0, 0, 0, 1, 1, 1, 1, 1, 2, 2, 2]\n"
     ]
    }
   ],
   "source": [
    "# Count-Sort -> Time: O(n); Space: O(d) [d -> No. of distinct digits in the array; Here: 3 (0, 1 & 2)]\n",
    "def sort_0_1_2(arr):\n",
    "    zeros = ones = twos = 0\n",
    "    for i in range(len(arr)):\n",
    "        if arr[i] == 0:\n",
    "            zeros += 1\n",
    "        elif arr[i] == 1:\n",
    "            ones += 1\n",
    "        else:\n",
    "            twos += 1\n",
    "    k = 0\n",
    "    for _ in range(zeros):\n",
    "        arr[k] = 0\n",
    "        k += 1\n",
    "    for _ in range(ones):\n",
    "        arr[k] = 1\n",
    "        k += 1\n",
    "    for _ in range(twos):\n",
    "        arr[k] = 2\n",
    "        k += 1\n",
    "    return arr\n",
    "\n",
    "print(sort_0_1_2([2, 1, 1, 0, 1, 2, 1, 2, 0, 0, 0, 1]))"
   ]
  },
  {
   "cell_type": "code",
   "execution_count": 4,
   "metadata": {},
   "outputs": [
    {
     "name": "stdout",
     "output_type": "stream",
     "text": [
      "[0, 0, 0, 0, 1, 1, 1, 1, 1, 2, 2, 2]\n"
     ]
    }
   ],
   "source": [
    "# Optimized Approach -> Time: O(n); Space: O(1)\n",
    "def sort_0_1_2(arr):\n",
    "    low = 0\n",
    "    mid = 0\n",
    "    high = len(arr) - 1\n",
    "    while mid <= high:\n",
    "        if arr[mid] == 2:\n",
    "            arr[mid], arr[high] = arr[high], arr[mid]\n",
    "            high -= 1\n",
    "        elif arr[mid] == 0:\n",
    "            arr[mid], arr[low] = arr[low], arr[mid]\n",
    "            low += 1\n",
    "            mid += 1\n",
    "        else:\n",
    "            mid += 1\n",
    "\n",
    "array = [2, 1, 1, 0, 1, 2, 1, 2, 0, 0, 0, 1]\n",
    "sort_0_1_2(array)\n",
    "print(array)"
   ]
  },
  {
   "cell_type": "code",
   "execution_count": null,
   "metadata": {},
   "outputs": [],
   "source": []
  }
 ],
 "metadata": {
  "kernelspec": {
   "display_name": "Python 3",
   "language": "python",
   "name": "python3"
  },
  "language_info": {
   "codemirror_mode": {
    "name": "ipython",
    "version": 3
   },
   "file_extension": ".py",
   "mimetype": "text/x-python",
   "name": "python",
   "nbconvert_exporter": "python",
   "pygments_lexer": "ipython3",
   "version": "3.6.8"
  }
 },
 "nbformat": 4,
 "nbformat_minor": 2
}
