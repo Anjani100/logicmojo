{
 "cells": [
  {
   "cell_type": "code",
   "execution_count": 7,
   "metadata": {},
   "outputs": [
    {
     "name": "stdout",
     "output_type": "stream",
     "text": [
      "[1, 2, 11, 12, 7, 6, 5, 4]\n"
     ]
    }
   ],
   "source": [
    "# Basic Approach (Time: O(m*n); Space: O(1))\n",
    "def spiral_matrix(mat):\n",
    "    res = []\n",
    "    m = len(mat[0])\n",
    "    n = len(mat)\n",
    "    p = m\n",
    "    q = n\n",
    "    x = w = 0\n",
    "    y = m - 1\n",
    "    z = n - 1\n",
    "    while True:\n",
    "        # Right-direction\n",
    "        i = m - p\n",
    "        while i < p:\n",
    "            res.append(mat[x][i])\n",
    "            i += 1\n",
    "        x += 1\n",
    "        p -= 1\n",
    "        if len(res) == n * m:\n",
    "            break\n",
    "        # Down-direction\n",
    "        i = n - q + 1\n",
    "        while i < q:\n",
    "            res.append(mat[i][y])\n",
    "            i += 1\n",
    "        y -= 1\n",
    "        q -= 1\n",
    "        if len(res) == n * m:\n",
    "            break\n",
    "        # Left-direction\n",
    "        i = p - 1\n",
    "        while i >= m - p - 1:\n",
    "            res.append(mat[z][i])\n",
    "            i -= 1\n",
    "        z -= 1\n",
    "        if len(res) == n * m:\n",
    "            break\n",
    "        # Up-direction\n",
    "        i = q - 1\n",
    "        while i >= n - q:\n",
    "            res.append(mat[i][w])\n",
    "            i -= 1\n",
    "        w += 1\n",
    "        if len(res) == n * m:\n",
    "            break\n",
    "    return res\n",
    "\n",
    "print(spiral_matrix([[1,2,11,12], [4, 5, 6, 7]]))"
   ]
  },
  {
   "cell_type": "code",
   "execution_count": null,
   "metadata": {},
   "outputs": [],
   "source": [
    "# Inputs:\n",
    "# - [[1,2,3],[4,5,6],[7,8,9]]\n",
    "# - [[1, 2, 3, 4], [5, 6, 7, 8], [9, 10, 11, 12], [13, 14, 15, 16]]"
   ]
  }
 ],
 "metadata": {
  "kernelspec": {
   "display_name": "Python 3",
   "language": "python",
   "name": "python3"
  },
  "language_info": {
   "codemirror_mode": {
    "name": "ipython",
    "version": 3
   },
   "file_extension": ".py",
   "mimetype": "text/x-python",
   "name": "python",
   "nbconvert_exporter": "python",
   "pygments_lexer": "ipython3",
   "version": "3.6.8"
  }
 },
 "nbformat": 4,
 "nbformat_minor": 2
}
