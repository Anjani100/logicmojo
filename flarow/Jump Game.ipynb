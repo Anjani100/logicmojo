{
 "cells": [
  {
   "cell_type": "code",
   "execution_count": 1,
   "metadata": {},
   "outputs": [
    {
     "name": "stdout",
     "output_type": "stream",
     "text": [
      "3\n"
     ]
    }
   ],
   "source": [
    "# Trivial approach (Time: O(n^2); Space: O(1))\n",
    "def jump_game(arr):\n",
    "    jumps = 0\n",
    "    i = len(arr) - 2\n",
    "    j = len(arr) - 1\n",
    "    while j != 0:\n",
    "        if arr[i] + i >= j:\n",
    "            max_reach = i\n",
    "        i -= 1\n",
    "        if i < 0:\n",
    "            i = max_reach - 1\n",
    "            j = max_reach\n",
    "            jumps += 1\n",
    "    return jumps\n",
    "\n",
    "print(jump_game([1, 3, 5, 8, 9, 2, 6, 7, 6, 8, 9]))"
   ]
  },
  {
   "cell_type": "code",
   "execution_count": 16,
   "metadata": {},
   "outputs": [
    {
     "name": "stdout",
     "output_type": "stream",
     "text": [
      "3\n"
     ]
    }
   ],
   "source": [
    "# Optimized Approach (Time: O(n); Space: O(1))\n",
    "def jump_game(arr):\n",
    "    a = arr[0]\n",
    "    b = arr[0]\n",
    "    jumps = 0\n",
    "    for i in range(1, len(arr)):\n",
    "        a -= 1\n",
    "        b -= 1\n",
    "        if arr[i] > b:\n",
    "            b = arr[i]\n",
    "        if a == 0:\n",
    "            a = b\n",
    "            jumps += 1\n",
    "    if a != b:\n",
    "        jumps += 1\n",
    "    return jumps\n",
    "\n",
    "print(jump_game([1, 3, 5, 8, 9, 2, 6, 7, 6, 8, 9, 1, 1, 1]))"
   ]
  },
  {
   "cell_type": "code",
   "execution_count": null,
   "metadata": {},
   "outputs": [],
   "source": []
  }
 ],
 "metadata": {
  "kernelspec": {
   "display_name": "Python 3",
   "language": "python",
   "name": "python3"
  },
  "language_info": {
   "codemirror_mode": {
    "name": "ipython",
    "version": 3
   },
   "file_extension": ".py",
   "mimetype": "text/x-python",
   "name": "python",
   "nbconvert_exporter": "python",
   "pygments_lexer": "ipython3",
   "version": "3.6.8"
  }
 },
 "nbformat": 4,
 "nbformat_minor": 2
}
