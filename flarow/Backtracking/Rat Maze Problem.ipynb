{
 "cells": [
  {
   "cell_type": "code",
   "execution_count": 9,
   "metadata": {},
   "outputs": [
    {
     "name": "stdout",
     "output_type": "stream",
     "text": [
      "[1, 0, 0, 0, 0]\n",
      "[1, 1, 1, 1, 0]\n",
      "[0, 0, 0, 1, 0]\n",
      "[0, 0, 0, 1, 1]\n",
      "[0, 0, 0, 0, 1]\n"
     ]
    }
   ],
   "source": [
    "def valid_path(maze, i, j, m, n):\n",
    "    if i == m or j == n:\n",
    "        return False\n",
    "    if maze[i][j] == 1:\n",
    "        return False\n",
    "    return True\n",
    "\n",
    "def rat_maze(maze, i, j, m, n, arr):\n",
    "    if arr[-1][-1] == 1:\n",
    "        return True\n",
    "    if valid_path(maze, i, j, m, n):\n",
    "        arr[i][j] = 1\n",
    "        if rat_maze(maze, i + 1, j, m, n, arr):\n",
    "            return True\n",
    "        if rat_maze(maze, i, j + 1, m, n, arr):\n",
    "            return True\n",
    "        arr[i][j] = 0\n",
    "    return False\n",
    "\n",
    "maze = [[0, 1, 0, 1, 1],\n",
    "        [0, 0, 0, 0, 0],\n",
    "        [1, 0, 1, 0, 1],\n",
    "        [0, 0, 1, 0, 0],\n",
    "        [1, 0, 0, 1, 0]]\n",
    "arr = [[0 for i in range(len(maze[0]))] for j in range(len(maze))]\n",
    "rat_maze(maze, 0, 0, len(maze), len(maze[0]), arr)\n",
    "for i in arr:\n",
    "    print(i)"
   ]
  },
  {
   "cell_type": "code",
   "execution_count": null,
   "metadata": {},
   "outputs": [],
   "source": []
  }
 ],
 "metadata": {
  "kernelspec": {
   "display_name": "Python 3",
   "language": "python",
   "name": "python3"
  },
  "language_info": {
   "codemirror_mode": {
    "name": "ipython",
    "version": 3
   },
   "file_extension": ".py",
   "mimetype": "text/x-python",
   "name": "python",
   "nbconvert_exporter": "python",
   "pygments_lexer": "ipython3",
   "version": "3.6.8"
  }
 },
 "nbformat": 4,
 "nbformat_minor": 2
}
