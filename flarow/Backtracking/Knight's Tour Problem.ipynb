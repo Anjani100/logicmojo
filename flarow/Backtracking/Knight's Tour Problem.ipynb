{
 "cells": [
  {
   "cell_type": "code",
   "execution_count": 2,
   "metadata": {},
   "outputs": [
    {
     "name": "stdout",
     "output_type": "stream",
     "text": [
      "[0, 59, 38, 33, 30, 17, 8, 63]\n",
      "[37, 34, 31, 60, 9, 62, 29, 16]\n",
      "[58, 1, 36, 39, 32, 27, 18, 7]\n",
      "[35, 48, 41, 26, 61, 10, 15, 28]\n",
      "[42, 57, 2, 49, 40, 23, 6, 19]\n",
      "[47, 50, 45, 54, 25, 20, 11, 14]\n",
      "[56, 43, 52, 3, 22, 13, 24, 5]\n",
      "[51, 46, 55, 44, 53, 4, 21, 12]\n"
     ]
    }
   ],
   "source": [
    "def valid_path(board, i, j, n):\n",
    "    if i >= 0 and j >= 0 and i < n and j < n and board[i][j] == -1:\n",
    "        return True\n",
    "    return False\n",
    "\n",
    "def knight_walk(board, i, j, n, X, Y, count):\n",
    "    if count == n ** 2:\n",
    "        return True\n",
    "    for k in range(8):\n",
    "        x = i + X[k]\n",
    "        y = j + Y[k]\n",
    "        if valid_path(board, x, y, n):\n",
    "            board[x][y] = count\n",
    "            if knight_walk(board, x, y, n, X, Y, count + 1):\n",
    "                return True\n",
    "            board[x][y] = -1\n",
    "    return False\n",
    "\n",
    "if __name__=='__main__':\n",
    "    board = [[-1 for j in range(8)] for i in range(8)]\n",
    "    board[0][0] = 0\n",
    "    X = [2, 1, -1, -2, -2, -1, 1, 2]\n",
    "    Y = [1, 2, 2, 1, -1, -2, -2, -1]\n",
    "    knight_walk(board, 0, 0, 8, X, Y, 1)\n",
    "    for b in board:\n",
    "        print(b)"
   ]
  },
  {
   "cell_type": "code",
   "execution_count": null,
   "metadata": {},
   "outputs": [],
   "source": []
  }
 ],
 "metadata": {
  "kernelspec": {
   "display_name": "Python 3",
   "language": "python",
   "name": "python3"
  },
  "language_info": {
   "codemirror_mode": {
    "name": "ipython",
    "version": 3
   },
   "file_extension": ".py",
   "mimetype": "text/x-python",
   "name": "python",
   "nbconvert_exporter": "python",
   "pygments_lexer": "ipython3",
   "version": "3.6.8"
  }
 },
 "nbformat": 4,
 "nbformat_minor": 2
}
