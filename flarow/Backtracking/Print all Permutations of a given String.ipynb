{
 "cells": [
  {
   "cell_type": "code",
   "execution_count": 10,
   "metadata": {},
   "outputs": [
    {
     "name": "stdout",
     "output_type": "stream",
     "text": [
      "Permutations: abc acb bac bca cba cab "
     ]
    }
   ],
   "source": [
    "def permute(text, low, high):\n",
    "    if low == high:\n",
    "        print(''.join(text), end = ' ')\n",
    "    else:\n",
    "        for i in range(low, high + 1):\n",
    "            text[i], text[low] = text[low], text[i]\n",
    "            permute(text, low + 1, high)\n",
    "            text[low], text[i] = text[i], text[low]\n",
    "\n",
    "print('Permutations:', end = ' ')\n",
    "permute(list('abc'), 0, 2)"
   ]
  },
  {
   "cell_type": "code",
   "execution_count": null,
   "metadata": {},
   "outputs": [],
   "source": []
  }
 ],
 "metadata": {
  "kernelspec": {
   "display_name": "Python 3",
   "language": "python",
   "name": "python3"
  },
  "language_info": {
   "codemirror_mode": {
    "name": "ipython",
    "version": 3
   },
   "file_extension": ".py",
   "mimetype": "text/x-python",
   "name": "python",
   "nbconvert_exporter": "python",
   "pygments_lexer": "ipython3",
   "version": "3.6.8"
  }
 },
 "nbformat": 4,
 "nbformat_minor": 2
}
