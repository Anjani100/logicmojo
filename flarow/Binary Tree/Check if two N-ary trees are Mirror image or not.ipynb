{
 "cells": [
  {
   "cell_type": "code",
   "execution_count": 2,
   "metadata": {},
   "outputs": [
    {
     "name": "stdout",
     "output_type": "stream",
     "text": [
      "[2, 34, 1, 56, 7, 8, 9, 100, 10]\n",
      "[10, 2, 34, 56, 1, 100, 7, 8, 9] [10, 100, 9, 8, 7, 56, 1, 34, 2]\n",
      "Not mirror image of each other!\n"
     ]
    }
   ],
   "source": [
    "class Node:\n",
    "    def __init__(self, val):\n",
    "        self.val = val\n",
    "        self.child = []\n",
    "\n",
    "def original_tree_traversal(root, stack):\n",
    "    if not root:\n",
    "        return stack\n",
    "    stack.append(root.val)\n",
    "    for i in range(len(root.child)):\n",
    "        stack = original_tree_traversal(root.child[i], stack)\n",
    "    return stack\n",
    "\n",
    "def mirror_tree_traversal(root, queue):\n",
    "    if not root:\n",
    "        return queue\n",
    "    for i in range(len(root.child)):\n",
    "        queue = mirror_tree_traversal(root.child[i], queue)\n",
    "    queue.append(root.val)\n",
    "    return queue\n",
    "\n",
    "if __name__=='__main__':\n",
    "    root = Node(10) \n",
    "    root.child.append(Node(2))\n",
    "    root.child.append(Node(34))\n",
    "    root.child.append(Node(56))\n",
    "    root.child.append(Node(100))\n",
    "    root.child[2].child.append(Node(1))\n",
    "    root.child[3].child.append(Node(7))\n",
    "    root.child[3].child.append(Node(8))\n",
    "    root.child[3].child.append(Node(9))\n",
    "    queue = []\n",
    "    stack = []\n",
    "    stack = original_tree_traversal(root, stack)\n",
    "    queue = mirror_tree_traversal(root, queue)\n",
    "    print(queue)\n",
    "    queue.reverse()\n",
    "    print(stack, queue)\n",
    "    if stack == queue:\n",
    "        print('Mirror image of each other!')\n",
    "    else:\n",
    "        print('Not mirror image of each other!')"
   ]
  },
  {
   "cell_type": "code",
   "execution_count": null,
   "metadata": {},
   "outputs": [],
   "source": [
    "# Inputs:\n",
    "# -   root = Node(10)\n",
    "#     root.child.append(Node(2))\n",
    "#     root.child.append(Node(34))\n",
    "#     root.child.append(Node(56))\n",
    "#     root.child.append(Node(100))\n",
    "#     root.child[2].child.append(Node(1))\n",
    "#     root.child[3].child.append(Node(7))\n",
    "#     root.child[3].child.append(Node(8))\n",
    "#     root.child[3].child.append(Node(9))"
   ]
  }
 ],
 "metadata": {
  "kernelspec": {
   "display_name": "Python 3",
   "language": "python",
   "name": "python3"
  },
  "language_info": {
   "codemirror_mode": {
    "name": "ipython",
    "version": 3
   },
   "file_extension": ".py",
   "mimetype": "text/x-python",
   "name": "python",
   "nbconvert_exporter": "python",
   "pygments_lexer": "ipython3",
   "version": "3.6.8"
  }
 },
 "nbformat": 4,
 "nbformat_minor": 2
}
