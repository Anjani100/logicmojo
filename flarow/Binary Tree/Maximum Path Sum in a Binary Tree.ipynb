{
 "cells": [
  {
   "cell_type": "code",
   "execution_count": 8,
   "metadata": {},
   "outputs": [
    {
     "name": "stdout",
     "output_type": "stream",
     "text": [
      "51\n"
     ]
    }
   ],
   "source": [
    "result = 0\n",
    "\n",
    "class Node:\n",
    "    def __init__(self, val):\n",
    "        self.val = val\n",
    "        self.left = None\n",
    "        self.right = None\n",
    "\n",
    "def max_path_sum(root):\n",
    "    if not root:\n",
    "        return 0\n",
    "    global result\n",
    "    left = max_path_sum(root.left)\n",
    "    right = max_path_sum(root.right)\n",
    "    # For the root nodes\n",
    "    max_single = max(root.val, root.val + left, root.val + right)\n",
    "    # In-case the subtree gives the max sum\n",
    "    max_top = max(max_single, left + right + root.val)\n",
    "    result = max(max_top, result)\n",
    "    return max_single\n",
    "\n",
    "if __name__=='__main__':\n",
    "    root = Node(10) \n",
    "    root.left = Node(2)\n",
    "    root.right = Node(15)\n",
    "    root.left.left = Node(-4)\n",
    "    root.left.right = Node(-6) \n",
    "    root.left.left.left = Node(28)\n",
    "    root.left.left.right = Node(-22)\n",
    "    root.right.right = Node(-25)\n",
    "    root.right.right.left = Node(3)\n",
    "    root.right.right.right = Node(4)\n",
    "    max_path_sum(root)\n",
    "    print(result)"
   ]
  },
  {
   "cell_type": "code",
   "execution_count": null,
   "metadata": {},
   "outputs": [],
   "source": []
  }
 ],
 "metadata": {
  "kernelspec": {
   "display_name": "Python 3",
   "language": "python",
   "name": "python3"
  },
  "language_info": {
   "codemirror_mode": {
    "name": "ipython",
    "version": 3
   },
   "file_extension": ".py",
   "mimetype": "text/x-python",
   "name": "python",
   "nbconvert_exporter": "python",
   "pygments_lexer": "ipython3",
   "version": "3.6.8"
  }
 },
 "nbformat": 4,
 "nbformat_minor": 2
}
