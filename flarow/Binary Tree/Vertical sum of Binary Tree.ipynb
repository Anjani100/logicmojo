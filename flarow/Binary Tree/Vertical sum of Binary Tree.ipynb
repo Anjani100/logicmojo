{
 "cells": [
  {
   "cell_type": "code",
   "execution_count": 9,
   "metadata": {},
   "outputs": [
    {
     "name": "stdout",
     "output_type": "stream",
     "text": [
      "9 6 11 6 "
     ]
    }
   ],
   "source": [
    "## Using dictionary (Time: O(n); Space: O(n))\n",
    "class Node:\n",
    "    def __init__(self, val):\n",
    "        self.val = val\n",
    "        self.left = None\n",
    "        self.right = None\n",
    "\n",
    "def vertical_sum(root, v_sum, d = 0):\n",
    "    if root:\n",
    "        vertical_sum(root.left, v_sum, d - 1)\n",
    "        if d in v_sum:\n",
    "            v_sum[d] += root.val\n",
    "        else:\n",
    "            v_sum[d] = root.val\n",
    "        vertical_sum(root.right, v_sum, d + 1)\n",
    "\n",
    "if __name__=='__main__':\n",
    "    root = Node(1)\n",
    "    root.left = Node(2)\n",
    "    root.right = Node(3)\n",
    "    root.right.left = Node(5)\n",
    "    root.right.right = Node(6)\n",
    "    root.right.left.left = Node(7)\n",
    "    root.right.left.right = Node(8)\n",
    "    v_sum = {}\n",
    "    vertical_sum(root, v_sum)\n",
    "    for v in v_sum:\n",
    "        print(v_sum[v], end = ' ')"
   ]
  },
  {
   "cell_type": "code",
   "execution_count": 13,
   "metadata": {},
   "outputs": [
    {
     "name": "stdout",
     "output_type": "stream",
     "text": [
      "9 6 11 6 "
     ]
    }
   ],
   "source": [
    "## Using DLL (Time: O(n); Space: O(n) -> More space efficient)\n",
    "## Using dictionary (Time: O(n); Space: O(n))\n",
    "class LNode:\n",
    "    def __init__(self, val = 0, pre = None, post = None):\n",
    "        self.val = val\n",
    "        self.prev = pre\n",
    "        self.next = post\n",
    "class Node:\n",
    "    def __init__(self, val):\n",
    "        self.val = val\n",
    "        self.left = None\n",
    "        self.right = None\n",
    "\n",
    "def vertical_sum(root, curr):\n",
    "    if not root:\n",
    "        return root\n",
    "    curr.val += root.val\n",
    "    if root.left and not curr.prev:\n",
    "        curr.prev = LNode(0, None, curr)\n",
    "    if root.right and not curr.next:\n",
    "        curr.next = LNode(0, curr, None)\n",
    "    vertical_sum(root.left, curr.prev)\n",
    "    vertical_sum(root.right, curr.next)\n",
    "\n",
    "if __name__=='__main__':\n",
    "    root = Node(1)\n",
    "    root.left = Node(2)\n",
    "    root.right = Node(3)\n",
    "    root.right.left = Node(5)\n",
    "    root.right.right = Node(6)\n",
    "    root.right.left.left = Node(7)\n",
    "    root.right.left.right = Node(8)\n",
    "    head = LNode()\n",
    "    vertical_sum(root, head)\n",
    "    while head and head.prev:\n",
    "        head = head.prev\n",
    "    while head:\n",
    "        print(head.val, end = ' ')\n",
    "        head = head.next"
   ]
  },
  {
   "cell_type": "code",
   "execution_count": null,
   "metadata": {},
   "outputs": [],
   "source": []
  }
 ],
 "metadata": {
  "kernelspec": {
   "display_name": "Python 3",
   "language": "python",
   "name": "python3"
  },
  "language_info": {
   "codemirror_mode": {
    "name": "ipython",
    "version": 3
   },
   "file_extension": ".py",
   "mimetype": "text/x-python",
   "name": "python",
   "nbconvert_exporter": "python",
   "pygments_lexer": "ipython3",
   "version": "3.6.8"
  }
 },
 "nbformat": 4,
 "nbformat_minor": 2
}
