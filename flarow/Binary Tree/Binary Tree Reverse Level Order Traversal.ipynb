{
 "cells": [
  {
   "cell_type": "code",
   "execution_count": 1,
   "metadata": {},
   "outputs": [
    {
     "name": "stdout",
     "output_type": "stream",
     "text": [
      "8 12 16 25 10 20 15 "
     ]
    }
   ],
   "source": [
    "## Brute-force approach (Time: O(n^2); Space: O(1))\n",
    "class Node:\n",
    "    def __init__(self, val):\n",
    "        self.val = val\n",
    "        self.left = None\n",
    "        self.right = None\n",
    "\n",
    "def height(root):\n",
    "    if not root:\n",
    "        return 0\n",
    "    return 1 + max(height(root.left), height(root.right))\n",
    "\n",
    "def print_rev_level_order(root, level):\n",
    "    if not root:\n",
    "        return root\n",
    "    if level == 1:\n",
    "        print(root.val, end = ' ')\n",
    "    if level > 1:\n",
    "        print_rev_level_order(root.left, level - 1)\n",
    "        print_rev_level_order(root.right, level - 1)\n",
    "\n",
    "def rev_level_order(root):\n",
    "    h = height(root)\n",
    "    for i in range(h, 0, -1):\n",
    "        print_rev_level_order(root, i)\n",
    "\n",
    "if __name__=='__main__':\n",
    "    root = Node(15)\n",
    "    root.left = Node(10)\n",
    "    root.right = Node(20)\n",
    "    root.left.left = Node(8)\n",
    "    root.left.right = Node(12)\n",
    "    root.right.left = Node(16)\n",
    "    root.right.right = Node(25)\n",
    "    rev_level_order(root)"
   ]
  },
  {
   "cell_type": "code",
   "execution_count": 24,
   "metadata": {},
   "outputs": [
    {
     "name": "stdout",
     "output_type": "stream",
     "text": [
      "8 12 16 25 10 20 15 "
     ]
    }
   ],
   "source": [
    "## Optimized approach (Time: O(n); Space: O(n)): Using dictionary\n",
    "class Node:\n",
    "    def __init__(self, val):\n",
    "        self.val = val\n",
    "        self.left = None\n",
    "        self.right = None\n",
    "\n",
    "def rev_level_order(root):\n",
    "    if not root:\n",
    "        return root\n",
    "    queue = [root]\n",
    "    height = {}\n",
    "    level = 0\n",
    "    while len(queue) > 0:\n",
    "        node = queue.pop(0)\n",
    "        height[level] = [node]\n",
    "        level += 1\n",
    "        if node.right:\n",
    "            queue.append(node.right)\n",
    "        if node.left:\n",
    "            queue.append(node.left)\n",
    "    for i in range(len(height) - 1, -1, -1):\n",
    "        for j in height[i]:\n",
    "            print(j.val, end = ' ')\n",
    "\n",
    "if __name__=='__main__':\n",
    "    root = Node(15)\n",
    "    root.left = Node(10)\n",
    "    root.right = Node(20)\n",
    "    root.left.left = Node(8)\n",
    "    root.left.right = Node(12)\n",
    "    root.right.left = Node(16)\n",
    "    root.right.right = Node(25)\n",
    "    rev_level_order(root)"
   ]
  },
  {
   "cell_type": "code",
   "execution_count": 25,
   "metadata": {},
   "outputs": [
    {
     "name": "stdout",
     "output_type": "stream",
     "text": [
      "8 12 16 25 10 20 15 "
     ]
    }
   ],
   "source": [
    "## Optimized approach (Time: O(n); Space: O(n)): Using stack\n",
    "from collections import deque\n",
    "class Node:\n",
    "    def __init__(self, val):\n",
    "        self.val = val\n",
    "        self.left = None\n",
    "        self.right = None\n",
    "\n",
    "def rev_level_order(root):\n",
    "    if not root:\n",
    "        return root\n",
    "    queue = deque()\n",
    "    queue.append(root)\n",
    "    stack = deque()\n",
    "    while len(queue) > 0:\n",
    "        node = queue.popleft()\n",
    "        stack.append(node.val)\n",
    "        if node.right:\n",
    "            queue.append(node.right)\n",
    "        if node.left:\n",
    "            queue.append(node.left)\n",
    "    while stack:\n",
    "        print(stack.pop(), end = ' ')\n",
    "\n",
    "if __name__=='__main__':\n",
    "    root = Node(15)\n",
    "    root.left = Node(10)\n",
    "    root.right = Node(20)\n",
    "    root.left.left = Node(8)\n",
    "    root.left.right = Node(12)\n",
    "    root.right.left = Node(16)\n",
    "    root.right.right = Node(25)\n",
    "    rev_level_order(root)"
   ]
  },
  {
   "cell_type": "code",
   "execution_count": null,
   "metadata": {},
   "outputs": [],
   "source": []
  }
 ],
 "metadata": {
  "kernelspec": {
   "display_name": "Python 3",
   "language": "python",
   "name": "python3"
  },
  "language_info": {
   "codemirror_mode": {
    "name": "ipython",
    "version": 3
   },
   "file_extension": ".py",
   "mimetype": "text/x-python",
   "name": "python",
   "nbconvert_exporter": "python",
   "pygments_lexer": "ipython3",
   "version": "3.6.8"
  }
 },
 "nbformat": 4,
 "nbformat_minor": 2
}
