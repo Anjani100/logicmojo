{
 "cells": [
  {
   "cell_type": "code",
   "execution_count": 5,
   "metadata": {},
   "outputs": [
    {
     "name": "stdout",
     "output_type": "stream",
     "text": [
      "True\n"
     ]
    }
   ],
   "source": [
    "# Time: O(n)\n",
    "# Space: O(n)\n",
    "\n",
    "from collections import deque\n",
    "\n",
    "class Node:\n",
    "    def __init__(self, val):\n",
    "        self.val = val\n",
    "        self.left = self.right = None\n",
    "\n",
    "def is_cousin(root, node1, node2):\n",
    "    queue = deque([[root, -1]])\n",
    "    while queue:\n",
    "        nodes, par = [], {}\n",
    "        f1 = f2 = False\n",
    "        for _ in range(len(queue)):\n",
    "            node, parent = queue.popleft()\n",
    "            nodes.append(node.val)\n",
    "            if node.val == node1:  f1 = True\n",
    "            elif node.val == node2:  f2 = True\n",
    "            par[node.val] = parent\n",
    "            if node.left:   queue.append([node.left, node])\n",
    "            if node.right:  queue.append([node.right, node])\n",
    "        if f1 and f2 and par[node1] != par[node2]:  return True\n",
    "    return False\n",
    "\n",
    "if __name__=='__main__':\n",
    "    root = Node(1)\n",
    "    root.left = Node(2)\n",
    "    root.right = Node(3)\n",
    "    root.left.left = Node(4)\n",
    "    root.left.right = Node(5)\n",
    "    root.right.left = Node(6)\n",
    "    root.right.right = Node(7)\n",
    "    print(is_cousin(root, 5, 6))"
   ]
  },
  {
   "cell_type": "code",
   "execution_count": 7,
   "metadata": {},
   "outputs": [
    {
     "name": "stdout",
     "output_type": "stream",
     "text": [
      "True\n"
     ]
    }
   ],
   "source": [
    "# Time: O(n)\n",
    "# Space: O(n)\n",
    "\n",
    "from collections import deque\n",
    "\n",
    "class Node:\n",
    "    def __init__(self, val):\n",
    "        self.val = val\n",
    "        self.left = self.right = None\n",
    "\n",
    "def same_parent(root, node1, node2):\n",
    "    if not root:    return False\n",
    "    return (root.left and root.right and root.left.val == node1 and root.right.val == node2)\\\n",
    "            or (root.left and root.right and root.right.val == node1 and root.left.val == node2)\\\n",
    "            or same_parent(root.left, node1, node2) or same_parent(root.right, node1, node2)\n",
    "\n",
    "def find_level(root, node1, level = 0):\n",
    "    if not root:    return 0\n",
    "    if root.val == node1:\n",
    "        return level\n",
    "    left = find_level(root.left, node1, level + 1)\n",
    "    if left != 0:\n",
    "        return left\n",
    "    return find_level(root.right, node1, level + 1)\n",
    "\n",
    "def is_cousin(root, node1, node2):\n",
    "    level1 = find_level(root, node1)\n",
    "    level2 = find_level(root, node2)\n",
    "    if level1 == level2 and not same_parent(root, node1, node2):    return True\n",
    "    return False\n",
    "\n",
    "if __name__=='__main__':\n",
    "    root = Node(1)\n",
    "    root.left = Node(2)\n",
    "    root.right = Node(3)\n",
    "    root.left.left = Node(4)\n",
    "    root.left.right = Node(5)\n",
    "    root.right.left = Node(6)\n",
    "    root.right.right = Node(7)\n",
    "    print(is_cousin(root, 5, 6))"
   ]
  },
  {
   "cell_type": "code",
   "execution_count": null,
   "metadata": {},
   "outputs": [],
   "source": []
  }
 ],
 "metadata": {
  "kernelspec": {
   "display_name": "Python 3",
   "language": "python",
   "name": "python3"
  },
  "language_info": {
   "codemirror_mode": {
    "name": "ipython",
    "version": 3
   },
   "file_extension": ".py",
   "mimetype": "text/x-python",
   "name": "python",
   "nbconvert_exporter": "python",
   "pygments_lexer": "ipython3",
   "version": "3.6.8"
  }
 },
 "nbformat": 4,
 "nbformat_minor": 2
}
