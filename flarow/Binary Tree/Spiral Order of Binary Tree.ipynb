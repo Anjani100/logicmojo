{
 "cells": [
  {
   "cell_type": "code",
   "execution_count": 30,
   "metadata": {},
   "outputs": [
    {
     "name": "stdout",
     "output_type": "stream",
     "text": [
      "1 2 3 7 6 5 4 8 14 10 16 17 "
     ]
    }
   ],
   "source": [
    "## Brute-force approach (Time: O(n^2); Space: O(1))\n",
    "class Node:\n",
    "    def __init__(self, val):\n",
    "        self.val = val\n",
    "        self.left = None\n",
    "        self.right = None\n",
    "\n",
    "def height(root):\n",
    "    if not root:\n",
    "        return 0\n",
    "    return 1 + max(height(root.left), height(root.right))\n",
    "\n",
    "def print_level(root, level, flag):\n",
    "    if not root:\n",
    "        return root\n",
    "    if level == 1:\n",
    "        print(root.val, end = ' ')\n",
    "    if level > 1:\n",
    "        if flag:\n",
    "            print_level(root.left, level - 1, flag)\n",
    "            print_level(root.right, level - 1, flag)\n",
    "        else:\n",
    "            print_level(root.right, level - 1, flag)\n",
    "            print_level(root.left, level - 1, flag)\n",
    "\n",
    "def level_order(root):\n",
    "    h = height(root)\n",
    "    flag = False\n",
    "    for i in range(1, h + 1):\n",
    "        print_level(root, i, flag)\n",
    "        flag = not flag\n",
    "\n",
    "if __name__=='__main__':\n",
    "    root = Node(1)\n",
    "    root.left = Node(2)\n",
    "    root.right = Node(3)\n",
    "    root.left.left = Node(4)\n",
    "    root.left.right = Node(5)\n",
    "    root.left.left.left = Node(8)\n",
    "    root.left.left.right = Node(14)\n",
    "    root.left.right.left = Node(10)\n",
    "    root.right.left = Node(6)\n",
    "    root.right.right = Node(7)\n",
    "    root.right.left.right = Node(16)\n",
    "    root.right.right.left = Node(17)\n",
    "    level_order(root)"
   ]
  },
  {
   "cell_type": "code",
   "execution_count": 42,
   "metadata": {},
   "outputs": [
    {
     "name": "stdout",
     "output_type": "stream",
     "text": [
      "1 2 3 7 6 5 4 8 14 10 16 17 "
     ]
    }
   ],
   "source": [
    "## Optimized approach (Time: O(n); Space: O(n))\n",
    "from collections import deque\n",
    "class Node:\n",
    "    def __init__(self, val):\n",
    "        self.val = val\n",
    "        self.left = None\n",
    "        self.right = None\n",
    "\n",
    "def level_order(root):\n",
    "    if not root:\n",
    "        return root\n",
    "    s1 = deque()\n",
    "    s2 = deque()\n",
    "    s1.append(root)\n",
    "    while s1 or s2:\n",
    "        while s1:\n",
    "            node = s1.pop()\n",
    "            print(node.val, end = ' ')\n",
    "            if node.right:\n",
    "                s2.append(node.right)\n",
    "            if node.left:\n",
    "                s2.append(node.left)\n",
    "        while s2:\n",
    "            node = s2.pop()\n",
    "            print(node.val, end = ' ')\n",
    "            if node.left:\n",
    "                s1.append(node.left)\n",
    "            if node.right:\n",
    "                s1.append(node.right)\n",
    "\n",
    "if __name__=='__main__':\n",
    "    root = Node(1)\n",
    "    root.left = Node(2)\n",
    "    root.right = Node(3)\n",
    "    root.left.left = Node(4)\n",
    "    root.left.right = Node(5)\n",
    "    root.left.left.left = Node(8)\n",
    "    root.left.left.right = Node(14)\n",
    "    root.left.right.left = Node(10)\n",
    "    root.right.left = Node(6)\n",
    "    root.right.right = Node(7)\n",
    "    root.right.left.right = Node(16)\n",
    "    root.right.right.left = Node(17)\n",
    "    level_order(root)"
   ]
  },
  {
   "cell_type": "code",
   "execution_count": null,
   "metadata": {},
   "outputs": [],
   "source": []
  }
 ],
 "metadata": {
  "kernelspec": {
   "display_name": "Python 3",
   "language": "python",
   "name": "python3"
  },
  "language_info": {
   "codemirror_mode": {
    "name": "ipython",
    "version": 3
   },
   "file_extension": ".py",
   "mimetype": "text/x-python",
   "name": "python",
   "nbconvert_exporter": "python",
   "pygments_lexer": "ipython3",
   "version": "3.6.8"
  }
 },
 "nbformat": 4,
 "nbformat_minor": 2
}
