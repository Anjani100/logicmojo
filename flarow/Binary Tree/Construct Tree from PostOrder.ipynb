{
 "cells": [
  {
   "cell_type": "code",
   "execution_count": 5,
   "metadata": {},
   "outputs": [
    {
     "name": "stdout",
     "output_type": "stream",
     "text": [
      "4 8 2 5 1 6 3 7 "
     ]
    }
   ],
   "source": [
    "class Node:\n",
    "    def __init__(self, val):\n",
    "        self.val = val\n",
    "        self.left = None\n",
    "        self.right = None\n",
    "\n",
    "def inorder(root):\n",
    "    if root:\n",
    "        inorder(root.left)\n",
    "        print(root.val, end = \" \")\n",
    "        inorder(root.right)\n",
    "\n",
    "def postorder_to_bt(post_order, in_order, start, end, n):\n",
    "    if start > end:\n",
    "        return None\n",
    "    n[0] -= 1\n",
    "    node = Node(post_order[n[0]])\n",
    "    if start == end:\n",
    "        return node\n",
    "    if node.val in in_order[start:end + 1]:\n",
    "        idx = in_order.index(node.val)\n",
    "    else:\n",
    "        idx = end\n",
    "    node.right = postorder_to_bt(post_order, in_order, idx + 1, end, n)\n",
    "    node.left = postorder_to_bt(post_order, in_order, start, idx - 1, n)\n",
    "    return node\n",
    "\n",
    "if __name__=='__main__':\n",
    "    post_order = [8, 4, 5, 2, 6, 7, 3, 1]\n",
    "    in_order = [4, 8, 2, 5, 1, 6, 3, 7]\n",
    "    n = [len(post_order)]\n",
    "    root = postorder_to_bt(post_order, in_order, 0, len(post_order) - 1, n)\n",
    "    inorder(root)"
   ]
  },
  {
   "cell_type": "code",
   "execution_count": null,
   "metadata": {},
   "outputs": [],
   "source": []
  }
 ],
 "metadata": {
  "kernelspec": {
   "display_name": "Python 3",
   "language": "python",
   "name": "python3"
  },
  "language_info": {
   "codemirror_mode": {
    "name": "ipython",
    "version": 3
   },
   "file_extension": ".py",
   "mimetype": "text/x-python",
   "name": "python",
   "nbconvert_exporter": "python",
   "pygments_lexer": "ipython3",
   "version": "3.6.8"
  }
 },
 "nbformat": 4,
 "nbformat_minor": 2
}
