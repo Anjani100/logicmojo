{
 "cells": [
  {
   "cell_type": "code",
   "execution_count": 7,
   "metadata": {},
   "outputs": [
    {
     "name": "stdout",
     "output_type": "stream",
     "text": [
      "9 -> None\n",
      "12 -> None\n",
      "4 -> None\n",
      "6 -> None\n",
      "8 -> None\n",
      "10 -> None\n",
      "12 -> None\n",
      "14 -> None\n",
      "\n",
      "9 -> 14\n",
      "12 -> 8\n",
      "4 -> 10\n",
      "6 -> None\n",
      "8 -> 12\n",
      "10 -> None\n",
      "12 -> None\n",
      "14 -> None\n"
     ]
    }
   ],
   "source": [
    "class Node:\n",
    "    def __init__(self, val):\n",
    "        self.val = val\n",
    "        self.left = None\n",
    "        self.right = None\n",
    "        self.next = None\n",
    "\n",
    "def inorder(root):\n",
    "    if not root:\n",
    "        return root\n",
    "    inorder(root.left)\n",
    "    print(root.val, end=\" -> \")\n",
    "    if root.next:\n",
    "        print(root.next.val)\n",
    "    else:\n",
    "        print(\"None\")\n",
    "    inorder(root.right)\n",
    "\n",
    "def find_next_available_node(root):\n",
    "    if not root or not root.next:\n",
    "        return None\n",
    "    if root.next.left:\n",
    "        return root.next.left\n",
    "    if root.next.right:\n",
    "        return root.next.right\n",
    "    return find_next_available_node(root.next)\n",
    "\n",
    "def connect_nodes(root):\n",
    "    if not root:\n",
    "        return root\n",
    "    if not root.right and not root.left:\n",
    "        return root\n",
    "    if root.right and root.left:\n",
    "        root.left.next = root.right\n",
    "        if root.next:\n",
    "            root.right.next = find_next_available_node(root)\n",
    "    if (not root.right or not root.left) and root.next:\n",
    "        if root.left:\n",
    "            root.left.next = find_next_available_node(root)\n",
    "        if root.right:\n",
    "            root.right = find_next_available_node(root)\n",
    "    connect_nodes(root.right)\n",
    "    connect_nodes(root.left)\n",
    "\n",
    "if __name__=='__main__':\n",
    "    root = Node(6)\n",
    "    root.left = Node(4)\n",
    "    root.left.left = Node(12)\n",
    "    root.left.left.left = Node(9)\n",
    "    root.right = Node(10)\n",
    "    root.right.left = Node(8)\n",
    "    root.right.right = Node(12)\n",
    "    root.right.right.right = Node(14)\n",
    "    inorder(root)\n",
    "    print()\n",
    "    connect_nodes(root)\n",
    "    inorder(root)"
   ]
  },
  {
   "cell_type": "code",
   "execution_count": null,
   "metadata": {},
   "outputs": [],
   "source": []
  }
 ],
 "metadata": {
  "kernelspec": {
   "display_name": "Python 3",
   "language": "python",
   "name": "python3"
  },
  "language_info": {
   "codemirror_mode": {
    "name": "ipython",
    "version": 3
   },
   "file_extension": ".py",
   "mimetype": "text/x-python",
   "name": "python",
   "nbconvert_exporter": "python",
   "pygments_lexer": "ipython3",
   "version": "3.6.8"
  }
 },
 "nbformat": 4,
 "nbformat_minor": 2
}
