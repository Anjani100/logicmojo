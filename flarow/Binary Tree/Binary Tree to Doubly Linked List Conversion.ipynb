{
 "cells": [
  {
   "cell_type": "code",
   "execution_count": 11,
   "metadata": {},
   "outputs": [
    {
     "name": "stdout",
     "output_type": "stream",
     "text": [
      "4 -> 2 -> 5 -> 1 -> 6 -> 3 -> 7 -> X\n"
     ]
    }
   ],
   "source": [
    "## Brute-force approach (Space: O(n) -> Not in-place)\n",
    "class LNode:\n",
    "    def __init__(self, val):\n",
    "        self.val = val\n",
    "        self.prev = None\n",
    "        self.next = None\n",
    "\n",
    "class TNode:\n",
    "    def __init__(self, val):\n",
    "        self.val = val\n",
    "        self.left = None\n",
    "        self.right = None\n",
    "\n",
    "def display(head):\n",
    "    while head:\n",
    "        print(head.val, end = ' -> ')\n",
    "        head = head.next\n",
    "    print('X')\n",
    "\n",
    "def bin_tree_to_dll(root, head):\n",
    "    if root:\n",
    "        head = bin_tree_to_dll(root.left, head)\n",
    "        head.next = LNode(root.val)\n",
    "        head.next.prev = head\n",
    "        head = head.next\n",
    "        head = bin_tree_to_dll(root.right, head)\n",
    "    return head\n",
    "\n",
    "if __name__=='__main__':\n",
    "    root = TNode(1)\n",
    "    root.left = TNode(2)\n",
    "    root.right = TNode(3)\n",
    "    root.left.left = TNode(4)\n",
    "    root.left.right = TNode(5)\n",
    "    root.right.left = TNode(6)\n",
    "    root.right.right = TNode(7)\n",
    "    head = LNode(0)\n",
    "    bin_tree_to_dll(root, head)\n",
    "    head = head.next\n",
    "    head.prev = None\n",
    "    display(head)"
   ]
  },
  {
   "cell_type": "code",
   "execution_count": 29,
   "metadata": {},
   "outputs": [
    {
     "name": "stdout",
     "output_type": "stream",
     "text": [
      "4 -> 2 -> 5 -> 1 -> 6 -> 3 -> 7 -> X\n"
     ]
    }
   ],
   "source": [
    "## Optimized approach (Time: O(n); Space: O(1) -> in-place conversion)\n",
    "head = None\n",
    "tail = None\n",
    "class TNode:\n",
    "    def __init__(self, val):\n",
    "        self.val = val\n",
    "        self.left = None\n",
    "        self.right = None\n",
    "\n",
    "def display(head):\n",
    "    while head:\n",
    "        print(head.val, end = ' -> ')\n",
    "        head = head.right\n",
    "    print('X')\n",
    "\n",
    "def bin_tree_to_dll(root):\n",
    "    global head\n",
    "    global tail\n",
    "    if not root:\n",
    "        return root\n",
    "    bin_tree_to_dll(root.left)\n",
    "    if not head:\n",
    "        head = tail = root\n",
    "    else:\n",
    "        tail.right = root\n",
    "        root.left = tail\n",
    "        tail = root\n",
    "    bin_tree_to_dll(root.right)\n",
    "\n",
    "if __name__=='__main__':\n",
    "    root = TNode(1)\n",
    "    root.left = TNode(2)\n",
    "    root.right = TNode(3)\n",
    "    root.left.left = TNode(4)\n",
    "    root.left.right = TNode(5)\n",
    "    root.right.left = TNode(6)\n",
    "    root.right.right = TNode(7)\n",
    "    bin_tree_to_dll(root)\n",
    "    display(head)"
   ]
  },
  {
   "cell_type": "code",
   "execution_count": null,
   "metadata": {},
   "outputs": [],
   "source": []
  }
 ],
 "metadata": {
  "kernelspec": {
   "display_name": "Python 3",
   "language": "python",
   "name": "python3"
  },
  "language_info": {
   "codemirror_mode": {
    "name": "ipython",
    "version": 3
   },
   "file_extension": ".py",
   "mimetype": "text/x-python",
   "name": "python",
   "nbconvert_exporter": "python",
   "pygments_lexer": "ipython3",
   "version": "3.6.8"
  }
 },
 "nbformat": 4,
 "nbformat_minor": 2
}
