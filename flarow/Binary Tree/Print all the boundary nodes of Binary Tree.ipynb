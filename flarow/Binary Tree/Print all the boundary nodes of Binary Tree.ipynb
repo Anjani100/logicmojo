{
 "cells": [
  {
   "cell_type": "code",
   "execution_count": 13,
   "metadata": {},
   "outputs": [
    {
     "name": "stdout",
     "output_type": "stream",
     "text": [
      "1\n",
      "2\n",
      "5\n",
      "8\n",
      "4\n",
      "16\n",
      "17\n",
      "7\n",
      "3\n"
     ]
    }
   ],
   "source": [
    "class Node:\n",
    "    def __init__(self, val):\n",
    "        self.val = val\n",
    "        self.left = None\n",
    "        self.right = None\n",
    "\n",
    "def print_left_boundary_nodes(root):\n",
    "    if not root:\n",
    "        return\n",
    "    if not root.left and not root.right:\n",
    "        return\n",
    "    print(root.val)\n",
    "    if root.left:\n",
    "        print_left_boundary_nodes(root.left)\n",
    "    elif root.right:\n",
    "        print_right_boundary_nodes(root.right)\n",
    "\n",
    "def print_right_boundary_nodes(root):\n",
    "    if not root:\n",
    "        return\n",
    "    if not root.left and not root.right:\n",
    "        return\n",
    "    if root.right:\n",
    "        print_right_boundary_nodes(root.right)\n",
    "    elif root.left:\n",
    "        print_right_boundary_nodes(root.left)\n",
    "    print(root.val)\n",
    "\n",
    "def print_leaf_nodes(root):\n",
    "    if root:\n",
    "        print_leaf_nodes(root.left)\n",
    "        if not root.left and not root.right:\n",
    "            print(root.val)\n",
    "        print_leaf_nodes(root.right)\n",
    "\n",
    "def print_boundary_nodes(root):\n",
    "    if not root:\n",
    "        return\n",
    "    print(root.val)\n",
    "    if not root.left and not root.right:\n",
    "        return\n",
    "    print_left_boundary_nodes(root.left)\n",
    "    print_leaf_nodes(root)\n",
    "    print_right_boundary_nodes(root.right)\n",
    "\n",
    "if __name__=='__main__':\n",
    "    root = Node(1)\n",
    "    root.left = Node(2)\n",
    "    root.left.right = Node(5)\n",
    "    root.left.right.left = Node(8)\n",
    "    root.left.right.right = Node(4)\n",
    "    root.right = Node(3)\n",
    "    root.right.right = Node(7)\n",
    "    root.right.right.left = Node(17)\n",
    "    root.right.left = Node(6)\n",
    "    root.right.left.right = Node(16)\n",
    "    print_boundary_nodes(root)"
   ]
  },
  {
   "cell_type": "code",
   "execution_count": null,
   "metadata": {},
   "outputs": [],
   "source": []
  }
 ],
 "metadata": {
  "kernelspec": {
   "display_name": "Python 3",
   "language": "python",
   "name": "python3"
  },
  "language_info": {
   "codemirror_mode": {
    "name": "ipython",
    "version": 3
   },
   "file_extension": ".py",
   "mimetype": "text/x-python",
   "name": "python",
   "nbconvert_exporter": "python",
   "pygments_lexer": "ipython3",
   "version": "3.6.8"
  }
 },
 "nbformat": 4,
 "nbformat_minor": 2
}
