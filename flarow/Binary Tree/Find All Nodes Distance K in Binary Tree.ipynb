{
 "cells": [
  {
   "cell_type": "code",
   "execution_count": 10,
   "metadata": {},
   "outputs": [
    {
     "name": "stdout",
     "output_type": "stream",
     "text": [
      "4\n",
      "20\n"
     ]
    }
   ],
   "source": [
    "class Node:\n",
    "    def __init__(self, val):\n",
    "        self.val = val\n",
    "        self.left = None\n",
    "        self.right = None\n",
    "\n",
    "def print_nodes_downward(root, k):\n",
    "    if root:\n",
    "        print_nodes_downward(root.left, k - 1)\n",
    "        if k == 0:\n",
    "            print(root.val)\n",
    "        print_nodes_downward(root.right, k - 1)\n",
    "\n",
    "def print_nodes(root, node, k):\n",
    "    if not root:\n",
    "        return -1\n",
    "    if root == node:\n",
    "        print_nodes_downward(root, k)\n",
    "        return 1\n",
    "    dleft = print_nodes(root.left, node, k)\n",
    "    if dleft != -1:\n",
    "        if dleft == k:\n",
    "            print(root.val)\n",
    "        else:\n",
    "            print_nodes_downward(root.right, k - dleft - 1)\n",
    "        return 1 + dleft\n",
    "    dright = print_nodes(root.right, node, k)\n",
    "    if dright != -1:\n",
    "        if dright == k:\n",
    "            print(root.val)\n",
    "        else:\n",
    "            print_nodes_downward(root.left, k - dright - 1)\n",
    "        return 1 + dright\n",
    "    return -1\n",
    "\n",
    "if __name__=='__main__':\n",
    "    root = Node(20)\n",
    "    root.left = Node(8)\n",
    "    root.right = Node(22)\n",
    "    root.left.left = Node(4)\n",
    "    root.left.right = Node(12)\n",
    "    root.left.right.left = Node(10)\n",
    "    root.left.right.right = Node(14)\n",
    "    target = root.left.right\n",
    "    print_nodes(root, target, 2)"
   ]
  },
  {
   "cell_type": "code",
   "execution_count": null,
   "metadata": {},
   "outputs": [],
   "source": [
    "# -   root = Node(1)\n",
    "#     root.left = Node(2)\n",
    "#     root.left.left = Node(4)\n",
    "#     root.left.left.left = Node(9)\n",
    "#     root.left.right = Node(5)\n",
    "#     root.left.right.left = Node(6)\n",
    "#     root.left.right.left.left = Node(12)\n",
    "#     root.left.right.left.left.right = Node(19)\n",
    "#     root.left.right.right = Node(7)\n",
    "#     root.left.right.right.right = Node(10)\n",
    "#     root.left.right.right.right.right = Node(11)\n",
    "#     root.right = Node(23)\n",
    "#     root.right.right = Node(32)\n",
    "#     print_nodes(root, root.left.right, 3)"
   ]
  }
 ],
 "metadata": {
  "kernelspec": {
   "display_name": "Python 3",
   "language": "python",
   "name": "python3"
  },
  "language_info": {
   "codemirror_mode": {
    "name": "ipython",
    "version": 3
   },
   "file_extension": ".py",
   "mimetype": "text/x-python",
   "name": "python",
   "nbconvert_exporter": "python",
   "pygments_lexer": "ipython3",
   "version": "3.6.8"
  }
 },
 "nbformat": 4,
 "nbformat_minor": 2
}
