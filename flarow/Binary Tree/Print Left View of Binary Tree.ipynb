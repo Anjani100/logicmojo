{
 "cells": [
  {
   "cell_type": "code",
   "execution_count": 8,
   "metadata": {},
   "outputs": [
    {
     "name": "stdout",
     "output_type": "stream",
     "text": [
      "1 2 4 7 "
     ]
    }
   ],
   "source": [
    "## Brute-force approach (Time: O(n^2); Space: O(1))\n",
    "class Node:\n",
    "    def __init__(self, val):\n",
    "        self.val = val\n",
    "        self.left = None\n",
    "        self.right = None\n",
    "\n",
    "def height(root):\n",
    "    if not root:\n",
    "        return 0\n",
    "    return 1 + max(height(root.left), height(root.right))\n",
    "\n",
    "def print_level_nodes(root, level, flag = False):\n",
    "    if flag:\n",
    "        return\n",
    "    if not root:\n",
    "        return root\n",
    "    if level == 1:\n",
    "        print(root.val, end = ' ')\n",
    "        flag = True\n",
    "    if level > 1:\n",
    "        flag = print_level_nodes(root.left, level - 1, flag)\n",
    "        flag = print_level_nodes(root.right, level - 1, flag)\n",
    "    return flag\n",
    "\n",
    "def level_order(root):\n",
    "    h = height(root)\n",
    "    for i in range(1, h + 1):\n",
    "        print_level_nodes(root, i)\n",
    "\n",
    "if __name__=='__main__':\n",
    "    root = Node(1)\n",
    "    root.left = Node(2)\n",
    "    root.right = Node(3)\n",
    "    root.left.right = Node(4)\n",
    "    root.right.left = Node(5)\n",
    "    root.right.right = Node(6)\n",
    "    root.right.left.left = Node(7)\n",
    "    root.right.left.right = Node(8)\n",
    "    level_order(root)"
   ]
  },
  {
   "cell_type": "code",
   "execution_count": 14,
   "metadata": {},
   "outputs": [
    {
     "name": "stdout",
     "output_type": "stream",
     "text": [
      "1 2 4 7 "
     ]
    }
   ],
   "source": [
    "## Optimized approach (Time: O(n); Space: O(1))\n",
    "class Node:\n",
    "    def __init__(self, val):\n",
    "        self.val = val\n",
    "        self.left = None\n",
    "        self.right = None\n",
    "\n",
    "def level_order(root, level = 1, last_level = 0):\n",
    "    if not root:\n",
    "        return last_level\n",
    "    if last_level < level:\n",
    "        print(root.val, end = ' ')\n",
    "        last_level = level\n",
    "    last_level = level_order(root.left, level + 1, last_level)\n",
    "    last_level = level_order(root.right, level + 1, last_level)\n",
    "    return last_level\n",
    "\n",
    "if __name__=='__main__':\n",
    "    root = Node(1)\n",
    "    root.left = Node(2)\n",
    "    root.right = Node(3)\n",
    "    root.left.right = Node(4)\n",
    "    root.right.left = Node(5)\n",
    "    root.right.right = Node(6)\n",
    "    root.right.left.left = Node(7)\n",
    "    root.right.left.right = Node(8)\n",
    "    level_order(root)"
   ]
  },
  {
   "cell_type": "code",
   "execution_count": null,
   "metadata": {},
   "outputs": [],
   "source": []
  }
 ],
 "metadata": {
  "kernelspec": {
   "display_name": "Python 3",
   "language": "python",
   "name": "python3"
  },
  "language_info": {
   "codemirror_mode": {
    "name": "ipython",
    "version": 3
   },
   "file_extension": ".py",
   "mimetype": "text/x-python",
   "name": "python",
   "nbconvert_exporter": "python",
   "pygments_lexer": "ipython3",
   "version": "3.6.8"
  }
 },
 "nbformat": 4,
 "nbformat_minor": 2
}
