{
 "cells": [
  {
   "cell_type": "code",
   "execution_count": 15,
   "metadata": {},
   "outputs": [
    {
     "name": "stdout",
     "output_type": "stream",
     "text": [
      "8\n"
     ]
    }
   ],
   "source": [
    "def max_row_area(arr):\n",
    "    pstack = []\n",
    "    max_area = i = 0\n",
    "    arr.append(0)\n",
    "    l = len(arr)\n",
    "    while i < l:\n",
    "        if not pstack or arr[i] > arr[pstack[-1]]:\n",
    "            pstack.append(i)\n",
    "            i += 1\n",
    "        else:\n",
    "            curr_area = arr[pstack.pop()] * ((i - pstack[-1] - 1) if pstack else i)\n",
    "            max_area = max(max_area, curr_area)\n",
    "    arr.pop()\n",
    "    return max_area\n",
    "\n",
    "def max_size_rectangle(arr):\n",
    "    pstack = []\n",
    "    area = 0\n",
    "    for i in range(len(arr)):\n",
    "        for j in range(len(arr[0])):\n",
    "            if arr[i][j] == 1 and i > 0:\n",
    "                arr[i][j] += arr[i - 1][j]\n",
    "        area = max(area, max_row_area(arr[i]))\n",
    "    return area\n",
    "\n",
    "if __name__=='__main__':\n",
    "    arr = [[1, 0, 1, 0, 0], [1, 0, 1, 1, 1], [1, 1, 1, 1], [1, 1, 0, 0]]\n",
    "    print(max_size_rectangle(arr))"
   ]
  },
  {
   "cell_type": "code",
   "execution_count": null,
   "metadata": {},
   "outputs": [],
   "source": []
  }
 ],
 "metadata": {
  "kernelspec": {
   "display_name": "Python 3",
   "language": "python",
   "name": "python3"
  },
  "language_info": {
   "codemirror_mode": {
    "name": "ipython",
    "version": 3
   },
   "file_extension": ".py",
   "mimetype": "text/x-python",
   "name": "python",
   "nbconvert_exporter": "python",
   "pygments_lexer": "ipython3",
   "version": "3.6.8"
  }
 },
 "nbformat": 4,
 "nbformat_minor": 2
}
