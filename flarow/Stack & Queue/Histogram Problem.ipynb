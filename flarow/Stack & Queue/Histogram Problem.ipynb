{
 "cells": [
  {
   "cell_type": "code",
   "execution_count": 9,
   "metadata": {},
   "outputs": [
    {
     "name": "stdout",
     "output_type": "stream",
     "text": [
      "12\n"
     ]
    }
   ],
   "source": [
    "# Optimized Approach (Time: O(n); Space: O(n))\n",
    "def max_area(heights):\n",
    "    hstack = []\n",
    "    pstack = []\n",
    "    max_area = 0\n",
    "    heights.append(0)\n",
    "    h = len(heights)\n",
    "    for i in range(h):\n",
    "        lastwidth = h + 1\n",
    "        while hstack and heights[i] < hstack[-1]:\n",
    "            lastwidth = pstack[-1]\n",
    "            curr_area = (i - pstack.pop()) * hstack.pop()\n",
    "            max_area = max(max_area, curr_area)\n",
    "        if not hstack or heights[i] > hstack[-1]:\n",
    "            pstack.append(min(lastwidth, i))\n",
    "            hstack.append(heights[i])\n",
    "    return max_area\n",
    "\n",
    "if __name__=='__main__':\n",
    "    heights = [6, 2, 5, 4, 5, 1, 6]\n",
    "    print(max_area(heights))"
   ]
  },
  {
   "cell_type": "code",
   "execution_count": 11,
   "metadata": {},
   "outputs": [
    {
     "name": "stdout",
     "output_type": "stream",
     "text": [
      "7\n"
     ]
    }
   ],
   "source": [
    "# A bit- more Space Optimized Approach (Only one stack is used) (Time: O(n); Space: O(n))\n",
    "def max_area(heights):\n",
    "    pstack = []\n",
    "    max_area = 0\n",
    "    heights.append(0)\n",
    "    h = len(heights)\n",
    "    i = 0\n",
    "    while i < h:\n",
    "        if not pstack or heights[i] > heights[pstack[-1]]:\n",
    "            pstack.append(i)\n",
    "            i += 1\n",
    "        else:\n",
    "            curr_area = heights[pstack.pop()] * ((i - pstack[-1] - 1) if pstack else i)\n",
    "            max_area = max(max_area, curr_area)\n",
    "    return max_area\n",
    "\n",
    "if __name__=='__main__':\n",
    "    heights = [2, 2, 1, 3, 4, 1, 2]\n",
    "    print(max_area(heights))"
   ]
  },
  {
   "cell_type": "code",
   "execution_count": null,
   "metadata": {},
   "outputs": [],
   "source": [
    "# Inputs:\n",
    "# - [2, 2, 1, 3, 4, 1, 2]\n",
    "# - [6, 2, 5, 4, 5, 1, 6]"
   ]
  }
 ],
 "metadata": {
  "kernelspec": {
   "display_name": "Python 3",
   "language": "python",
   "name": "python3"
  },
  "language_info": {
   "codemirror_mode": {
    "name": "ipython",
    "version": 3
   },
   "file_extension": ".py",
   "mimetype": "text/x-python",
   "name": "python",
   "nbconvert_exporter": "python",
   "pygments_lexer": "ipython3",
   "version": "3.6.8"
  }
 },
 "nbformat": 4,
 "nbformat_minor": 2
}
