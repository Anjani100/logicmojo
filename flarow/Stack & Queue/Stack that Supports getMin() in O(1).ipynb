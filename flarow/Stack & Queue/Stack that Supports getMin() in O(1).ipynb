{
 "cells": [
  {
   "cell_type": "code",
   "execution_count": 32,
   "metadata": {},
   "outputs": [
    {
     "name": "stdout",
     "output_type": "stream",
     "text": [
      "[5, 4, 3, 2, 1, 1, -1]\n"
     ]
    }
   ],
   "source": [
    "def design_stack(array):\n",
    "    s1 = []\n",
    "    s2 = []\n",
    "    for i in range(len(array)):\n",
    "        if not s1 or s1[-1] >= array[i]:\n",
    "            s1.append(array[i])\n",
    "            continue\n",
    "        while s1 and array[i] > s1[-1]:\n",
    "            s2.append(s1.pop())\n",
    "        s1.append(array[i])\n",
    "        while s2:\n",
    "            s1.append(s2.pop())\n",
    "    return s1\n",
    "\n",
    "if __name__=='__main__':\n",
    "    array = [3, 5, 2, 1, 4, 1, -1]\n",
    "    stack = design_stack(array)\n",
    "    print(stack)"
   ]
  },
  {
   "cell_type": "code",
   "execution_count": 48,
   "metadata": {},
   "outputs": [
    {
     "name": "stdout",
     "output_type": "stream",
     "text": [
      "Minimum Value: 3\n",
      "Minimum Value: 1\n",
      "1\n",
      "Minimum Value: 3\n",
      "4\n"
     ]
    }
   ],
   "source": [
    "class Stack:\n",
    "    def __init__(self):\n",
    "        self.stack = []\n",
    "        self.minimum = 9999999\n",
    "    \n",
    "    def get_min(self):\n",
    "        return self.minimum\n",
    "    \n",
    "    def push(self, val):\n",
    "        if not self.stack or val > self.minimum:\n",
    "            if not self.stack:\n",
    "                self.minimum = val\n",
    "            self.stack.append(val)\n",
    "        else:\n",
    "            self.stack.append(2 * val - self.minimum)\n",
    "            self.minimum = val\n",
    "    \n",
    "    def pop(self):\n",
    "        if not self.stack:\n",
    "            return \"Stack is Empty!\"\n",
    "        s = self.stack.pop()\n",
    "        if s < self.minimum:\n",
    "            val = self.minimum\n",
    "            self.minimum = 2 * self.minimum - s\n",
    "            return val\n",
    "        else:\n",
    "            return s\n",
    "\n",
    "if __name__=='__main__':\n",
    "    stack = Stack()\n",
    "    stack.push(3)\n",
    "    stack.push(5)\n",
    "    print('Minimum Value:', stack.get_min())\n",
    "    stack.push(4)\n",
    "    stack.push(1)\n",
    "    print('Minimum Value:', stack.get_min())\n",
    "    print(stack.pop())\n",
    "    print('Minimum Value:', stack.get_min())\n",
    "    print(stack.pop())"
   ]
  },
  {
   "cell_type": "code",
   "execution_count": null,
   "metadata": {},
   "outputs": [],
   "source": []
  }
 ],
 "metadata": {
  "kernelspec": {
   "display_name": "Python 3",
   "language": "python",
   "name": "python3"
  },
  "language_info": {
   "codemirror_mode": {
    "name": "ipython",
    "version": 3
   },
   "file_extension": ".py",
   "mimetype": "text/x-python",
   "name": "python",
   "nbconvert_exporter": "python",
   "pygments_lexer": "ipython3",
   "version": "3.6.8"
  }
 },
 "nbformat": 4,
 "nbformat_minor": 2
}
