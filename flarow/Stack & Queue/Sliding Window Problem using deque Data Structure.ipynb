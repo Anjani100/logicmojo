{
 "cells": [
  {
   "cell_type": "code",
   "execution_count": 1,
   "metadata": {},
   "outputs": [
    {
     "name": "stdout",
     "output_type": "stream",
     "text": [
      "10 10 10 17 17 87 87 87 87 "
     ]
    }
   ],
   "source": [
    "from collections import deque\n",
    "def max_subarray(arr, k):\n",
    "    n = len(arr)\n",
    "    queue = deque()\n",
    "    for i in range(k):\n",
    "        while queue and arr[queue[-1]] <= arr[i]:\n",
    "            queue.pop()\n",
    "        queue.append(i)\n",
    "    for i in range(k, n):\n",
    "        print(arr[queue[0]], end = ' ')\n",
    "        while queue and queue[0] <= i - k:\n",
    "            queue.popleft()\n",
    "        while queue and arr[queue[-1]] <= arr[i]:\n",
    "            queue.pop()\n",
    "        queue.append(i)\n",
    "    for i in range(k):\n",
    "        print(arr[queue[0]], end = ' ')\n",
    "\n",
    "if __name__==\"__main__\":\n",
    "    array = [8, 6, 10, 7, 5, 17, 14, 87, 15]\n",
    "    k = 3\n",
    "    max_subarray(array, k)"
   ]
  },
  {
   "cell_type": "code",
   "execution_count": null,
   "metadata": {},
   "outputs": [],
   "source": []
  }
 ],
 "metadata": {
  "kernelspec": {
   "display_name": "Python 3",
   "language": "python",
   "name": "python3"
  },
  "language_info": {
   "codemirror_mode": {
    "name": "ipython",
    "version": 3
   },
   "file_extension": ".py",
   "mimetype": "text/x-python",
   "name": "python",
   "nbconvert_exporter": "python",
   "pygments_lexer": "ipython3",
   "version": "3.6.8"
  }
 },
 "nbformat": 4,
 "nbformat_minor": 2
}
