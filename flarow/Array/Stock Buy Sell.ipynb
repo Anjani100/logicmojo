{
 "cells": [
  {
   "cell_type": "code",
   "execution_count": 9,
   "metadata": {},
   "outputs": [
    {
     "name": "stdout",
     "output_type": "stream",
     "text": [
      "852\n"
     ]
    }
   ],
   "source": [
    "def buy_sell_stock(arr):\n",
    "    profit = 0\n",
    "    buy = arr[0]\n",
    "    for i in range(len(arr) - 1):\n",
    "        if arr[i] > arr[i + 1]:\n",
    "            profit += arr[i] - buy\n",
    "            buy = arr[i + 1]\n",
    "    profit += arr[i + 1] - buy\n",
    "    return profit\n",
    "\n",
    "print(buy_sell_stock([98, 178, 250, 300, 40, 540, 690]))"
   ]
  },
  {
   "cell_type": "code",
   "execution_count": null,
   "metadata": {},
   "outputs": [],
   "source": [
    "# Inputs:\n",
    "# - [98, 178, 250, 300, 40, 540, 690]\n",
    "# - [94, 78, 32, 20, 39, 78, 12]"
   ]
  }
 ],
 "metadata": {
  "kernelspec": {
   "display_name": "Python 3",
   "language": "python",
   "name": "python3"
  },
  "language_info": {
   "codemirror_mode": {
    "name": "ipython",
    "version": 3
   },
   "file_extension": ".py",
   "mimetype": "text/x-python",
   "name": "python",
   "nbconvert_exporter": "python",
   "pygments_lexer": "ipython3",
   "version": "3.6.8"
  }
 },
 "nbformat": 4,
 "nbformat_minor": 2
}
