{
 "cells": [
  {
   "cell_type": "code",
   "execution_count": 25,
   "metadata": {},
   "outputs": [
    {
     "name": "stdout",
     "output_type": "stream",
     "text": [
      "1\n"
     ]
    }
   ],
   "source": [
    "# Time Complexity: O(logn); Space Complexity: O(1)\n",
    "def rev_bin_search(arr):\n",
    "    beg = 0\n",
    "    end = len(arr) - 2\n",
    "    while beg <= end:\n",
    "        mid = (beg + end) // 2\n",
    "        if arr[mid] > arr[mid - 1] and arr[mid] > arr[mid + 1]:\n",
    "            return arr[mid]\n",
    "        elif arr[mid] > arr[mid - 1] and arr[mid] < arr[mid + 1]:\n",
    "            beg = mid + 1\n",
    "        else:\n",
    "            end = mid - 1\n",
    "    return arr[-1]\n",
    "\n",
    "print(rev_bin_search([1]))"
   ]
  },
  {
   "cell_type": "code",
   "execution_count": 6,
   "metadata": {},
   "outputs": [],
   "source": [
    "# Inputs:\n",
    "# [1, 2, 3, 4, 5, 4, 3, 2, 1]\n",
    "# [4, 5, 6, 5, 4, 3, 2, 1, 0]\n",
    "# [1, 2, 3, 4, 5, 6, 2, 1]\n",
    "# [7, 6, 5, 4, 3, 2, 1]\n",
    "# [1, 2, 3, 4, 5, 6, 7]\n",
    "# [6, 9, 15, 25, 35, 50, 41, 29, 23, 8]"
   ]
  }
 ],
 "metadata": {
  "kernelspec": {
   "display_name": "Python 3",
   "language": "python",
   "name": "python3"
  },
  "language_info": {
   "codemirror_mode": {
    "name": "ipython",
    "version": 3
   },
   "file_extension": ".py",
   "mimetype": "text/x-python",
   "name": "python",
   "nbconvert_exporter": "python",
   "pygments_lexer": "ipython3",
   "version": "3.6.8"
  }
 },
 "nbformat": 4,
 "nbformat_minor": 2
}
