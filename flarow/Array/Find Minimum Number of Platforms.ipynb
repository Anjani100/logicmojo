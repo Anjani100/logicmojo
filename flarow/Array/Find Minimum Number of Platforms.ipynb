{
 "cells": [
  {
   "cell_type": "code",
   "execution_count": 14,
   "metadata": {},
   "outputs": [
    {
     "name": "stdout",
     "output_type": "stream",
     "text": [
      "3\n"
     ]
    }
   ],
   "source": [
    "def min_no_of_platforms(arr, dept):\n",
    "    max_platform = 0\n",
    "    platforms_needed = 0\n",
    "    n = len(arr)\n",
    "    dept.sort()\n",
    "    i = j = 0\n",
    "    while (i < n and j < n):\n",
    "        if arr[i] < dept[j]:\n",
    "            platforms_needed += 1\n",
    "            i += 1\n",
    "            if platforms_needed > max_platform:\n",
    "                max_platform = platforms_needed\n",
    "        else:\n",
    "            j += 1\n",
    "            platforms_needed -= 1\n",
    "    return max_platform\n",
    "\n",
    "print(min_no_of_platforms([900, 940, 950, 1100, 1500, 1800], [910, 1200, 1120, 1130, 1900, 2000]))"
   ]
  },
  {
   "cell_type": "code",
   "execution_count": null,
   "metadata": {},
   "outputs": [],
   "source": [
    "# Inputs:\n",
    "# - [100, 140, 150, 200, 215, 400], [110, 300, 220, 230, 315, 600]\n",
    "# - [900, 940, 950, 1100, 1500, 1800], [910, 1200, 1120, 1130, 1900, 2000]"
   ]
  }
 ],
 "metadata": {
  "kernelspec": {
   "display_name": "Python 3",
   "language": "python",
   "name": "python3"
  },
  "language_info": {
   "codemirror_mode": {
    "name": "ipython",
    "version": 3
   },
   "file_extension": ".py",
   "mimetype": "text/x-python",
   "name": "python",
   "nbconvert_exporter": "python",
   "pygments_lexer": "ipython3",
   "version": "3.6.8"
  }
 },
 "nbformat": 4,
 "nbformat_minor": 2
}
