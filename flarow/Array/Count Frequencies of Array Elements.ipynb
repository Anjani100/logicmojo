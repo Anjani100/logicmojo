{
 "cells": [
  {
   "cell_type": "code",
   "execution_count": 4,
   "metadata": {},
   "outputs": [
    {
     "name": "stdout",
     "output_type": "stream",
     "text": [
      "Frequency of 1 is: 0\n",
      "Frequency of 2 is: 2\n",
      "Frequency of 3 is: 0\n",
      "Frequency of 4 is: 0\n",
      "Frequency of 5 is: 3\n",
      "Frequency of 6 is: 0\n",
      "Frequency of 7 is: 2\n"
     ]
    }
   ],
   "source": [
    "# Time Complexity: O(n); Space: O(1)\n",
    "def freq_count(arr):\n",
    "    n = len(arr)\n",
    "    for i in range(n):\n",
    "        arr[i] -= 1\n",
    "    for i in range(n):\n",
    "        arr[arr[i] % n] += n\n",
    "    for i in range(n):\n",
    "        print('Frequency of', i + 1, 'is:', arr[i] // n)\n",
    "\n",
    "freq_count([5, 2, 7, 7, 5, 5, 2])"
   ]
  },
  {
   "cell_type": "code",
   "execution_count": null,
   "metadata": {},
   "outputs": [],
   "source": []
  }
 ],
 "metadata": {
  "kernelspec": {
   "display_name": "Python 3",
   "language": "python",
   "name": "python3"
  },
  "language_info": {
   "codemirror_mode": {
    "name": "ipython",
    "version": 3
   },
   "file_extension": ".py",
   "mimetype": "text/x-python",
   "name": "python",
   "nbconvert_exporter": "python",
   "pygments_lexer": "ipython3",
   "version": "3.6.8"
  }
 },
 "nbformat": 4,
 "nbformat_minor": 2
}
