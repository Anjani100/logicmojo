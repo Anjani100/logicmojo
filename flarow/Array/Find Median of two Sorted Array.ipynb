{
 "cells": [
  {
   "cell_type": "markdown",
   "metadata": {},
   "source": [
    "## Arrays having same size"
   ]
  },
  {
   "cell_type": "code",
   "execution_count": 8,
   "metadata": {},
   "outputs": [
    {
     "name": "stdout",
     "output_type": "stream",
     "text": [
      "7.0\n"
     ]
    }
   ],
   "source": [
    "# Brute-force approach (Time: O(n); Space: O(n))\n",
    "def median_arr(arr1, arr2):\n",
    "    arr = [0] * (len(arr1) + len(arr2))\n",
    "    i = j = k = 0\n",
    "    while i < len(arr1) and j < len(arr2):\n",
    "        if arr1[i] <= arr2[j]:\n",
    "            arr[k] = arr1[i]\n",
    "            i += 1\n",
    "        else:\n",
    "            arr[k] = arr2[j]\n",
    "            j += 1\n",
    "        k += 1\n",
    "    while i < len(arr1):\n",
    "        arr[k] = arr1[i]\n",
    "        i += 1\n",
    "        k += 1\n",
    "    while j < len(arr2):\n",
    "        arr[k] = arr2[j]\n",
    "        j += 1\n",
    "        k += 1\n",
    "    mid = len(arr) // 2\n",
    "    if len(arr) % 2 == 0:\n",
    "        return (arr[mid - 1] + arr[mid]) / 2\n",
    "    return arr[mid - 1]\n",
    "\n",
    "print(median_arr([1, 6, 8, 10, 12], [2, 3, 4, 9, 10]))"
   ]
  },
  {
   "cell_type": "code",
   "execution_count": 29,
   "metadata": {},
   "outputs": [
    {
     "name": "stdout",
     "output_type": "stream",
     "text": [
      "[1, 6, 8, 10, 12] [2, 3, 4, 9, 11]\n",
      "5 0 2 2 4 8 4\n",
      "[1, 6, 8] [4, 9, 11]\n",
      "5 1 2 2 3 6 9\n",
      "[6, 8] [4, 9]\n",
      "7.0\n"
     ]
    }
   ],
   "source": [
    "# Optimized Iterative approach (For arrays of same odd-length) (Time: O(logn); Space: O(1))\n",
    "def median(arr, low, high):\n",
    "    n = high + low + 1\n",
    "    if n % 2 == 0:\n",
    "        return (arr[n // 2] + arr[n // 2 - 1]) / 2\n",
    "    else:\n",
    "        return arr[n // 2]\n",
    "\n",
    "def med_arr(arr1, arr2, n):\n",
    "    low1 = low2 = 0\n",
    "    high1 = high2 = n - 1\n",
    "    while True:\n",
    "        print(arr1[low1:high1 + 1], arr2[low2:high2 + 1])\n",
    "        if high1 - low1 == 0:\n",
    "            return (arr1[low1] + arr2[high2]) / 2\n",
    "        elif high1 - low1 == 1:\n",
    "            return (max(arr1[low1], arr2[low2]) + min(arr1[high1], arr2[high2])) / 2\n",
    "        m1 = median(arr1, low1, high1)\n",
    "        m2 = median(arr2, low2, high2)\n",
    "        n1 = high1 + low1 + 1\n",
    "        n2 = high2 + low2 + 1\n",
    "        if m1 > m2:\n",
    "            if n % 2 == 0:\n",
    "                high1 = n1 // 2\n",
    "                low2 = n2 // 2 - 1\n",
    "            else:\n",
    "                high1 = n1 // 2\n",
    "                low2 = n2 // 2\n",
    "        else:\n",
    "            if n % 2 == 0:\n",
    "                low1 = n1 // 2 - 1\n",
    "                high2 = n2 // 2\n",
    "            else:\n",
    "                low1 = n1 // 2\n",
    "                high2 = n2 // 2\n",
    "        print(n, low1, high1, low2, high2, m1, m2)\n",
    "\n",
    "print(med_arr([1, 6, 8, 10, 12, 14], [2, 3, 4, 9, 11], 5))"
   ]
  },
  {
   "cell_type": "code",
   "execution_count": 34,
   "metadata": {},
   "outputs": [
    {
     "name": "stdout",
     "output_type": "stream",
     "text": [
      "16.0\n"
     ]
    }
   ],
   "source": [
    "# Optimized Recursive approach (For arrays of same odd-length) (Time: O(logn); Space: O(1))\n",
    "def median(arr, n):\n",
    "    if n % 2 == 0:\n",
    "        return (arr[n // 2] + arr[n // 2 - 1]) / 2\n",
    "    else:\n",
    "        return arr[n // 2]\n",
    "\n",
    "def med_arr(arr1, arr2):\n",
    "    n = len(arr1)\n",
    "    if n == 1:\n",
    "        return (arr1[0] + arr2[0]) // 2\n",
    "    if n == 2:\n",
    "        return (max(arr1[0], arr2[0]) + min(arr1[1], arr2[1])) / 2\n",
    "    m1 = median(arr1, n)\n",
    "    m2 = median(arr2, n)\n",
    "    if m1 > m2:\n",
    "        if n % 2 == 0:\n",
    "            return med_arr(arr1[:n // 2 + 1], arr2[n // 2 - 1:])\n",
    "        else:\n",
    "            return med_arr(arr1[:n // 2 + 1], arr2[n // 2:])\n",
    "    else:\n",
    "        if n % 2 == 0:\n",
    "            return med_arr(arr1[n // 2 - 1:], arr2[:n // 2 + 1])\n",
    "        else:\n",
    "            return med_arr(arr1[n // 2:], arr2[:n // 2 + 1])\n",
    "\n",
    "print(med_arr([1, 12, 15, 26, 38], [2, 13, 17, 30, 45]))"
   ]
  },
  {
   "cell_type": "code",
   "execution_count": null,
   "metadata": {},
   "outputs": [],
   "source": [
    "# Inputs:\n",
    "# - [1, 2], [3, 4], 2\n",
    "# - [1, 6, 8, 10, 12], [2, 3, 4, 9, 11], 5\n",
    "# - [1, 12, 15, 26, 38], [2, 13, 17, 30, 45], 5"
   ]
  },
  {
   "cell_type": "markdown",
   "metadata": {},
   "source": [
    "## Arrays having different sizes"
   ]
  },
  {
   "cell_type": "code",
   "execution_count": 21,
   "metadata": {},
   "outputs": [
    {
     "name": "stdout",
     "output_type": "stream",
     "text": [
      "[2, 3, 5, 8] [10, 12, 14, 16, 18, 20]\n",
      "[3, 5, 8] [10, 12, 14, 16, 18]\n",
      "[5, 8] [10, 12, 14, 16]\n",
      "11.0\n"
     ]
    }
   ],
   "source": [
    "# Optimized Recursive approach (For arrays of same odd-length) (Time: O(logn); Space: O(1))\n",
    "def median(arr, n):\n",
    "    if n % 2 == 0:\n",
    "        return (arr[n // 2] + arr[n // 2 - 1]) / 2\n",
    "    else:\n",
    "        return arr[n // 2]\n",
    "\n",
    "def med_arr_util(arr1, arr2):\n",
    "    if len(arr1) > len(arr2):\n",
    "        return med_arr(arr2, arr1)\n",
    "    return med_arr(arr1, arr2)\n",
    "\n",
    "def find_mid(a, b, c):\n",
    "    return a + b + c - max(a, max(b, c)) - min(a, min(b, c))\n",
    "\n",
    "def med_arr(arr1, arr2):\n",
    "    print(arr1, arr2)\n",
    "    n = len(arr1)\n",
    "    m = len(arr2)\n",
    "    if n == 0:\n",
    "        if m == 0:\n",
    "            return 0\n",
    "        if m == 1:\n",
    "            return arr2[0]\n",
    "        if m % 2 == 0:\n",
    "            return (arr2[m // 2] + arr2[m // 2 - 1]) / 2\n",
    "    if n == 1:\n",
    "        if m == 1:\n",
    "            return (arr1[0] + arr2[0]) / 2\n",
    "        if m % 2 == 0:\n",
    "            m1 = arr2[m // 2 - 1]\n",
    "            m2 = arr2[m // 2]\n",
    "            return find_mid(m1, arr1[0], m2)\n",
    "        else:\n",
    "            m1 = arr[m // 2 - 1]\n",
    "            m2 = arr[m // 2]\n",
    "            m3 = arr[m // 2 + 1]\n",
    "            return (find_mid(m1, arr1[0], m3) + m2) / 2\n",
    "    if n == 2:\n",
    "        if m == 2:\n",
    "            return (max(arr1[0], arr2[0]) + min(arr1[1], arr2[1])) / 2\n",
    "        if m % 2 == 1:\n",
    "            m1 = max(arr1[0], arr2[m // 2 - 1])\n",
    "            m2 = arr2[m // 2]\n",
    "            m3 = min(arr1[1], arr2[m // 2 + 1])\n",
    "            print(m1, m2, m3)\n",
    "            return find_mid(m1, m2, m3)\n",
    "        else:\n",
    "            arr = []\n",
    "            arr.append(max(arr1[0], arr2[m // 2 - 2]))\n",
    "            arr.append(arr2[m // 2 - 1])\n",
    "            arr.append(arr2[m // 2])\n",
    "            arr.append(min(arr1[1], arr2[m // 2 + 1]))\n",
    "            arr.sort()\n",
    "#             print(arr)\n",
    "            return (arr[1] + arr[2]) / 2\n",
    "    n1 = len(arr1)\n",
    "    n2 = len(arr2)\n",
    "    idx1 = (n1 - 1) // 2\n",
    "    idx2 = (n2 - 1) // 2\n",
    "    if arr1[idx1] <= arr2[idx2]:\n",
    "        return med_arr(arr1[idx1:], arr2[:-1])\n",
    "    return med_arr(arr1[:-1], arr2[idx2:])\n",
    "\n",
    "print(med_arr_util([2, 3, 5, 8], [10, 12, 14, 16, 18, 20]))"
   ]
  },
  {
   "cell_type": "code",
   "execution_count": 16,
   "metadata": {},
   "outputs": [],
   "source": [
    "# Inputs:\n",
    "# - [1, 2], [3, 4]\n",
    "# - [1, 6, 8, 10, 12], [2, 3, 4, 9, 11]\n",
    "# - [1, 12, 15, 26, 38], [2, 13, 17, 30, 45]\n",
    "# - [1, 2, 3, 4, 5, 6, 7, 8, 9, 10], [11, 12, 13, 14, 15, 16, 17, 18, 19]\n",
    "# - [-5, 3, 6, 12, 15], [-12, -10, -6, -3, 4, 10]\n",
    "# - [2, 3, 5, 8], [10, 12, 14, 16, 18, 20]"
   ]
  }
 ],
 "metadata": {
  "kernelspec": {
   "display_name": "Python 3",
   "language": "python",
   "name": "python3"
  },
  "language_info": {
   "codemirror_mode": {
    "name": "ipython",
    "version": 3
   },
   "file_extension": ".py",
   "mimetype": "text/x-python",
   "name": "python",
   "nbconvert_exporter": "python",
   "pygments_lexer": "ipython3",
   "version": "3.6.8"
  }
 },
 "nbformat": 4,
 "nbformat_minor": 2
}
