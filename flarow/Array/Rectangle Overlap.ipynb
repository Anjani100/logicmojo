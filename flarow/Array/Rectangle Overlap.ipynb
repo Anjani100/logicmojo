{
 "cells": [
  {
   "cell_type": "code",
   "execution_count": 11,
   "metadata": {},
   "outputs": [
    {
     "name": "stdout",
     "output_type": "stream",
     "text": [
      "True\n"
     ]
    }
   ],
   "source": [
    "# Optimized Approach(Time: O(1); Space: O(1))\n",
    "# Input: Rec1 => [x1, y1, x2, y2]; Rec2 => [x1', y1', x2', y2'] :: Top-left and Bottom-right\n",
    "def rectangle_overlap(rec1, rec2):\n",
    "    if rec1[0] >= rec2[2] or rec2[0] >= rec1[2]:\n",
    "        return False\n",
    "    elif rec1[1] <= rec2[3] or rec2[1] <= rec1[3]:\n",
    "        return False\n",
    "    return True\n",
    "\n",
    "print(rectangle_overlap([2,2,4,0], [3,1,5,-1]))"
   ]
  },
  {
   "cell_type": "code",
   "execution_count": 12,
   "metadata": {},
   "outputs": [
    {
     "name": "stdout",
     "output_type": "stream",
     "text": [
      "False\n"
     ]
    }
   ],
   "source": [
    "# Optimized Approach(Time: O(1); Space: O(1))\n",
    "# Input: Rec1 => [x1, y1, x2, y2]; Rec2 => [x1', y1', x2', y2'] :: Bottom-left and Top-right\n",
    "def rectangle_overlap(rec1, rec2):\n",
    "    if rec1[0] >= rec2[2] or rec2[0] >= rec1[2]:\n",
    "        return False\n",
    "    elif rec1[1] >= rec2[3] or rec2[1] >= rec1[3]:\n",
    "        return False\n",
    "    return True\n",
    "\n",
    "print(rectangle_overlap([0, 0, 1, 1], [2, 2, 3, 3]))"
   ]
  },
  {
   "cell_type": "code",
   "execution_count": null,
   "metadata": {},
   "outputs": [],
   "source": []
  }
 ],
 "metadata": {
  "kernelspec": {
   "display_name": "Python 3",
   "language": "python",
   "name": "python3"
  },
  "language_info": {
   "codemirror_mode": {
    "name": "ipython",
    "version": 3
   },
   "file_extension": ".py",
   "mimetype": "text/x-python",
   "name": "python",
   "nbconvert_exporter": "python",
   "pygments_lexer": "ipython3",
   "version": "3.6.8"
  }
 },
 "nbformat": 4,
 "nbformat_minor": 2
}
