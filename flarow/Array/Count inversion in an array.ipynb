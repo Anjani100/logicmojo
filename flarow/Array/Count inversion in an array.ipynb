{
 "cells": [
  {
   "cell_type": "code",
   "execution_count": 1,
   "metadata": {},
   "outputs": [
    {
     "name": "stdout",
     "output_type": "stream",
     "text": [
      "2\n"
     ]
    }
   ],
   "source": [
    "# Using Merge Sort (Time: O(nlogn); Space: O(n))\n",
    "def count_inv(arr):\n",
    "    inv_count = 0\n",
    "    n = len(arr)\n",
    "    if n > 1:\n",
    "        mid = n // 2\n",
    "        l = arr[:mid]\n",
    "        r = arr[mid:]\n",
    "        inv_count += count_inv(l)\n",
    "        inv_count += count_inv(r)\n",
    "        i = j = k = 0\n",
    "        while i < len(l) and j < len(r):\n",
    "            if l[i] <= r[j]:\n",
    "                arr[k] = l[i]\n",
    "                i += 1\n",
    "            else:\n",
    "                inv_count += mid - i + 1\n",
    "                arr[k] = r[j]\n",
    "                j += 1\n",
    "            k += 1\n",
    "        while i < len(l):\n",
    "            arr[k] = l[i]\n",
    "            i += 1\n",
    "            k += 1\n",
    "        while j < len(r):\n",
    "            arr[k] = r[j]\n",
    "            j += 1\n",
    "            k += 1\n",
    "    return inv_count\n",
    "\n",
    "arr = [1, 2, 5, 4, 3]\n",
    "print(count_inv(arr) // 2)"
   ]
  },
  {
   "cell_type": "code",
   "execution_count": null,
   "metadata": {},
   "outputs": [],
   "source": [
    "# Inputs:\n",
    "# - [9, 1, 6, 4, 5]\n",
    "# - [1, 4, 5, 9, 8]\n",
    "# - [1, 2, 5, 4, 3]\n",
    "# - [5, 17, 100, 11]\n",
    "# - [1, 4, 5, 9, 3]"
   ]
  }
 ],
 "metadata": {
  "kernelspec": {
   "display_name": "Python 3",
   "language": "python",
   "name": "python3"
  },
  "language_info": {
   "codemirror_mode": {
    "name": "ipython",
    "version": 3
   },
   "file_extension": ".py",
   "mimetype": "text/x-python",
   "name": "python",
   "nbconvert_exporter": "python",
   "pygments_lexer": "ipython3",
   "version": "3.6.8"
  }
 },
 "nbformat": 4,
 "nbformat_minor": 2
}
