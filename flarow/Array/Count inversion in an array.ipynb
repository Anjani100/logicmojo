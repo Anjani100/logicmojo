{
 "cells": [
  {
   "cell_type": "code",
   "execution_count": 2,
   "metadata": {},
   "outputs": [
    {
     "name": "stdout",
     "output_type": "stream",
     "text": [
      "6\n",
      "3\n",
      "2\n",
      "3\n",
      "4\n",
      "6\n"
     ]
    }
   ],
   "source": [
    "# Time: O(nlogn)\n",
    "# Space: O(n)\n",
    "\n",
    "def merge(nums, arr, low, mid, high):\n",
    "    i = k = low\n",
    "    inv_count, j = 0, mid + 1\n",
    "    while i <= mid and j <= high:\n",
    "        if nums[i] <= nums[j]:\n",
    "            arr[k] = nums[i]\n",
    "            i += 1\n",
    "        else:\n",
    "            arr[k] = nums[j]\n",
    "            inv_count += (mid - i + 1)\n",
    "            j += 1\n",
    "        k += 1\n",
    "    while i <= mid:\n",
    "        arr[k] = nums[i]\n",
    "        i += 1\n",
    "        k += 1\n",
    "    while j <= high:\n",
    "        arr[k] = nums[j]\n",
    "        j += 1\n",
    "        k += 1\n",
    "    for i in range(low, high + 1):\n",
    "        nums[i] = arr[i]\n",
    "    return inv_count\n",
    "\n",
    "def merge_sort(nums, arr, low, high):\n",
    "    inv_count = 0\n",
    "    if low >= high:    return inv_count\n",
    "    mid = (low + high) // 2\n",
    "    inv_count += merge_sort(nums, arr, low, mid)\n",
    "    inv_count += merge_sort(nums, arr, mid + 1, high)\n",
    "    inv_count += merge(nums, arr, low, mid, high)\n",
    "    return inv_count\n",
    "\n",
    "if __name__=='__main__':\n",
    "    tc = [[9, 1, 6, 4, 5],\n",
    "          [1, 2, 5, 4, 3],\n",
    "          [5, 17, 100, 11],\n",
    "          [3, 2, 1],\n",
    "          [4, 1, 3, 2],\n",
    "          [8, 4, 2, 1]]\n",
    "    for t in tc:\n",
    "        arr = [0] * len(t)\n",
    "        print(merge_sort(t, arr, 0, len(t) - 1))"
   ]
  },
  {
   "cell_type": "code",
   "execution_count": null,
   "metadata": {},
   "outputs": [],
   "source": [
    "# Inputs:\n",
    "# - [9, 1, 6, 4, 5]\n",
    "# - [1, 4, 5, 9, 8]\n",
    "# - [1, 2, 5, 4, 3]\n",
    "# - [5, 17, 100, 11]\n",
    "# - [1, 4, 5, 9, 3]"
   ]
  }
 ],
 "metadata": {
  "kernelspec": {
   "display_name": "Python 3",
   "language": "python",
   "name": "python3"
  },
  "language_info": {
   "codemirror_mode": {
    "name": "ipython",
    "version": 3
   },
   "file_extension": ".py",
   "mimetype": "text/x-python",
   "name": "python",
   "nbconvert_exporter": "python",
   "pygments_lexer": "ipython3",
   "version": "3.6.8"
  }
 },
 "nbformat": 4,
 "nbformat_minor": 2
}
