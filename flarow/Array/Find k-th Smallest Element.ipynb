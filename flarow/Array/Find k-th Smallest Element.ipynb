{
 "cells": [
  {
   "cell_type": "code",
   "execution_count": 2,
   "metadata": {},
   "outputs": [
    {
     "name": "stdout",
     "output_type": "stream",
     "text": [
      "85\n"
     ]
    }
   ],
   "source": [
    "def partition(arr, low, high):\n",
    "    i = low - 1\n",
    "    pivot = arr[high]\n",
    "    for j in range(low, high):\n",
    "        if arr[j] <= pivot:\n",
    "            i += 1\n",
    "            arr[i], arr[j] = arr[j], arr[i]\n",
    "    arr[i + 1], arr[high] = arr[high], arr[i + 1]\n",
    "    return i + 1\n",
    "\n",
    "def modified_quick_sort(arr, low, high, k):\n",
    "    if k > 0 and k <= high - low + 1:\n",
    "        pi = partition(arr, low, high)\n",
    "        if pi - low == k - 1:\n",
    "            return arr[pi]\n",
    "        if pi - low > k - 1:\n",
    "            return modified_quick_sort(arr, low, pi - 1, k)\n",
    "        return modified_quick_sort(arr, pi + 1, high, k - pi + low - 1)\n",
    "\n",
    "print(modified_quick_sort([92, 78, 83, 48, 120, 23, 85], 0, 6, 5))"
   ]
  },
  {
   "cell_type": "code",
   "execution_count": null,
   "metadata": {},
   "outputs": [],
   "source": []
  }
 ],
 "metadata": {
  "kernelspec": {
   "display_name": "Python 3",
   "language": "python",
   "name": "python3"
  },
  "language_info": {
   "codemirror_mode": {
    "name": "ipython",
    "version": 3
   },
   "file_extension": ".py",
   "mimetype": "text/x-python",
   "name": "python",
   "nbconvert_exporter": "python",
   "pygments_lexer": "ipython3",
   "version": "3.6.8"
  }
 },
 "nbformat": 4,
 "nbformat_minor": 2
}
