{
 "cells": [
  {
   "cell_type": "code",
   "execution_count": 5,
   "metadata": {},
   "outputs": [
    {
     "name": "stdout",
     "output_type": "stream",
     "text": [
      "['cat', 'act', 'tac']\n",
      "['dog', 'god']\n",
      "['git']\n",
      "['tiger']\n"
     ]
    }
   ],
   "source": [
    "from collections import defaultdict\n",
    "def print_all_anagrams(words):\n",
    "    anagrams = defaultdict(list)\n",
    "    for word in words:\n",
    "        sorter = [0] * 26\n",
    "        for w in word:\n",
    "            sorter[ord(w) - ord('a')] += 1\n",
    "        s = ''\n",
    "        for i in range(26):\n",
    "            if sorter[i] > 0:\n",
    "                s += str(chr(i + ord('a')) * sorter[i])\n",
    "        anagrams[s].append(word)\n",
    "    return anagrams\n",
    "\n",
    "if __name__=='__main__':\n",
    "    words = ['cat', 'dog', 'act', 'god', 'tac', 'git', 'tiger']\n",
    "    anagrams = print_all_anagrams(words)\n",
    "    for anagram in anagrams:\n",
    "        print(anagrams[anagram])"
   ]
  },
  {
   "cell_type": "code",
   "execution_count": null,
   "metadata": {},
   "outputs": [],
   "source": []
  }
 ],
 "metadata": {
  "kernelspec": {
   "display_name": "Python 3",
   "language": "python",
   "name": "python3"
  },
  "language_info": {
   "codemirror_mode": {
    "name": "ipython",
    "version": 3
   },
   "file_extension": ".py",
   "mimetype": "text/x-python",
   "name": "python",
   "nbconvert_exporter": "python",
   "pygments_lexer": "ipython3",
   "version": "3.6.8"
  }
 },
 "nbformat": 4,
 "nbformat_minor": 2
}
