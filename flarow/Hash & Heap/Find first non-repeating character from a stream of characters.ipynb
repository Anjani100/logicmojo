{
 "cells": [
  {
   "cell_type": "code",
   "execution_count": 4,
   "metadata": {},
   "outputs": [
    {
     "name": "stdout",
     "output_type": "stream",
     "text": [
      "Now Streaming: a\n",
      "Now Streaming: a\n",
      "Now Streaming: b\n",
      "Now Streaming: c\n",
      "First Non-repeating character: ['b']\n"
     ]
    }
   ],
   "source": [
    "from collections import defaultdict\n",
    "def find_non_repeating_character(streams):\n",
    "    stream_dict = defaultdict(list)\n",
    "    for i in streams:\n",
    "        print('Now Streaming:', i)\n",
    "        if stream_dict[i] == []:\n",
    "            stream_dict[i].append(i)\n",
    "        elif stream_dict[i] == [-1]:\n",
    "            print(i, 'has already been repeated.')\n",
    "        else:\n",
    "            stream_dict[i] = [-1]\n",
    "    return stream_dict\n",
    "\n",
    "if __name__=='__main__':\n",
    "    streams = 'aabc'\n",
    "    stream_dict = find_non_repeating_character(streams)\n",
    "    for stream in stream_dict:\n",
    "        if stream_dict[stream] != [-1]:\n",
    "            print('First Non-repeating character:', stream_dict[stream])\n",
    "            break"
   ]
  },
  {
   "cell_type": "code",
   "execution_count": null,
   "metadata": {},
   "outputs": [],
   "source": []
  }
 ],
 "metadata": {
  "kernelspec": {
   "display_name": "Python 3",
   "language": "python",
   "name": "python3"
  },
  "language_info": {
   "codemirror_mode": {
    "name": "ipython",
    "version": 3
   },
   "file_extension": ".py",
   "mimetype": "text/x-python",
   "name": "python",
   "nbconvert_exporter": "python",
   "pygments_lexer": "ipython3",
   "version": "3.6.8"
  }
 },
 "nbformat": 4,
 "nbformat_minor": 2
}
