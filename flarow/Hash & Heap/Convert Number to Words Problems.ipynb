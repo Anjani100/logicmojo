{
 "cells": [
  {
   "cell_type": "code",
   "execution_count": 23,
   "metadata": {},
   "outputs": [
    {
     "name": "stdout",
     "output_type": "stream",
     "text": [
      "Nine Hundred Seventy Six Billion Seven Hundred Fifty Two Million One Hundred Eleven Thousand Nine Hundred Eighty Seven  \n"
     ]
    }
   ],
   "source": [
    "def number_to_words(n):\n",
    "    def helper(s, n):\n",
    "        if not n:\n",
    "            return s\n",
    "        if n < 20:\n",
    "            s += LESS_THAN_TWENTY[n] + ' '\n",
    "        elif n < 100:\n",
    "            s += TENS[n // 10] + ' '\n",
    "            s = helper(s, n % 10)\n",
    "        elif n < 1000:\n",
    "            s += LESS_THAN_TWENTY[n // 100] + ' Hundred' + ' '\n",
    "            s = helper(s, n % 100)\n",
    "        return s\n",
    "    \n",
    "    if not n:\n",
    "        return 'Zero'\n",
    "    THOUSANDS = ['', 'Thousand', 'Million', 'Billion']\n",
    "    LESS_THAN_TWENTY = ['', 'One', 'Two', 'Three', 'Four', 'Five', 'Six', 'Seven', 'Eight', 'Nine', 'Ten', 'Eleven', 'Twelve', 'Thirteen', 'Fourteen', 'Fifteen', 'Sixteen', 'Seventeen', 'Eighteen', 'Nineteen']\n",
    "    TENS = ['', '', 'Twenty', 'Thirty', 'Forty', 'Fifty', 'Sixty', 'Seventy', 'Eighty', 'Ninety']\n",
    "    s = ''\n",
    "    i = 0\n",
    "    while n > 0:\n",
    "        t = helper('', n % 1000)\n",
    "        s = t + THOUSANDS[i] + ' ' + s\n",
    "        i += 1\n",
    "        n //= 1000\n",
    "    return s\n",
    "\n",
    "if __name__=='__main__':\n",
    "    print(number_to_words(976752111987))"
   ]
  },
  {
   "cell_type": "code",
   "execution_count": null,
   "metadata": {},
   "outputs": [],
   "source": []
  }
 ],
 "metadata": {
  "kernelspec": {
   "display_name": "Python 3",
   "language": "python",
   "name": "python3"
  },
  "language_info": {
   "codemirror_mode": {
    "name": "ipython",
    "version": 3
   },
   "file_extension": ".py",
   "mimetype": "text/x-python",
   "name": "python",
   "nbconvert_exporter": "python",
   "pygments_lexer": "ipython3",
   "version": "3.6.8"
  }
 },
 "nbformat": 4,
 "nbformat_minor": 2
}
