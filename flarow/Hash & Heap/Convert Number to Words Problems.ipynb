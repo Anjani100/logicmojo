{
 "cells": [
  {
   "cell_type": "code",
   "execution_count": 2,
   "metadata": {},
   "outputs": [],
   "source": [
    "# Valid upto 4 places\n",
    "def num_to_words(num):\n",
    "    l = len(num)\n",
    "    if l == 0:\n",
    "        return ''\n",
    "    ones = {1: 'one', 2: 'two', 3: 'three', 4: 'four', 5: 'five', 6: 'six', 7: 'seven', 8: 'eight', 9: 'nine'}\n",
    "    tens = {10: 'ten', 11: 'eleven', 12: 'twelve', 13: 'thirteen', 14: 'fourteen', 15: 'fifteen', 16: 'sixteen',\n",
    "            17: 'seventeen', 18: 'eighteen', 19: 'nineteen', 20: 'twenty', 30:'thirty', 40: 'forty', 50: 'fifty',\n",
    "            60: 'sixty', 70: 'seventy', 80: 'eighty', 90: 'ninety'}\n",
    "    if l == 1:\n",
    "        return ones[int(num)]\n",
    "    s = ''\n",
    "    while num:\n",
    "        "
   ]
  },
  {
   "cell_type": "code",
   "execution_count": null,
   "metadata": {},
   "outputs": [],
   "source": []
  }
 ],
 "metadata": {
  "kernelspec": {
   "display_name": "Python 3",
   "language": "python",
   "name": "python3"
  },
  "language_info": {
   "codemirror_mode": {
    "name": "ipython",
    "version": 3
   },
   "file_extension": ".py",
   "mimetype": "text/x-python",
   "name": "python",
   "nbconvert_exporter": "python",
   "pygments_lexer": "ipython3",
   "version": "3.6.8"
  }
 },
 "nbformat": 4,
 "nbformat_minor": 2
}
