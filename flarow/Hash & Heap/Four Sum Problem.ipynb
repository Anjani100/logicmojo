{
 "cells": [
  {
   "cell_type": "code",
   "execution_count": 1,
   "metadata": {},
   "outputs": [
    {
     "name": "stdout",
     "output_type": "stream",
     "text": [
      "3 6 2 8\n"
     ]
    }
   ],
   "source": [
    "from collections import defaultdict\n",
    "def four_sum(arr, n):\n",
    "    sum_dict = defaultdict(list)\n",
    "    for i in range(len(arr) - 1):\n",
    "        for j in range(i + 1, len(arr)):\n",
    "            val = n - arr[i] - arr[j]\n",
    "            if sum_dict[val] != []:\n",
    "                k, l = sum_dict[val]\n",
    "                if i != k and i != l and j != k and j != l:\n",
    "                    return [i, j, k, l]\n",
    "            sum_dict[arr[i] + arr[j]] = [i, j]\n",
    "\n",
    "if __name__=='__main__':\n",
    "    arr = [1, 2, 3, 4, 5, 6, 7, 8]\n",
    "    k = 19\n",
    "    indexes = four_sum(arr, k)\n",
    "    if indexes:\n",
    "        print(arr[indexes[0]], arr[indexes[1]], arr[indexes[2]], arr[indexes[3]])"
   ]
  },
  {
   "cell_type": "code",
   "execution_count": 6,
   "metadata": {},
   "outputs": [
    {
     "name": "stdout",
     "output_type": "stream",
     "text": [
      "[[1, 3, 7, 8], [1, 4, 6, 8], [1, 5, 6, 7], [2, 3, 6, 8], [2, 4, 5, 8], [2, 4, 6, 7], [3, 4, 5, 7]]\n"
     ]
    }
   ],
   "source": [
    "from collections import defaultdict\n",
    "def four_sum(arr, n):\n",
    "    sum_dict = defaultdict(list)\n",
    "    res = []\n",
    "    for i in range(len(arr) - 1):\n",
    "        for j in range(i + 1, len(arr)):\n",
    "            sum_dict[arr[i] + arr[j]].append([i, j])\n",
    "    for i in range(len(arr) - 1):\n",
    "        for j in range(i + 1, len(arr)):\n",
    "            val = n - arr[i] - arr[j]\n",
    "            if sum_dict[val] != []:\n",
    "                for z in range(len(sum_dict[val])):\n",
    "                    k, l = sum_dict[val][z]\n",
    "                    if i != k and i != l and j != k and j != l:\n",
    "                        if sorted([arr[i], arr[j], arr[k], arr[l]]) not in res:\n",
    "                            res.append(sorted([arr[i], arr[j], arr[k], arr[l]]))\n",
    "    return res\n",
    "\n",
    "if __name__=='__main__':\n",
    "    arr = [1, 2, 3, 4, 5, 6, 7, 8]\n",
    "    k = 19\n",
    "    print(four_sum(arr, k))"
   ]
  },
  {
   "cell_type": "code",
   "execution_count": null,
   "metadata": {},
   "outputs": [],
   "source": []
  }
 ],
 "metadata": {
  "kernelspec": {
   "display_name": "Python 3",
   "language": "python",
   "name": "python3"
  },
  "language_info": {
   "codemirror_mode": {
    "name": "ipython",
    "version": 3
   },
   "file_extension": ".py",
   "mimetype": "text/x-python",
   "name": "python",
   "nbconvert_exporter": "python",
   "pygments_lexer": "ipython3",
   "version": "3.6.8"
  }
 },
 "nbformat": 4,
 "nbformat_minor": 2
}
