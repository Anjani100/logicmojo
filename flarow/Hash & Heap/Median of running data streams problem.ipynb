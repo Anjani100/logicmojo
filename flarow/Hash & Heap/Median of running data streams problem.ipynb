{
 "cells": [
  {
   "cell_type": "code",
   "execution_count": 3,
   "metadata": {},
   "outputs": [
    {
     "name": "stdout",
     "output_type": "stream",
     "text": [
      "[-12] []\n",
      "12\n",
      "[-4] [12]\n",
      "8.0\n",
      "[-4] [5, 12]\n",
      "5\n",
      "[-4, -3] [5, 12]\n",
      "4.5\n",
      "[-4, -3] [5, 12, 8]\n",
      "5\n",
      "[-5, -3, -4] [7, 12, 8]\n",
      "6.0\n"
     ]
    }
   ],
   "source": [
    "from heapq import heappush, heappop, heapify\n",
    "\n",
    "class MedianFinder:\n",
    "\n",
    "    def __init__(self):\n",
    "        \"\"\"\n",
    "        initialize your data structure here.\n",
    "        \"\"\"\n",
    "        self.min_heap = []\n",
    "        self.max_heap = []\n",
    "        self.min_n = 0\n",
    "        self.max_n = 0\n",
    "\n",
    "    def addNum(self, num: int) -> None:\n",
    "        if self.min_n == 0 and self.max_n == 0:\n",
    "            heappush(self.min_heap, -num)\n",
    "            self.min_n += 1\n",
    "            return\n",
    "        if self.max_n == 0:\n",
    "            if num < -self.min_heap[0]:\n",
    "                heappush(self.max_heap, -heappop(self.min_heap))\n",
    "                heappush(self.min_heap, -num)\n",
    "            else:\n",
    "                heappush(self.max_heap, num)\n",
    "            self.max_n += 1\n",
    "            return\n",
    "        if num < -self.min_heap[0]:\n",
    "            heappush(self.min_heap, -num)\n",
    "            self.min_n += 1\n",
    "        else:\n",
    "            heappush(self.max_heap, num)\n",
    "            self.max_n += 1\n",
    "        if self.max_n - self.min_n > 1:\n",
    "            heappush(self.min_heap, -heappop(self.max_heap))\n",
    "            self.max_n -= 1\n",
    "            self.min_n += 1\n",
    "        if self.min_n - self.max_n > 1:\n",
    "            heappush(self.max_heap, -heappop(self.min_heap))\n",
    "            self.min_n -= 1\n",
    "            self.max_n += 1\n",
    "\n",
    "    def findMedian(self) -> float:\n",
    "        print(self.min_heap, self.max_heap)\n",
    "        if self.min_n == self.max_n:\n",
    "            return (self.max_heap[0] - self.min_heap[0]) / 2\n",
    "        if self.min_n > self.max_n:\n",
    "            return -self.min_heap[0]\n",
    "        return self.max_heap[0]\n",
    "\n",
    "if __name__=='__main__':\n",
    "    obj = MedianFinder()\n",
    "    nums = [12, 4, 5, 3, 8, 7]\n",
    "    for num in nums:\n",
    "        obj.addNum(num)\n",
    "        print(obj.findMedian())"
   ]
  },
  {
   "cell_type": "code",
   "execution_count": null,
   "metadata": {},
   "outputs": [],
   "source": []
  }
 ],
 "metadata": {
  "kernelspec": {
   "display_name": "Python 3",
   "language": "python",
   "name": "python3"
  },
  "language_info": {
   "codemirror_mode": {
    "name": "ipython",
    "version": 3
   },
   "file_extension": ".py",
   "mimetype": "text/x-python",
   "name": "python",
   "nbconvert_exporter": "python",
   "pygments_lexer": "ipython3",
   "version": "3.6.8"
  }
 },
 "nbformat": 4,
 "nbformat_minor": 2
}
