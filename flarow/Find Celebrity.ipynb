{
 "cells": [
  {
   "cell_type": "code",
   "execution_count": 9,
   "metadata": {},
   "outputs": [
    {
     "name": "stdout",
     "output_type": "stream",
     "text": [
      "The celebrity's ID is 1\n"
     ]
    }
   ],
   "source": [
    "def find_celeb(matrix):\n",
    "    n = len(matrix)\n",
    "    x = 0\n",
    "    y = n - 1\n",
    "    while x < y:\n",
    "        if matrix[x][y] == 0:\n",
    "            y -= 1\n",
    "        else:\n",
    "            x += 1\n",
    "    for i in range(n):\n",
    "        if (i != x) and (matrix[x][i] == 1 and matrix[i][x] == 0):\n",
    "            return -1\n",
    "    return x\n",
    "\n",
    "MATRIX = [ [1,1,0],\n",
    "           [0,1,0],\n",
    "           [1,1,1] ]\n",
    "location = find_celeb(MATRIX)\n",
    "if location >= 0:\n",
    "    print(\"The celebrity's ID is\", location)\n",
    "else:\n",
    "    print(\"The celebrity is not present in the party.\")"
   ]
  },
  {
   "cell_type": "code",
   "execution_count": null,
   "metadata": {},
   "outputs": [],
   "source": [
    "# Inputs:\n",
    "# - [ [1,1,0],\n",
    "#     [0,1,0],\n",
    "#     [1,1,1] ]\n",
    "\n",
    "# [ [ 0, 0, 1, 0 ],\n",
    "#   [ 0, 0, 1, 0 ],\n",
    "#   [ 0, 0, 0, 0 ],\n",
    "#   [ 0, 0, 1, 0 ] ]"
   ]
  }
 ],
 "metadata": {
  "kernelspec": {
   "display_name": "Python 3",
   "language": "python",
   "name": "python3"
  },
  "language_info": {
   "codemirror_mode": {
    "name": "ipython",
    "version": 3
   },
   "file_extension": ".py",
   "mimetype": "text/x-python",
   "name": "python",
   "nbconvert_exporter": "python",
   "pygments_lexer": "ipython3",
   "version": "3.6.8"
  }
 },
 "nbformat": 4,
 "nbformat_minor": 2
}
