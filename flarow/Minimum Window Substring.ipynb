{
 "cells": [
  {
   "cell_type": "code",
   "execution_count": 32,
   "metadata": {},
   "outputs": [
    {
     "name": "stdout",
     "output_type": "stream",
     "text": [
      "BANC\n"
     ]
    }
   ],
   "source": [
    "def min_window_substring(sstr, ptr):\n",
    "    ascii_sstr = {}\n",
    "    ascii_ptr = {}\n",
    "    for i in sstr:\n",
    "        ascii_sstr[ord(i)] = 0\n",
    "    for i in ptr:\n",
    "        ascii_ptr[ord(i)] = 0\n",
    "    count = 0\n",
    "    len_ptr = len(ptr)\n",
    "    min_window = 9999999\n",
    "    start = 0\n",
    "    for i in range(len(sstr)):\n",
    "        if ord(sstr[i]) in ascii_ptr:\n",
    "            ascii_ptr[ord(sstr[i])] += 1\n",
    "            if ascii_ptr[ord(sstr[i])] == 1:\n",
    "                count += 1\n",
    "        if count == len_ptr:\n",
    "            min_window = i - start + 1\n",
    "            break\n",
    "    while i < len(sstr):\n",
    "        i += 1\n",
    "        while True:\n",
    "            if ord(sstr[start]) not in ascii_ptr:\n",
    "                start += 1\n",
    "            elif ascii_ptr[ord(sstr[start])] > 1:\n",
    "                ascii_ptr[ord(sstr[start])] -= 1\n",
    "                start += 1\n",
    "            else:\n",
    "                break\n",
    "        min_window = min(min_window, i - start)\n",
    "        if i < len(sstr):\n",
    "            if ord(sstr[i]) in ascii_ptr:\n",
    "                ascii_ptr[ord(sstr[i])] += 1\n",
    "    s = ''\n",
    "    for i in sstr[start:start + min_window]:\n",
    "        s += i\n",
    "    return s\n",
    "\n",
    "sstr = list(\"ADOBECODEBANC\")\n",
    "ptr = list(\"ABC\")\n",
    "print(min_window_substring(sstr, ptr))"
   ]
  },
  {
   "cell_type": "code",
   "execution_count": null,
   "metadata": {},
   "outputs": [],
   "source": []
  }
 ],
 "metadata": {
  "kernelspec": {
   "display_name": "Python 3",
   "language": "python",
   "name": "python3"
  },
  "language_info": {
   "codemirror_mode": {
    "name": "ipython",
    "version": 3
   },
   "file_extension": ".py",
   "mimetype": "text/x-python",
   "name": "python",
   "nbconvert_exporter": "python",
   "pygments_lexer": "ipython3",
   "version": "3.6.8"
  }
 },
 "nbformat": 4,
 "nbformat_minor": 2
}
